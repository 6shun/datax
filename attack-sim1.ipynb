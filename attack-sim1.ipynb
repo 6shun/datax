{
 "cells": [
  {
   "cell_type": "code",
   "execution_count": 1,
   "metadata": {},
   "outputs": [],
   "source": [
    "import networkx as nx\n",
    "import matplotlib.pyplot as plt\n",
    "import numpy as np\n",
    "import string\n",
    "import random\n",
    "import pandas as pd"
   ]
  },
  {
   "cell_type": "code",
   "execution_count": 2,
   "metadata": {},
   "outputs": [],
   "source": [
    "numNodes=10\n",
    "networkConnectivity=3"
   ]
  },
  {
   "cell_type": "code",
   "execution_count": 4,
   "metadata": {},
   "outputs": [],
   "source": [
    "#create initial states\n",
    "nodes_lst=[i+1 for i in range(numNodes)]\n",
    "\n",
    "# initial_states=[]\n",
    "# for i in nodes:\n",
    "#     initial_states.append(0)"
   ]
  },
  {
   "cell_type": "code",
   "execution_count": 5,
   "metadata": {},
   "outputs": [],
   "source": [
    "def startingLine(numNodes, networkConnectivity, stPerimeter, stDefender, stAttacker):\n",
    "    print(\"The attack occured under the following parameters:\")\n",
    "    print(\"Number of nodes: \" + str(numNodes))\n",
    "    print(\"Network connectivity: \" + str(networkConnectivity))\n",
    "    print(\"Perimeter strength: \" + str(stPerimeter))\n",
    "    print(\"Defender strength: \" + str(stDefender))\n",
    "    print(\"Attacker strength\" + str(stAttacker) + \"\\n\")\n",
    "\n",
    "    if numNodes>1000:\n",
    "        print(\"Invalid number of nodes for the given network. Simulation canceled.\")\n",
    "        return\n",
    "    \n",
    "    else:\n",
    "        print(\"Running simulation...\")\n",
    "    \n",
    "    "
   ]
  },
  {
   "cell_type": "code",
   "execution_count": 6,
   "metadata": {},
   "outputs": [],
   "source": [
    "#fill nodes\n",
    "def fillNetworkNodes(numNodes, network):\n",
    "    if numNodes < 0:\n",
    "        print(\"Error: Cannot fill negative number of Nodes\")\n",
    "    else:\n",
    "        for x in range(1, numNodes + 1):\n",
    "            network.add_node(x)"
   ]
  },
  {
   "cell_type": "code",
   "execution_count": 7,
   "metadata": {},
   "outputs": [],
   "source": [
    "#fill edges\n",
    "def fillNetworkEdges(lst):\n",
    "    #choose number of \"central nodes\" based on network connectivity \n",
    "    num_central=int(np.log(numNodes*((networkConnectivity*3)/10)))+1\n",
    "    \n",
    "    #separate central and standard nodes to separate lists\n",
    "    central_nodes=[random.choice(nodes_lst) for n in range(num_central)]\n",
    "    regular_nodes=[r for r in nodes_lst if r not in central_nodes]\n",
    "    \n",
    "    central_pairs=[]\n",
    "    \n",
    "    for central_node in central_nodes:\n",
    "        num_central_edges=num_central**2\n",
    "        for i in range(num_central_edges):\n",
    "            reg_node=random.choice(regular_nodes) \n",
    "            central_pair= reg_node, central_node\n",
    "            central_pairs.append(central_pair)\n",
    "            \n",
    "    def pop_random(lst):\n",
    "        idx = random.randrange(0, len(lst))\n",
    "        return lst.pop(idx)\n",
    "    \n",
    "    regular_nodes_copy=[i for i in regular_nodes]\n",
    "    regular_pairs = []\n",
    "    \n",
    "    if len(regular_nodes_copy)%2 != 0:\n",
    "        regular_nodes_copy.append(random.choice(regular_nodes_copy))\n",
    "        \n",
    "    while regular_nodes_copy:\n",
    "        rand1 = pop_random(regular_nodes_copy)\n",
    "        rand2 = pop_random(regular_nodes_copy)\n",
    "        regular_pair = rand1, rand2\n",
    "        regular_pairs.append(regular_pair)\n",
    "    \n",
    "    pairs=central_pairs+regular_pairs\n",
    "    return pairs"
   ]
  },
  {
   "cell_type": "code",
   "execution_count": 13,
   "metadata": {},
   "outputs": [
    {
     "data": {
      "text/plain": [
       "{1: [3, 4],\n",
       " 2: [3, 6, 7, 9, 10],\n",
       " 3: [1, 2, 4, 5],\n",
       " 4: [1, 3, 6, 7, 8],\n",
       " 5: [3, 7, 8, 9, 10],\n",
       " 6: [2, 4, 7],\n",
       " 7: [2, 4, 5, 6],\n",
       " 8: [10, 4, 5],\n",
       " 9: [2, 10, 5],\n",
       " 10: [8, 9, 2, 5]}"
      ]
     },
     "execution_count": 13,
     "metadata": {},
     "output_type": "execute_result"
    }
   ],
   "source": [
    "#create dictionary of nodes and neighbors\n",
    "d={}\n",
    "keys=nodes_lst\n",
    "\n",
    "def getNeighbors(lst):\n",
    "    pairs=fillNetworkEdges(nodes_lst)\n",
    "    for node in nodes_lst:\n",
    "        neighbors=[]\n",
    "        for pair in pairs:\n",
    "            if node in pair:\n",
    "                neighbors+=[n for n in pair if n!=node]\n",
    "        key=node\n",
    "        values=list(set(neighbors))\n",
    "        d[key] = values\n",
    "    return d\n",
    "            \n",
    "\n",
    "\n",
    "#create starting table\n",
    "#states=pd.Dataframe[]"
   ]
  },
  {
   "cell_type": "code",
   "execution_count": null,
   "metadata": {},
   "outputs": [],
   "source": [
    "def updateTable()"
   ]
  },
  {
   "cell_type": "code",
   "execution_count": null,
   "metadata": {},
   "outputs": [],
   "source": [
    "def iterations()"
   ]
  },
  {
   "cell_type": "code",
   "execution_count": null,
   "metadata": {},
   "outputs": [],
   "source": [
    "random.seed(123)\n",
    "\n",
    "#Create starting static network\n",
    "network = nx.Graph()\n",
    "fillNetworkNodes(numNodes, network)\n",
    "    \n",
    "#create edges\n",
    "network.add_edges_from(fillNetworkEdges(nodes_lst))\n",
    "\n",
    "#color the center node differently\n",
    "# color_map = []\n",
    "# for node in network:\n",
    "#     if node==1:\n",
    "#         color_map.append('blue')\n",
    "#     else: \n",
    "#         color_map.append('green') \n",
    "\n",
    "nx.draw(network, seed=123, with_labels = True)\n",
    "plt.show()\n"
   ]
  },
  {
   "cell_type": "code",
   "execution_count": null,
   "metadata": {},
   "outputs": [],
   "source": []
  },
  {
   "cell_type": "code",
   "execution_count": null,
   "metadata": {},
   "outputs": [],
   "source": [
    "numNodes = int(input(\"Input the number of nodes: \"))\n",
    "networkConnectivity = int(input(\"How connected is the network? (1-3, 3 being strongest)\"))\n",
    "stPerimeter = int(input(\"Input perimeter strength (1-10, 10 being strongest): \"))\n",
    "stDefender = int(input(\"Input defender strength (1-10, 10 being strongest): \"))\n",
    "stAttacker = int(input(\"Input attacker strength (1-10, 10 being strongest)\"))"
   ]
  },
  {
   "cell_type": "code",
   "execution_count": null,
   "metadata": {},
   "outputs": [],
   "source": []
  }
 ],
 "metadata": {
  "kernelspec": {
   "display_name": "Python 3",
   "language": "python",
   "name": "python3"
  },
  "language_info": {
   "codemirror_mode": {
    "name": "ipython",
    "version": 3
   },
   "file_extension": ".py",
   "mimetype": "text/x-python",
   "name": "python",
   "nbconvert_exporter": "python",
   "pygments_lexer": "ipython3",
   "version": "3.8.6"
  }
 },
 "nbformat": 4,
 "nbformat_minor": 4
}
