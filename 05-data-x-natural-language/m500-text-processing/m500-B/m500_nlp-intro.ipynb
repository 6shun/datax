{
 "cells": [
  {
   "cell_type": "markdown",
   "metadata": {},
   "source": [
    "![data-x](https://raw.githubusercontent.com/afo/data-x-plaksha/master/imgsource/dx_logo.png)\n",
    "\n",
    "---\n",
    "# Data-X: Introduction to Natural Language Processing (NLP) using NLTK\n",
    "\n",
    "**Author list (in no particular order):** [Niki Collette](https://www.linkedin.com/in/nikicollette/), [Debbie Yuen](http://www.debbiecyuen.me/), [Alexander Fred-Ojala](https://www.linkedin.com/in/alexanderfo/), [Ikhlaq Sidhu](https://ikhlaq-sidhu.com/), and [Elias Castro Hernandez](https://www.linkedin.com/in/ehcastroh/).\n",
    "    \n",
    "**Video Walkthrough:** To view walkthrough of this notebook, click [here](https://youtu.be/H7QYxdPJFy8)\n",
    "\n",
    "**References and Additional Resources:** See end of this notebook for additional information related to textual data processing.\n",
    "\n",
    "**License Agreement:** Feel free to do whatever you want with this code\n",
    "\n",
    "___\n"
   ]
  },
  {
   "cell_type": "markdown",
   "metadata": {},
   "source": [
    "## What is Natural Language Processing (NLP):\n",
    "\n",
    "[NLP](https://en.wikipedia.org/wiki/Natural_language_processing) is the combination of deep linguistic modeling, data analysis, and computational machine learning and deep learning models applied to natural language. There are several areas of ongoing research related to NLP, for example:\n",
    "\n",
    "> [Part-of-Speech (POS) Tagging](https://en.wikipedia.org/wiki/Part-of-speech_tagging)<br>\n",
    "> [Named Entity Recognition (NER)](https://en.wikipedia.org/wiki/Named-entity_recognition)<br>\n",
    "> [Sentiment Analysis](https://en.wikipedia.org/wiki/Sentiment_analysis)<br>\n",
    "> [Conference Resolution](https://nlp.stanford.edu/projects/coref.shtml)<br>\n",
    "> [Word Sense Disambiguation](https://en.wikipedia.org/wiki/Word-sense_disambiguation) <br>\n",
    "> [Parsing](https://en.wikipedia.org/wiki/Parsing)<br>\n",
    "> [Machine Translation](https://en.wikipedia.org/wiki/Machine_translation)<br>\n",
    "> [Information Extraction](https://en.wikipedia.org/wiki/Information_extraction)<br>\n",
    "> [Question and Answering](https://en.wikipedia.org/wiki/Question_answering)<br>\n",
    "> [Paraphrase](https://en.wikipedia.org/wiki/Paraphrasing_(computational_linguistics))<br>\n",
    "> [Summarization](https://en.wikipedia.org/wiki/Automatic_summarization)<br>\n",
    "> [Dialog](https://en.wikipedia.org/wiki/Dialogue_system)<br>\n",
    "> [Text Generation](https://cs.stanford.edu/~zxie/textgen.pdf)"
   ]
  },
  {
   "cell_type": "markdown",
   "metadata": {},
   "source": [
    "#### Import packages"
   ]
  },
  {
   "cell_type": "code",
   "execution_count": 2,
   "metadata": {
    "button": false,
    "new_sheet": false,
    "run_control": {
     "read_only": false
    }
   },
   "outputs": [],
   "source": [
    "#make compatible with Python 2 and Python 3\n",
    "from __future__ import print_function, division, absolute_import \n",
    "\n",
    "# data manipulaiton\n",
    "import pandas as pd\n",
    "import numpy as np\n",
    "\n",
    "# plotting\n",
    "import matplotlib.pyplot as plt\n",
    "\n",
    "# jupyter notebook magic to display plots in output\n",
    "%matplotlib inline\n",
    "\n",
    "# make the plots bigger\n",
    "plt.rcParams['figure.figsize'] = (10,6) "
   ]
  },
  {
   "cell_type": "markdown",
   "metadata": {},
   "source": [
    "## Explore the data\n",
    "\n",
    "<div align=\"center\" style=\"font-size:12px; font-family:FreeMono; font-weight: 100; font-stretch:ultra-condensed; line-height: 1.0; color:#2A2C2B\">\n",
    "    <img src=\"NLTK-01.png\" align=\"center\" width=\"50%\" padding=\"0px\"><br>\n",
    "    <br>\n",
    "</div>\n",
    "\n",
    "<br>\n",
    "\n",
    "The following section covers some general steps for exploring textual data. For a detailed description of the dataset, as well as alternatives to text processing using machine learning classifiers, see the **References and Additional Resources** section at the end of this notebook.\n",
    "\n",
    "___"
   ]
  },
  {
   "cell_type": "markdown",
   "metadata": {
    "button": false,
    "new_sheet": false,
    "run_control": {
     "read_only": false
    }
   },
   "source": [
    "<br>\n",
    "\n",
    "**Load Data**"
   ]
  },
  {
   "cell_type": "code",
   "execution_count": 3,
   "metadata": {
    "button": false,
    "new_sheet": false,
    "run_control": {
     "read_only": false
    }
   },
   "outputs": [],
   "source": [
    "# Use header = 0 (first line contains col names)\n",
    "# use delimiter=\\t (columns are separated by tabs)\n",
    "train = pd.read_csv(\"labeledTrainData.tsv\", header=0, delimiter=\"\\t\", quoting=3)\n",
    "test = pd.read_csv(\"testData.tsv\", header=0, delimiter=\"\\t\", quoting=3)"
   ]
  },
  {
   "cell_type": "markdown",
   "metadata": {
    "button": false,
    "new_sheet": false,
    "run_control": {
     "read_only": false
    }
   },
   "source": [
    "<br>\n",
    "\n",
    "**Dataset Statistics**"
   ]
  },
  {
   "cell_type": "code",
   "execution_count": 4,
   "metadata": {
    "button": false,
    "new_sheet": false,
    "run_control": {
     "read_only": false
    }
   },
   "outputs": [
    {
     "data": {
      "text/plain": [
       "(25000, 3)"
      ]
     },
     "execution_count": 4,
     "metadata": {},
     "output_type": "execute_result"
    }
   ],
   "source": [
    "train.shape"
   ]
  },
  {
   "cell_type": "code",
   "execution_count": 5,
   "metadata": {
    "button": false,
    "new_sheet": false,
    "run_control": {
     "read_only": false
    }
   },
   "outputs": [
    {
     "data": {
      "text/html": [
       "<div>\n",
       "<style scoped>\n",
       "    .dataframe tbody tr th:only-of-type {\n",
       "        vertical-align: middle;\n",
       "    }\n",
       "\n",
       "    .dataframe tbody tr th {\n",
       "        vertical-align: top;\n",
       "    }\n",
       "\n",
       "    .dataframe thead th {\n",
       "        text-align: right;\n",
       "    }\n",
       "</style>\n",
       "<table border=\"1\" class=\"dataframe\">\n",
       "  <thead>\n",
       "    <tr style=\"text-align: right;\">\n",
       "      <th></th>\n",
       "      <th>id</th>\n",
       "      <th>sentiment</th>\n",
       "      <th>review</th>\n",
       "    </tr>\n",
       "  </thead>\n",
       "  <tbody>\n",
       "    <tr>\n",
       "      <th>0</th>\n",
       "      <td>\"5814_8\"</td>\n",
       "      <td>1</td>\n",
       "      <td>\"With all this stuff going down at the moment ...</td>\n",
       "    </tr>\n",
       "    <tr>\n",
       "      <th>1</th>\n",
       "      <td>\"2381_9\"</td>\n",
       "      <td>1</td>\n",
       "      <td>\"\\\"The Classic War of the Worlds\\\" by Timothy ...</td>\n",
       "    </tr>\n",
       "    <tr>\n",
       "      <th>2</th>\n",
       "      <td>\"7759_3\"</td>\n",
       "      <td>0</td>\n",
       "      <td>\"The film starts with a manager (Nicholas Bell...</td>\n",
       "    </tr>\n",
       "    <tr>\n",
       "      <th>3</th>\n",
       "      <td>\"3630_4\"</td>\n",
       "      <td>0</td>\n",
       "      <td>\"It must be assumed that those who praised thi...</td>\n",
       "    </tr>\n",
       "    <tr>\n",
       "      <th>4</th>\n",
       "      <td>\"9495_8\"</td>\n",
       "      <td>1</td>\n",
       "      <td>\"Superbly trashy and wondrously unpretentious ...</td>\n",
       "    </tr>\n",
       "  </tbody>\n",
       "</table>\n",
       "</div>"
      ],
      "text/plain": [
       "         id  sentiment                                             review\n",
       "0  \"5814_8\"          1  \"With all this stuff going down at the moment ...\n",
       "1  \"2381_9\"          1  \"\\\"The Classic War of the Worlds\\\" by Timothy ...\n",
       "2  \"7759_3\"          0  \"The film starts with a manager (Nicholas Bell...\n",
       "3  \"3630_4\"          0  \"It must be assumed that those who praised thi...\n",
       "4  \"9495_8\"          1  \"Superbly trashy and wondrously unpretentious ..."
      ]
     },
     "execution_count": 5,
     "metadata": {},
     "output_type": "execute_result"
    }
   ],
   "source": [
    "train.head()"
   ]
  },
  {
   "cell_type": "markdown",
   "metadata": {},
   "source": [
    "<br>\n",
    "\n",
    "**Check for missing data**"
   ]
  },
  {
   "cell_type": "code",
   "execution_count": 10,
   "metadata": {},
   "outputs": [
    {
     "name": "stdout",
     "output_type": "stream",
     "text": [
      "<class 'pandas.core.frame.DataFrame'>\n",
      "RangeIndex: 25000 entries, 0 to 24999\n",
      "Data columns (total 3 columns):\n",
      " #   Column     Non-Null Count  Dtype \n",
      "---  ------     --------------  ----- \n",
      " 0   id         25000 non-null  object\n",
      " 1   sentiment  25000 non-null  int64 \n",
      " 2   review     25000 non-null  object\n",
      "dtypes: int64(1), object(2)\n",
      "memory usage: 586.1+ KB\n"
     ]
    }
   ],
   "source": [
    "# Check for missing data\n",
    "train.info() # no NaN's"
   ]
  },
  {
   "cell_type": "markdown",
   "metadata": {},
   "source": [
    "<br>\n",
    "\n",
    "**Visualize missing data**"
   ]
  },
  {
   "cell_type": "code",
   "execution_count": 11,
   "metadata": {},
   "outputs": [
    {
     "data": {
      "text/plain": [
       "<matplotlib.axes._subplots.AxesSubplot at 0x7f6bcb4b99b0>"
      ]
     },
     "execution_count": 11,
     "metadata": {},
     "output_type": "execute_result"
    },
    {
     "data": {
      "image/png": "[encoded data removed]",
      "text/plain": [
       "<Figure size 360x288 with 2 Axes>"
      ]
     },
     "metadata": {
      "needs_background": "light"
     },
     "output_type": "display_data"
    }
   ],
   "source": [
    "# Visually check for missing data\n",
    "import missingno as msno\n",
    "%matplotlib inline\n",
    "\n",
    "# Visualize missing values as a matrix \n",
    "msno.matrix(train, figsize=(5,4)) "
   ]
  },
  {
   "cell_type": "markdown",
   "metadata": {
    "button": false,
    "new_sheet": false,
    "run_control": {
     "read_only": false
    }
   },
   "source": [
    "<br>\n",
    "\n",
    "**Check $+ / - $ Spread:**<br>\n",
    "How many movie reviews are positive and how many are negative in labeledTrainData.tsv? Do we have balance between the classes?\n",
    "\n",
    "> **Note:** The sentiment of the reviews are binary, meaning an IMDB rating < 5 results in a sentiment score of 0, and a rating >=7 have a sentiment score of 1 (no reviews with score 5 or 6 are included in the analysis). "
   ]
  },
  {
   "cell_type": "code",
   "execution_count": 12,
   "metadata": {
    "button": false,
    "new_sheet": false,
    "run_control": {
     "read_only": false
    }
   },
   "outputs": [
    {
     "name": "stdout",
     "output_type": "stream",
     "text": [
      "(25000, 3)\n",
      "\n",
      "Number of Data Samples for every label output. 1=postive, 0=negative:\n",
      "1    12500\n",
      "0    12500\n",
      "Name: sentiment, dtype: int64\n"
     ]
    },
    {
     "data": {
      "image/png": "[encoded data removed]",
      "text/plain": [
       "<Figure size 432x288 with 1 Axes>"
      ]
     },
     "metadata": {
      "needs_background": "light"
     },
     "output_type": "display_data"
    }
   ],
   "source": [
    "# get pos/neg count\n",
    "print(train.shape)\n",
    "print('\\nNumber of Data Samples for every label output. 1=postive, 0=negative:')\n",
    "print(train.sentiment.value_counts())\n",
    "\n",
    "# visualize class balance\n",
    "train.sentiment.hist(histtype = 'bar', bins=[0.0, 0.5, 0.7, 1.0], grid=False, color = '#424242'); "
   ]
  },
  {
   "cell_type": "markdown",
   "metadata": {
    "button": false,
    "new_sheet": false,
    "run_control": {
     "read_only": false
    }
   },
   "source": [
    "<br>\n",
    "\n",
    "**Explore Textual Data**"
   ]
  },
  {
   "cell_type": "code",
   "execution_count": 13,
   "metadata": {
    "button": false,
    "new_sheet": false,
    "run_control": {
     "read_only": false
    }
   },
   "outputs": [
    {
     "name": "stdout",
     "output_type": "stream",
     "text": [
      "Average character length of the reviews are:\n",
      "1329.71056\n"
     ]
    }
   ],
   "source": [
    "# find average character length of a review\n",
    "print('Average character length of the reviews are:')\n",
    "lengths = train['review'].apply(len)\n",
    "print (np.mean(lengths))"
   ]
  },
  {
   "cell_type": "markdown",
   "metadata": {},
   "source": [
    "___\n",
    "## Textual Data Processing using NLTK: Cleaning, Tokenizing, Stemming, Lemmatization, Stopwords\n",
    "\n",
    "<br>\n",
    "<div align=\"center\" style=\"font-size:12px; font-family:FreeMono; font-weight: 100; font-stretch:ultra-condensed; line-height: 1.0; color:#2A2C2B\">\n",
    "    <img src=\"NLTK-02.png\" align=\"center\" width=\"50%\" padding=\"0px\"><br>\n",
    "    <br>\n",
    "</div>\n",
    "\n",
    "\n",
    "<br>\n",
    "\n",
    "[NLTK](https://www.nltk.org/) is a leading platfom for working with human language data built for Python. NLTK interfaces with over [50 corpora and lexical resources](http://www.nltk.org/nltk_data/), and includes a suite of processing libraries for tasks such as [classification](https://www.nltk.org/api/nltk.classify.html#module-nltk.classify), [tokenization](https://www.nltk.org/api/nltk.tokenize.html#module-nltk.tokenize), [stemming](https://www.nltk.org/api/nltk.stem.html#module-nltk.stem), [tagging](https://www.nltk.org/api/nltk.tag.html#module-nltk.tag), [parsing](https://www.nltk.org/api/nltk.parse.html#module-nltk.parse), [sentiment](https://www.nltk.org/api/nltk.sentiment.html#module-nltk.sentiment) and [semantic parsing](https://www.nltk.org/api/nltk.sem.html#module-nltk.sem). For a practical guide to NLTK, check out [the book](http://www.nltk.org/book/) on NLTK written by NLTK's creators."
   ]
  },
  {
   "cell_type": "markdown",
   "metadata": {},
   "source": [
    "Finally, following are some **key(words/concepts)** related to this module.\n",
    "> **Wordform** - the full inflected surface form.<br> \n",
    "> - *dog* and *dogs* have different wordforms.<br>\n",
    "\n",
    "> **Lemma** - same stem, part of speech, or rough word sense. <br>\n",
    "> - *cat* can *cats* have same lemma.<br>\n",
    "\n",
    "> **Type** - element of the vocabulary.<br>\n",
    "> - *She enjoyed the cold lemonade, in the hot sun.* --> *the* is a Type.<br>\n",
    "\n",
    "> **Token** - an instance of a particular type in a text.<br>\n",
    "> - *She enjoyed the cold lemonade, in the hot sun.* --> *the* is a Type with two Tokens.<br>\n",
    "\n",
    "> **Normalization** - ensuring that indexed text and query terms hav ethe same form.<br>\n",
    "> - *U.S.A.* matches *USA*<br>\n",
    "\n",
    "> **Lemmatization** - reducing inflections or variants to base form.<br>\n",
    "> - *car*, *cars*, *car's*, *cars'* $\\longrightarrow$ *car*<br>\n",
    "\n",
    "> **Morphemes** - the smallest unit that makes up a word.<br>\n",
    "> - **Stems** - the core meaning-bearing units.<br>\n",
    "> - **Affixes** - adhere to stems and serve some grammatical function.<br>\n",
    "> - *stems* - Given the word, in the parenthesis $(stem)s$ is the stem, while in this case in the parenthesis $stem(s)$, is the affix.\n",
    "\n",
    "> **Stemming** - the crude chopping of affixes.<br>\n",
    "> - *automates*, *automatic*, *automation* $\\longrightarrow$ *automat*\n",
    "___"
   ]
  },
  {
   "cell_type": "markdown",
   "metadata": {},
   "source": [
    "<br>\n",
    "\n",
    "**Load NLTK and Download Modules**"
   ]
  },
  {
   "cell_type": "code",
   "execution_count": 14,
   "metadata": {
    "button": false,
    "new_sheet": false,
    "run_control": {
     "read_only": false
    }
   },
   "outputs": [
    {
     "name": "stdout",
     "output_type": "stream",
     "text": [
      "[nltk_data] Downloading package averaged_perceptron_tagger to\n",
      "[nltk_data]     /home/ehch/nltk_data...\n",
      "[nltk_data]   Package averaged_perceptron_tagger is already up-to-\n",
      "[nltk_data]       date!\n",
      "[nltk_data] Downloading package wordnet to /home/ehch/nltk_data...\n",
      "[nltk_data]   Package wordnet is already up-to-date!\n",
      "[nltk_data] Downloading package stopwords to /home/ehch/nltk_data...\n",
      "[nltk_data]   Package stopwords is already up-to-date!\n",
      "[nltk_data] Downloading package punkt to /home/ehch/nltk_data...\n",
      "[nltk_data]   Package punkt is already up-to-date!\n"
     ]
    }
   ],
   "source": [
    "# regular expressions, text parsing, and ML classifiers\n",
    "import re\n",
    "import bs4 as bs\n",
    "import nltk \n",
    "\n",
    "# download NLTK classifiers\n",
    "nltk.download('averaged_perceptron_tagger')\n",
    "nltk.download('wordnet')\n",
    "nltk.download('stopwords')\n",
    "nltk.download('punkt')\n",
    "\n",
    "# import ml classifiers\n",
    "from nltk.tokenize import sent_tokenize # tokenizes sentences\n",
    "from nltk.stem import PorterStemmer     # parsing/stemmer\n",
    "from nltk.tag import pos_tag            # parts-of-speech tagging\n",
    "from nltk.corpus import wordnet         # sentiment scores\n",
    "from nltk.stem import WordNetLemmatizer # stem and context\n",
    "from nltk.corpus import stopwords       # stopwords\n",
    "\n",
    "eng_stopwords = stopwords.words('english')"
   ]
  },
  {
   "cell_type": "markdown",
   "metadata": {},
   "source": [
    "<br>\n",
    "\n",
    "**Extract Review for Establishin Analysis Procedure**"
   ]
  },
  {
   "cell_type": "code",
   "execution_count": 15,
   "metadata": {
    "button": false,
    "new_sheet": false,
    "run_control": {
     "read_only": false
    }
   },
   "outputs": [
    {
     "name": "stdout",
     "output_type": "stream",
     "text": [
      "\"It must be assumed that those who praised this film (\\\"the greatest filmed opera ever,\\\" didn't I read somewhere?) either don't care for opera, don't care for Wagner, or don't care about anything except their desire to appear Cultured. Either as a representation of Wagner's swan-song, or as a movie, this strikes me as an unmitigated disaster, with a leaden reading of the score matched to a tricksy, lugubrious realisation of the text.<br /><br />It's questionable that people with ideas as to what an opera (or, for that matter, a play, especially one by Shakespeare) is \\\"about\\\" should be allowed anywhere near a theatre or film studio; Syberberg, very fashionably, but without the smallest justification from Wagner's text, decided that Parsifal is \\\"about\\\" bisexual integration, so that the title character, in the latter stages, transmutes into a kind of beatnik babe, though one who continues to sing high tenor -- few if any of the actors in the film are the singers, and we get a double dose of Armin Jordan, the conductor, who is seen as the face (but not heard as the voice) of Amfortas, and also appears monstrously in double exposure as a kind of Batonzilla or Conductor Who Ate Monsalvat during the playing of the Good Friday music -- in which, by the way, the transcendant loveliness of nature is represented by a scattering of shopworn and flaccid crocuses stuck in ill-laid turf, an expedient which baffles me. In the theatre we sometimes have to piece out such imperfections with our thoughts, but I can't think why Syberberg couldn't splice in, for Parsifal and Gurnemanz, mountain pasture as lush as was provided for Julie Andrews in Sound of Music...<br /><br />The sound is hard to endure, the high voices and the trumpets in particular possessing an aural glare that adds another sort of fatigue to our impatience with the uninspired conducting and paralytic unfolding of the ritual. Someone in another review mentioned the 1951 Bayreuth recording, and Knappertsbusch, though his tempi are often very slow, had what Jordan altogether lacks, a sense of pulse, a feeling for the ebb and flow of the music -- and, after half a century, the orchestral sound in that set, in modern pressings, is still superior to this film.\"\n"
     ]
    }
   ],
   "source": [
    "# the review used for initial analysis\n",
    "review3 = train['review'][3] \n",
    "print(review3)"
   ]
  },
  {
   "cell_type": "code",
   "execution_count": 96,
   "metadata": {},
   "outputs": [],
   "source": [
    "review3 = '<html><body><p>\"Good luck. May the Force be with you.\"</p></body></html>'"
   ]
  },
  {
   "cell_type": "markdown",
   "metadata": {
    "button": false,
    "new_sheet": false,
    "run_control": {
     "read_only": false
    }
   },
   "source": [
    "<br>\n",
    "\n",
    "#### Clean the review - Remove HTML Tags\n",
    "\n",
    "___\n",
    "\n",
    "> First we would like to clean up the reviews. As you can see many interviews contain `\\` characters in front of quotation symobols, \"`<br/>` tags, numbers, abbrevations etc.\n",
    "\n",
    "> We want to remove all the HTML tags in the third review, by creating a [beatifulsoup](https://www.crummy.com/software/BeautifulSoup/bs4/doc/) object and then using the `.text` method. Save results in variable `review3`"
   ]
  },
  {
   "cell_type": "code",
   "execution_count": 97,
   "metadata": {
    "button": false,
    "new_sheet": false,
    "run_control": {
     "read_only": false
    }
   },
   "outputs": [
    {
     "data": {
      "text/plain": [
       "<html><body><p>\"Good luck. May the Force be with you.\"</p></body></html>"
      ]
     },
     "execution_count": 97,
     "metadata": {},
     "output_type": "execute_result"
    }
   ],
   "source": [
    "import bs4 as bs\n",
    "\n",
    "# Before removing HTML tags\n",
    "bs.BeautifulSoup(review3, features='lxml')"
   ]
  },
  {
   "cell_type": "code",
   "execution_count": 99,
   "metadata": {
    "button": false,
    "new_sheet": false,
    "run_control": {
     "read_only": false
    },
    "scrolled": true
   },
   "outputs": [
    {
     "name": "stdout",
     "output_type": "stream",
     "text": [
      "\"Good luck. May the Force be with you.\"\n"
     ]
    }
   ],
   "source": [
    "# After removing HTML tags\n",
    "review3 = bs.BeautifulSoup(review3,features='lxml').text # HTML --> Text\n",
    "print(review3)"
   ]
  },
  {
   "cell_type": "markdown",
   "metadata": {},
   "source": [
    "<br>\n",
    "\n",
    "#### Tokenization and Sentence Segmentation\n",
    "\n",
    "___\n",
    "\n",
    "> We tokenize using NLTK's `sent_tokenizer` and count the number of sentences in `review3` "
   ]
  },
  {
   "cell_type": "code",
   "execution_count": 103,
   "metadata": {},
   "outputs": [
    {
     "name": "stdout",
     "output_type": "stream",
     "text": [
      "Tokenized Sentences -- No. Sentences:  2\n"
     ]
    },
    {
     "data": {
      "text/plain": [
       "['\"Good luck.', 'May the Force be with you. \"']"
      ]
     },
     "execution_count": 103,
     "metadata": {},
     "output_type": "execute_result"
    }
   ],
   "source": [
    "# import tokenizer\n",
    "from nltk.tokenize import sent_tokenize\n",
    "\n",
    "print(\"Tokenized Sentences -- No. Sentences: \", len(sent_tokenize(review3)))\n",
    "sent_tokenize(review3) # doesn't really split all sentences"
   ]
  },
  {
   "cell_type": "markdown",
   "metadata": {},
   "source": [
    "<br> \n",
    "\n",
    "**Hack for Binary Classifier**\n",
    "\n",
    "[Sentence Segmentation](https://en.wikipedia.org/wiki/Text_segmentation#Sentence_segmentation) can be an irritant if not properly dealt with. While `!` and `?` clearly denote the end of the sentence, the period `.` is not so clear cut. For example, if we always segment sentences at a period, abbreviations -- e.g. `Dr.` -- and numbers -- e.g. `.05%` -- will lead to incorrect segmentation.  The following provides a simple hack -- that is, it may work for particular instances but never in general -- for getting around the issue.  "
   ]
  },
  {
   "cell_type": "code",
   "execution_count": 104,
   "metadata": {},
   "outputs": [
    {
     "name": "stdout",
     "output_type": "stream",
     "text": [
      "Sentence Segmentaion -- No. Sentences:  2\n",
      "\n",
      "\"Good luck.\n",
      "\n",
      "May the Force be with you.  \"\n",
      "\n"
     ]
    }
   ],
   "source": [
    "# Check if it does a better job if we add space after every period\n",
    "review3 = review3.replace('.','. ')\n",
    "\n",
    "print(\"Sentence Segmentaion -- No. Sentences: \", len(sent_tokenize(review3)), end='\\n\\n') # number of sentences\n",
    "\n",
    "# print all sentences on a new line\n",
    "for sent in sent_tokenize(review3):\n",
    "    print(sent, end='\\n\\n')"
   ]
  },
  {
   "cell_type": "markdown",
   "metadata": {},
   "source": [
    "<br>\n",
    "\n",
    "#### Normalization\n",
    "\n",
    "___\n",
    "\n",
    "> We can do this using [Regular Expressions](https://web.stanford.edu/~jurafsky/slp3/2.pdf) - [package `re`](https://docs.python.org/3/library/re.html). Regular expressions define search patterns for text that can be used to search, replace, substitute, etc., certain patterns in text data.\n",
    "\n",
    "> We'll use regular expression to only look for non-alphabetical characters, `[^a-zA-Z]` and replace them with `''`. Save results in variable `review3`. For an intro to Regex see [here](http://www.aivosto.com/vbtips/regex.html)."
   ]
  },
  {
   "cell_type": "markdown",
   "metadata": {},
   "source": [
    "<br>\n",
    "\n",
    "**Remove all punctuation and special characters**"
   ]
  },
  {
   "cell_type": "code",
   "execution_count": 106,
   "metadata": {},
   "outputs": [
    {
     "name": "stdout",
     "output_type": "stream",
     "text": [
      "Good luck   May the Force be with you  \n"
     ]
    }
   ],
   "source": [
    "# regular expressions\n",
    "import re\n",
    "\n",
    "# get string/object obtained by replacing \n",
    "# the leftmost non-overlapping occurrences \n",
    "# of the pattern 'not a-z in lower/upper case' \n",
    "# with an empty space.\n",
    "review3 = re.sub('[^a-zA-Z ]' ,'',review3)\n",
    "print(review3)"
   ]
  },
  {
   "cell_type": "markdown",
   "metadata": {},
   "source": [
    "<br>\n",
    "\n",
    "**All letters to lower case, and every word as one element in a list**\n",
    "\n",
    "> **Note:** When we split the sentence strings into a list of words, the process is called [tokenization](https://en.wikipedia.org/wiki/Text_segmentation#Word_segmentation)."
   ]
  },
  {
   "cell_type": "code",
   "execution_count": 107,
   "metadata": {},
   "outputs": [
    {
     "name": "stdout",
     "output_type": "stream",
     "text": [
      "good luck   may the force be with you  \n"
     ]
    }
   ],
   "source": [
    "# everything to lower case\n",
    "\n",
    "review3 = review3.lower()\n",
    "print(review3)"
   ]
  },
  {
   "cell_type": "code",
   "execution_count": 109,
   "metadata": {},
   "outputs": [
    {
     "name": "stdout",
     "output_type": "stream",
     "text": [
      "['good', 'luck', 'may', 'the', 'force', 'be', 'with', 'you']\n"
     ]
    }
   ],
   "source": [
    "# tokenize\n",
    "review3_words = review3.split()\n",
    "\n",
    "# slice of first ten elements\n",
    "print(review3_words[:10]) "
   ]
  },
  {
   "cell_type": "markdown",
   "metadata": {
    "button": false,
    "new_sheet": false,
    "run_control": {
     "read_only": false
    }
   },
   "source": [
    "<br>\n",
    "\n",
    "#### Stemming\n",
    "\n",
    "\n",
    "___\n",
    "\n",
    "We use [PorterStemmer](https://www.nltk.org/api/nltk.stem.html#module-nltk.stem.porter) to handle similar words as one in the same -- e.g. *give*, *gives*, *given* := *give* -- by reducing each word to its base or root form. Similar words, that is having the same stem, will be interpreted as the same word. \n",
    "\n",
    "> To use NLTK's PorterStemmer import it `from nltk.stem import PorterStemmer`).<br> \n",
    "> Create a new PorterStemmer object, `stemmer = PorterStemmer()`, and run it on every word in `review3_words`.<br>\n",
    "> Print the results as one string (don't overwrite the existing `review3_words` variable). "
   ]
  },
  {
   "cell_type": "code",
   "execution_count": 123,
   "metadata": {
    "button": false,
    "new_sheet": false,
    "run_control": {
     "read_only": false
    }
   },
   "outputs": [
    {
     "name": "stdout",
     "output_type": "stream",
     "text": [
      "good luck may the forc be with you\n"
     ]
    }
   ],
   "source": [
    "# import Porter Stemmer\n",
    "from nltk.stem import PorterStemmer\n",
    "\n",
    "#initialize Porter Stemmer object\n",
    "ps = PorterStemmer() \n",
    "\n",
    "# iterate over word list\n",
    "ps_stems = []\n",
    "for w in review3_words:\n",
    "    ps_stems.append(ps.stem(w))\n",
    "\n",
    "# add all the stemmed words to one string\n",
    "print(' '.join(ps_stems)) "
   ]
  },
  {
   "cell_type": "markdown",
   "metadata": {},
   "source": [
    "<br>\n",
    "\n",
    "#### Part of Speech (POS) Tagging\n",
    "\n",
    "___\n",
    "\n",
    "\n",
    "Now we want to [Part Of Speech (POS)](https://www.nltk.org/api/nltk.tag.html?highlight=parts%20speech%20tagging#nltk-tag-package) tag the third movie review. We will use POS labeling, also called grammatical tagging. \n",
    "\n",
    "> To use NLTK's POS tagging import it `from nltk.tag import pos_tag`.<br> \n",
    "> When you use `pos_tag` on a word it returns a token-tag pair in the form of a tuple.<br> \n",
    "> In NLTK's Penn Treebank POS, the abbreviation (tag) for an adjective is JJ and NN for singular nouns. \n",
    "\n",
    "We want to count the number of singular nouns (NN) and adjectives (JJ) in `review3_words` using NLTK's pos_tag. A list of the Penn Treebank pos_tag's follows."
   ]
  },
  {
   "cell_type": "code",
   "execution_count": 124,
   "metadata": {},
   "outputs": [],
   "source": [
    "penn_pos_tags ={'CC'   : 'Coordinating conjunction',              'CD'  : 'Cardinal number',                    'DT'   : 'Determiner', \n",
    "                'EX'   : 'Existential there',                     'FW'  : 'Foreign word',                       'IN'   : 'Preposition or subordinating conjunction', \n",
    "                'JJ'   : 'Adjective',                             'JJR' : 'Adjective, comparative',             'JJS'  : 'Adjective, superlative',\n",
    "                'LS'   : 'List item marker',                      'MD'  : 'Modal',                              'NN'   : 'Noun, singular or mass', \n",
    "                'NNS'  : 'Noun, plural',                          'NNP' : 'Proper noun, singular',              'NNPS' : 'Proper noun, plural',\n",
    "                'PDT'  : 'Predeterminer',                         'POS' : 'Possessive ending',                  'PRP'  : 'Personal pronoun',\n",
    "                'PRP$' : 'Possessive pronoun',                    'RB'  : 'Adverb',                             'RBR'  : 'Adverb, comparative',\n",
    "                'RBS'  : 'Adverb, superlative',                   'RP'  : 'Particle',                           'SYM'  : 'Symbol',\n",
    "                'TO'   : 'to',                                    'UH'  : 'Interjection',                       'VB'   : 'Verb, base form',\n",
    "                'VBD'  : 'Verb, past tense',                      'VBG' : 'Verb, gerund or present participle', 'VBN'  : 'Verb, past participle',\n",
    "                'VBP'  : 'Verb, non-3rd person singular present', 'VBZ' : 'Verb, 3rd person singular present',  'WDT'  : 'Wh-determiner',\n",
    "                'WP'   : 'Wh-pronoun',                            'WP$' : 'Possessive wh-pronoun',              'WRB'  : 'Wh-adverb',\n",
    "               }"
   ]
  },
  {
   "cell_type": "code",
   "execution_count": 127,
   "metadata": {
    "button": false,
    "new_sheet": false,
    "run_control": {
     "read_only": false
    }
   },
   "outputs": [
    {
     "name": "stdout",
     "output_type": "stream",
     "text": [
      "('good', 'JJ')  --->  Adjective\n",
      "('luck', 'NN')  --->  Noun, singular or mass\n",
      "('may', 'MD')  --->  Modal\n",
      "('the', 'DT')  --->  Determiner\n",
      "('force', 'NN')  --->  Noun, singular or mass\n",
      "('be', 'VB')  --->  Verb, base form\n",
      "('with', 'IN')  --->  Preposition or subordinating conjunction\n",
      "('you', 'PRP')  --->  Personal pronoun\n"
     ]
    }
   ],
   "source": [
    "# part-of-speech tagging\n",
    "from nltk.tag import pos_tag\n",
    "\n",
    "# tagging\n",
    "token_tag = pos_tag(review3_words)\n",
    "\n",
    "# get tag's meaning\n",
    "def tag_meaning(tag, index):\n",
    "    return (tag[index]) \n",
    "\n",
    "# print first n-entries and tag's meaning\n",
    "n=10\n",
    "for i in range(len(review3_words)):\n",
    "    print(token_tag[i], \" ---> \", penn_pos_tags[tag_meaning(token_tag[i], 1)])\n",
    "    "
   ]
  },
  {
   "cell_type": "markdown",
   "metadata": {},
   "source": [
    "<br>\n",
    "\n",
    "**Count number of nouns and adjectives**"
   ]
  },
  {
   "cell_type": "code",
   "execution_count": 126,
   "metadata": {
    "button": false,
    "new_sheet": false,
    "run_control": {
     "read_only": false
    }
   },
   "outputs": [
    {
     "name": "stdout",
     "output_type": "stream",
     "text": [
      "\n",
      "Number of nouns: 2\n",
      "Number of adjectives: 1\n"
     ]
    }
   ],
   "source": [
    "# Cell that count nouns (NN) and adjectives (JJ) in review3\n",
    "NN_count = 0\n",
    "JJ_count = 0\n",
    "\n",
    "for pair in token_tag:\n",
    "    tag = pair[1]\n",
    "    if tag == 'JJ':\n",
    "        JJ_count+=1\n",
    "    elif tag == 'NN':\n",
    "        NN_count+=1\n",
    "print('\\nNumber of nouns:', NN_count)\n",
    "print('Number of adjectives:', JJ_count)"
   ]
  },
  {
   "cell_type": "markdown",
   "metadata": {
    "button": false,
    "new_sheet": false,
    "run_control": {
     "read_only": false
    }
   },
   "source": [
    "<br>\n",
    "\n",
    "#### Lemmatization\n",
    "\n",
    "___\n",
    "\n",
    "An even more sophisticated operation than stemming using the PorterStemmer is called lemmatizing. [Lemmatization](https://nlp.stanford.edu/IR-book/html/htmledition/stemming-and-lemmatization-1.html), in contrast to stemming, does not simply remove the suffix/prefix of words but instead removes the  inflectional endings only and returns the base dictionary of a word -- that is, the synonyms. \n",
    "\n",
    "> In order to use lemmatizing we need to define the wordnet POS tag. We do this through a function that takes in a POS Penn Treebank tag and converts it to a wordnet tag, and then lemmatizes words in a string has been given written below. "
   ]
  },
  {
   "cell_type": "code",
   "execution_count": 117,
   "metadata": {
    "button": false,
    "new_sheet": false,
    "run_control": {
     "read_only": false
    }
   },
   "outputs": [],
   "source": [
    "# group together by inflected forms of a word\n",
    "def get_wordnet_pos(treebank_tag):\n",
    "    \"\"\"\n",
    "        @treebank_tag (type:str) is a Penn Treebank tag\n",
    "        @return is the givent wordnet tag\n",
    "    \"\"\"\n",
    "    \n",
    "    if treebank_tag.startswith('J'):\n",
    "        return(wordnet.ADJ)\n",
    "    elif treebank_tag.startswith('V'):\n",
    "        return(wordnet.VERB)\n",
    "    elif treebank_tag.startswith('N'):\n",
    "        return(wordnet.NOUN)\n",
    "    elif treebank_tag.startswith('R'):\n",
    "        return(wordnet.ADV)\n",
    "    else:\n",
    "        return('n')  # return 'noun' as catchall"
   ]
  },
  {
   "cell_type": "code",
   "execution_count": 119,
   "metadata": {
    "button": false,
    "new_sheet": false,
    "run_control": {
     "read_only": false
    }
   },
   "outputs": [
    {
     "name": "stdout",
     "output_type": "stream",
     "text": [
      "good luck may the force be with you\n"
     ]
    }
   ],
   "source": [
    "# perform morpholagical analysis\n",
    "from nltk.stem import WordNetLemmatizer\n",
    "\n",
    "wnl = WordNetLemmatizer()\n",
    "\n",
    "wnl_stems = []\n",
    "for pair in token_tag:\n",
    "    res = wnl.lemmatize(pair[0],pos=get_wordnet_pos(pair[1]))\n",
    "    wnl_stems.append(res)\n",
    "\n",
    "print(' '.join(wnl_stems))"
   ]
  },
  {
   "cell_type": "markdown",
   "metadata": {
    "button": false,
    "new_sheet": false,
    "run_control": {
     "read_only": false
    }
   },
   "source": [
    "<br>\n",
    "\n",
    "#### StopWords\n",
    "\n",
    "___\n",
    "\n",
    "\n",
    "Lastly we want to remove the [stopwords](https://nlp.stanford.edu/IR-book/html/htmledition/dropping-common-terms-stop-words-1.html), which are common words that don't carry much information. In English, for example, they could be *'am'*, *'are'*, *'and'*, *'the'*, etc. \n",
    "\n",
    "> To import NLTK's list of stopwords you need to download the stopword corpora (`import nltk` and then `nltk.download()` if you don't have it). <br>\n",
    "> When that is done run `from nltk.corpus import stopwords` and create a variable for English stopwords with `eng_stopwords = stopwords.words('english')`.<br> \n",
    "> Use the list of English stopwords to remove all the stopwords from your list of words in the third movie review, i.e. `review3_words`. <br>\n",
    "> Print `review3_words` without stopwords, count the number of stopwords removed and print them as well."
   ]
  },
  {
   "cell_type": "code",
   "execution_count": 120,
   "metadata": {
    "button": false,
    "new_sheet": false,
    "run_control": {
     "read_only": false
    }
   },
   "outputs": [
    {
     "name": "stdout",
     "output_type": "stream",
     "text": [
      "['i', 'me', 'my', 'myself', 'we', 'our', 'ours', 'ourselves', 'you', \"you're\", \"you've\", \"you'll\", \"you'd\", 'your', 'yours', 'yourself', 'yourselves', 'he', 'him', 'his', 'himself', 'she', \"she's\", 'her', 'hers', 'herself', 'it', \"it's\", 'its', 'itself', 'they', 'them', 'their', 'theirs', 'themselves', 'what', 'which', 'who', 'whom', 'this', 'that', \"that'll\", 'these', 'those', 'am', 'is', 'are', 'was', 'were', 'be', 'been', 'being', 'have', 'has', 'had', 'having', 'do', 'does', 'did', 'doing', 'a', 'an', 'the', 'and', 'but', 'if', 'or', 'because', 'as', 'until', 'while', 'of', 'at', 'by', 'for', 'with', 'about', 'against', 'between', 'into', 'through', 'during', 'before', 'after', 'above', 'below', 'to', 'from', 'up', 'down', 'in', 'out', 'on', 'off', 'over', 'under', 'again', 'further', 'then', 'once', 'here', 'there', 'when', 'where', 'why', 'how', 'all', 'any', 'both', 'each', 'few', 'more', 'most', 'other', 'some', 'such', 'no', 'nor', 'not', 'only', 'own', 'same', 'so', 'than', 'too', 'very', 's', 't', 'can', 'will', 'just', 'don', \"don't\", 'should', \"should've\", 'now', 'd', 'll', 'm', 'o', 're', 've', 'y', 'ain', 'aren', \"aren't\", 'couldn', \"couldn't\", 'didn', \"didn't\", 'doesn', \"doesn't\", 'hadn', \"hadn't\", 'hasn', \"hasn't\", 'haven', \"haven't\", 'isn', \"isn't\", 'ma', 'mightn', \"mightn't\", 'mustn', \"mustn't\", 'needn', \"needn't\", 'shan', \"shan't\", 'shouldn', \"shouldn't\", 'wasn', \"wasn't\", 'weren', \"weren't\", 'won', \"won't\", 'wouldn', \"wouldn't\"]\n"
     ]
    }
   ],
   "source": [
    "# import stopwords corpora\n",
    "from nltk.corpus import stopwords\n",
    "\n",
    "eng_stopwords = stopwords.words('english')\n",
    "print(eng_stopwords)"
   ]
  },
  {
   "cell_type": "code",
   "execution_count": 122,
   "metadata": {
    "button": false,
    "new_sheet": false,
    "run_control": {
     "read_only": false
    }
   },
   "outputs": [
    {
     "name": "stdout",
     "output_type": "stream",
     "text": [
      "REVIEW WITHOUT STOPWORDS: \n",
      "good luck may force\n",
      "\n",
      "Stop words removed: \n",
      "['the', 'be', 'with', 'you']\n",
      "\n",
      "NUMBER OF STOPWORDS REMOVED: 4\n"
     ]
    }
   ],
   "source": [
    "# remove stopwords\n",
    "review3_wo_stopwords = [w for w in review3_words if not w in stopwords.words(\"english\")]\n",
    "removed_stopwords = [w for w in review3_words if w in stopwords.words(\"english\")]\n",
    "\n",
    "print('REVIEW WITHOUT STOPWORDS: ')\n",
    "print(' '.join(review3_wo_stopwords))\n",
    "print()\n",
    "print('Stop words removed: ')\n",
    "print(removed_stopwords)\n",
    "print()\n",
    "print('NUMBER OF STOPWORDS REMOVED:',len(removed_stopwords))"
   ]
  },
  {
   "cell_type": "markdown",
   "metadata": {},
   "source": [
    "___\n",
    "\n",
    "## Preparing the Dataset for Classification\n",
    "\n",
    "<br>\n",
    "\n",
    "<div align=\"center\" style=\"font-size:12px; font-family:FreeMono; font-weight: 100; font-stretch:ultra-condensed; line-height: 1.0; color:#2A2C2B\">\n",
    "    <img src=\"NLTK-03.png\" align=\"center\" width=\"50%\" padding=\"0px\"><br>\n",
    "    <br>\n",
    "</div>\n",
    "\n",
    "\n",
    "<br>\n",
    "\n",
    "In this part we'll put everything that we've learned together. This will allow us to make accurate predictions on the individual review's sentiment.\n",
    "\n",
    "\n",
    "We'll create a function called `review_cleaner` that reads in a review and:\n",
    "\n",
    "> - Removes HTML tags (using beautifulsoup)\n",
    "> - Extract emoticons (emotion symbols, aka smileys :D )\n",
    "> - Removes non-letters (using regular expression)\n",
    "> - Converts all words to lowercase letters and tokenizes them (using .split() method on the review strings, so that every word in the review is an element in a list)\n",
    "> - Removes all the English stopwords from the list of movie review words\n",
    "> - Join the words back into one string seperated by space, append the emoticons to the end\n",
    "\n",
    "<br>\n",
    "\n",
    "**Pro Tip:** Transform the list of stopwords to a set before removing the stopwords -- i.e. assign `eng_stopwords = set(stopwords.words(\"english\"))`. Use the set to look up stopwords. This will substantially speed up the computations (Python is much quicker when searching a set than a list).\n",
    "\n",
    "<br>"
   ]
  },
  {
   "cell_type": "markdown",
   "metadata": {},
   "source": [
    "___\n",
    "\n",
    "<strong style='color:red'>Consideration:</strong> Depending on your Python version as well as how you strucuture your code, when timing executions with `%%time` you are likely to run into the following error: \n",
    "\n",
    "> `UsageError: Can't use statement directly after '%%time'!`\n",
    "\n",
    "To get around the issue, you can install the `execute_time` extension from `nbextensions` -- more on the topic [here](https://github.com/ipython-contrib/jupyter_contrib_nbextensions/tree/7672d429957aaefe9f2e71b15e3b78ebb9ba96d1/src/jupyter_contrib_nbextensions/nbextensions/execute_time). Alternatively, you can time execution using Python's [timeit](https://docs.python.org/3/library/timeit.html) module by using function decorators (implemented), or by wrapping your code blocks with a start and stop variable.\n",
    "\n",
    "```python\n",
    "    # very first line in cell\n",
    "    start_time = timeit.default_timer()\n",
    "    # last line in cell\n",
    "    elapsed = timeit.default_timer() - start_time\n",
    "```\n",
    "<br>"
   ]
  },
  {
   "cell_type": "code",
   "execution_count": 92,
   "metadata": {},
   "outputs": [],
   "source": [
    "##### Keep track of computation times using function decorator #####\n",
    "# python module\n",
    "import time\n",
    "\n",
    "def time_usage(func):\n",
    "    def wrapper(*args, **kwargs):\n",
    "        beg_ts = time.time()\n",
    "        retval = func(*args, **kwargs)\n",
    "        end_ts = time.time()\n",
    "        print(\"\\nElapsed time: %f\" % (end_ts - beg_ts))\n",
    "        return retval\n",
    "    return wrapper\n",
    "\n",
    "# decorator --> @time_usage\n",
    "###################################################################"
   ]
  },
  {
   "cell_type": "markdown",
   "metadata": {},
   "source": [
    "___\n",
    "\n",
    "<br>\n",
    "\n",
    "**One function to automate it all**"
   ]
  },
  {
   "cell_type": "code",
   "execution_count": 93,
   "metadata": {
    "button": false,
    "new_sheet": false,
    "run_control": {
     "read_only": false
    }
   },
   "outputs": [],
   "source": [
    "def review_cleaner(review):\n",
    "    '''\n",
    "        Clean and preprocess a review.\n",
    "            1. Remove HTML tags\n",
    "            2. Extract emoticons\n",
    "            3. Use regex to remove all special characters (only keep letters)\n",
    "            4. Make strings to lower case and tokenize / word split reviews\n",
    "            5. Remove English stopwords\n",
    "            6. Rejoin to one string\n",
    "        \n",
    "        @review (type:str) is an unprocessed review string\n",
    "        @return (type:str) is a 6-step preprocessed review string\n",
    "    '''\n",
    "    \n",
    "    #1. Remove HTML tags\n",
    "    review = bs.BeautifulSoup(review).text\n",
    "    \n",
    "    #2. Use regex to find emoticons\n",
    "    emoticons = re.findall('(?::|;|=)(?:-)?(?:\\)|\\(|D|P)', review)\n",
    "    \n",
    "    #3. Remove punctuation\n",
    "    review = re.sub(\"[^a-zA-Z]\", \" \",review)\n",
    "    \n",
    "    #4. Tokenize into words (all lower case)\n",
    "    review = review.lower().split()\n",
    "    \n",
    "    #5. Remove stopwords\n",
    "    eng_stopwords = set(stopwords.words(\"english\"))\n",
    "    review = [w for w in review if not w in eng_stopwords]\n",
    "    \n",
    "    #6. Join the review to one sentence\n",
    "    review = ' '.join(review+emoticons)\n",
    "    # add emoticons to the end\n",
    "\n",
    "    return(review)"
   ]
  },
  {
   "cell_type": "code",
   "execution_count": 30,
   "metadata": {
    "button": false,
    "new_sheet": false,
    "run_control": {
     "read_only": false
    }
   },
   "outputs": [
    {
     "data": {
      "text/plain": [
       "'must assumed praised film greatest filmed opera ever read somewhere either care opera care wagner care anything except desire appear cultured either representation wagner swan song movie strikes unmitigated disaster leaden reading score matched tricksy lugubrious realisation text questionable people ideas opera matter play especially one shakespeare allowed anywhere near theatre film studio syberberg fashionably without smallest justification wagner text decided parsifal bisexual integration title character latter stages transmutes kind beatnik babe though one continues sing high tenor actors film singers get double dose armin jordan conductor seen face heard voice amfortas also appears monstrously double exposure kind batonzilla conductor ate monsalvat playing good friday music way transcendant loveliness nature represented scattering shopworn flaccid crocuses stuck ill laid turf expedient baffles theatre sometimes piece imperfections thoughts think syberberg splice parsifal gurnemanz mountain pasture lush provided julie andrews sound music sound hard endure high voices trumpets particular possessing aural glare adds another sort fatigue impatience uninspired conducting paralytic unfolding ritual someone another review mentioned bayreuth recording knappertsbusch though tempi often slow jordan altogether lacks sense pulse feeling ebb flow music half century orchestral sound set modern pressings still superior film'"
      ]
     },
     "execution_count": 30,
     "metadata": {},
     "output_type": "execute_result"
    }
   ],
   "source": [
    "# putting everything together\n",
    "review_cleaner(train['review'][3])"
   ]
  },
  {
   "cell_type": "markdown",
   "metadata": {
    "button": false,
    "new_sheet": false,
    "run_control": {
     "read_only": false
    }
   },
   "source": [
    "<br>\n",
    "\n",
    "#### Create Original, Porter Stemmed, and Lemmatized data sets\n",
    "___\n",
    "    \n",
    "**Create three lists:**<br>\n",
    "> `review_clean_original` - contains all the reviews from the train DataFrame, that have been cleaned by the function `review_cleaner` defined above.<br>\n",
    "> `review_clean_ps`  - applies the PorterStemmer to the reviews in `review_clean_original`.<br> \n",
    "> `review_clean_wnl` - contains words that have been lemmatized using NLTK's WordNetLemmatizer on the words in the list `review_clean_original`.\n",
    "\n",
    "<br>\n",
    "\n",
    "**Note:** NLTK version 3.2.2 crashes when trying to use the PorterStemming on the string 'oed' (known bug). Therefore, use an if statement to skip just that specific string/word. Also, keep in mind that completing the entire process can take $>10$mins to run on a laptop."
   ]
  },
  {
   "cell_type": "markdown",
   "metadata": {},
   "source": [
    "<br>\n",
    "\n",
    "**Cleaned, Original Textual Data**"
   ]
  },
  {
   "cell_type": "code",
   "execution_count": 72,
   "metadata": {
    "button": false,
    "new_sheet": false,
    "run_control": {
     "read_only": false
    },
    "scrolled": false
   },
   "outputs": [],
   "source": [
    "@time_usage\n",
    "def clean_original():\n",
    "    # training set entries\n",
    "    num_reviews = len(train['review'])\n",
    "\n",
    "    # for storing cleaned review\n",
    "    review_clean_original = []\n",
    "\n",
    "    # iterate over reviews\n",
    "    for i in range(0,num_reviews):\n",
    "        # batching astep notification\n",
    "        if( (i+1)%1000 == 0 ):        \n",
    "            # print progress\n",
    "            print(\"Done with %d reviews\" %(i+1)) \n",
    "\n",
    "        review_clean_original.append(review_cleaner(train['review'][i]))\n",
    "    return(review_clean_original)"
   ]
  },
  {
   "cell_type": "code",
   "execution_count": 73,
   "metadata": {},
   "outputs": [
    {
     "name": "stdout",
     "output_type": "stream",
     "text": [
      "\n",
      "Elapsed time: 0.031150\n"
     ]
    }
   ],
   "source": [
    "review_clean_original = clean_original()"
   ]
  },
  {
   "cell_type": "code",
   "execution_count": 74,
   "metadata": {
    "button": false,
    "new_sheet": false,
    "run_control": {
     "read_only": false
    }
   },
   "outputs": [
    {
     "data": {
      "text/plain": [
       "['g',\n",
       " '',\n",
       " '',\n",
       " '',\n",
       " '',\n",
       " 'b',\n",
       " '',\n",
       " 'e',\n",
       " '',\n",
       " '',\n",
       " 'l',\n",
       " '',\n",
       " '',\n",
       " 'f',\n",
       " 'r',\n",
       " '',\n",
       " 'e',\n",
       " 'n',\n",
       " '',\n",
       " '',\n",
       " '',\n",
       " '',\n",
       " '',\n",
       " '',\n",
       " 'f',\n",
       " '',\n",
       " 'r',\n",
       " 'c',\n",
       " 'e']"
      ]
     },
     "execution_count": 74,
     "metadata": {},
     "output_type": "execute_result"
    }
   ],
   "source": [
    "# sanity check\n",
    "review_clean_original[3]"
   ]
  },
  {
   "cell_type": "markdown",
   "metadata": {},
   "source": [
    "<br>\n",
    "\n",
    "**Apply Porter Stemming**"
   ]
  },
  {
   "cell_type": "code",
   "execution_count": 34,
   "metadata": {
    "button": false,
    "new_sheet": false,
    "run_control": {
     "read_only": false
    }
   },
   "outputs": [],
   "source": [
    "@time_usage\n",
    "def clean_porterStemmer():\n",
    "    # training set entries\n",
    "    num_reviews = len(train['review'])\n",
    "    \n",
    "    # Porter stemming on the results in review_clean_original\n",
    "    review_clean_ps = []\n",
    "    ps = PorterStemmer()\n",
    "\n",
    "    # iterate over reviews\n",
    "    for i in range(0,num_reviews):\n",
    "        # batching step notification\n",
    "        if( (i+1)%1000 == 0 ):\n",
    "            # print progress\n",
    "            print(\"Done with %d reviews\" %(i+1)) \n",
    "        ps_stems = []\n",
    "        for w in review_clean_original[i].split():\n",
    "            if w == 'oed':\n",
    "                continue\n",
    "            ps_stems.append(ps.stem(w))\n",
    "\n",
    "        review_clean_ps.append(' '.join(ps_stems))\n",
    "    return(review_clean_ps)"
   ]
  },
  {
   "cell_type": "code",
   "execution_count": 35,
   "metadata": {},
   "outputs": [
    {
     "name": "stdout",
     "output_type": "stream",
     "text": [
      "Done with 1000 reviews\n",
      "Done with 2000 reviews\n",
      "Done with 3000 reviews\n",
      "Done with 4000 reviews\n",
      "Done with 5000 reviews\n",
      "Done with 6000 reviews\n",
      "Done with 7000 reviews\n",
      "Done with 8000 reviews\n",
      "Done with 9000 reviews\n",
      "Done with 10000 reviews\n",
      "Done with 11000 reviews\n",
      "Done with 12000 reviews\n",
      "Done with 13000 reviews\n",
      "Done with 14000 reviews\n",
      "Done with 15000 reviews\n",
      "Done with 16000 reviews\n",
      "Done with 17000 reviews\n",
      "Done with 18000 reviews\n",
      "Done with 19000 reviews\n",
      "Done with 20000 reviews\n",
      "Done with 21000 reviews\n",
      "Done with 22000 reviews\n",
      "Done with 23000 reviews\n",
      "Done with 24000 reviews\n",
      "Done with 25000 reviews\n",
      "\n",
      "Elapsed time: 50.125455\n"
     ]
    }
   ],
   "source": [
    "review_clean_ps = clean_porterStemmer()"
   ]
  },
  {
   "cell_type": "code",
   "execution_count": 36,
   "metadata": {
    "button": false,
    "new_sheet": false,
    "run_control": {
     "read_only": false
    }
   },
   "outputs": [
    {
     "data": {
      "text/plain": [
       "'must assum prais film greatest film opera ever read somewher either care opera care wagner care anyth except desir appear cultur either represent wagner swan song movi strike unmitig disast leaden read score match tricksi lugubri realis text question peopl idea opera matter play especi one shakespear allow anywher near theatr film studio syberberg fashion without smallest justif wagner text decid parsif bisexu integr titl charact latter stage transmut kind beatnik babe though one continu sing high tenor actor film singer get doubl dose armin jordan conductor seen face heard voic amforta also appear monstrous doubl exposur kind batonzilla conductor ate monsalvat play good friday music way transcend loveli natur repres scatter shopworn flaccid crocus stuck ill laid turf expedi baffl theatr sometim piec imperfect thought think syberberg splice parsif gurnemanz mountain pastur lush provid juli andrew sound music sound hard endur high voic trumpet particular possess aural glare add anoth sort fatigu impati uninspir conduct paralyt unfold ritual someon anoth review mention bayreuth record knappertsbusch though tempi often slow jordan altogeth lack sens puls feel ebb flow music half centuri orchestr sound set modern press still superior film'"
      ]
     },
     "execution_count": 36,
     "metadata": {},
     "output_type": "execute_result"
    }
   ],
   "source": [
    "# sanity check\n",
    "review_clean_ps[3]"
   ]
  },
  {
   "cell_type": "markdown",
   "metadata": {},
   "source": [
    "<br>\n",
    "\n",
    "**Apply Lemmatization**"
   ]
  },
  {
   "cell_type": "code",
   "execution_count": 75,
   "metadata": {
    "button": false,
    "new_sheet": false,
    "run_control": {
     "read_only": false
    }
   },
   "outputs": [],
   "source": [
    "@time_usage\n",
    "def clean_lemmatizer():\n",
    "    # Lemmatizer\n",
    "    \n",
    "    # training set entries\n",
    "    num_reviews = len(train['review'])\n",
    "\n",
    "    review_clean_wnl = []\n",
    "    wnl = WordNetLemmatizer()\n",
    "\n",
    "    # iterate over entries\n",
    "    for i in range(0,num_reviews):\n",
    "        # batching step notification\n",
    "        if( (i+1)%1000 == 0 ):\n",
    "            # print progress\n",
    "            print(\"Done with %d reviews\" %(i+1)) \n",
    "\n",
    "        wnl_stems = []\n",
    "        token_tag = pos_tag(review_clean_original[i].split())\n",
    "\n",
    "        # lemmatization\n",
    "        for pair in token_tag:\n",
    "            res = wnl.lemmatize(pair[0],pos=get_wordnet_pos(pair[1]))\n",
    "            wnl_stems.append(res)\n",
    "\n",
    "        review_clean_wnl.append(' '.join(wnl_stems))\n",
    "    return(review_clean_wnl)"
   ]
  },
  {
   "cell_type": "code",
   "execution_count": 76,
   "metadata": {},
   "outputs": [
    {
     "ename": "IndexError",
     "evalue": "list index out of range",
     "output_type": "error",
     "traceback": [
      "\u001b[0;31m---------------------------------------------------------------------------\u001b[0m",
      "\u001b[0;31mIndexError\u001b[0m                                Traceback (most recent call last)",
      "\u001b[0;32m<ipython-input-76-9e52315855d6>\u001b[0m in \u001b[0;36m<module>\u001b[0;34m\u001b[0m\n\u001b[0;32m----> 1\u001b[0;31m \u001b[0mreview_clean_wnl\u001b[0m \u001b[0;34m=\u001b[0m \u001b[0mclean_lemmatizer\u001b[0m\u001b[0;34m(\u001b[0m\u001b[0;34m)\u001b[0m\u001b[0;34m\u001b[0m\u001b[0;34m\u001b[0m\u001b[0m\n\u001b[0m",
      "\u001b[0;32m<ipython-input-31-4d04c3ed2d90>\u001b[0m in \u001b[0;36mwrapper\u001b[0;34m(*args, **kwargs)\u001b[0m\n\u001b[1;32m      6\u001b[0m     \u001b[0;32mdef\u001b[0m \u001b[0mwrapper\u001b[0m\u001b[0;34m(\u001b[0m\u001b[0;34m*\u001b[0m\u001b[0margs\u001b[0m\u001b[0;34m,\u001b[0m \u001b[0;34m**\u001b[0m\u001b[0mkwargs\u001b[0m\u001b[0;34m)\u001b[0m\u001b[0;34m:\u001b[0m\u001b[0;34m\u001b[0m\u001b[0;34m\u001b[0m\u001b[0m\n\u001b[1;32m      7\u001b[0m         \u001b[0mbeg_ts\u001b[0m \u001b[0;34m=\u001b[0m \u001b[0mtime\u001b[0m\u001b[0;34m.\u001b[0m\u001b[0mtime\u001b[0m\u001b[0;34m(\u001b[0m\u001b[0;34m)\u001b[0m\u001b[0;34m\u001b[0m\u001b[0;34m\u001b[0m\u001b[0m\n\u001b[0;32m----> 8\u001b[0;31m         \u001b[0mretval\u001b[0m \u001b[0;34m=\u001b[0m \u001b[0mfunc\u001b[0m\u001b[0;34m(\u001b[0m\u001b[0;34m*\u001b[0m\u001b[0margs\u001b[0m\u001b[0;34m,\u001b[0m \u001b[0;34m**\u001b[0m\u001b[0mkwargs\u001b[0m\u001b[0;34m)\u001b[0m\u001b[0;34m\u001b[0m\u001b[0;34m\u001b[0m\u001b[0m\n\u001b[0m\u001b[1;32m      9\u001b[0m         \u001b[0mend_ts\u001b[0m \u001b[0;34m=\u001b[0m \u001b[0mtime\u001b[0m\u001b[0;34m.\u001b[0m\u001b[0mtime\u001b[0m\u001b[0;34m(\u001b[0m\u001b[0;34m)\u001b[0m\u001b[0;34m\u001b[0m\u001b[0;34m\u001b[0m\u001b[0m\n\u001b[1;32m     10\u001b[0m         \u001b[0mprint\u001b[0m\u001b[0;34m(\u001b[0m\u001b[0;34m\"\\nElapsed time: %f\"\u001b[0m \u001b[0;34m%\u001b[0m \u001b[0;34m(\u001b[0m\u001b[0mend_ts\u001b[0m \u001b[0;34m-\u001b[0m \u001b[0mbeg_ts\u001b[0m\u001b[0;34m)\u001b[0m\u001b[0;34m)\u001b[0m\u001b[0;34m\u001b[0m\u001b[0;34m\u001b[0m\u001b[0m\n",
      "\u001b[0;32m<ipython-input-75-1925dcd5917e>\u001b[0m in \u001b[0;36mclean_lemmatizer\u001b[0;34m()\u001b[0m\n\u001b[1;32m     17\u001b[0m \u001b[0;34m\u001b[0m\u001b[0m\n\u001b[1;32m     18\u001b[0m         \u001b[0mwnl_stems\u001b[0m \u001b[0;34m=\u001b[0m \u001b[0;34m[\u001b[0m\u001b[0;34m]\u001b[0m\u001b[0;34m\u001b[0m\u001b[0;34m\u001b[0m\u001b[0m\n\u001b[0;32m---> 19\u001b[0;31m         \u001b[0mtoken_tag\u001b[0m \u001b[0;34m=\u001b[0m \u001b[0mpos_tag\u001b[0m\u001b[0;34m(\u001b[0m\u001b[0mreview_clean_original\u001b[0m\u001b[0;34m[\u001b[0m\u001b[0mi\u001b[0m\u001b[0;34m]\u001b[0m\u001b[0;34m.\u001b[0m\u001b[0msplit\u001b[0m\u001b[0;34m(\u001b[0m\u001b[0;34m)\u001b[0m\u001b[0;34m)\u001b[0m\u001b[0;34m\u001b[0m\u001b[0;34m\u001b[0m\u001b[0m\n\u001b[0m\u001b[1;32m     20\u001b[0m \u001b[0;34m\u001b[0m\u001b[0m\n\u001b[1;32m     21\u001b[0m         \u001b[0;31m# lemmatization\u001b[0m\u001b[0;34m\u001b[0m\u001b[0;34m\u001b[0m\u001b[0;34m\u001b[0m\u001b[0m\n",
      "\u001b[0;31mIndexError\u001b[0m: list index out of range"
     ]
    }
   ],
   "source": [
    "review_clean_wnl = clean_lemmatizer()"
   ]
  },
  {
   "cell_type": "code",
   "execution_count": 39,
   "metadata": {
    "button": false,
    "new_sheet": false,
    "run_control": {
     "read_only": false
    }
   },
   "outputs": [
    {
     "data": {
      "text/plain": [
       "'must assume praised film great film opera ever read somewhere either care opera care wagner care anything except desire appear culture either representation wagner swan song movie strike unmitigated disaster leaden reading score match tricksy lugubrious realisation text questionable people idea opera matter play especially one shakespeare allow anywhere near theatre film studio syberberg fashionably without small justification wagner text decide parsifal bisexual integration title character latter stag transmutes kind beatnik babe though one continue sing high tenor actor film singer get double dose armin jordan conductor see face heard voice amfortas also appear monstrously double exposure kind batonzilla conductor ate monsalvat play good friday music way transcendant loveliness nature represent scatter shopworn flaccid crocus stick ill lay turf expedient baffle theatre sometimes piece imperfection thought think syberberg splice parsifal gurnemanz mountain pasture lush provide julie andrew sound music sound hard endure high voice trumpet particular possess aural glare add another sort fatigue impatience uninspired conduct paralytic unfold ritual someone another review mention bayreuth record knappertsbusch though tempi often slow jordan altogether lack sense pulse feeling ebb flow music half century orchestral sound set modern pressing still superior film'"
      ]
     },
     "execution_count": 39,
     "metadata": {},
     "output_type": "execute_result"
    }
   ],
   "source": [
    "# sanity check\n",
    "review_clean_wnl[3]"
   ]
  },
  {
   "cell_type": "markdown",
   "metadata": {
    "button": false,
    "new_sheet": false,
    "run_control": {
     "read_only": false
    }
   },
   "source": [
    "<br>\n",
    "\n",
    "___\n",
    "\n",
    "## References and Additional Resources\n",
    "___"
   ]
  },
  {
   "cell_type": "markdown",
   "metadata": {
    "button": false,
    "new_sheet": false,
    "run_control": {
     "read_only": false
    }
   },
   "source": [
    "#### Install NLTK\n",
    "\n",
    "https://www.nltk.org/install.html\n",
    "\n",
    "```bash\n",
    "    # on a terminal or using hot keys\n",
    "    pip install -U nltk\n",
    "```\n",
    "\n",
    "___"
   ]
  },
  {
   "cell_type": "markdown",
   "metadata": {},
   "source": [
    "#### Data description\n",
    ">Data source: https://www.kaggle.com/c/word2vec-nlp-tutorial/data<br>\n",
    "\n",
    ">Data Description:<br><br>\n",
    "We will be using Kaggle's **Bag of Words Meets Bags of Popcorn** dataset to explore [IMBD](https://www.imdb.com/) movie review data. The dataset is placed in the module folder containting this notebook if you cloned the [Data-X](https://datax.berkeley.edu/) Github repo). Labeled training dataset consists of 25,000 IMDB movie reviews. There is also an unlabeled test set with 25,000 IMDB movie reviews. The sentiment of the reviews are binary, meaning an IMDB rating < 5 results in a sentiment score of 0, and a rating >=7 have a sentiment score of 1 (no reviews with score 5 or 6 are included in the analysis). No individual movie has more than 30 reviews.\n",
    "\n",
    "\n",
    "\n",
    ">Data Sets:<br>\n",
    ">* ```labeledTrainData.tsv``` --> The labeled training set. The file is tab-delimited and has a header row followed by 25,000 rows containing an id (numerical), sentiment (categorical), and text for each review (textual).<br>\n",
    ">* ```testData.tsv``` --> The unlabeled test set. 25,000 rows containing an id (numerical), and text for each review (textual). \n",
    "\n"
   ]
  },
  {
   "cell_type": "markdown",
   "metadata": {},
   "source": [
    "___\n",
    "\n",
    "#### Visualize Missing Data\n",
    "\n",
    "[Missingno](https://github.com/ResidentMario/missingno) is a Python library that visualizes the distribution of `NaN` values.  It is fully compatible with Pandas, and as such can serve as an excellent data prepossessing step."
   ]
  },
  {
   "cell_type": "code",
   "execution_count": 40,
   "metadata": {},
   "outputs": [],
   "source": [
    "# install the library\n",
    "#! pip install missingno"
   ]
  },
  {
   "cell_type": "code",
   "execution_count": 41,
   "metadata": {},
   "outputs": [],
   "source": [
    "# import libraries\n",
    "import pandas as pd\n",
    "import missingno as msno\n",
    "%matplotlib inline"
   ]
  },
  {
   "cell_type": "code",
   "execution_count": 42,
   "metadata": {},
   "outputs": [],
   "source": [
    "# load data\n",
    "train = pd.read_csv(\"labeledTrainData.tsv\", header=0, delimiter=\"\\t\", quoting=3)\n",
    "test = pd.read_csv(\"testData.tsv\", header=0, delimiter=\"\\t\", quoting=3)"
   ]
  },
  {
   "cell_type": "code",
   "execution_count": 43,
   "metadata": {},
   "outputs": [
    {
     "data": {
      "text/plain": [
       "<matplotlib.axes._subplots.AxesSubplot at 0x7fea9cbefc50>"
      ]
     },
     "execution_count": 43,
     "metadata": {},
     "output_type": "execute_result"
    },
    {
     "data": {
      "image/png": "[encoded data removed]",
      "text/plain": [
       "<Figure size 360x216 with 2 Axes>"
      ]
     },
     "metadata": {
      "needs_background": "light"
     },
     "output_type": "display_data"
    }
   ],
   "source": [
    "# Visualize missing values as matrix \n",
    "msno.matrix(train, figsize=(5,3)) # no NaNs"
   ]
  },
  {
   "cell_type": "code",
   "execution_count": 44,
   "metadata": {},
   "outputs": [
    {
     "data": {
      "text/plain": [
       "<matplotlib.axes._subplots.AxesSubplot at 0x7fea9d781780>"
      ]
     },
     "execution_count": 44,
     "metadata": {},
     "output_type": "execute_result"
    },
    {
     "data": {
      "image/png": "[encoded data removed]",
      "text/plain": [
       "<Figure size 360x216 with 2 Axes>"
      ]
     },
     "metadata": {
      "needs_background": "light"
     },
     "output_type": "display_data"
    }
   ],
   "source": [
    "# Visualize missing values as a matrix \n",
    "msno.matrix(test, figsize = (5, 3)) # no NaN's"
   ]
  },
  {
   "cell_type": "markdown",
   "metadata": {},
   "source": [
    "___\n",
    "\n",
    "#### Visualizing Review WordClouds"
   ]
  },
  {
   "cell_type": "code",
   "execution_count": 45,
   "metadata": {},
   "outputs": [],
   "source": [
    "# install wordcloud\n",
    "#! pip install wordcloud"
   ]
  },
  {
   "cell_type": "code",
   "execution_count": 46,
   "metadata": {},
   "outputs": [],
   "source": [
    "# seeding\n",
    "import random\n",
    "\n",
    "# plotting\n",
    "import matplotlib.pyplot as plt\n",
    "\n",
    "# jupyter notebook magic to display plots in output\n",
    "%matplotlib inline\n",
    "\n",
    "# make the plots bigger\n",
    "plt.rcParams['figure.figsize'] = (10,6) "
   ]
  },
  {
   "cell_type": "markdown",
   "metadata": {},
   "source": [
    "<br>\n",
    "\n",
    "**Recall the three lists created:**<br>\n",
    "> `review_clean_original` - contains all the reviews from the train DataFrame, that have been cleaned by the function `review_cleaner` defined above.<br>\n",
    "> `review_clean_ps`  - applies the PorterStemmer to the reviews in `review_clean_original`.<br> \n",
    "> `review_clean_wnl` - contains words that have been lemmatized using NLTK's WordNetLemmatizer on the words in the list `review_clean_original`."
   ]
  },
  {
   "cell_type": "code",
   "execution_count": 47,
   "metadata": {},
   "outputs": [
    {
     "name": "stdout",
     "output_type": "stream",
     "text": [
      "<class 'list'>\n",
      "<class 'list'>\n",
      "<class 'list'>\n"
     ]
    }
   ],
   "source": [
    "print(type(review_clean_original))\n",
    "print(type(review_clean_ps))\n",
    "print(type(review_clean_wnl))"
   ]
  },
  {
   "cell_type": "code",
   "execution_count": 48,
   "metadata": {},
   "outputs": [],
   "source": [
    "from wordcloud import WordCloud, STOPWORDS\n",
    "\n",
    "# custom color for wordcloud \n",
    "def grey_color_func(word, font_size, position, orientation, random_state=None,**kwargs):\n",
    "    return(\"hsl(0, 0%%, %d%%)\" % random.randint(70, 100))\n",
    "\n",
    "# visualize wordcloud\n",
    "def visualize_wordcloud(data, word_count):\n",
    "    \"\"\"\n",
    "        @data (type:list) is list containing string object of processed textual review data\n",
    "        @returns none\n",
    "    \"\"\"\n",
    "\n",
    "    # create single string from list of strings\n",
    "    combined_text = \" \".join([review for review in data])\n",
    "\n",
    "    # Initialize wordcloud object\n",
    "    wordcloud = WordCloud(background_color='#282828', \n",
    "                          width=414, \n",
    "                          height=736, \n",
    "                          margin=0, \n",
    "                          max_words=word_count).generate(combined_text)\n",
    "    \n",
    "    # Display the generated image:\n",
    "    plt.imshow(wordcloud.recolor(color_func=grey_color_func, random_state=3),interpolation=\"bilinear\")\n",
    "    plt.axis(\"off\")\n",
    "    plt.margins(x=0, y=0)\n",
    "    plt.show()\n"
   ]
  },
  {
   "cell_type": "code",
   "execution_count": 49,
   "metadata": {},
   "outputs": [
    {
     "data": {
      "image/png": "[encoded data removed]",
      "text/plain": [
       "<Figure size 720x432 with 1 Axes>"
      ]
     },
     "metadata": {
      "needs_background": "light"
     },
     "output_type": "display_data"
    }
   ],
   "source": [
    "visualize_wordcloud(review_clean_original, 20)"
   ]
  },
  {
   "cell_type": "code",
   "execution_count": 50,
   "metadata": {},
   "outputs": [
    {
     "data": {
      "image/png": "[encoded data removed]",
      "text/plain": [
       "<Figure size 720x432 with 1 Axes>"
      ]
     },
     "metadata": {
      "needs_background": "light"
     },
     "output_type": "display_data"
    }
   ],
   "source": [
    "visualize_wordcloud(review_clean_ps, 100)"
   ]
  },
  {
   "cell_type": "code",
   "execution_count": 51,
   "metadata": {},
   "outputs": [
    {
     "data": {
      "image/png": "[encoded data removed]",
      "text/plain": [
       "<Figure size 720x432 with 1 Axes>"
      ]
     },
     "metadata": {
      "needs_background": "light"
     },
     "output_type": "display_data"
    }
   ],
   "source": [
    "visualize_wordcloud(review_clean_wnl, 150)"
   ]
  },
  {
   "cell_type": "markdown",
   "metadata": {},
   "source": [
    "___\n",
    "\n",
    "#### Textual Data Processing Using Regular Expressions\n",
    "\n",
    "[Regular expressions](https://web.stanford.edu/~jurafsky/slp3/2.pdf) is a formal language for working with text strings, and are often the first model for any text processing task in practical NLP. Although [machine learning classifiers](https://towardsdatascience.com/machine-learning-classifiers-a5cc4e1b0623) are used for harder text processing task, they use regular expressions as features and thus warrant some consideration when undergoing a textual data preprocessing process. "
   ]
  },
  {
   "cell_type": "markdown",
   "metadata": {},
   "source": [
    "___\n",
    "\n",
    "#### SHELL for **Freakishly Fast** Textual Data Processing\n",
    "\n",
    "This topic could be a module onto itself, and it is a valuable skill to have -- particularly when working with big data and distributed clusters. Using SHELL's native parallelism and piping can result in freakishly fast processing times.\n",
    "\n",
    "> [Process ~2Gb of data on laptop in 12 seconds (270MB/sec), or in 26 minutes using a 7c1.medium Hadoop cluster (1.14MB/sec)](https://adamdrake.com/command-line-tools-can-be-235x-faster-than-your-hadoop-cluster.html). It should be noticed that some of the benefits may not carry as you move into higher orders of magnitude in data size.<br>   \n",
    "> [Data Science at the Command Line](https://www.datascienceatthecommandline.com/) - Deep dive (free book)"
   ]
  },
  {
   "cell_type": "markdown",
   "metadata": {},
   "source": [
    "___\n",
    "\n",
    "## Additional Content and Sources\n",
    "\n",
    "\n",
    "> [Bag of Words Meets Bag of Popcorn](https://www.kaggle.com/c/word2vec-nlp-tutorial/data)<br>\n",
    "> [Python Machine Learning Book](https://github.com/rasbt/python-machine-learning-book/tree/master/code)<br> \n",
    "> [Machine Learning With Text in Scikit-Learn](https://github.com/justmarkham/pycon-2016-tutorial)<br>\n",
    "> [Natural Language Processing with Python (aka the NLTK Book)](http://www.nltk.org/book/)"
   ]
  },
  {
   "cell_type": "markdown",
   "metadata": {},
   "source": [
    "<div align=\"center\" style=\"font-size:12px; font-family:FreeMono; font-weight: 100; font-stretch:ultra-condensed; line-height: 1.0; color:#2A2C2B\">\n",
    "    <img src=\"DataX_icon_wide_logo.png\" align=\"center\" width=\"50%\" padding=\"0px\"><br>\n",
    "    <br>\n",
    "</div>\n",
    "\n",
    "___"
   ]
  }
 ],
 "metadata": {
  "kernelspec": {
   "display_name": "Python 3",
   "language": "python",
   "name": "python3"
  },
  "language_info": {
   "codemirror_mode": {
    "name": "ipython",
    "version": 3
   },
   "file_extension": ".py",
   "mimetype": "text/x-python",
   "name": "python",
   "nbconvert_exporter": "python",
   "pygments_lexer": "ipython3",
   "version": "3.6.10"
  }
 },
 "nbformat": 4,
 "nbformat_minor": 2
}
