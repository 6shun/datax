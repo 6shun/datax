{
 "cells": [
  {
   "cell_type": "code",
   "execution_count": 22,
   "metadata": {},
   "outputs": [],
   "source": [
    "import tweepy\n",
    "import numpy as np\n",
    "import pandas as pd"
   ]
  },
  {
   "cell_type": "code",
   "execution_count": 23,
   "metadata": {},
   "outputs": [],
   "source": [
    "consumer_key = 'k7XccgpHLKLE34F3cSdFy8FRG'\n",
    "consumer_secret = 'iOkKLCboQ2xauc1G0AvXAHPe6tq3KjFKXYyyIznx8ZW3ZawcUV'\n",
    "access_token = '1312447529410154496-fvnUdE8gm9qL2RQJm9zT83g7nnr4ZI'\n",
    "access_token_secret = 'jvuhff1smWWz1EHhO9vZlzxvjjW5kuSU6zo3XcfhBN6xg'"
   ]
  },
  {
   "cell_type": "code",
   "execution_count": 24,
   "metadata": {},
   "outputs": [],
   "source": [
    "auth = tweepy.OAuthHandler(consumer_key, consumer_secret)\n",
    "auth.set_access_token(access_token, access_token_secret)\n",
    "\n",
    "api = tweepy.API(auth)"
   ]
  },
  {
   "cell_type": "code",
   "execution_count": 25,
   "metadata": {},
   "outputs": [],
   "source": [
    "search_words = \"League Of Legends -filter:links\"\n",
    "tweet_count = 1000"
   ]
  },
  {
   "cell_type": "code",
   "execution_count": 27,
   "metadata": {},
   "outputs": [],
   "source": [
    "tweets = tweepy.Cursor(api.search, q=search_words, lang='en', tweet_mode='extended').items(tweet_count)\n",
    "\n",
    "tweets_list = [[tweet.created_at,\n",
    "                tweet.retweet_count,\n",
    "                tweet.favorite_count,\n",
    "                tweet.full_text] for tweet in tweets]"
   ]
  },
  {
   "cell_type": "code",
   "execution_count": 28,
   "metadata": {},
   "outputs": [],
   "source": [
    "tweets_df = pd.DataFrame(tweets_list, columns=['Created_at', 'Retweet_count', 'Favorite_Count', 'Tweet'])"
   ]
  },
  {
   "cell_type": "code",
   "execution_count": 29,
   "metadata": {},
   "outputs": [
    {
     "data": {
      "text/html": [
       "<div>\n",
       "<style scoped>\n",
       "    .dataframe tbody tr th:only-of-type {\n",
       "        vertical-align: middle;\n",
       "    }\n",
       "\n",
       "    .dataframe tbody tr th {\n",
       "        vertical-align: top;\n",
       "    }\n",
       "\n",
       "    .dataframe thead th {\n",
       "        text-align: right;\n",
       "    }\n",
       "</style>\n",
       "<table border=\"1\" class=\"dataframe\">\n",
       "  <thead>\n",
       "    <tr style=\"text-align: right;\">\n",
       "      <th></th>\n",
       "      <th>Created_at</th>\n",
       "      <th>Retweet_count</th>\n",
       "      <th>Favorite_Count</th>\n",
       "      <th>Tweet</th>\n",
       "    </tr>\n",
       "  </thead>\n",
       "  <tbody>\n",
       "    <tr>\n",
       "      <th>0</th>\n",
       "      <td>2020-10-26 01:45:13</td>\n",
       "      <td>0</td>\n",
       "      <td>0</td>\n",
       "      <td>Damn my twitter feed weird\\nIt goes from VR ga...</td>\n",
       "    </tr>\n",
       "    <tr>\n",
       "      <th>1</th>\n",
       "      <td>2020-10-26 01:42:07</td>\n",
       "      <td>0</td>\n",
       "      <td>3</td>\n",
       "      <td>just willingly watched him play league of lege...</td>\n",
       "    </tr>\n",
       "    <tr>\n",
       "      <th>2</th>\n",
       "      <td>2020-10-26 01:40:45</td>\n",
       "      <td>0</td>\n",
       "      <td>0</td>\n",
       "      <td>@TakashiZeroTV have you heard of this game cal...</td>\n",
       "    </tr>\n",
       "    <tr>\n",
       "      <th>3</th>\n",
       "      <td>2020-10-26 01:40:21</td>\n",
       "      <td>0</td>\n",
       "      <td>0</td>\n",
       "      <td>does anyone here play league of legends?</td>\n",
       "    </tr>\n",
       "    <tr>\n",
       "      <th>4</th>\n",
       "      <td>2020-10-26 01:36:39</td>\n",
       "      <td>0</td>\n",
       "      <td>0</td>\n",
       "      <td>I secretly play League of Legends when Matthew...</td>\n",
       "    </tr>\n",
       "    <tr>\n",
       "      <th>...</th>\n",
       "      <td>...</td>\n",
       "      <td>...</td>\n",
       "      <td>...</td>\n",
       "      <td>...</td>\n",
       "    </tr>\n",
       "    <tr>\n",
       "      <th>995</th>\n",
       "      <td>2020-10-25 04:13:15</td>\n",
       "      <td>5</td>\n",
       "      <td>0</td>\n",
       "      <td>RT @unfortunatelyb2: Top? Bottom? Didn't knew ...</td>\n",
       "    </tr>\n",
       "    <tr>\n",
       "      <th>996</th>\n",
       "      <td>2020-10-25 04:11:43</td>\n",
       "      <td>0</td>\n",
       "      <td>2</td>\n",
       "      <td>can anyone teach me how to play league of legends</td>\n",
       "    </tr>\n",
       "    <tr>\n",
       "      <th>997</th>\n",
       "      <td>2020-10-25 04:09:58</td>\n",
       "      <td>3</td>\n",
       "      <td>0</td>\n",
       "      <td>RT @BryceOnFire: League of Legends does not se...</td>\n",
       "    </tr>\n",
       "    <tr>\n",
       "      <th>998</th>\n",
       "      <td>2020-10-25 04:09:35</td>\n",
       "      <td>0</td>\n",
       "      <td>0</td>\n",
       "      <td>League of legends isn’t fun</td>\n",
       "    </tr>\n",
       "    <tr>\n",
       "      <th>999</th>\n",
       "      <td>2020-10-25 04:09:17</td>\n",
       "      <td>21</td>\n",
       "      <td>0</td>\n",
       "      <td>RT @IntroSpecktive: Ever since I changed my Le...</td>\n",
       "    </tr>\n",
       "  </tbody>\n",
       "</table>\n",
       "<p>1000 rows × 4 columns</p>\n",
       "</div>"
      ],
      "text/plain": [
       "             Created_at  Retweet_count  Favorite_Count  \\\n",
       "0   2020-10-26 01:45:13              0               0   \n",
       "1   2020-10-26 01:42:07              0               3   \n",
       "2   2020-10-26 01:40:45              0               0   \n",
       "3   2020-10-26 01:40:21              0               0   \n",
       "4   2020-10-26 01:36:39              0               0   \n",
       "..                  ...            ...             ...   \n",
       "995 2020-10-25 04:13:15              5               0   \n",
       "996 2020-10-25 04:11:43              0               2   \n",
       "997 2020-10-25 04:09:58              3               0   \n",
       "998 2020-10-25 04:09:35              0               0   \n",
       "999 2020-10-25 04:09:17             21               0   \n",
       "\n",
       "                                                 Tweet  \n",
       "0    Damn my twitter feed weird\\nIt goes from VR ga...  \n",
       "1    just willingly watched him play league of lege...  \n",
       "2    @TakashiZeroTV have you heard of this game cal...  \n",
       "3             does anyone here play league of legends?  \n",
       "4    I secretly play League of Legends when Matthew...  \n",
       "..                                                 ...  \n",
       "995  RT @unfortunatelyb2: Top? Bottom? Didn't knew ...  \n",
       "996  can anyone teach me how to play league of legends  \n",
       "997  RT @BryceOnFire: League of Legends does not se...  \n",
       "998                        League of legends isn’t fun  \n",
       "999  RT @IntroSpecktive: Ever since I changed my Le...  \n",
       "\n",
       "[1000 rows x 4 columns]"
      ]
     },
     "execution_count": 29,
     "metadata": {},
     "output_type": "execute_result"
    }
   ],
   "source": [
    "tweets_df"
   ]
  },
  {
   "cell_type": "code",
   "execution_count": 30,
   "metadata": {},
   "outputs": [],
   "source": [
    "tweets_df.to_csv('../data/League_tweets.csv')"
   ]
  }
 ],
 "metadata": {
  "kernelspec": {
   "display_name": "Python 3",
   "language": "python",
   "name": "python3"
  },
  "language_info": {
   "codemirror_mode": {
    "name": "ipython",
    "version": 3
   },
   "file_extension": ".py",
   "mimetype": "text/x-python",
   "name": "python",
   "nbconvert_exporter": "python",
   "pygments_lexer": "ipython3",
   "version": "3.7.3"
  }
 },
 "nbformat": 4,
 "nbformat_minor": 4
}
