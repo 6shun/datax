{
 "cells": [
  {
   "cell_type": "markdown",
   "metadata": {},
   "source": [
    "# Setup"
   ]
  },
  {
   "cell_type": "markdown",
   "metadata": {},
   "source": [
    "## Import Libaries"
   ]
  },
  {
   "cell_type": "code",
   "execution_count": 1,
   "metadata": {},
   "outputs": [],
   "source": [
    "import pandas as pd\n",
    "import sqlite3\n",
    "from sklearn.feature_extraction.text import CountVectorizer\n",
    "from sklearn.feature_extraction.text import TfidfVectorizer\n",
    "from nltk.corpus import stopwords"
   ]
  },
  {
   "cell_type": "code",
   "execution_count": null,
   "metadata": {},
   "outputs": [],
   "source": [
    "from google.colab import drive\n",
    "drive.mount('/content/drive')"
   ]
  },
  {
   "cell_type": "code",
   "execution_count": null,
   "metadata": {},
   "outputs": [],
   "source": [
    "my_project_folder = 'Data-X: GGWP Toxic Behavior Public Data'"
   ]
  },
  {
   "cell_type": "code",
   "execution_count": null,
   "metadata": {},
   "outputs": [],
   "source": [
    "%cd drive/My Drive/{my_project_folder}/scraping/discord_scraper"
   ]
  },
  {
   "cell_type": "markdown",
   "metadata": {},
   "source": [
    "# Run the discord.py file"
   ]
  },
  {
   "cell_type": "code",
   "execution_count": 2,
   "metadata": {},
   "outputs": [],
   "source": [
    "num_comments = 10"
   ]
  },
  {
   "cell_type": "code",
   "execution_count": 4,
   "metadata": {},
   "outputs": [],
   "source": [
    "!python discord.py {num_comments}"
   ]
  },
  {
   "cell_type": "markdown",
   "metadata": {},
   "source": [
    "## Convert db file to Pandas Dataframe"
   ]
  },
  {
   "cell_type": "code",
   "execution_count": 5,
   "metadata": {},
   "outputs": [],
   "source": [
    "con = sqlite3.connect('./Discord Scrapes/text.db')"
   ]
  },
  {
   "cell_type": "code",
   "execution_count": 6,
   "metadata": {},
   "outputs": [],
   "source": [
    "cursor = con.cursor()\n",
    "cursor.execute(\"SELECT name FROM sqlite_master WHERE type='table';\")\n",
    "table_name = cursor.fetchall()[0][-1]"
   ]
  },
  {
   "cell_type": "code",
   "execution_count": 7,
   "metadata": {},
   "outputs": [],
   "source": [
    "db = pd.read_sql_query(f\"SELECT name, content, timestamp FROM {table_name}\", con)"
   ]
  },
  {
   "cell_type": "code",
   "execution_count": 8,
   "metadata": {
    "scrolled": true
   },
   "outputs": [
    {
     "data": {
      "text/html": [
       "<div>\n",
       "<style scoped>\n",
       "    .dataframe tbody tr th:only-of-type {\n",
       "        vertical-align: middle;\n",
       "    }\n",
       "\n",
       "    .dataframe tbody tr th {\n",
       "        vertical-align: top;\n",
       "    }\n",
       "\n",
       "    .dataframe thead th {\n",
       "        text-align: right;\n",
       "    }\n",
       "</style>\n",
       "<table border=\"1\" class=\"dataframe\">\n",
       "  <thead>\n",
       "    <tr style=\"text-align: right;\">\n",
       "      <th></th>\n",
       "      <th>name</th>\n",
       "      <th>content</th>\n",
       "      <th>timestamp</th>\n",
       "    </tr>\n",
       "  </thead>\n",
       "  <tbody>\n",
       "    <tr>\n",
       "      <th>0</th>\n",
       "      <td>Takarii#0001</td>\n",
       "      <td>&lt;:SatanaThumbsUp:451892432313909288&gt;</td>\n",
       "      <td>2020-12-09T16:18:05.417000+00:00</td>\n",
       "    </tr>\n",
       "    <tr>\n",
       "      <th>1</th>\n",
       "      <td>PT#8733</td>\n",
       "      <td>got to say , its nice to hear ahead of time th...</td>\n",
       "      <td>2020-12-09T17:27:39.723000+00:00</td>\n",
       "    </tr>\n",
       "    <tr>\n",
       "      <th>2</th>\n",
       "      <td>PT#8733</td>\n",
       "      <td>https://www.polygon.com/2020/12/9/22165435/pub...</td>\n",
       "      <td>2020-12-09T17:27:48.253000+00:00</td>\n",
       "    </tr>\n",
       "    <tr>\n",
       "      <th>3</th>\n",
       "      <td>PT#8733</td>\n",
       "      <td>good to clear that up now</td>\n",
       "      <td>2020-12-09T17:27:52.086000+00:00</td>\n",
       "    </tr>\n",
       "    <tr>\n",
       "      <th>4</th>\n",
       "      <td>PT#8733</td>\n",
       "      <td>\"That’s where PUBG separates itself from all t...</td>\n",
       "      <td>2020-12-09T17:32:43.294000+00:00</td>\n",
       "    </tr>\n",
       "    <tr>\n",
       "      <th>...</th>\n",
       "      <td>...</td>\n",
       "      <td>...</td>\n",
       "      <td>...</td>\n",
       "    </tr>\n",
       "    <tr>\n",
       "      <th>105</th>\n",
       "      <td>hybridhavoc#4027</td>\n",
       "      <td>If playing through Stadia, perhaps?  I haven't...</td>\n",
       "      <td>2020-12-09T14:30:45.019000+00:00</td>\n",
       "    </tr>\n",
       "    <tr>\n",
       "      <th>106</th>\n",
       "      <td>Oshowott#0520</td>\n",
       "      <td>Any one wanna play on mobile.</td>\n",
       "      <td>2020-12-09T14:48:00.132000+00:00</td>\n",
       "    </tr>\n",
       "    <tr>\n",
       "      <th>107</th>\n",
       "      <td>PUBG bot#1548</td>\n",
       "      <td>This is the Official PUBG Discord for PC, Xbox...</td>\n",
       "      <td>2020-12-09T14:50:54.006000+00:00</td>\n",
       "    </tr>\n",
       "    <tr>\n",
       "      <th>108</th>\n",
       "      <td>Takarii#0001</td>\n",
       "      <td>I've been away for a couple of weeks, so I onl...</td>\n",
       "      <td>2020-12-09T15:02:51.895000+00:00</td>\n",
       "    </tr>\n",
       "    <tr>\n",
       "      <th>109</th>\n",
       "      <td>Takarii#0001</td>\n",
       "      <td>I've seen others mention that they aren't trac...</td>\n",
       "      <td>2020-12-09T15:04:03.714000+00:00</td>\n",
       "    </tr>\n",
       "  </tbody>\n",
       "</table>\n",
       "<p>110 rows × 3 columns</p>\n",
       "</div>"
      ],
      "text/plain": [
       "                 name                                            content  \\\n",
       "0        Takarii#0001               <:SatanaThumbsUp:451892432313909288>   \n",
       "1             PT#8733  got to say , its nice to hear ahead of time th...   \n",
       "2             PT#8733  https://www.polygon.com/2020/12/9/22165435/pub...   \n",
       "3             PT#8733                          good to clear that up now   \n",
       "4             PT#8733  \"That’s where PUBG separates itself from all t...   \n",
       "..                ...                                                ...   \n",
       "105  hybridhavoc#4027  If playing through Stadia, perhaps?  I haven't...   \n",
       "106     Oshowott#0520                      Any one wanna play on mobile.   \n",
       "107     PUBG bot#1548  This is the Official PUBG Discord for PC, Xbox...   \n",
       "108      Takarii#0001  I've been away for a couple of weeks, so I onl...   \n",
       "109      Takarii#0001  I've seen others mention that they aren't trac...   \n",
       "\n",
       "                            timestamp  \n",
       "0    2020-12-09T16:18:05.417000+00:00  \n",
       "1    2020-12-09T17:27:39.723000+00:00  \n",
       "2    2020-12-09T17:27:48.253000+00:00  \n",
       "3    2020-12-09T17:27:52.086000+00:00  \n",
       "4    2020-12-09T17:32:43.294000+00:00  \n",
       "..                                ...  \n",
       "105  2020-12-09T14:30:45.019000+00:00  \n",
       "106  2020-12-09T14:48:00.132000+00:00  \n",
       "107  2020-12-09T14:50:54.006000+00:00  \n",
       "108  2020-12-09T15:02:51.895000+00:00  \n",
       "109  2020-12-09T15:04:03.714000+00:00  \n",
       "\n",
       "[110 rows x 3 columns]"
      ]
     },
     "execution_count": 8,
     "metadata": {},
     "output_type": "execute_result"
    }
   ],
   "source": [
    "db"
   ]
  },
  {
   "cell_type": "markdown",
   "metadata": {},
   "source": [
    "## Save to CSV"
   ]
  },
  {
   "cell_type": "code",
   "execution_count": 6,
   "metadata": {},
   "outputs": [],
   "source": [
    "df = db['content'].to_frame() # Only extract the content column, as only that is required for model\n",
    "df = df.drop_duplicates() # drop duplicates"
   ]
  },
  {
   "cell_type": "code",
   "execution_count": 6,
   "metadata": {},
   "outputs": [],
   "source": [
    "game_platform = \"pubg_discord\"\n",
    "df.to_csv('../../data/scraped/' + game_platform + '.csv')"
   ]
  }
 ],
 "metadata": {
  "kernelspec": {
   "display_name": "Python 3",
   "language": "python",
   "name": "python3"
  },
  "language_info": {
   "codemirror_mode": {
    "name": "ipython",
    "version": 3
   },
   "file_extension": ".py",
   "mimetype": "text/x-python",
   "name": "python",
   "nbconvert_exporter": "python",
   "pygments_lexer": "ipython3",
   "version": "3.8.3"
  }
 },
 "nbformat": 4,
 "nbformat_minor": 4
}
