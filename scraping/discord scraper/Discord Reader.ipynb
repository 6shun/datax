{
 "cells": [
  {
   "cell_type": "markdown",
   "metadata": {},
   "source": [
    "# Setup"
   ]
  },
  {
   "cell_type": "markdown",
   "metadata": {},
   "source": [
    "## Import Libaries"
   ]
  },
  {
   "cell_type": "code",
   "execution_count": 1,
   "metadata": {},
   "outputs": [],
   "source": [
    "import pandas as pd\n",
    "import sqlite3\n",
    "from sklearn.feature_extraction.text import CountVectorizer\n",
    "from sklearn.feature_extraction.text import TfidfVectorizer\n",
    "from nltk.corpus import stopwords"
   ]
  },
  {
   "cell_type": "markdown",
   "metadata": {},
   "source": [
    "## Convert db file to Pandas Dataframe"
   ]
  },
  {
   "cell_type": "code",
   "execution_count": 2,
   "metadata": {},
   "outputs": [],
   "source": [
    "con = sqlite3.connect('./Discord Scrapes/text.db')"
   ]
  },
  {
   "cell_type": "code",
   "execution_count": 3,
   "metadata": {},
   "outputs": [],
   "source": [
    "cursor = con.cursor()\n",
    "cursor.execute(\"SELECT name FROM sqlite_master WHERE type='table';\")\n",
    "table_name = cursor.fetchall()[0][0]"
   ]
  },
  {
   "cell_type": "code",
   "execution_count": 4,
   "metadata": {},
   "outputs": [],
   "source": [
    "db = pd.read_sql_query(f\"SELECT name, content, timestamp FROM {table_name}\", con)"
   ]
  },
  {
   "cell_type": "code",
   "execution_count": 5,
   "metadata": {
    "scrolled": true
   },
   "outputs": [
    {
     "data": {
      "text/html": [
       "<div>\n",
       "<style scoped>\n",
       "    .dataframe tbody tr th:only-of-type {\n",
       "        vertical-align: middle;\n",
       "    }\n",
       "\n",
       "    .dataframe tbody tr th {\n",
       "        vertical-align: top;\n",
       "    }\n",
       "\n",
       "    .dataframe thead th {\n",
       "        text-align: right;\n",
       "    }\n",
       "</style>\n",
       "<table border=\"1\" class=\"dataframe\">\n",
       "  <thead>\n",
       "    <tr style=\"text-align: right;\">\n",
       "      <th></th>\n",
       "      <th>name</th>\n",
       "      <th>content</th>\n",
       "      <th>timestamp</th>\n",
       "    </tr>\n",
       "  </thead>\n",
       "  <tbody>\n",
       "    <tr>\n",
       "      <th>0</th>\n",
       "      <td>Spookies#3464</td>\n",
       "      <td>cosmetic items like the carrionette wig should...</td>\n",
       "      <td>2020-11-12T11:48:58.230000+00:00</td>\n",
       "    </tr>\n",
       "    <tr>\n",
       "      <th>1</th>\n",
       "      <td>basstomouth#8141</td>\n",
       "      <td>ne one wanna play some pubg? steam is basstomo...</td>\n",
       "      <td>2020-11-12T11:49:27.356000+00:00</td>\n",
       "    </tr>\n",
       "    <tr>\n",
       "      <th>2</th>\n",
       "      <td>SteveTheHappy🐳#0001</td>\n",
       "      <td>&gt; is there any thread where we can report play...</td>\n",
       "      <td>2020-11-12T12:12:19.966000+00:00</td>\n",
       "    </tr>\n",
       "    <tr>\n",
       "      <th>3</th>\n",
       "      <td>762_k4tyusha#4435</td>\n",
       "      <td>i mean, i reported all three of them but still...</td>\n",
       "      <td>2020-11-12T12:36:37.224000+00:00</td>\n",
       "    </tr>\n",
       "    <tr>\n",
       "      <th>4</th>\n",
       "      <td>762_k4tyusha#4435</td>\n",
       "      <td>yall need to step up your AC game, since there...</td>\n",
       "      <td>2020-11-12T12:37:19.870000+00:00</td>\n",
       "    </tr>\n",
       "    <tr>\n",
       "      <th>...</th>\n",
       "      <td>...</td>\n",
       "      <td>...</td>\n",
       "      <td>...</td>\n",
       "    </tr>\n",
       "    <tr>\n",
       "      <th>7922</th>\n",
       "      <td>Deleted User#0000</td>\n",
       "      <td>best pubg rap hands down https://www.youtube.c...</td>\n",
       "      <td>2019-07-26T01:49:18.237000+00:00</td>\n",
       "    </tr>\n",
       "    <tr>\n",
       "      <th>7923</th>\n",
       "      <td>pinekel#9847</td>\n",
       "      <td>Fix the damn game before you add more shit</td>\n",
       "      <td>2019-07-26T01:54:18.494000+00:00</td>\n",
       "    </tr>\n",
       "    <tr>\n",
       "      <th>7924</th>\n",
       "      <td>Mary Ellen Katz#2904</td>\n",
       "      <td>Dear pubg. When I'm trying to prone, but the a...</td>\n",
       "      <td>2019-07-26T01:59:31.709000+00:00</td>\n",
       "    </tr>\n",
       "    <tr>\n",
       "      <th>7925</th>\n",
       "      <td>Sylar#7230</td>\n",
       "      <td>anything we can do was working fine till 5 min...</td>\n",
       "      <td>2019-07-25T16:10:40.720000+00:00</td>\n",
       "    </tr>\n",
       "    <tr>\n",
       "      <th>7926</th>\n",
       "      <td>Zel#2615</td>\n",
       "      <td>Mana but I had it happen mid game where everyt...</td>\n",
       "      <td>2019-07-25T16:12:40.978000+00:00</td>\n",
       "    </tr>\n",
       "  </tbody>\n",
       "</table>\n",
       "<p>7927 rows × 3 columns</p>\n",
       "</div>"
      ],
      "text/plain": [
       "                      name                                            content  \\\n",
       "0            Spookies#3464  cosmetic items like the carrionette wig should...   \n",
       "1         basstomouth#8141  ne one wanna play some pubg? steam is basstomo...   \n",
       "2      SteveTheHappy🐳#0001  > is there any thread where we can report play...   \n",
       "3        762_k4tyusha#4435  i mean, i reported all three of them but still...   \n",
       "4        762_k4tyusha#4435  yall need to step up your AC game, since there...   \n",
       "...                    ...                                                ...   \n",
       "7922     Deleted User#0000  best pubg rap hands down https://www.youtube.c...   \n",
       "7923          pinekel#9847         Fix the damn game before you add more shit   \n",
       "7924  Mary Ellen Katz#2904  Dear pubg. When I'm trying to prone, but the a...   \n",
       "7925            Sylar#7230  anything we can do was working fine till 5 min...   \n",
       "7926              Zel#2615  Mana but I had it happen mid game where everyt...   \n",
       "\n",
       "                             timestamp  \n",
       "0     2020-11-12T11:48:58.230000+00:00  \n",
       "1     2020-11-12T11:49:27.356000+00:00  \n",
       "2     2020-11-12T12:12:19.966000+00:00  \n",
       "3     2020-11-12T12:36:37.224000+00:00  \n",
       "4     2020-11-12T12:37:19.870000+00:00  \n",
       "...                                ...  \n",
       "7922  2019-07-26T01:49:18.237000+00:00  \n",
       "7923  2019-07-26T01:54:18.494000+00:00  \n",
       "7924  2019-07-26T01:59:31.709000+00:00  \n",
       "7925  2019-07-25T16:10:40.720000+00:00  \n",
       "7926  2019-07-25T16:12:40.978000+00:00  \n",
       "\n",
       "[7927 rows x 3 columns]"
      ]
     },
     "execution_count": 5,
     "metadata": {},
     "output_type": "execute_result"
    }
   ],
   "source": [
    "db"
   ]
  },
  {
   "cell_type": "markdown",
   "metadata": {},
   "source": [
    "## Save to CSV"
   ]
  },
  {
   "cell_type": "code",
   "execution_count": 6,
   "metadata": {},
   "outputs": [],
   "source": [
    "db.to_csv('../data/scraped data/pubg_discord_2.csv')"
   ]
  }
 ],
 "metadata": {
  "kernelspec": {
   "display_name": "Python 3",
   "language": "python",
   "name": "python3"
  },
  "language_info": {
   "codemirror_mode": {
    "name": "ipython",
    "version": 3
   },
   "file_extension": ".py",
   "mimetype": "text/x-python",
   "name": "python",
   "nbconvert_exporter": "python",
   "pygments_lexer": "ipython3",
   "version": "3.8.3"
  }
 },
 "nbformat": 4,
 "nbformat_minor": 4
}
