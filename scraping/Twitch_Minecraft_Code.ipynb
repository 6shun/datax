{
 "cells": [
  {
   "cell_type": "markdown",
   "metadata": {
    "id": "0g4de2nrrYlr"
   },
   "source": [
    "The channel I watched is a Minecraft game one holded by #Tubbo \n",
    "https://www.twitch.tv/tubbo\n",
    "\n",
    "The tutorial I used is:\n",
    "https://www.learndatasci.com/tutorials/how-stream-text-data-twitch-sockets-python/\n",
    "\n",
    "You may also need to enable twitch's 2-factor authentication.\n",
    "\n",
    "This is a test round where I collected stream chat log from 10/18/2020 12:51 to 10/18/2020 12:58\n",
    "\n"
   ]
  },
  {
   "cell_type": "code",
   "execution_count": null,
   "metadata": {
    "id": "ixlgioO4rYls"
   },
   "outputs": [],
   "source": [
    "server = 'irc.chat.twitch.tv'\n",
    "port = 6667\n",
    "nickname = ''  # your username\n",
    "token = '' # your token \n",
    "channel = '#tubbo'"
   ]
  },
  {
   "cell_type": "code",
   "execution_count": null,
   "metadata": {
    "id": "_rahbpSarYlx"
   },
   "outputs": [],
   "source": [
    "import socket\n",
    "sock = socket.socket()"
   ]
  },
  {
   "cell_type": "code",
   "execution_count": null,
   "metadata": {
    "id": "9tDYe10UrYl0"
   },
   "outputs": [],
   "source": [
    "sock.connect((server, port))"
   ]
  },
  {
   "cell_type": "code",
   "execution_count": null,
   "metadata": {
    "id": "o5N9CKPerYl4",
    "outputId": "7e09ad45-b747-40b0-a5fc-a2444215715b"
   },
   "outputs": [
    {
     "data": {
      "text/plain": [
       "12"
      ]
     },
     "execution_count": 4,
     "metadata": {
      "tags": []
     },
     "output_type": "execute_result"
    }
   ],
   "source": [
    "sock.send(f\"PASS {token}\\n\".encode('utf-8'))\n",
    "sock.send(f\"NICK {nickname}\\n\".encode('utf-8'))\n",
    "sock.send(f\"JOIN {channel}\\n\".encode('utf-8'))"
   ]
  },
  {
   "cell_type": "code",
   "execution_count": null,
   "metadata": {
    "id": "e-3AqP_6rYl8",
    "outputId": "0574a320-60bd-49ca-f522-4033ea580460"
   },
   "outputs": [
    {
     "data": {
      "text/plain": [
       "'d!5gahmed@5gahmed.tmi.twitch.tv PRIVMSG #tubbo :CHAAAAAAMPPPPP\\r\\n:moomoostake!moomoostake@moomoostake.tmi.twitch.tv PRIVMSG #tubbo :PogChampPogChampPogChampPogChamp\\r\\n:justbees_!justbees_@justbees_.tmi.twitch.tv PRIVMSG #tubbo :TUBBOOOO\\r\\n:stfleck!stfleck@stfleck.tmi.twitch.tv PRIVMSG #tubbo :TubbPog\\r\\n:rue_willings!rue_willings@rue_willings.tmi.twitch.tv PRIVMSG #tubbo :dreamw12DREAMWHEEZE dreamw12DREAMWHEEZE dreamw12DREAMWHEEZE dreamw12DREAMWHEEZE dreamw12DREAMWHEEZE dreamw12DREAMWHEEZE\\r\\n:me_gustaelpan!me_gustaelpan@me_gustaelpan.tmi.twitch.tv PRIVMSG #tubbo :ßßßßßßßßßßßßßßßßßßßßßßßßßßßßßßßßßßßßßßßßßßßßßßßß\\r\\n:ekn2497!ekn2497@ekn2497.tmi.twitch.tv PRIVMSG #tubbo :!uptime\\r\\n:luna_crystal_lycan1963!luna_crystal_lycan1963@luna_crystal_lycan1963.tmi.twitch.tv PRIVMSG #tubbo :get Tommy to go live!!!\\r\\n:streamelements!streamelements@streamelements.tmi.twitch.tv PRIVMSG #tubbo :@ekn2497, tubbo has been streaming for 1 hour 3 mins\\r\\n:fellowphanton!fellowphanton@fellowphanton.tmi.twitch.tv PRIVMSG #tubbo :who is tubbo?\\r\\n:amelia_1106!amelia_1106@amelia_1106.tmi.twitch.tv PRIVMSG #tubbo :UR RIGHT\\r\\n:feistykindadope!feistykindadope@feistykindadope.tmi.twitch.tv PRIVMSG #tubbo :pogchamp\\r\\n:uni0827!uni0827@uni0827.tmi.twitch.tv PRIVMSG #tubbo :PogChamp PogChamp PogChamp PogChamp PogChamp PogChamp PogChamp PogChamp PogChamp PogChamp PogChamp PogChamp PogChamp PogChamp PogChamp PogChamp PogChamp PogChamp PogChamp PogChamp PogChamp PogChamp PogChamp PogChamp PogChamp PogChamp PogChamp PogChamp\\r\\n:tanbi2004!tanbi2004@tanbi2004.tmi.twitch.tv PRIVMSG #tubbo :PogChamp PogChamp PogChamp PogChamp\\r\\n:kim1234321!kim1234321@kim1234321.tmi.twitch.tv PRIVMSG #tubbo :he filled a bucket with lava\\r\\n:duckyyyyyyyyy_!duckyyyyyyyyy_@duckyyyyyyyyy_.tmi.twitch.tv PRIVMSG #tubbo :TUBBOOT\\r\\n:iambr3d!iambr3d@iambr3d.tmi.twitch.tv PRIVMSG #tubbo :tubbo is adorable\\r\\n:guacamole021!guacamole021@guacamole021.tmi.twitch.tv PRIVMSG #tubbo :@arkaboy2 POGGO\\r\\n:edge_lord420666!edge_lord420666@edge_lord420666.tmi.twitch.tv PRIV'"
      ]
     },
     "execution_count": 6,
     "metadata": {
      "tags": []
     },
     "output_type": "execute_result"
    }
   ],
   "source": [
    "resp = sock.recv(2048).decode('utf-8')\n",
    "resp"
   ]
  },
  {
   "cell_type": "code",
   "execution_count": null,
   "metadata": {
    "id": "6-k3xlI8rYmA"
   },
   "outputs": [],
   "source": [
    "import logging\n",
    "\n",
    "logging.basicConfig(level=logging.DEBUG,\n",
    "                    format='%(asctime)s — %(message)s',\n",
    "                    datefmt='%Y-%m-%d_%H:%M:%S',\n",
    "                    handlers=[logging.FileHandler('chat.log', encoding='utf-8')])"
   ]
  },
  {
   "cell_type": "code",
   "execution_count": null,
   "metadata": {
    "id": "PGXdmhQXrYmD"
   },
   "outputs": [],
   "source": [
    "logging.info(resp)"
   ]
  },
  {
   "cell_type": "code",
   "execution_count": null,
   "metadata": {
    "id": "VWa7RUVIrYmH"
   },
   "outputs": [],
   "source": [
    "# Run this to collect data. Interrupt it to go to the next step\n",
    "\n",
    "from emoji import demojize\n",
    "\n",
    "while True:\n",
    "    resp = sock.recv(2048).decode('utf-8')\n",
    "\n",
    "    if resp.startswith('PING'):\n",
    "        sock.send(\"PONG\\n\".encode('utf-8'))\n",
    "    \n",
    "    elif len(resp) > 0:\n",
    "        logging.info(demojize(resp))"
   ]
  },
  {
   "cell_type": "code",
   "execution_count": null,
   "metadata": {
    "id": "hcw-i0ryrYmL"
   },
   "outputs": [],
   "source": [
    "# Check how is a single text message looks like\n",
    "msg = '2020-10-18_12:58:35 — :gwnsnow!gwnsnow@gwnsnow.tmi.twitch.tv PRIVMSG #tubbo :why game german'"
   ]
  },
  {
   "cell_type": "code",
   "execution_count": null,
   "metadata": {
    "id": "uwEfdjiyrYmN",
    "outputId": "3f1117a0-1117-425c-fa2a-0f9fc5e43092"
   },
   "outputs": [
    {
     "data": {
      "text/plain": [
       "datetime.datetime(2020, 10, 18, 12, 58, 35)"
      ]
     },
     "execution_count": 16,
     "metadata": {
      "tags": []
     },
     "output_type": "execute_result"
    }
   ],
   "source": [
    "from datetime import datetime\n",
    "\n",
    "time_logged = msg.split()[0].strip()\n",
    "\n",
    "time_logged = datetime.strptime(time_logged, '%Y-%m-%d_%H:%M:%S')\n",
    "\n",
    "time_logged"
   ]
  },
  {
   "cell_type": "code",
   "execution_count": null,
   "metadata": {
    "id": "ATzbXjQ3rYmS",
    "outputId": "d012a43d-328e-448a-8f52-e3dcd6738ee9"
   },
   "outputs": [
    {
     "data": {
      "text/plain": [
       "':gwnsnow!gwnsnow@gwnsnow.tmi.twitch.tv PRIVMSG #tubbo :why game german'"
      ]
     },
     "execution_count": 17,
     "metadata": {
      "tags": []
     },
     "output_type": "execute_result"
    }
   ],
   "source": [
    "username_message = msg.split('—')[1:]\n",
    "username_message = '—'.join(username_message).strip()\n",
    "\n",
    "username_message"
   ]
  },
  {
   "cell_type": "code",
   "execution_count": null,
   "metadata": {
    "id": "7tXa7DcMrYmU",
    "outputId": "48a298c5-bcf8-44b1-b2ab-99616205e50b"
   },
   "outputs": [
    {
     "name": "stdout",
     "output_type": "stream",
     "text": [
      "Channel: tubbo \n",
      "Username: gwnsnow \n",
      "Message: why game german\n"
     ]
    }
   ],
   "source": [
    "import re\n",
    "\n",
    "username, channel, message = re.search(':(.*)\\!.*@.*\\.tmi\\.twitch\\.tv PRIVMSG #(.*) :(.*)', username_message).groups()\n",
    "\n",
    "print(f\"Channel: {channel} \\nUsername: {username} \\nMessage: {message}\")"
   ]
  },
  {
   "cell_type": "code",
   "execution_count": null,
   "metadata": {
    "id": "_PUIY0skrYmX"
   },
   "outputs": [],
   "source": [
    "import pandas as pd\n",
    "\n",
    "def get_chat_dataframe(file):\n",
    "    \"\"\"\n",
    "    Creates a dataframe with chat\n",
    "    \"\"\"\n",
    "    data = []\n",
    "\n",
    "    with open(file, 'r', encoding='utf-8') as f:\n",
    "        lines = f.read().split('\\n\\n\\n')\n",
    "        \n",
    "        for line in lines:\n",
    "            try:\n",
    "                time_logged = line.split('—')[0].strip()\n",
    "                time_logged = datetime.strptime(time_logged, '%Y-%m-%d_%H:%M:%S')\n",
    "\n",
    "                username_message = line.split('—')[1:]\n",
    "                username_message = '—'.join(username_message).strip()\n",
    "\n",
    "                username, channel, message = re.search(\n",
    "                    ':(.*)\\!.*@.*\\.tmi\\.twitch\\.tv PRIVMSG #(.*) :(.*)', username_message\n",
    "                ).groups()\n",
    "                \n",
    "                d = {\n",
    "                    'dt': time_logged,\n",
    "                    'channel': channel,\n",
    "                    'username': username,\n",
    "                    'message': message\n",
    "                }\n",
    "\n",
    "                data.append(d)\n",
    "            \n",
    "            except Exception:\n",
    "                pass\n",
    "            \n",
    "    return pd.DataFrame().from_records(data)\n",
    "        \n",
    "    \n",
    "df = get_chat_dataframe('chat.log')"
   ]
  },
  {
   "cell_type": "code",
   "execution_count": null,
   "metadata": {
    "id": "pPV_-sPRrYmb",
    "outputId": "364a6aba-d95e-4022-88c9-095ebc56944e"
   },
   "outputs": [
    {
     "name": "stdout",
     "output_type": "stream",
     "text": [
      "(2040, 3)\n"
     ]
    },
    {
     "data": {
      "text/html": [
       "<div>\n",
       "<style scoped>\n",
       "    .dataframe tbody tr th:only-of-type {\n",
       "        vertical-align: middle;\n",
       "    }\n",
       "\n",
       "    .dataframe tbody tr th {\n",
       "        vertical-align: top;\n",
       "    }\n",
       "\n",
       "    .dataframe thead th {\n",
       "        text-align: right;\n",
       "    }\n",
       "</style>\n",
       "<table border=\"1\" class=\"dataframe\">\n",
       "  <thead>\n",
       "    <tr style=\"text-align: right;\">\n",
       "      <th></th>\n",
       "      <th>channel</th>\n",
       "      <th>username</th>\n",
       "      <th>message</th>\n",
       "    </tr>\n",
       "    <tr>\n",
       "      <th>dt</th>\n",
       "      <th></th>\n",
       "      <th></th>\n",
       "      <th></th>\n",
       "    </tr>\n",
       "  </thead>\n",
       "  <tbody>\n",
       "    <tr>\n",
       "      <th>2020-10-18 12:51:06</th>\n",
       "      <td>tubbo</td>\n",
       "      <td>moomoostake</td>\n",
       "      <td>PogChampPogChampPogChampPogChamp</td>\n",
       "    </tr>\n",
       "    <tr>\n",
       "      <th>2020-10-18 12:51:09</th>\n",
       "      <td>tubbo</td>\n",
       "      <td>loopie123312</td>\n",
       "      <td>mamamama\\</td>\n",
       "    </tr>\n",
       "    <tr>\n",
       "      <th>2020-10-18 12:51:09</th>\n",
       "      <td>tubbo</td>\n",
       "      <td>moomoostake</td>\n",
       "      <td>PogChamp PogChamp PogChamp PogChamp PogChamp P...</td>\n",
       "    </tr>\n",
       "    <tr>\n",
       "      <th>2020-10-18 12:51:09</th>\n",
       "      <td>tubbo</td>\n",
       "      <td>tommyinnitscool</td>\n",
       "      <td>hi</td>\n",
       "    </tr>\n",
       "    <tr>\n",
       "      <th>2020-10-18 12:51:10</th>\n",
       "      <td>tubbo</td>\n",
       "      <td>magedaworldstar</td>\n",
       "      <td>we don’t know tubbo? we know tubby</td>\n",
       "    </tr>\n",
       "    <tr>\n",
       "      <th>...</th>\n",
       "      <td>...</td>\n",
       "      <td>...</td>\n",
       "      <td>...</td>\n",
       "    </tr>\n",
       "    <tr>\n",
       "      <th>2020-10-18 12:58:37</th>\n",
       "      <td>tubbo</td>\n",
       "      <td>imthatstupid</td>\n",
       "      <td>POGG</td>\n",
       "    </tr>\n",
       "    <tr>\n",
       "      <th>2020-10-18 12:58:37</th>\n",
       "      <td>tubbo</td>\n",
       "      <td>bowelblaster1738</td>\n",
       "      <td>sootPopping_SG sootPopping_SG sootPopping_SG s...</td>\n",
       "    </tr>\n",
       "    <tr>\n",
       "      <th>2020-10-18 12:58:37</th>\n",
       "      <td>tubbo</td>\n",
       "      <td>remagamer7</td>\n",
       "      <td>NO TAKE IT</td>\n",
       "    </tr>\n",
       "    <tr>\n",
       "      <th>2020-10-18 12:58:37</th>\n",
       "      <td>tubbo</td>\n",
       "      <td>lyams__</td>\n",
       "      <td>hasto be night</td>\n",
       "    </tr>\n",
       "    <tr>\n",
       "      <th>2020-10-18 12:58:38</th>\n",
       "      <td>tubbo</td>\n",
       "      <td>mizusen</td>\n",
       "      <td>&lt;3&lt;3</td>\n",
       "    </tr>\n",
       "  </tbody>\n",
       "</table>\n",
       "<p>2040 rows × 3 columns</p>\n",
       "</div>"
      ],
      "text/plain": [
       "                    channel          username  \\\n",
       "dt                                              \n",
       "2020-10-18 12:51:06   tubbo       moomoostake   \n",
       "2020-10-18 12:51:09   tubbo      loopie123312   \n",
       "2020-10-18 12:51:09   tubbo       moomoostake   \n",
       "2020-10-18 12:51:09   tubbo   tommyinnitscool   \n",
       "2020-10-18 12:51:10   tubbo   magedaworldstar   \n",
       "...                     ...               ...   \n",
       "2020-10-18 12:58:37   tubbo      imthatstupid   \n",
       "2020-10-18 12:58:37   tubbo  bowelblaster1738   \n",
       "2020-10-18 12:58:37   tubbo        remagamer7   \n",
       "2020-10-18 12:58:37   tubbo           lyams__   \n",
       "2020-10-18 12:58:38   tubbo           mizusen   \n",
       "\n",
       "                                                               message  \n",
       "dt                                                                      \n",
       "2020-10-18 12:51:06                   PogChampPogChampPogChampPogChamp  \n",
       "2020-10-18 12:51:09                                          mamamama\\  \n",
       "2020-10-18 12:51:09  PogChamp PogChamp PogChamp PogChamp PogChamp P...  \n",
       "2020-10-18 12:51:09                                                 hi  \n",
       "2020-10-18 12:51:10                 we don’t know tubbo? we know tubby  \n",
       "...                                                                ...  \n",
       "2020-10-18 12:58:37                                               POGG  \n",
       "2020-10-18 12:58:37  sootPopping_SG sootPopping_SG sootPopping_SG s...  \n",
       "2020-10-18 12:58:37                                         NO TAKE IT  \n",
       "2020-10-18 12:58:37                                     hasto be night  \n",
       "2020-10-18 12:58:38                                               <3<3  \n",
       "\n",
       "[2040 rows x 3 columns]"
      ]
     },
     "execution_count": 20,
     "metadata": {
      "tags": []
     },
     "output_type": "execute_result"
    }
   ],
   "source": [
    "df.set_index('dt', inplace=True)\n",
    "\n",
    "print(df.shape)\n",
    "\n",
    "df"
   ]
  },
  {
   "cell_type": "code",
   "execution_count": null,
   "metadata": {
    "id": "NugpCpOrrYmf"
   },
   "outputs": [],
   "source": [
    "sock.close()"
   ]
  },
  {
   "cell_type": "code",
   "execution_count": null,
   "metadata": {},
   "outputs": [],
   "source": [
    "# Get only the message column as only that is required for the model prediction\n",
    "df2 = df['message'].to_frame() \n",
    "df2 = df2.drop_duplicates() # drop duplicates"
   ]
  },
  {
   "cell_type": "code",
   "execution_count": null,
   "metadata": {
    "id": "giwyeKI-rYmj"
   },
   "outputs": [],
   "source": [
    "game_platform = \"minecraft_twitch\"\n",
    "df2.to_csv('../data/scraped/' + game_platform + '.csv', encoding='utf-8')"
   ]
  },
  {
   "cell_type": "markdown",
   "metadata": {
    "id": "-QrWeLFkwDUr"
   },
   "source": [
    "Next step: Could also see an audience's length of stay in the channel, find out the peaks and throughs of the number of audience, and see what triggers them to leave (whether that's associated with toxic behaviors). "
   ]
  }
 ],
 "metadata": {
  "colab": {
   "collapsed_sections": [],
   "name": "Twitch_Minecraft_Code.ipynb",
   "provenance": []
  },
  "kernelspec": {
   "display_name": "Python 3",
   "language": "python",
   "name": "python3"
  },
  "language_info": {
   "codemirror_mode": {
    "name": "ipython",
    "version": 3
   },
   "file_extension": ".py",
   "mimetype": "text/x-python",
   "name": "python",
   "nbconvert_exporter": "python",
   "pygments_lexer": "ipython3",
   "version": "3.8.3"
  }
 },
 "nbformat": 4,
 "nbformat_minor": 1
}
