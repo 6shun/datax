{
 "cells": [
  {
   "cell_type": "code",
   "execution_count": 25,
   "metadata": {},
   "outputs": [
    {
     "name": "stdout",
     "output_type": "stream",
     "text": [
      "Enter the time in seconds: 30\n",
      "Node has been recovered\n"
     ]
    }
   ],
   "source": [
    "import time \n",
    "\n",
    "def countdown(t): \n",
    "    \n",
    "    while t: \n",
    "        mins, secs = divmod(t, 60) \n",
    "        timer = '{:02d}:{:02d}'.format(mins, secs) \n",
    "        print(timer, end=\"\\r\") \n",
    "        time.sleep(1) \n",
    "        t -= 1\n",
    "      \n",
    "    print('Node has been recovered') \n",
    "  \n",
    "  \n",
    "# input time in seconds \n",
    "t = input(\"Enter the time in seconds: \") \n",
    "  \n",
    "# function call \n",
    "countdown(int(t)) "
   ]
  },
  {
   "cell_type": "code",
   "execution_count": 31,
   "metadata": {},
   "outputs": [
    {
     "name": "stdout",
     "output_type": "stream",
     "text": [
      "a is compromised, one of its neighbors is c\n",
      "Node has been recovered\n"
     ]
    }
   ],
   "source": [
    "network = { \"a\" : [\"c\"],\n",
    "            \"b\" : [\"c\", \"e\"],\n",
    "            \"c\" : [\"a\", \"b\", \"d\", \"e\"],\n",
    "            \"d\" : [\"c\"],\n",
    "            \"e\" : [\"c\", \"b\"]\n",
    "        } \n",
    "\n",
    "#initializaing a compromised node\n",
    "\n",
    "def generate_edges(network):\n",
    "    edges = []\n",
    "\n",
    "    # for each node in graph\n",
    "    for node in graph:\n",
    "\n",
    "        # for each neighbour node of a single node\n",
    "        for neighbour in graph[node]:\n",
    "            # if edge exists then append\n",
    "            edges.append((node, neighbour))\n",
    "    return edges\n",
    "\n",
    "neighbors = generate_edges(network)\n",
    "\n",
    "\n",
    "def attack():\n",
    "    compromised_node = \"a\"\n",
    "    for node in neighbors:\n",
    "        if node[0] == compromised_node:\n",
    "            print(node[0] + \" is compromised, one of its neighbors is \" + node[1])\n",
    "            countdown(30)\n",
    "            \n",
    "    \n",
    "attack()\n",
    "\n"
   ]
  },
  {
   "cell_type": "code",
   "execution_count": 15,
   "metadata": {},
   "outputs": [
    {
     "name": "stdout",
     "output_type": "stream",
     "text": [
      "a\n",
      "b\n",
      "b\n",
      "c\n",
      "c\n",
      "c\n",
      "c\n",
      "d\n",
      "e\n",
      "e\n"
     ]
    }
   ],
   "source": [
    "for i in neighbors:\n",
    "    print (i[0])"
   ]
  },
  {
   "cell_type": "code",
   "execution_count": null,
   "metadata": {},
   "outputs": [],
   "source": []
  }
 ],
 "metadata": {
  "kernelspec": {
   "display_name": "Python 3",
   "language": "python",
   "name": "python3"
  },
  "language_info": {
   "codemirror_mode": {
    "name": "ipython",
    "version": 3
   },
   "file_extension": ".py",
   "mimetype": "text/x-python",
   "name": "python",
   "nbconvert_exporter": "python",
   "pygments_lexer": "ipython3",
   "version": "3.8.6"
  }
 },
 "nbformat": 4,
 "nbformat_minor": 4
}
