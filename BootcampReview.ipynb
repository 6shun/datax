{
 "cells": [
  {
   "cell_type": "code",
   "execution_count": 1,
   "metadata": {
    "deletable": false,
    "editable": false
   },
   "outputs": [],
   "source": [
    "# Initialize Otter Grader\n",
    "import otter\n",
    "grader = otter.Notebook()"
   ]
  },
  {
   "cell_type": "markdown",
   "metadata": {},
   "source": [
    "![data-x](https://raw.githubusercontent.com/afo/data-x-plaksha/master/imgsource/dx_logo.png)"
   ]
  },
  {
   "cell_type": "markdown",
   "metadata": {},
   "source": [
    "___\n",
    "\n",
    "#### NAME: Tianhao Wu\n",
    "\n",
    "#### STUDENT ID: 3032835678\n",
    "___"
   ]
  },
  {
   "cell_type": "markdown",
   "metadata": {},
   "source": [
    "\n",
    "#  HW1: Bootcamp Review \n",
    "\n",
    "<br>"
   ]
  },
  {
   "cell_type": "markdown",
   "metadata": {},
   "source": [
    "Run the following cell to load the required modules."
   ]
  },
  {
   "cell_type": "code",
   "execution_count": 2,
   "metadata": {},
   "outputs": [],
   "source": [
    "## Load the required modules\n",
    "import pandas as pd\n",
    "import numpy as np\n",
    "import matplotlib.pyplot as plt"
   ]
  },
  {
   "cell_type": "markdown",
   "metadata": {},
   "source": [
    "The dataset for this homework is based on https://www.kaggle.com/rush4ratio/video-game-sales-with-ratings. **Please read the Kaggle page for the complete description of the dataset.** We've replaced the column name \"Platform\" with \"Console\" to avoid a conflict due to dummy variables generations (see 3.c)."
   ]
  },
  {
   "cell_type": "markdown",
   "metadata": {},
   "source": [
    "We start by loading the dataset with pandas."
   ]
  },
  {
   "cell_type": "code",
   "execution_count": 3,
   "metadata": {},
   "outputs": [
    {
     "data": {
      "text/html": [
       "<div>\n",
       "<style scoped>\n",
       "    .dataframe tbody tr th:only-of-type {\n",
       "        vertical-align: middle;\n",
       "    }\n",
       "\n",
       "    .dataframe tbody tr th {\n",
       "        vertical-align: top;\n",
       "    }\n",
       "\n",
       "    .dataframe thead th {\n",
       "        text-align: right;\n",
       "    }\n",
       "</style>\n",
       "<table border=\"1\" class=\"dataframe\">\n",
       "  <thead>\n",
       "    <tr style=\"text-align: right;\">\n",
       "      <th></th>\n",
       "      <th>Name</th>\n",
       "      <th>Console</th>\n",
       "      <th>Year_of_Release</th>\n",
       "      <th>Genre</th>\n",
       "      <th>Publisher</th>\n",
       "      <th>NA_Sales</th>\n",
       "      <th>EU_Sales</th>\n",
       "      <th>JP_Sales</th>\n",
       "      <th>Other_Sales</th>\n",
       "      <th>Global_Sales</th>\n",
       "      <th>Critic_Score</th>\n",
       "      <th>Critic_Count</th>\n",
       "      <th>User_Score</th>\n",
       "      <th>User_Count</th>\n",
       "      <th>Developer</th>\n",
       "      <th>Rating</th>\n",
       "    </tr>\n",
       "  </thead>\n",
       "  <tbody>\n",
       "    <tr>\n",
       "      <th>0</th>\n",
       "      <td>Wii Sports</td>\n",
       "      <td>Wii</td>\n",
       "      <td>2006.0</td>\n",
       "      <td>Sports</td>\n",
       "      <td>Nintendo</td>\n",
       "      <td>41.36</td>\n",
       "      <td>28.96</td>\n",
       "      <td>3.77</td>\n",
       "      <td>8.45</td>\n",
       "      <td>82.53</td>\n",
       "      <td>76.0</td>\n",
       "      <td>51.0</td>\n",
       "      <td>8</td>\n",
       "      <td>322.0</td>\n",
       "      <td>Nintendo</td>\n",
       "      <td>E</td>\n",
       "    </tr>\n",
       "    <tr>\n",
       "      <th>1</th>\n",
       "      <td>Super Mario Bros.</td>\n",
       "      <td>NES</td>\n",
       "      <td>1985.0</td>\n",
       "      <td>Platform</td>\n",
       "      <td>Nintendo</td>\n",
       "      <td>29.08</td>\n",
       "      <td>3.58</td>\n",
       "      <td>6.81</td>\n",
       "      <td>0.77</td>\n",
       "      <td>40.24</td>\n",
       "      <td>NaN</td>\n",
       "      <td>NaN</td>\n",
       "      <td>NaN</td>\n",
       "      <td>NaN</td>\n",
       "      <td>NaN</td>\n",
       "      <td>NaN</td>\n",
       "    </tr>\n",
       "    <tr>\n",
       "      <th>2</th>\n",
       "      <td>Mario Kart Wii</td>\n",
       "      <td>Wii</td>\n",
       "      <td>2008.0</td>\n",
       "      <td>Racing</td>\n",
       "      <td>Nintendo</td>\n",
       "      <td>15.68</td>\n",
       "      <td>12.76</td>\n",
       "      <td>3.79</td>\n",
       "      <td>3.29</td>\n",
       "      <td>35.52</td>\n",
       "      <td>82.0</td>\n",
       "      <td>73.0</td>\n",
       "      <td>8.3</td>\n",
       "      <td>709.0</td>\n",
       "      <td>Nintendo</td>\n",
       "      <td>E</td>\n",
       "    </tr>\n",
       "    <tr>\n",
       "      <th>3</th>\n",
       "      <td>Wii Sports Resort</td>\n",
       "      <td>Wii</td>\n",
       "      <td>2009.0</td>\n",
       "      <td>Sports</td>\n",
       "      <td>Nintendo</td>\n",
       "      <td>15.61</td>\n",
       "      <td>10.93</td>\n",
       "      <td>3.28</td>\n",
       "      <td>2.95</td>\n",
       "      <td>32.77</td>\n",
       "      <td>80.0</td>\n",
       "      <td>73.0</td>\n",
       "      <td>8</td>\n",
       "      <td>192.0</td>\n",
       "      <td>Nintendo</td>\n",
       "      <td>E</td>\n",
       "    </tr>\n",
       "    <tr>\n",
       "      <th>4</th>\n",
       "      <td>Pokemon Red/Pokemon Blue</td>\n",
       "      <td>GB</td>\n",
       "      <td>1996.0</td>\n",
       "      <td>Role-Playing</td>\n",
       "      <td>Nintendo</td>\n",
       "      <td>11.27</td>\n",
       "      <td>8.89</td>\n",
       "      <td>10.22</td>\n",
       "      <td>1.00</td>\n",
       "      <td>31.37</td>\n",
       "      <td>NaN</td>\n",
       "      <td>NaN</td>\n",
       "      <td>NaN</td>\n",
       "      <td>NaN</td>\n",
       "      <td>NaN</td>\n",
       "      <td>NaN</td>\n",
       "    </tr>\n",
       "  </tbody>\n",
       "</table>\n",
       "</div>"
      ],
      "text/plain": [
       "                       Name Console  Year_of_Release         Genre Publisher  \\\n",
       "0                Wii Sports     Wii           2006.0        Sports  Nintendo   \n",
       "1         Super Mario Bros.     NES           1985.0      Platform  Nintendo   \n",
       "2            Mario Kart Wii     Wii           2008.0        Racing  Nintendo   \n",
       "3         Wii Sports Resort     Wii           2009.0        Sports  Nintendo   \n",
       "4  Pokemon Red/Pokemon Blue      GB           1996.0  Role-Playing  Nintendo   \n",
       "\n",
       "   NA_Sales  EU_Sales  JP_Sales  Other_Sales  Global_Sales  Critic_Score  \\\n",
       "0     41.36     28.96      3.77         8.45         82.53          76.0   \n",
       "1     29.08      3.58      6.81         0.77         40.24           NaN   \n",
       "2     15.68     12.76      3.79         3.29         35.52          82.0   \n",
       "3     15.61     10.93      3.28         2.95         32.77          80.0   \n",
       "4     11.27      8.89     10.22         1.00         31.37           NaN   \n",
       "\n",
       "   Critic_Count User_Score  User_Count Developer Rating  \n",
       "0          51.0          8       322.0  Nintendo      E  \n",
       "1           NaN        NaN         NaN       NaN    NaN  \n",
       "2          73.0        8.3       709.0  Nintendo      E  \n",
       "3          73.0          8       192.0  Nintendo      E  \n",
       "4           NaN        NaN         NaN       NaN    NaN  "
      ]
     },
     "execution_count": 3,
     "metadata": {},
     "output_type": "execute_result"
    }
   ],
   "source": [
    "## No need for modification, just run this cell\n",
    "df = pd.read_csv(\"HW1_dataset.csv\")\n",
    "df.head(5)"
   ]
  },
  {
   "cell_type": "markdown",
   "metadata": {},
   "source": [
    "<br>\n",
    "\n",
    "## 1. Examining Data Integrity and Data Cleaning\n",
    "\n",
    "<br>"
   ]
  },
  {
   "cell_type": "markdown",
   "metadata": {},
   "source": [
    "### 1.a Data Type Conversion\n",
    "\n",
    "<br>\n",
    "\n",
    "First, we examine the data type of each column. Are there any columns with unexpected data types? (You don't need to write any answers.) "
   ]
  },
  {
   "cell_type": "code",
   "execution_count": 4,
   "metadata": {},
   "outputs": [
    {
     "data": {
      "text/plain": [
       "Name                object\n",
       "Console             object\n",
       "Year_of_Release    float64\n",
       "Genre               object\n",
       "Publisher           object\n",
       "NA_Sales           float64\n",
       "EU_Sales           float64\n",
       "JP_Sales           float64\n",
       "Other_Sales        float64\n",
       "Global_Sales       float64\n",
       "Critic_Score       float64\n",
       "Critic_Count       float64\n",
       "User_Score          object\n",
       "User_Count         float64\n",
       "Developer           object\n",
       "Rating              object\n",
       "dtype: object"
      ]
     },
     "execution_count": 4,
     "metadata": {},
     "output_type": "execute_result"
    }
   ],
   "source": [
    "## No need for modification, just run this cell\n",
    "df.dtypes"
   ]
  },
  {
   "cell_type": "markdown",
   "metadata": {
    "deletable": false,
    "editable": false
   },
   "source": [
    "**1.a.1)** According to the content, \"User_Score\" would be more useful if represented as \"float64\", but its type is \"object\" instead. Try to manually fix this by \n",
    "- Coercing the data type of the \"User_Score\" column to float64.\n",
    "- If there are any entries that can not be converted to numerics (e.g. you might have noticed some entries being \"tbd\", which is why pandas could not convert them into numerics.) interpret them as missing values. \n",
    "\n",
    "**Hint: Select the right option for the \"errors\" argument when converting the values [to numeric](https://pandas.pydata.org/pandas-docs/stable/reference/api/pandas.to_numeric.html#pandas.to_numeric).**\n",
    "\n",
    "*Remeber to store the converted column back to ```df[\"User_Score\"]```.*\n",
    "\n",
    "<!--\n",
    "BEGIN QUESTION\n",
    "name: q1a1\n",
    "manual: false\n",
    "points: 4\n",
    "-->"
   ]
  },
  {
   "cell_type": "code",
   "execution_count": 5,
   "metadata": {},
   "outputs": [],
   "source": [
    "## Your code here\n",
    "df['User_Score'] = pd.to_numeric(df[\"User_Score\"], errors='coerce')"
   ]
  },
  {
   "cell_type": "code",
   "execution_count": 6,
   "metadata": {
    "deletable": false,
    "editable": false
   },
   "outputs": [
    {
     "data": {
      "text/html": [
       "\n",
       "    <p><strong>q1a1</strong> passed!</p>\n",
       "    "
      ],
      "text/plain": [
       "q1a1 passed!"
      ]
     },
     "execution_count": 6,
     "metadata": {},
     "output_type": "execute_result"
    }
   ],
   "source": [
    "grader.check(\"q1a1\")"
   ]
  },
  {
   "cell_type": "markdown",
   "metadata": {
    "deletable": false,
    "editable": false
   },
   "source": [
    "### 1.b Missing Values and Duplicated Entries\n",
    "\n",
    "<br>\n",
    "\n",
    "**1.b.1)** How many [missing values](https://pandas.pydata.org/pandas-docs/stable/reference/api/pandas.DataFrame.isna.html) are there for each column? Store the answer in a pandas Series (name the variable ```s_nacount```) that is \n",
    "- indexed by the column name of the dataset, and\n",
    "- the corresponding value field stores NaN counts\n",
    "\n",
    "<!--\n",
    "BEGIN QUESTION\n",
    "name: q1b1\n",
    "manual: false\n",
    "points: 4\n",
    "-->"
   ]
  },
  {
   "cell_type": "code",
   "execution_count": 7,
   "metadata": {},
   "outputs": [
    {
     "data": {
      "text/plain": [
       "Name                  2\n",
       "Console               0\n",
       "Year_of_Release     269\n",
       "Genre                 2\n",
       "Publisher            54\n",
       "NA_Sales              0\n",
       "EU_Sales              0\n",
       "JP_Sales              0\n",
       "Other_Sales           0\n",
       "Global_Sales          0\n",
       "Critic_Score       8582\n",
       "Critic_Count       8582\n",
       "User_Score         9129\n",
       "User_Count         9129\n",
       "Developer          6623\n",
       "Rating             6769\n",
       "dtype: int64"
      ]
     },
     "execution_count": 7,
     "metadata": {},
     "output_type": "execute_result"
    }
   ],
   "source": [
    "## Your code here\n",
    "s_nacount = df.isna().sum()\n",
    "s_nacount"
   ]
  },
  {
   "cell_type": "code",
   "execution_count": 8,
   "metadata": {
    "deletable": false,
    "editable": false
   },
   "outputs": [
    {
     "data": {
      "text/html": [
       "\n",
       "    <p><strong>q1b1</strong> passed!</p>\n",
       "    "
      ],
      "text/plain": [
       "q1b1 passed!"
      ]
     },
     "execution_count": 8,
     "metadata": {},
     "output_type": "execute_result"
    }
   ],
   "source": [
    "grader.check(\"q1b1\")"
   ]
  },
  {
   "cell_type": "markdown",
   "metadata": {
    "deletable": false,
    "editable": false
   },
   "source": [
    "**1.b.2)** Drop all the rows from df that contain missing values. After the operation, df should contain the same column as before but has no NaN in any entries.\n",
    "\n",
    "<!--\n",
    "BEGIN QUESTION\n",
    "name: q1b2\n",
    "manual: false\n",
    "points: 4\n",
    "-->"
   ]
  },
  {
   "cell_type": "code",
   "execution_count": 9,
   "metadata": {},
   "outputs": [],
   "source": [
    "## Your code here\n",
    "df=df[~df.isnull().any(axis=1)]"
   ]
  },
  {
   "cell_type": "code",
   "execution_count": 10,
   "metadata": {
    "deletable": false,
    "editable": false
   },
   "outputs": [
    {
     "data": {
      "text/html": [
       "\n",
       "    <p><strong>q1b2</strong> passed!</p>\n",
       "    "
      ],
      "text/plain": [
       "q1b2 passed!"
      ]
     },
     "execution_count": 10,
     "metadata": {},
     "output_type": "execute_result"
    }
   ],
   "source": [
    "grader.check(\"q1b2\")"
   ]
  },
  {
   "cell_type": "markdown",
   "metadata": {
    "deletable": false,
    "editable": false
   },
   "source": [
    "**1.b.3)** Find out how many duplicated entries the dataset contains. Store the number of [duplicated entries](https://pandas.pydata.org/pandas-docs/stable/reference/api/pandas.DataFrame.duplicated.html) in the variable ```num_duplicated```. If there are **any duplicated entries, drop them** from the dataframe df.\n",
    "\n",
    "<!--\n",
    "BEGIN QUESTION\n",
    "name: q1b3\n",
    "manual: false\n",
    "points: 4\n",
    "-->"
   ]
  },
  {
   "cell_type": "code",
   "execution_count": 11,
   "metadata": {},
   "outputs": [
    {
     "name": "stdout",
     "output_type": "stream",
     "text": [
      "0\n"
     ]
    }
   ],
   "source": [
    "## Your code here\n",
    "num_duplicated=df.duplicated().sum()\n",
    "print(num_duplicated)"
   ]
  },
  {
   "cell_type": "code",
   "execution_count": 12,
   "metadata": {
    "deletable": false,
    "editable": false
   },
   "outputs": [
    {
     "data": {
      "text/html": [
       "\n",
       "    <p><strong>q1b3</strong> passed!</p>\n",
       "    "
      ],
      "text/plain": [
       "q1b3 passed!"
      ]
     },
     "execution_count": 12,
     "metadata": {},
     "output_type": "execute_result"
    }
   ],
   "source": [
    "grader.check(\"q1b3\")"
   ]
  },
  {
   "cell_type": "markdown",
   "metadata": {
    "deletable": false,
    "editable": false
   },
   "source": [
    "### 1.c Data Sanity Checks\n",
    "\n",
    "<br>\n",
    "\n",
    "**1.c.1)** It is important to check if there are any internal inconsistencies within the dataset. One natural question to ask would be: are \"Global_Sales\" consistent with the regional sales? That is, are the sums of \"NA_Sales\", \"EU_Sales\", \"JP_Sales\", and \"Other_Sales\" equal to \"Global_Sales\" for all entries? Examine this problem by:\n",
    "\n",
    "1. Creating a new column in df named **\"Total_Sales\"** which contains the summation of the columns \"NA_Sales\", \"EU_Sales\", \"JP_Sales\", and \"Other_Sales\".\n",
    "2. Calculating the [absolute](https://pandas.pydata.org/pandas-docs/stable/reference/api/pandas.DataFrame.abs.html) **difference between \"Total_Sales\" and \"Global_Sales\"** for each entry, and report the largest value of the absolute difference.\n",
    "\n",
    "Store the maximal deviation in a new variable named ```maxdeviation```.\n",
    "\n",
    "Is maxdeviation 0? If not, what are the possible reasons? Is the dataset still acceptible despite nonzero deviations? (You don't need to write any answers)\n",
    "\n",
    "<!--\n",
    "BEGIN QUESTION\n",
    "name: q1c1\n",
    "manual: false\n",
    "points: 4\n",
    "-->"
   ]
  },
  {
   "cell_type": "code",
   "execution_count": 13,
   "metadata": {},
   "outputs": [
    {
     "name": "stdout",
     "output_type": "stream",
     "text": [
      "The max deviation between \"Total_Sales\" and \"Global_Sales\" is 0.020000000000000462\n"
     ]
    }
   ],
   "source": [
    "## Your code here\n",
    "# Create new Total_sales column, which is sum of sales column by row.\n",
    "#df.columns\n",
    "df['Total_Sales']=df[['NA_Sales','EU_Sales','JP_Sales','Other_Sales']].sum(axis=1)\n",
    "maxdeviation = (df['Global_Sales']-df['Total_Sales']).abs().max()\n",
    "print(\"The max deviation between \\\"Total_Sales\\\" and \\\"Global_Sales\\\" is\", maxdeviation)"
   ]
  },
  {
   "cell_type": "code",
   "execution_count": 14,
   "metadata": {
    "deletable": false,
    "editable": false
   },
   "outputs": [
    {
     "data": {
      "text/html": [
       "\n",
       "    <p><strong>q1c1</strong> passed!</p>\n",
       "    "
      ],
      "text/plain": [
       "q1c1 passed!"
      ]
     },
     "execution_count": 14,
     "metadata": {},
     "output_type": "execute_result"
    }
   ],
   "source": [
    "grader.check(\"q1c1\")"
   ]
  },
  {
   "cell_type": "markdown",
   "metadata": {
    "deletable": false,
    "editable": false
   },
   "source": [
    "**1.c.2)** Recall that we have removed all duplicated entries from the dataframe, but we still want to make sure there is no subtle web scraping issues such as misspellings that prevent redundant entries from being removed.\n",
    "\n",
    "Does each entry represent one unique game? This question can be divided into two parts.\n",
    "\n",
    "- How many entries (rows) are there in the dataframe now? Store answer (an integer) in a variable named ```len_total```.\n",
    "- How many distinct game names (in the column **\"Name\"**) are there in the dataset? Store the integer result in a variable named ```len_name_unique```.\n",
    "\n",
    "Each entry represents one unique game if and only if the two numbers are equal.\n",
    "\n",
    "<!--\n",
    "BEGIN QUESTION\n",
    "name: q1c2\n",
    "manual: false\n",
    "points: 4\n",
    "-->"
   ]
  },
  {
   "cell_type": "code",
   "execution_count": 15,
   "metadata": {},
   "outputs": [
    {
     "name": "stdout",
     "output_type": "stream",
     "text": [
      "The number of non-duplicative entries is 6825\n",
      "The number of distinct game names is 4377\n",
      "The two numbers are not equal\n"
     ]
    }
   ],
   "source": [
    "## Your code here\n",
    "len_total = df.shape[0]\n",
    "len_name_unique = df['Name'].unique().shape[0]\n",
    "print (\"The number of non-duplicative entries is\", len_total)\n",
    "print (\"The number of distinct game names is\", len_name_unique)\n",
    "print (\"The two numbers are {0}\".format(\"equal\" if len_total==len_name_unique else \"not equal\") )"
   ]
  },
  {
   "cell_type": "code",
   "execution_count": 16,
   "metadata": {
    "deletable": false,
    "editable": false
   },
   "outputs": [
    {
     "data": {
      "text/html": [
       "\n",
       "    <p><strong>q1c2</strong> passed!</p>\n",
       "    "
      ],
      "text/plain": [
       "q1c2 passed!"
      ]
     },
     "execution_count": 16,
     "metadata": {},
     "output_type": "execute_result"
    }
   ],
   "source": [
    "grader.check(\"q1c2\")"
   ]
  },
  {
   "cell_type": "markdown",
   "metadata": {
    "deletable": false,
    "editable": false
   },
   "source": [
    "**1.c.3)** To take a deeper look into the structure of the dataset, \n",
    "1. Create a subset of the DataFrame containing only entries of which the game names appear more than once among all entries.\n",
    "2. [Sort](https://pandas.pydata.org/pandas-docs/stable/reference/api/pandas.DataFrame.sort_values.html) the new DateFrame according to the Name **alphabetically in ascending order**.\n",
    "\n",
    "**Hint:  [pandas.DataFrame.groupby](https://pandas.pydata.org/pandas-docs/stable/reference/api/pandas.DataFrame.groupby.html) and [pandas.core.groupby.DataFrameGroupBy.filter](https://pandas.pydata.org/pandas-docs/stable/reference/api/pandas.core.groupby.DataFrameGroupBy.filter.html) may be useful for the tasks in 1. For concrete illustrations and usages, see [the Data100 Lecture](http://www.ds100.org/fa20/lecture/lec06/).**\n",
    "\n",
    "Store the result into ```df_name_multi_sorted```. This practice is intended to address why there are duplicated game names.\n",
    "\n",
    "<!--\n",
    "BEGIN QUESTION\n",
    "name: q1c3\n",
    "manual: false\n",
    "points: 4\n",
    "-->"
   ]
  },
  {
   "cell_type": "code",
   "execution_count": 17,
   "metadata": {},
   "outputs": [
    {
     "data": {
      "text/html": [
       "<div>\n",
       "<style scoped>\n",
       "    .dataframe tbody tr th:only-of-type {\n",
       "        vertical-align: middle;\n",
       "    }\n",
       "\n",
       "    .dataframe tbody tr th {\n",
       "        vertical-align: top;\n",
       "    }\n",
       "\n",
       "    .dataframe thead th {\n",
       "        text-align: right;\n",
       "    }\n",
       "</style>\n",
       "<table border=\"1\" class=\"dataframe\">\n",
       "  <thead>\n",
       "    <tr style=\"text-align: right;\">\n",
       "      <th></th>\n",
       "      <th>Name</th>\n",
       "      <th>Console</th>\n",
       "      <th>Year_of_Release</th>\n",
       "      <th>Genre</th>\n",
       "      <th>Publisher</th>\n",
       "      <th>NA_Sales</th>\n",
       "      <th>EU_Sales</th>\n",
       "      <th>JP_Sales</th>\n",
       "      <th>Other_Sales</th>\n",
       "      <th>Global_Sales</th>\n",
       "      <th>Critic_Score</th>\n",
       "      <th>Critic_Count</th>\n",
       "      <th>User_Score</th>\n",
       "      <th>User_Count</th>\n",
       "      <th>Developer</th>\n",
       "      <th>Rating</th>\n",
       "      <th>Total_Sales</th>\n",
       "    </tr>\n",
       "  </thead>\n",
       "  <tbody>\n",
       "    <tr>\n",
       "      <th>1285</th>\n",
       "      <td>007: Quantum of Solace</td>\n",
       "      <td>X360</td>\n",
       "      <td>2008.0</td>\n",
       "      <td>Action</td>\n",
       "      <td>Activision</td>\n",
       "      <td>0.82</td>\n",
       "      <td>0.51</td>\n",
       "      <td>0.01</td>\n",
       "      <td>0.14</td>\n",
       "      <td>1.48</td>\n",
       "      <td>65.0</td>\n",
       "      <td>69.0</td>\n",
       "      <td>7.1</td>\n",
       "      <td>71.0</td>\n",
       "      <td>Treyarch</td>\n",
       "      <td>T</td>\n",
       "      <td>1.48</td>\n",
       "    </tr>\n",
       "    <tr>\n",
       "      <th>1785</th>\n",
       "      <td>007: Quantum of Solace</td>\n",
       "      <td>PS3</td>\n",
       "      <td>2008.0</td>\n",
       "      <td>Action</td>\n",
       "      <td>Activision</td>\n",
       "      <td>0.43</td>\n",
       "      <td>0.51</td>\n",
       "      <td>0.02</td>\n",
       "      <td>0.19</td>\n",
       "      <td>1.14</td>\n",
       "      <td>65.0</td>\n",
       "      <td>42.0</td>\n",
       "      <td>6.6</td>\n",
       "      <td>47.0</td>\n",
       "      <td>Treyarch</td>\n",
       "      <td>T</td>\n",
       "      <td>1.15</td>\n",
       "    </tr>\n",
       "    <tr>\n",
       "      <th>3120</th>\n",
       "      <td>007: Quantum of Solace</td>\n",
       "      <td>Wii</td>\n",
       "      <td>2008.0</td>\n",
       "      <td>Action</td>\n",
       "      <td>Activision</td>\n",
       "      <td>0.29</td>\n",
       "      <td>0.28</td>\n",
       "      <td>0.01</td>\n",
       "      <td>0.07</td>\n",
       "      <td>0.65</td>\n",
       "      <td>54.0</td>\n",
       "      <td>11.0</td>\n",
       "      <td>7.5</td>\n",
       "      <td>26.0</td>\n",
       "      <td>Treyarch</td>\n",
       "      <td>T</td>\n",
       "      <td>0.65</td>\n",
       "    </tr>\n",
       "    <tr>\n",
       "      <th>14660</th>\n",
       "      <td>007: Quantum of Solace</td>\n",
       "      <td>PC</td>\n",
       "      <td>2008.0</td>\n",
       "      <td>Action</td>\n",
       "      <td>Activision</td>\n",
       "      <td>0.01</td>\n",
       "      <td>0.01</td>\n",
       "      <td>0.00</td>\n",
       "      <td>0.00</td>\n",
       "      <td>0.03</td>\n",
       "      <td>70.0</td>\n",
       "      <td>18.0</td>\n",
       "      <td>6.3</td>\n",
       "      <td>55.0</td>\n",
       "      <td>Treyarch</td>\n",
       "      <td>T</td>\n",
       "      <td>0.02</td>\n",
       "    </tr>\n",
       "    <tr>\n",
       "      <th>4805</th>\n",
       "      <td>18 Wheeler: American Pro Trucker</td>\n",
       "      <td>PS2</td>\n",
       "      <td>2001.0</td>\n",
       "      <td>Racing</td>\n",
       "      <td>Acclaim Entertainment</td>\n",
       "      <td>0.20</td>\n",
       "      <td>0.15</td>\n",
       "      <td>0.00</td>\n",
       "      <td>0.05</td>\n",
       "      <td>0.40</td>\n",
       "      <td>61.0</td>\n",
       "      <td>11.0</td>\n",
       "      <td>5.7</td>\n",
       "      <td>18.0</td>\n",
       "      <td>Acclaim Studios Cheltenham</td>\n",
       "      <td>E</td>\n",
       "      <td>0.40</td>\n",
       "    </tr>\n",
       "  </tbody>\n",
       "</table>\n",
       "</div>"
      ],
      "text/plain": [
       "                                   Name Console  Year_of_Release   Genre  \\\n",
       "1285             007: Quantum of Solace    X360           2008.0  Action   \n",
       "1785             007: Quantum of Solace     PS3           2008.0  Action   \n",
       "3120             007: Quantum of Solace     Wii           2008.0  Action   \n",
       "14660            007: Quantum of Solace      PC           2008.0  Action   \n",
       "4805   18 Wheeler: American Pro Trucker     PS2           2001.0  Racing   \n",
       "\n",
       "                   Publisher  NA_Sales  EU_Sales  JP_Sales  Other_Sales  \\\n",
       "1285              Activision      0.82      0.51      0.01         0.14   \n",
       "1785              Activision      0.43      0.51      0.02         0.19   \n",
       "3120              Activision      0.29      0.28      0.01         0.07   \n",
       "14660             Activision      0.01      0.01      0.00         0.00   \n",
       "4805   Acclaim Entertainment      0.20      0.15      0.00         0.05   \n",
       "\n",
       "       Global_Sales  Critic_Score  Critic_Count  User_Score  User_Count  \\\n",
       "1285           1.48          65.0          69.0         7.1        71.0   \n",
       "1785           1.14          65.0          42.0         6.6        47.0   \n",
       "3120           0.65          54.0          11.0         7.5        26.0   \n",
       "14660          0.03          70.0          18.0         6.3        55.0   \n",
       "4805           0.40          61.0          11.0         5.7        18.0   \n",
       "\n",
       "                        Developer Rating  Total_Sales  \n",
       "1285                     Treyarch      T         1.48  \n",
       "1785                     Treyarch      T         1.15  \n",
       "3120                     Treyarch      T         0.65  \n",
       "14660                    Treyarch      T         0.02  \n",
       "4805   Acclaim Studios Cheltenham      E         0.40  "
      ]
     },
     "execution_count": 17,
     "metadata": {},
     "output_type": "execute_result"
    }
   ],
   "source": [
    "## Your code here\n",
    "df_name_multi_sorted=df.groupby('Name').filter(lambda x: len(x) > 1).sort_values(by='Name', ascending=True)\n",
    "df_name_multi_sorted.head(5)"
   ]
  },
  {
   "cell_type": "code",
   "execution_count": 18,
   "metadata": {
    "deletable": false,
    "editable": false
   },
   "outputs": [
    {
     "data": {
      "text/html": [
       "\n",
       "    <p><strong>q1c3</strong> passed!</p>\n",
       "    "
      ],
      "text/plain": [
       "q1c3 passed!"
      ]
     },
     "execution_count": 18,
     "metadata": {},
     "output_type": "execute_result"
    }
   ],
   "source": [
    "grader.check(\"q1c3\")"
   ]
  },
  {
   "cell_type": "markdown",
   "metadata": {},
   "source": [
    "**<font color='blue'>Important: Before proceeding to the following sections, please make sure you have passed the tests for problems in 1.b. This will ensure df is ready for the following analyses.</font>**"
   ]
  },
  {
   "cell_type": "markdown",
   "metadata": {},
   "source": [
    "## 2. Exploring the data\n",
    "\n",
    "<br>"
   ]
  },
  {
   "cell_type": "markdown",
   "metadata": {
    "deletable": false,
    "editable": false
   },
   "source": [
    "**2.1)** Observe the histogram of the global sales plotted below and try to reproduce it. Specs of the plot:\n",
    "\n",
    "  >1. plot title: 'Histogram of Global Sales'\n",
    "  >2. x-label: 'Global Sales (in millions of unit)'\n",
    "  >3. y-label: 'Count'\n",
    "  >4. bins=np.arange(0, 10, 0.5)\n",
    "\n",
    "<img src=\"./Histogram of Global Sales.png\">\n",
    "\n",
    "<!--\n",
    "BEGIN QUESTION\n",
    "name: q21\n",
    "manual: false\n",
    "points: 0\n",
    "-->\n"
   ]
  },
  {
   "cell_type": "code",
   "execution_count": 19,
   "metadata": {},
   "outputs": [
    {
     "data": {
      "text/plain": [
       "Text(0, 0.5, 'Count')"
      ]
     },
     "execution_count": 19,
     "metadata": {},
     "output_type": "execute_result"
    },
    {
     "data": {
      "image/png": "[encoded data removed]",
      "text/plain": [
       "<Figure size 432x288 with 1 Axes>"
      ]
     },
     "metadata": {
      "needs_background": "light"
     },
     "output_type": "display_data"
    }
   ],
   "source": [
    "## your code here\n",
    "plt.hist(df['Global_Sales'],bins=np.arange(0, 10, 0.5))\n",
    "plt.title('Histogram of Global Sales')\n",
    "plt.xlabel('Global Sales (in millions of unit)')\n",
    "plt.ylabel('Count')"
   ]
  },
  {
   "cell_type": "markdown",
   "metadata": {},
   "source": [
    "**Note: The question above does not have any points. Just make sure you know how to plot a histogram using either matplotlib or pandas.**"
   ]
  },
  {
   "cell_type": "markdown",
   "metadata": {
    "deletable": false,
    "editable": false
   },
   "source": [
    "**2.2)** What are the average \"Global_Sales\", \"Critic_Score\", and \"User_Score\" for each Genre of games?\n",
    "\n",
    "1. Create a new the DataFrame **indexed by \"Genre\"** containing **columns \"Global_Sales\", \"Critic_Score\", and \"User_Score\"** which specifies the [mean](https://numpy.org/doc/stable/reference/generated/numpy.mean.html) over all rows of the corresponding genre in df. \n",
    "2. [Sort](https://pandas.pydata.org/pandas-docs/stable/reference/api/pandas.DataFrame.sort_values.html) the new DateFrame according using the **average Global_Sales in descending order**.\n",
    "\n",
    "**Hint: [pandas.DataFrame.groupby](https://pandas.pydata.org/pandas-docs/stable/reference/api/pandas.DataFrame.groupby.html) and [pandas.core.groupby.DataFrameGroupBy.agg](https://pandas.pydata.org/pandas-docs/stable/reference/api/pandas.core.groupby.DataFrameGroupBy.aggregate.html) or [GroupBy.mean](https://pandas.pydata.org/pandas-docs/stable/reference/api/pandas.core.groupby.GroupBy.mean.html) may be useful for the tasks in 1.**\n",
    "\n",
    "Store the results in a new DataFrame named ```df_mean_genre```.\n",
    "\n",
    "<!--\n",
    "BEGIN QUESTION\n",
    "name: q22\n",
    "manual: false\n",
    "points: 4\n",
    "-->"
   ]
  },
  {
   "cell_type": "code",
   "execution_count": 20,
   "metadata": {},
   "outputs": [
    {
     "data": {
      "text/html": [
       "<div>\n",
       "<style scoped>\n",
       "    .dataframe tbody tr th:only-of-type {\n",
       "        vertical-align: middle;\n",
       "    }\n",
       "\n",
       "    .dataframe tbody tr th {\n",
       "        vertical-align: top;\n",
       "    }\n",
       "\n",
       "    .dataframe thead th {\n",
       "        text-align: right;\n",
       "    }\n",
       "</style>\n",
       "<table border=\"1\" class=\"dataframe\">\n",
       "  <thead>\n",
       "    <tr style=\"text-align: right;\">\n",
       "      <th></th>\n",
       "      <th>Global_Sales</th>\n",
       "      <th>Critic_Score</th>\n",
       "      <th>User_Score</th>\n",
       "    </tr>\n",
       "    <tr>\n",
       "      <th>Genre</th>\n",
       "      <th></th>\n",
       "      <th></th>\n",
       "      <th></th>\n",
       "    </tr>\n",
       "  </thead>\n",
       "  <tbody>\n",
       "    <tr>\n",
       "      <th>Misc</th>\n",
       "      <td>1.084010</td>\n",
       "      <td>67.460938</td>\n",
       "      <td>6.849740</td>\n",
       "    </tr>\n",
       "    <tr>\n",
       "      <th>Shooter</th>\n",
       "      <td>0.945000</td>\n",
       "      <td>70.981481</td>\n",
       "      <td>7.086458</td>\n",
       "    </tr>\n",
       "    <tr>\n",
       "      <th>Platform</th>\n",
       "      <td>0.937469</td>\n",
       "      <td>70.000000</td>\n",
       "      <td>7.377171</td>\n",
       "    </tr>\n",
       "    <tr>\n",
       "      <th>Sports</th>\n",
       "      <td>0.884252</td>\n",
       "      <td>74.170732</td>\n",
       "      <td>7.110817</td>\n",
       "    </tr>\n",
       "    <tr>\n",
       "      <th>Racing</th>\n",
       "      <td>0.819656</td>\n",
       "      <td>69.543890</td>\n",
       "      <td>7.104303</td>\n",
       "    </tr>\n",
       "    <tr>\n",
       "      <th>Action</th>\n",
       "      <td>0.738135</td>\n",
       "      <td>67.828834</td>\n",
       "      <td>7.095828</td>\n",
       "    </tr>\n",
       "    <tr>\n",
       "      <th>Role-Playing</th>\n",
       "      <td>0.704171</td>\n",
       "      <td>72.820225</td>\n",
       "      <td>7.618539</td>\n",
       "    </tr>\n",
       "    <tr>\n",
       "      <th>Simulation</th>\n",
       "      <td>0.682492</td>\n",
       "      <td>69.969697</td>\n",
       "      <td>7.196633</td>\n",
       "    </tr>\n",
       "    <tr>\n",
       "      <th>Puzzle</th>\n",
       "      <td>0.668644</td>\n",
       "      <td>70.694915</td>\n",
       "      <td>7.250847</td>\n",
       "    </tr>\n",
       "    <tr>\n",
       "      <th>Fighting</th>\n",
       "      <td>0.661243</td>\n",
       "      <td>69.732804</td>\n",
       "      <td>7.301852</td>\n",
       "    </tr>\n",
       "    <tr>\n",
       "      <th>Adventure</th>\n",
       "      <td>0.325605</td>\n",
       "      <td>66.133065</td>\n",
       "      <td>7.160887</td>\n",
       "    </tr>\n",
       "    <tr>\n",
       "      <th>Strategy</th>\n",
       "      <td>0.260712</td>\n",
       "      <td>73.123596</td>\n",
       "      <td>7.352809</td>\n",
       "    </tr>\n",
       "  </tbody>\n",
       "</table>\n",
       "</div>"
      ],
      "text/plain": [
       "              Global_Sales  Critic_Score  User_Score\n",
       "Genre                                               \n",
       "Misc              1.084010     67.460938    6.849740\n",
       "Shooter           0.945000     70.981481    7.086458\n",
       "Platform          0.937469     70.000000    7.377171\n",
       "Sports            0.884252     74.170732    7.110817\n",
       "Racing            0.819656     69.543890    7.104303\n",
       "Action            0.738135     67.828834    7.095828\n",
       "Role-Playing      0.704171     72.820225    7.618539\n",
       "Simulation        0.682492     69.969697    7.196633\n",
       "Puzzle            0.668644     70.694915    7.250847\n",
       "Fighting          0.661243     69.732804    7.301852\n",
       "Adventure         0.325605     66.133065    7.160887\n",
       "Strategy          0.260712     73.123596    7.352809"
      ]
     },
     "execution_count": 20,
     "metadata": {},
     "output_type": "execute_result"
    }
   ],
   "source": [
    "## Your code here\n",
    "df_mean_genre = df.groupby('Genre').mean()[[\"Global_Sales\", \"Critic_Score\",\"User_Score\"]]\\\n",
    ".sort_values(by='Global_Sales',ascending=False)\n",
    "df_mean_genre"
   ]
  },
  {
   "cell_type": "code",
   "execution_count": 21,
   "metadata": {
    "deletable": false,
    "editable": false
   },
   "outputs": [
    {
     "data": {
      "text/html": [
       "\n",
       "    <p><strong>q22</strong> passed!</p>\n",
       "    "
      ],
      "text/plain": [
       "q22 passed!"
      ]
     },
     "execution_count": 21,
     "metadata": {},
     "output_type": "execute_result"
    }
   ],
   "source": [
    "grader.check(\"q22\")"
   ]
  },
  {
   "cell_type": "markdown",
   "metadata": {
    "deletable": false,
    "editable": false
   },
   "source": [
    "**2.3)** The aggregate global sales corresponding to different consoles are plotted on a horizontal bar chart below. Try to reproduce this plot. Specs of plot:\n",
    "\n",
    "  >1. No title\n",
    "  >2. x-label: 'Aggregate Global Sales (in millions of units)'\n",
    "  >3. y-labels are the sroted Console names based on the aggregate global sales (the largest at top)\n",
    "\n",
    "<img src=\"./Horizontal Bar Chart of Aggregate Global Sales.png\">\n",
    "\n",
    "<!--\n",
    "BEGIN QUESTION\n",
    "name: q23\n",
    "manual: false\n",
    "points: 0\n",
    "-->"
   ]
  },
  {
   "cell_type": "code",
   "execution_count": 22,
   "metadata": {},
   "outputs": [
    {
     "data": {
      "text/plain": [
       "Text(0.5, 0, 'Aggregate Global Sales (in millions of units)')"
      ]
     },
     "execution_count": 22,
     "metadata": {},
     "output_type": "execute_result"
    },
    {
     "data": {
      "image/png": "[encoded data removed]",
      "text/plain": [
       "<Figure size 432x288 with 1 Axes>"
      ]
     },
     "metadata": {
      "needs_background": "light"
     },
     "output_type": "display_data"
    }
   ],
   "source": [
    "## your code here\n",
    "df_bar=df.groupby('Console').aggregate('sum')['Global_Sales'].sort_values(ascending=True)\n",
    "plt.barh(df_bar.index,df_bar)\n",
    "plt.xlabel('Aggregate Global Sales (in millions of units)')"
   ]
  },
  {
   "cell_type": "markdown",
   "metadata": {},
   "source": [
    "**Note: The question above does not have any points. Just make sure you know how to plot a bar chart using either matplotlib or pandas.**"
   ]
  },
  {
   "cell_type": "markdown",
   "metadata": {
    "deletable": false,
    "editable": false
   },
   "source": [
    "**2.4)** Another great way of visulizing the distributed summaries is through the [pivot table](https://pandas.pydata.org/pandas-docs/stable/reference/api/pandas.pivot_table.html).\n",
    "\n",
    "Create a pivot table from df with the following specs:\n",
    "1. The pivot table is indexed by **\"Console\"**, i.e. each row corresponds to one unique game console (PC, PS2, X360, etc.).\n",
    "2. The pivot table has column names corresponding to each unique **genre** (Action, Adventure, etc.).\n",
    "3. Each cell in the pivot table contains the **sum of the \"Global_Sales\"** over all rows in df with the corresonding console and genre.\n",
    "\n",
    "<!--\n",
    "BEGIN QUESTION\n",
    "name: q24\n",
    "manual: false\n",
    "points: 4\n",
    "-->"
   ]
  },
  {
   "cell_type": "code",
   "execution_count": 23,
   "metadata": {},
   "outputs": [
    {
     "data": {
      "text/html": [
       "<div>\n",
       "<style scoped>\n",
       "    .dataframe tbody tr th:only-of-type {\n",
       "        vertical-align: middle;\n",
       "    }\n",
       "\n",
       "    .dataframe tbody tr th {\n",
       "        vertical-align: top;\n",
       "    }\n",
       "\n",
       "    .dataframe thead tr th {\n",
       "        text-align: left;\n",
       "    }\n",
       "\n",
       "    .dataframe thead tr:last-of-type th {\n",
       "        text-align: right;\n",
       "    }\n",
       "</style>\n",
       "<table border=\"1\" class=\"dataframe\">\n",
       "  <thead>\n",
       "    <tr>\n",
       "      <th></th>\n",
       "      <th colspan=\"12\" halign=\"left\">Global_Sales</th>\n",
       "    </tr>\n",
       "    <tr>\n",
       "      <th>Genre</th>\n",
       "      <th>Action</th>\n",
       "      <th>Adventure</th>\n",
       "      <th>Fighting</th>\n",
       "      <th>Misc</th>\n",
       "      <th>Platform</th>\n",
       "      <th>Puzzle</th>\n",
       "      <th>Racing</th>\n",
       "      <th>Role-Playing</th>\n",
       "      <th>Shooter</th>\n",
       "      <th>Simulation</th>\n",
       "      <th>Sports</th>\n",
       "      <th>Strategy</th>\n",
       "    </tr>\n",
       "    <tr>\n",
       "      <th>Console</th>\n",
       "      <th></th>\n",
       "      <th></th>\n",
       "      <th></th>\n",
       "      <th></th>\n",
       "      <th></th>\n",
       "      <th></th>\n",
       "      <th></th>\n",
       "      <th></th>\n",
       "      <th></th>\n",
       "      <th></th>\n",
       "      <th></th>\n",
       "      <th></th>\n",
       "    </tr>\n",
       "  </thead>\n",
       "  <tbody>\n",
       "    <tr>\n",
       "      <th>3DS</th>\n",
       "      <td>30.81</td>\n",
       "      <td>2.00</td>\n",
       "      <td>2.63</td>\n",
       "      <td>4.48</td>\n",
       "      <td>27.61</td>\n",
       "      <td>2.63</td>\n",
       "      <td>13.89</td>\n",
       "      <td>18.94</td>\n",
       "      <td>1.02</td>\n",
       "      <td>16.08</td>\n",
       "      <td>2.20</td>\n",
       "      <td>0.94</td>\n",
       "    </tr>\n",
       "    <tr>\n",
       "      <th>DC</th>\n",
       "      <td>NaN</td>\n",
       "      <td>1.33</td>\n",
       "      <td>0.56</td>\n",
       "      <td>NaN</td>\n",
       "      <td>0.12</td>\n",
       "      <td>NaN</td>\n",
       "      <td>0.20</td>\n",
       "      <td>0.68</td>\n",
       "      <td>0.05</td>\n",
       "      <td>0.52</td>\n",
       "      <td>1.09</td>\n",
       "      <td>NaN</td>\n",
       "    </tr>\n",
       "    <tr>\n",
       "      <th>DS</th>\n",
       "      <td>42.43</td>\n",
       "      <td>8.83</td>\n",
       "      <td>3.37</td>\n",
       "      <td>68.82</td>\n",
       "      <td>55.02</td>\n",
       "      <td>50.50</td>\n",
       "      <td>29.93</td>\n",
       "      <td>60.31</td>\n",
       "      <td>6.40</td>\n",
       "      <td>42.71</td>\n",
       "      <td>6.01</td>\n",
       "      <td>8.00</td>\n",
       "    </tr>\n",
       "    <tr>\n",
       "      <th>GBA</th>\n",
       "      <td>23.21</td>\n",
       "      <td>4.54</td>\n",
       "      <td>3.28</td>\n",
       "      <td>8.59</td>\n",
       "      <td>40.36</td>\n",
       "      <td>5.47</td>\n",
       "      <td>12.60</td>\n",
       "      <td>21.00</td>\n",
       "      <td>1.40</td>\n",
       "      <td>2.03</td>\n",
       "      <td>5.93</td>\n",
       "      <td>3.34</td>\n",
       "    </tr>\n",
       "    <tr>\n",
       "      <th>GC</th>\n",
       "      <td>29.99</td>\n",
       "      <td>4.56</td>\n",
       "      <td>15.81</td>\n",
       "      <td>12.72</td>\n",
       "      <td>24.67</td>\n",
       "      <td>3.31</td>\n",
       "      <td>11.09</td>\n",
       "      <td>12.48</td>\n",
       "      <td>13.04</td>\n",
       "      <td>8.39</td>\n",
       "      <td>19.91</td>\n",
       "      <td>3.45</td>\n",
       "    </tr>\n",
       "    <tr>\n",
       "      <th>PC</th>\n",
       "      <td>25.45</td>\n",
       "      <td>1.42</td>\n",
       "      <td>0.13</td>\n",
       "      <td>3.02</td>\n",
       "      <td>0.46</td>\n",
       "      <td>0.19</td>\n",
       "      <td>3.18</td>\n",
       "      <td>44.68</td>\n",
       "      <td>36.34</td>\n",
       "      <td>40.34</td>\n",
       "      <td>6.54</td>\n",
       "      <td>25.37</td>\n",
       "    </tr>\n",
       "    <tr>\n",
       "      <th>PS</th>\n",
       "      <td>54.93</td>\n",
       "      <td>1.10</td>\n",
       "      <td>18.91</td>\n",
       "      <td>5.66</td>\n",
       "      <td>18.92</td>\n",
       "      <td>0.26</td>\n",
       "      <td>34.17</td>\n",
       "      <td>44.07</td>\n",
       "      <td>5.86</td>\n",
       "      <td>1.67</td>\n",
       "      <td>20.75</td>\n",
       "      <td>0.25</td>\n",
       "    </tr>\n",
       "    <tr>\n",
       "      <th>PS2</th>\n",
       "      <td>238.73</td>\n",
       "      <td>10.74</td>\n",
       "      <td>64.72</td>\n",
       "      <td>38.70</td>\n",
       "      <td>52.34</td>\n",
       "      <td>3.97</td>\n",
       "      <td>127.17</td>\n",
       "      <td>77.30</td>\n",
       "      <td>98.20</td>\n",
       "      <td>34.01</td>\n",
       "      <td>191.88</td>\n",
       "      <td>8.21</td>\n",
       "    </tr>\n",
       "    <tr>\n",
       "      <th>PS3</th>\n",
       "      <td>262.38</td>\n",
       "      <td>16.18</td>\n",
       "      <td>47.83</td>\n",
       "      <td>26.59</td>\n",
       "      <td>20.91</td>\n",
       "      <td>0.40</td>\n",
       "      <td>62.17</td>\n",
       "      <td>64.00</td>\n",
       "      <td>174.54</td>\n",
       "      <td>7.91</td>\n",
       "      <td>98.20</td>\n",
       "      <td>3.19</td>\n",
       "    </tr>\n",
       "    <tr>\n",
       "      <th>PS4</th>\n",
       "      <td>76.92</td>\n",
       "      <td>3.09</td>\n",
       "      <td>6.86</td>\n",
       "      <td>2.70</td>\n",
       "      <td>6.16</td>\n",
       "      <td>0.03</td>\n",
       "      <td>9.08</td>\n",
       "      <td>18.18</td>\n",
       "      <td>63.67</td>\n",
       "      <td>0.72</td>\n",
       "      <td>55.16</td>\n",
       "      <td>0.46</td>\n",
       "    </tr>\n",
       "    <tr>\n",
       "      <th>PSP</th>\n",
       "      <td>43.92</td>\n",
       "      <td>2.81</td>\n",
       "      <td>12.36</td>\n",
       "      <td>5.09</td>\n",
       "      <td>10.84</td>\n",
       "      <td>2.04</td>\n",
       "      <td>27.88</td>\n",
       "      <td>31.11</td>\n",
       "      <td>18.52</td>\n",
       "      <td>4.61</td>\n",
       "      <td>25.34</td>\n",
       "      <td>3.40</td>\n",
       "    </tr>\n",
       "    <tr>\n",
       "      <th>PSV</th>\n",
       "      <td>9.53</td>\n",
       "      <td>1.28</td>\n",
       "      <td>1.91</td>\n",
       "      <td>1.81</td>\n",
       "      <td>2.49</td>\n",
       "      <td>0.12</td>\n",
       "      <td>1.00</td>\n",
       "      <td>7.02</td>\n",
       "      <td>3.88</td>\n",
       "      <td>NaN</td>\n",
       "      <td>1.84</td>\n",
       "      <td>NaN</td>\n",
       "    </tr>\n",
       "    <tr>\n",
       "      <th>Wii</th>\n",
       "      <td>75.75</td>\n",
       "      <td>7.72</td>\n",
       "      <td>21.89</td>\n",
       "      <td>149.42</td>\n",
       "      <td>78.25</td>\n",
       "      <td>8.22</td>\n",
       "      <td>48.35</td>\n",
       "      <td>11.01</td>\n",
       "      <td>19.20</td>\n",
       "      <td>23.88</td>\n",
       "      <td>213.53</td>\n",
       "      <td>1.76</td>\n",
       "    </tr>\n",
       "    <tr>\n",
       "      <th>WiiU</th>\n",
       "      <td>13.61</td>\n",
       "      <td>0.08</td>\n",
       "      <td>1.22</td>\n",
       "      <td>10.93</td>\n",
       "      <td>21.33</td>\n",
       "      <td>1.30</td>\n",
       "      <td>7.09</td>\n",
       "      <td>1.26</td>\n",
       "      <td>5.56</td>\n",
       "      <td>0.20</td>\n",
       "      <td>2.39</td>\n",
       "      <td>1.11</td>\n",
       "    </tr>\n",
       "    <tr>\n",
       "      <th>X360</th>\n",
       "      <td>209.90</td>\n",
       "      <td>11.52</td>\n",
       "      <td>35.30</td>\n",
       "      <td>70.09</td>\n",
       "      <td>10.26</td>\n",
       "      <td>0.36</td>\n",
       "      <td>56.14</td>\n",
       "      <td>68.62</td>\n",
       "      <td>260.35</td>\n",
       "      <td>13.02</td>\n",
       "      <td>109.74</td>\n",
       "      <td>8.00</td>\n",
       "    </tr>\n",
       "    <tr>\n",
       "      <th>XB</th>\n",
       "      <td>36.53</td>\n",
       "      <td>1.98</td>\n",
       "      <td>10.92</td>\n",
       "      <td>3.56</td>\n",
       "      <td>7.44</td>\n",
       "      <td>0.10</td>\n",
       "      <td>23.44</td>\n",
       "      <td>12.50</td>\n",
       "      <td>60.33</td>\n",
       "      <td>6.60</td>\n",
       "      <td>46.75</td>\n",
       "      <td>1.92</td>\n",
       "    </tr>\n",
       "    <tr>\n",
       "      <th>XOne</th>\n",
       "      <td>29.07</td>\n",
       "      <td>1.57</td>\n",
       "      <td>2.25</td>\n",
       "      <td>4.08</td>\n",
       "      <td>0.62</td>\n",
       "      <td>NaN</td>\n",
       "      <td>8.84</td>\n",
       "      <td>8.21</td>\n",
       "      <td>48.12</td>\n",
       "      <td>0.01</td>\n",
       "      <td>26.59</td>\n",
       "      <td>0.21</td>\n",
       "    </tr>\n",
       "  </tbody>\n",
       "</table>\n",
       "</div>"
      ],
      "text/plain": [
       "        Global_Sales                                                     \\\n",
       "Genre         Action Adventure Fighting    Misc Platform Puzzle  Racing   \n",
       "Console                                                                   \n",
       "3DS            30.81      2.00     2.63    4.48    27.61   2.63   13.89   \n",
       "DC               NaN      1.33     0.56     NaN     0.12    NaN    0.20   \n",
       "DS             42.43      8.83     3.37   68.82    55.02  50.50   29.93   \n",
       "GBA            23.21      4.54     3.28    8.59    40.36   5.47   12.60   \n",
       "GC             29.99      4.56    15.81   12.72    24.67   3.31   11.09   \n",
       "PC             25.45      1.42     0.13    3.02     0.46   0.19    3.18   \n",
       "PS             54.93      1.10    18.91    5.66    18.92   0.26   34.17   \n",
       "PS2           238.73     10.74    64.72   38.70    52.34   3.97  127.17   \n",
       "PS3           262.38     16.18    47.83   26.59    20.91   0.40   62.17   \n",
       "PS4            76.92      3.09     6.86    2.70     6.16   0.03    9.08   \n",
       "PSP            43.92      2.81    12.36    5.09    10.84   2.04   27.88   \n",
       "PSV             9.53      1.28     1.91    1.81     2.49   0.12    1.00   \n",
       "Wii            75.75      7.72    21.89  149.42    78.25   8.22   48.35   \n",
       "WiiU           13.61      0.08     1.22   10.93    21.33   1.30    7.09   \n",
       "X360          209.90     11.52    35.30   70.09    10.26   0.36   56.14   \n",
       "XB             36.53      1.98    10.92    3.56     7.44   0.10   23.44   \n",
       "XOne           29.07      1.57     2.25    4.08     0.62    NaN    8.84   \n",
       "\n",
       "                                                          \n",
       "Genre   Role-Playing Shooter Simulation  Sports Strategy  \n",
       "Console                                                   \n",
       "3DS            18.94    1.02      16.08    2.20     0.94  \n",
       "DC              0.68    0.05       0.52    1.09      NaN  \n",
       "DS             60.31    6.40      42.71    6.01     8.00  \n",
       "GBA            21.00    1.40       2.03    5.93     3.34  \n",
       "GC             12.48   13.04       8.39   19.91     3.45  \n",
       "PC             44.68   36.34      40.34    6.54    25.37  \n",
       "PS             44.07    5.86       1.67   20.75     0.25  \n",
       "PS2            77.30   98.20      34.01  191.88     8.21  \n",
       "PS3            64.00  174.54       7.91   98.20     3.19  \n",
       "PS4            18.18   63.67       0.72   55.16     0.46  \n",
       "PSP            31.11   18.52       4.61   25.34     3.40  \n",
       "PSV             7.02    3.88        NaN    1.84      NaN  \n",
       "Wii            11.01   19.20      23.88  213.53     1.76  \n",
       "WiiU            1.26    5.56       0.20    2.39     1.11  \n",
       "X360           68.62  260.35      13.02  109.74     8.00  \n",
       "XB             12.50   60.33       6.60   46.75     1.92  \n",
       "XOne            8.21   48.12       0.01   26.59     0.21  "
      ]
     },
     "execution_count": 23,
     "metadata": {},
     "output_type": "execute_result"
    }
   ],
   "source": [
    "## Your code here\n",
    "pivot_GlobalSales = pd.pivot_table(df[['Console','Genre','Global_Sales']],index='Console',columns='Genre',aggfunc='sum')\n",
    "pivot_GlobalSales"
   ]
  },
  {
   "cell_type": "code",
   "execution_count": 24,
   "metadata": {
    "deletable": false,
    "editable": false
   },
   "outputs": [
    {
     "data": {
      "text/html": [
       "\n",
       "    <p><strong>q24</strong> passed!</p>\n",
       "    "
      ],
      "text/plain": [
       "q24 passed!"
      ]
     },
     "execution_count": 24,
     "metadata": {},
     "output_type": "execute_result"
    }
   ],
   "source": [
    "grader.check(\"q24\")"
   ]
  },
  {
   "cell_type": "markdown",
   "metadata": {},
   "source": [
    "## 3. Linear Regression\n",
    "\n",
    "<br>"
   ]
  },
  {
   "cell_type": "markdown",
   "metadata": {},
   "source": [
    "In this part, you will use linear regression to build a model for **predicting a game's global sales** using different sets of features. \n",
    "\n",
    "*Note: For this part, you are not allowed to use scikit-learn tools.*"
   ]
  },
  {
   "cell_type": "markdown",
   "metadata": {},
   "source": [
    "### 3.a Using Only One Feature\n",
    "\n",
    "<br>"
   ]
  },
  {
   "cell_type": "markdown",
   "metadata": {
    "deletable": false,
    "editable": false
   },
   "source": [
    "**3.a.1)** In linear regression, the goal is to find the \"best\" linear model that fits the data. Assume that we only want to use **\"Critic_Score\"** to predict the global sales. \n",
    "\n",
    "The input `x` (critic scores) and the output `y` (global sales) are given to you below. Follow the simple linear regression procedure in these [slides](https://datax.berkeley.edu/wp-content/uploads/2020/09/slides-m100-linear-regression.pdf) and find the slope ```m``` and the intercept ```y_0```.\n",
    "\n",
    "\n",
    "<!--\n",
    "BEGIN QUESTION\n",
    "name: q3a1\n",
    "manual: false\n",
    "points: 4\n",
    "-->"
   ]
  },
  {
   "cell_type": "code",
   "execution_count": 25,
   "metadata": {},
   "outputs": [
    {
     "data": {
      "text/plain": [
       "6.468677585895935"
      ]
     },
     "execution_count": 25,
     "metadata": {},
     "output_type": "execute_result"
    }
   ],
   "source": [
    "x = df['Critic_Score']\n",
    "y = df['Global_Sales']\n",
    "\n",
    "np.cov(x,y)[0,1]"
   ]
  },
  {
   "cell_type": "code",
   "execution_count": 26,
   "metadata": {},
   "outputs": [
    {
     "name": "stdout",
     "output_type": "stream",
     "text": [
      "0.033631945535183505\n",
      "-1.5857972897132242\n"
     ]
    }
   ],
   "source": [
    "x = df['Critic_Score']\n",
    "y = df['Global_Sales']\n",
    "\n",
    "## your code here \n",
    "cov_xy=np.cov(x,y)[0,1]\n",
    "E_x=x.mean()\n",
    "E_y=y.mean()\n",
    "\n",
    "y_0 = E_y-(cov_xy/x.var())*E_x\n",
    "m = cov_xy/x.var()\n",
    "print(m)\n",
    "print(y_0)"
   ]
  },
  {
   "cell_type": "code",
   "execution_count": 27,
   "metadata": {
    "deletable": false,
    "editable": false
   },
   "outputs": [
    {
     "data": {
      "text/html": [
       "\n",
       "    <p><strong>q3a1</strong> passed!</p>\n",
       "    "
      ],
      "text/plain": [
       "q3a1 passed!"
      ]
     },
     "execution_count": 27,
     "metadata": {},
     "output_type": "execute_result"
    }
   ],
   "source": [
    "grader.check(\"q3a1\")"
   ]
  },
  {
   "cell_type": "markdown",
   "metadata": {
    "deletable": false,
    "editable": false
   },
   "source": [
    "**3.a.2)** We have trained our model on the entire dataset. As a measure for training error, compute the **mean squared error** and store it in ```train_error_a```. Later, you will compare these errors for different models to see how they perform with respect to each other (on the training dataset).\n",
    "\n",
    "<!--\n",
    "BEGIN QUESTION\n",
    "name: q3a2\n",
    "manual: false\n",
    "points: 4\n",
    "-->"
   ]
  },
  {
   "cell_type": "code",
   "execution_count": 28,
   "metadata": {
    "scrolled": true
   },
   "outputs": [
    {
     "name": "stdout",
     "output_type": "stream",
     "text": [
      "3.6370204112621347\n"
     ]
    }
   ],
   "source": [
    "# your code here\n",
    "y_pred=m*x+y_0\n",
    "train_error_a = np.mean(np.square(y_pred-y))\n",
    "print(train_error_a)"
   ]
  },
  {
   "cell_type": "code",
   "execution_count": 29,
   "metadata": {
    "deletable": false,
    "editable": false
   },
   "outputs": [
    {
     "data": {
      "text/html": [
       "\n",
       "    <p><strong>q3a2</strong> passed!</p>\n",
       "    "
      ],
      "text/plain": [
       "q3a2 passed!"
      ]
     },
     "execution_count": 29,
     "metadata": {},
     "output_type": "execute_result"
    }
   ],
   "source": [
    "grader.check(\"q3a2\")"
   ]
  },
  {
   "cell_type": "markdown",
   "metadata": {
    "deletable": false,
    "editable": false
   },
   "source": [
    "**3.a.3)** Below, we have drawn a scatter plot of the output $y$ vs the input $x$ as well as the linear regression line. Try to reproduce this plot. Specs of the plot:\n",
    "\n",
    "  >1. title: 'Global Sale vs Critic Score'\n",
    "  >2. x-label: 'Critic Score'\n",
    "  >3. y-labels:  'Global Sale'\n",
    "\n",
    "<img src=\"./Global Sale vs Critic Score.png\">\n",
    "\n",
    "<!--\n",
    "BEGIN QUESTION\n",
    "name: q3a3\n",
    "manual: false\n",
    "points: 0\n",
    "-->"
   ]
  },
  {
   "cell_type": "code",
   "execution_count": 30,
   "metadata": {},
   "outputs": [
    {
     "data": {
      "text/plain": [
       "Index(['Name', 'Console', 'Year_of_Release', 'Genre', 'Publisher', 'NA_Sales',\n",
       "       'EU_Sales', 'JP_Sales', 'Other_Sales', 'Global_Sales', 'Critic_Score',\n",
       "       'Critic_Count', 'User_Score', 'User_Count', 'Developer', 'Rating',\n",
       "       'Total_Sales'],\n",
       "      dtype='object')"
      ]
     },
     "execution_count": 30,
     "metadata": {},
     "output_type": "execute_result"
    }
   ],
   "source": [
    "df.columns"
   ]
  },
  {
   "cell_type": "code",
   "execution_count": 31,
   "metadata": {},
   "outputs": [
    {
     "data": {
      "text/plain": [
       "Text(0, 0.5, 'Global Sale')"
      ]
     },
     "execution_count": 31,
     "metadata": {},
     "output_type": "execute_result"
    },
    {
     "data": {
      "image/png": "[encoded data removed]",
      "text/plain": [
       "<Figure size 432x288 with 1 Axes>"
      ]
     },
     "metadata": {
      "needs_background": "light"
     },
     "output_type": "display_data"
    }
   ],
   "source": [
    "## your code here\n",
    "plt.scatter(df[\"Critic_Score\"],df[\"Global_Sales\"])\n",
    "plt.plot(x,y_pred,'r')\n",
    "plt.title('Global Sale vs Critic Score')\n",
    "plt.xlabel('Critic Score')\n",
    "plt.ylabel('Global Sale')"
   ]
  },
  {
   "cell_type": "markdown",
   "metadata": {},
   "source": [
    "**Note: The question above does not have any points. Just make sure you know how to plot a scatter plot using either matplotlib or pandas.**"
   ]
  },
  {
   "cell_type": "markdown",
   "metadata": {},
   "source": [
    "### 3.b Using More Features \n",
    "\n",
    "<br>"
   ]
  },
  {
   "cell_type": "markdown",
   "metadata": {
    "deletable": false,
    "editable": false
   },
   "source": [
    "**3.b.1)** Let's include three more features into our regression model. So we will use **\"Critic_Score\", \"Critic_Count\", \"User_Score\", and \"User_Count\"** to train our model. \n",
    "\n",
    "The input `x` and the output `y` are given to you below. Note that `x` has **5 columns**, the first four columns correspond to the four features we want to use and the last column, a **column of ones**, corresponds to the **intercept or the bias term**. Follow the linear regression procedure for multi-dimensional input in these [slides](https://datax.berkeley.edu/wp-content/uploads/2020/09/slides-m100-linear-regression.pdf), find the corresponding weight vector, and store it in ```W_b```. \n",
    "\n",
    "<!--\n",
    "BEGIN QUESTION\n",
    "name: q3b1\n",
    "manual: false\n",
    "points: 4\n",
    "-->"
   ]
  },
  {
   "cell_type": "code",
   "execution_count": 32,
   "metadata": {},
   "outputs": [
    {
     "name": "stdout",
     "output_type": "stream",
     "text": [
      "[ 2.00065164e-02  1.85736669e-02 -4.35734022e-02  5.37083200e-04\n",
      " -9.46405455e-01]\n"
     ]
    }
   ],
   "source": [
    "x = df[['Critic_Score' , 'Critic_Count', 'User_Score', 'User_Count']].values\n",
    "x = np.concatenate((x, np.ones((x.shape[0],1))), axis=1)\n",
    "y = df['Global_Sales'].values\n",
    "\n",
    "## your code here\n",
    "W_b = np.linalg.inv(x.T.dot(x)).dot(x.T).dot(y)\n",
    "print(W_b)"
   ]
  },
  {
   "cell_type": "code",
   "execution_count": 33,
   "metadata": {
    "deletable": false,
    "editable": false
   },
   "outputs": [
    {
     "data": {
      "text/html": [
       "\n",
       "    <p><strong>q3b1</strong> passed!</p>\n",
       "    "
      ],
      "text/plain": [
       "q3b1 passed!"
      ]
     },
     "execution_count": 33,
     "metadata": {},
     "output_type": "execute_result"
    }
   ],
   "source": [
    "grader.check(\"q3b1\")"
   ]
  },
  {
   "cell_type": "markdown",
   "metadata": {
    "deletable": false,
    "editable": false
   },
   "source": [
    "**3.b.2)** What we hope is to get a **mean squared error** (on the training data) lower than the one computed in the previous part. Could we get a higher error? Why? (You don't need to write any answers.)\n",
    "\n",
    "Compute the **mean squared error** for this new model and assign it to ```train_error_b```.\n",
    "\n",
    "<!--\n",
    "BEGIN QUESTION\n",
    "name: q3b2\n",
    "manual: false\n",
    "points: 4\n",
    "-->"
   ]
  },
  {
   "cell_type": "code",
   "execution_count": 34,
   "metadata": {},
   "outputs": [
    {
     "name": "stdout",
     "output_type": "stream",
     "text": [
      "3.368861313060665\n"
     ]
    }
   ],
   "source": [
    "# your code here\n",
    "y_predb = np.matmul(x, W_b)\n",
    "train_error_b = np.mean(np.square(y_predb-y))\n",
    "print(train_error_b)"
   ]
  },
  {
   "cell_type": "code",
   "execution_count": 35,
   "metadata": {
    "deletable": false,
    "editable": false
   },
   "outputs": [
    {
     "data": {
      "text/html": [
       "\n",
       "    <p><strong>q3b2</strong> passed!</p>\n",
       "    "
      ],
      "text/plain": [
       "q3b2 passed!"
      ]
     },
     "execution_count": 35,
     "metadata": {},
     "output_type": "execute_result"
    }
   ],
   "source": [
    "grader.check(\"q3b2\")"
   ]
  },
  {
   "cell_type": "markdown",
   "metadata": {},
   "source": [
    "### 3.c Dummy Variables\n",
    "\n",
    "<br>\n",
    "\n",
    "Besides a few continuous features, like **Critic_Score**, we have a few valuable discrete features (e.g. Console, Genre, and Rating) that could be encoded into what is recognized by the linear regression model: **the dummy variables**. \n",
    "\n",
    "A dummy variable (aka an indicator variable) is a numeric variable representing categorical data such as Console or Genre in our dataset. They take only the value 0 or 1 to indicate the absence or presence of a qualitative attribute. \n",
    "\n",
    "To represent a categorical variable that can take $n$ different values, we need to define $n-1$ dummy variables. let's say we are looking at some animal pictures and each picture features either a cat, a dog, or an elephant! We can represent what each picture features by introducing two dummy variables $x_0$ and $x_1$:\n",
    "\n",
    "$x_0=1$ if it's a picutre of a cat; $x_0=0$ otherwise.\n",
    "\n",
    "$x_1=1$ if it's a picutre of a dog; $x_1=0$ otherwise.\n",
    "\n",
    "**Note that we don't need a third dummy variable, because if both $x_0$ and $x_1$ are equal to 0, then we find out that the picture features an elephant.** \n",
    "\n",
    "Apart from being redundant, a third dummy variable creates the [dummy variables trap](https://www.algosome.com/articles/dummy-variable-trap-regression.html#:~:text=The%20Dummy%20Variable%20trap%20is,%2Ffemale%20as%20an%20example). We can generate dummy variables using the function [get_dummes](https://pandas.pydata.org/pandas-docs/stable/reference/api/pandas.get_dummies.html) in pandas. **Make sure you understand the option \"drop_first=True\".** \n"
   ]
  },
  {
   "cell_type": "markdown",
   "metadata": {},
   "source": [
    "Let's generate a dataframe containing the dummy variables. We name it **\"df_with_dummies\"**."
   ]
  },
  {
   "cell_type": "code",
   "execution_count": 36,
   "metadata": {},
   "outputs": [
    {
     "data": {
      "text/html": [
       "<div>\n",
       "<style scoped>\n",
       "    .dataframe tbody tr th:only-of-type {\n",
       "        vertical-align: middle;\n",
       "    }\n",
       "\n",
       "    .dataframe tbody tr th {\n",
       "        vertical-align: top;\n",
       "    }\n",
       "\n",
       "    .dataframe thead th {\n",
       "        text-align: right;\n",
       "    }\n",
       "</style>\n",
       "<table border=\"1\" class=\"dataframe\">\n",
       "  <thead>\n",
       "    <tr style=\"text-align: right;\">\n",
       "      <th></th>\n",
       "      <th>Name</th>\n",
       "      <th>Console</th>\n",
       "      <th>Year_of_Release</th>\n",
       "      <th>Genre</th>\n",
       "      <th>Publisher</th>\n",
       "      <th>NA_Sales</th>\n",
       "      <th>EU_Sales</th>\n",
       "      <th>JP_Sales</th>\n",
       "      <th>Other_Sales</th>\n",
       "      <th>Global_Sales</th>\n",
       "      <th>...</th>\n",
       "      <th>WiiU</th>\n",
       "      <th>X360</th>\n",
       "      <th>XB</th>\n",
       "      <th>XOne</th>\n",
       "      <th>E</th>\n",
       "      <th>E10+</th>\n",
       "      <th>K-A</th>\n",
       "      <th>M</th>\n",
       "      <th>RP</th>\n",
       "      <th>T</th>\n",
       "    </tr>\n",
       "  </thead>\n",
       "  <tbody>\n",
       "    <tr>\n",
       "      <th>0</th>\n",
       "      <td>Wii Sports</td>\n",
       "      <td>Wii</td>\n",
       "      <td>2006.0</td>\n",
       "      <td>Sports</td>\n",
       "      <td>Nintendo</td>\n",
       "      <td>41.36</td>\n",
       "      <td>28.96</td>\n",
       "      <td>3.77</td>\n",
       "      <td>8.45</td>\n",
       "      <td>82.53</td>\n",
       "      <td>...</td>\n",
       "      <td>0</td>\n",
       "      <td>0</td>\n",
       "      <td>0</td>\n",
       "      <td>0</td>\n",
       "      <td>1</td>\n",
       "      <td>0</td>\n",
       "      <td>0</td>\n",
       "      <td>0</td>\n",
       "      <td>0</td>\n",
       "      <td>0</td>\n",
       "    </tr>\n",
       "    <tr>\n",
       "      <th>2</th>\n",
       "      <td>Mario Kart Wii</td>\n",
       "      <td>Wii</td>\n",
       "      <td>2008.0</td>\n",
       "      <td>Racing</td>\n",
       "      <td>Nintendo</td>\n",
       "      <td>15.68</td>\n",
       "      <td>12.76</td>\n",
       "      <td>3.79</td>\n",
       "      <td>3.29</td>\n",
       "      <td>35.52</td>\n",
       "      <td>...</td>\n",
       "      <td>0</td>\n",
       "      <td>0</td>\n",
       "      <td>0</td>\n",
       "      <td>0</td>\n",
       "      <td>1</td>\n",
       "      <td>0</td>\n",
       "      <td>0</td>\n",
       "      <td>0</td>\n",
       "      <td>0</td>\n",
       "      <td>0</td>\n",
       "    </tr>\n",
       "    <tr>\n",
       "      <th>3</th>\n",
       "      <td>Wii Sports Resort</td>\n",
       "      <td>Wii</td>\n",
       "      <td>2009.0</td>\n",
       "      <td>Sports</td>\n",
       "      <td>Nintendo</td>\n",
       "      <td>15.61</td>\n",
       "      <td>10.93</td>\n",
       "      <td>3.28</td>\n",
       "      <td>2.95</td>\n",
       "      <td>32.77</td>\n",
       "      <td>...</td>\n",
       "      <td>0</td>\n",
       "      <td>0</td>\n",
       "      <td>0</td>\n",
       "      <td>0</td>\n",
       "      <td>1</td>\n",
       "      <td>0</td>\n",
       "      <td>0</td>\n",
       "      <td>0</td>\n",
       "      <td>0</td>\n",
       "      <td>0</td>\n",
       "    </tr>\n",
       "    <tr>\n",
       "      <th>6</th>\n",
       "      <td>New Super Mario Bros.</td>\n",
       "      <td>DS</td>\n",
       "      <td>2006.0</td>\n",
       "      <td>Platform</td>\n",
       "      <td>Nintendo</td>\n",
       "      <td>11.28</td>\n",
       "      <td>9.14</td>\n",
       "      <td>6.50</td>\n",
       "      <td>2.88</td>\n",
       "      <td>29.80</td>\n",
       "      <td>...</td>\n",
       "      <td>0</td>\n",
       "      <td>0</td>\n",
       "      <td>0</td>\n",
       "      <td>0</td>\n",
       "      <td>1</td>\n",
       "      <td>0</td>\n",
       "      <td>0</td>\n",
       "      <td>0</td>\n",
       "      <td>0</td>\n",
       "      <td>0</td>\n",
       "    </tr>\n",
       "    <tr>\n",
       "      <th>7</th>\n",
       "      <td>Wii Play</td>\n",
       "      <td>Wii</td>\n",
       "      <td>2006.0</td>\n",
       "      <td>Misc</td>\n",
       "      <td>Nintendo</td>\n",
       "      <td>13.96</td>\n",
       "      <td>9.18</td>\n",
       "      <td>2.93</td>\n",
       "      <td>2.84</td>\n",
       "      <td>28.92</td>\n",
       "      <td>...</td>\n",
       "      <td>0</td>\n",
       "      <td>0</td>\n",
       "      <td>0</td>\n",
       "      <td>0</td>\n",
       "      <td>1</td>\n",
       "      <td>0</td>\n",
       "      <td>0</td>\n",
       "      <td>0</td>\n",
       "      <td>0</td>\n",
       "      <td>0</td>\n",
       "    </tr>\n",
       "  </tbody>\n",
       "</table>\n",
       "<p>5 rows × 50 columns</p>\n",
       "</div>"
      ],
      "text/plain": [
       "                    Name Console  Year_of_Release     Genre Publisher  \\\n",
       "0             Wii Sports     Wii           2006.0    Sports  Nintendo   \n",
       "2         Mario Kart Wii     Wii           2008.0    Racing  Nintendo   \n",
       "3      Wii Sports Resort     Wii           2009.0    Sports  Nintendo   \n",
       "6  New Super Mario Bros.      DS           2006.0  Platform  Nintendo   \n",
       "7               Wii Play     Wii           2006.0      Misc  Nintendo   \n",
       "\n",
       "   NA_Sales  EU_Sales  JP_Sales  Other_Sales  Global_Sales  ...  WiiU  X360  \\\n",
       "0     41.36     28.96      3.77         8.45         82.53  ...     0     0   \n",
       "2     15.68     12.76      3.79         3.29         35.52  ...     0     0   \n",
       "3     15.61     10.93      3.28         2.95         32.77  ...     0     0   \n",
       "6     11.28      9.14      6.50         2.88         29.80  ...     0     0   \n",
       "7     13.96      9.18      2.93         2.84         28.92  ...     0     0   \n",
       "\n",
       "   XB  XOne  E E10+  K-A  M  RP  T  \n",
       "0   0     0  1    0    0  0   0  0  \n",
       "2   0     0  1    0    0  0   0  0  \n",
       "3   0     0  1    0    0  0   0  0  \n",
       "6   0     0  1    0    0  0   0  0  \n",
       "7   0     0  1    0    0  0   0  0  \n",
       "\n",
       "[5 rows x 50 columns]"
      ]
     },
     "execution_count": 36,
     "metadata": {},
     "output_type": "execute_result"
    }
   ],
   "source": [
    "## Run this cell without any modifications\n",
    "dummy_Genre = pd.get_dummies(df[\"Genre\"], drop_first=True)\n",
    "dummy_Console = pd.get_dummies(df[\"Console\"],drop_first=True)\n",
    "dummy_Rating = pd.get_dummies(df[\"Rating\"],drop_first=True)\n",
    "df_with_dummies = pd.concat([df,dummy_Genre,dummy_Console,dummy_Rating],axis=1)\n",
    "df_with_dummies.head(5)"
   ]
  },
  {
   "cell_type": "markdown",
   "metadata": {
    "deletable": false,
    "editable": false
   },
   "source": [
    "**3.c.1)** Let's take these dummy variables into account. This way, we would have **37 features** to build our regression model. \n",
    "\n",
    "Again, the input `x` (a matrix with **38 columns**) and the output `y` are given to you below. Build your regression model, and store the optimal weights in ```W_c```.\n",
    "\n",
    "<!--\n",
    "BEGIN QUESTION\n",
    "name: q3c1\n",
    "manual: false\n",
    "points: 4\n",
    "-->"
   ]
  },
  {
   "cell_type": "code",
   "execution_count": 37,
   "metadata": {
    "scrolled": true
   },
   "outputs": [
    {
     "name": "stdout",
     "output_type": "stream",
     "text": [
      "[ 2.40042468e-02  2.15330259e-02 -7.55898176e-02  7.17016088e-04\n",
      " -2.49150811e-01 -3.51196898e-02  2.82091750e-01  1.30967604e-02\n",
      " -4.36272184e-01  4.30834717e-02 -2.71976600e-01 -3.88747323e-03\n",
      "  1.51210727e-01 -3.22023177e-02 -2.79421088e-01 -3.95730481e-01\n",
      "  2.93958054e-01  1.46417344e-02 -1.76190164e-01 -9.67612556e-01\n",
      "  9.44613478e-01  2.32578695e-01  6.84510910e-03 -3.68690535e-01\n",
      " -8.37637122e-02 -3.54729400e-01  8.09706218e-01 -2.91207521e-01\n",
      " -1.55256400e-01 -3.70682863e-01 -1.72758802e-01 -1.86692354e-01\n",
      " -5.40674138e-01 -7.17980388e-01 -5.41522179e-01  5.96184165e-01\n",
      " -5.53248552e-01 -5.95163053e-01]\n"
     ]
    }
   ],
   "source": [
    "x = df_with_dummies[['Critic_Score','Critic_Count', 'User_Score', 'User_Count', \n",
    "                       'Adventure', 'Fighting', 'Misc', 'Platform', 'Puzzle', 'Racing', \n",
    "                       'Role-Playing', 'Shooter', 'Simulation', 'Sports', 'Strategy', \n",
    "                       'DC', 'DS', 'GBA', 'GC', 'PC', 'PS', 'PS2', 'PS3', 'PS4', 'PSP', 'PSV', \n",
    "                       'Wii', 'WiiU', 'X360', 'XB', 'XOne', 'E', 'E10+', 'K-A', 'M', 'RP','T']].values\n",
    "x = np.concatenate((x, np.ones((x.shape[0],1))), axis=1)\n",
    "y = df_with_dummies['Global_Sales'].values\n",
    "\n",
    "## your code here\n",
    "W_c = np.linalg.inv(x.T.dot(x)).dot(x.T).dot(y)\n",
    "print(W_c)"
   ]
  },
  {
   "cell_type": "code",
   "execution_count": 38,
   "metadata": {
    "deletable": false,
    "editable": false
   },
   "outputs": [
    {
     "data": {
      "text/html": [
       "\n",
       "    <p><strong>q3c1</strong> passed!</p>\n",
       "    "
      ],
      "text/plain": [
       "q3c1 passed!"
      ]
     },
     "execution_count": 38,
     "metadata": {},
     "output_type": "execute_result"
    }
   ],
   "source": [
    "grader.check(\"q3c1\")"
   ]
  },
  {
   "cell_type": "markdown",
   "metadata": {
    "deletable": false,
    "editable": false
   },
   "source": [
    "**3.c.2)** Again, compute the **mean squared error** and store it in ```train_error_c```.\n",
    "\n",
    "<!--\n",
    "BEGIN QUESTION\n",
    "name: q3c2\n",
    "manual: false\n",
    "points: 4\n",
    "-->"
   ]
  },
  {
   "cell_type": "code",
   "execution_count": 39,
   "metadata": {},
   "outputs": [
    {
     "name": "stdout",
     "output_type": "stream",
     "text": [
      "3.120968386258508\n"
     ]
    }
   ],
   "source": [
    "# your code here\n",
    "y_predc = np.matmul(x, W_c)\n",
    "train_error_c = np.mean(np.square(y_predc-y))\n",
    "print(train_error_c)"
   ]
  },
  {
   "cell_type": "code",
   "execution_count": 40,
   "metadata": {
    "deletable": false,
    "editable": false
   },
   "outputs": [
    {
     "data": {
      "text/html": [
       "\n",
       "    <p><strong>q3c2</strong> passed!</p>\n",
       "    "
      ],
      "text/plain": [
       "q3c2 passed!"
      ]
     },
     "execution_count": 40,
     "metadata": {},
     "output_type": "execute_result"
    }
   ],
   "source": [
    "grader.check(\"q3c2\")"
   ]
  },
  {
   "cell_type": "markdown",
   "metadata": {},
   "source": [
    "Based on the **mean squared error** computed for each model, which one of these models would you choose? **Is this the right way to pick a model?** (You do not need to write any answers.)"
   ]
  },
  {
   "cell_type": "markdown",
   "metadata": {},
   "source": [
    "### 3.d Testing the Models Against a New Dataset\n",
    "\n",
    "<br>"
   ]
  },
  {
   "cell_type": "markdown",
   "metadata": {},
   "source": [
    "Training errors could be misleading, that is a very low training error does not necessarily mean that our model performs well. The only thing a low training error suggests is that our model fits the training data quite well ([overfitting](https://en.wikipedia.org/wiki/Overfitting)), but it doesn't tell us anything about our model's performance on a new dataset. Therefore, in order to choose the best model, we need to use a brand new dataset (test dataset).\n",
    "\n",
    "We have scraped the web and prepared a new small dataset consisting of four popular titles for **PS4**, released back in 2018: **Red Dead Redemption 2, Marvel's Spider-man, Assassin's Creed Odyssey, and Fifa 18.** \n",
    "\n",
    "Read this small dataset by running the following cell. "
   ]
  },
  {
   "cell_type": "code",
   "execution_count": 41,
   "metadata": {},
   "outputs": [
    {
     "data": {
      "text/html": [
       "<div>\n",
       "<style scoped>\n",
       "    .dataframe tbody tr th:only-of-type {\n",
       "        vertical-align: middle;\n",
       "    }\n",
       "\n",
       "    .dataframe tbody tr th {\n",
       "        vertical-align: top;\n",
       "    }\n",
       "\n",
       "    .dataframe thead th {\n",
       "        text-align: right;\n",
       "    }\n",
       "</style>\n",
       "<table border=\"1\" class=\"dataframe\">\n",
       "  <thead>\n",
       "    <tr style=\"text-align: right;\">\n",
       "      <th></th>\n",
       "      <th>Name</th>\n",
       "      <th>Global_Sales</th>\n",
       "      <th>Critic_Score</th>\n",
       "      <th>Critic_Count</th>\n",
       "      <th>User_Score</th>\n",
       "      <th>User_Count</th>\n",
       "      <th>Adventure</th>\n",
       "      <th>Fighting</th>\n",
       "      <th>Misc</th>\n",
       "      <th>Platform</th>\n",
       "      <th>...</th>\n",
       "      <th>WiiU</th>\n",
       "      <th>X360</th>\n",
       "      <th>XB</th>\n",
       "      <th>XOne</th>\n",
       "      <th>E</th>\n",
       "      <th>E10+</th>\n",
       "      <th>K-A</th>\n",
       "      <th>M</th>\n",
       "      <th>RP</th>\n",
       "      <th>T</th>\n",
       "    </tr>\n",
       "  </thead>\n",
       "  <tbody>\n",
       "    <tr>\n",
       "      <th>0</th>\n",
       "      <td>Read Dead Redemption 2 (2018)</td>\n",
       "      <td>13.94</td>\n",
       "      <td>97</td>\n",
       "      <td>99</td>\n",
       "      <td>8.5</td>\n",
       "      <td>15475</td>\n",
       "      <td>0</td>\n",
       "      <td>0</td>\n",
       "      <td>0</td>\n",
       "      <td>0</td>\n",
       "      <td>...</td>\n",
       "      <td>0</td>\n",
       "      <td>0</td>\n",
       "      <td>0</td>\n",
       "      <td>0</td>\n",
       "      <td>0</td>\n",
       "      <td>0</td>\n",
       "      <td>0</td>\n",
       "      <td>1</td>\n",
       "      <td>0</td>\n",
       "      <td>0</td>\n",
       "    </tr>\n",
       "    <tr>\n",
       "      <th>1</th>\n",
       "      <td>Marvel's Spider-man (2018)</td>\n",
       "      <td>8.76</td>\n",
       "      <td>87</td>\n",
       "      <td>116</td>\n",
       "      <td>8.7</td>\n",
       "      <td>6539</td>\n",
       "      <td>0</td>\n",
       "      <td>0</td>\n",
       "      <td>0</td>\n",
       "      <td>0</td>\n",
       "      <td>...</td>\n",
       "      <td>0</td>\n",
       "      <td>0</td>\n",
       "      <td>0</td>\n",
       "      <td>0</td>\n",
       "      <td>0</td>\n",
       "      <td>0</td>\n",
       "      <td>0</td>\n",
       "      <td>0</td>\n",
       "      <td>0</td>\n",
       "      <td>1</td>\n",
       "    </tr>\n",
       "    <tr>\n",
       "      <th>2</th>\n",
       "      <td>Assassin's Creed Odyssey (2018)</td>\n",
       "      <td>3.18</td>\n",
       "      <td>83</td>\n",
       "      <td>86</td>\n",
       "      <td>6.4</td>\n",
       "      <td>2947</td>\n",
       "      <td>0</td>\n",
       "      <td>0</td>\n",
       "      <td>0</td>\n",
       "      <td>0</td>\n",
       "      <td>...</td>\n",
       "      <td>0</td>\n",
       "      <td>0</td>\n",
       "      <td>0</td>\n",
       "      <td>0</td>\n",
       "      <td>0</td>\n",
       "      <td>0</td>\n",
       "      <td>0</td>\n",
       "      <td>1</td>\n",
       "      <td>0</td>\n",
       "      <td>0</td>\n",
       "    </tr>\n",
       "    <tr>\n",
       "      <th>3</th>\n",
       "      <td>FIFA 18 (2017)</td>\n",
       "      <td>11.80</td>\n",
       "      <td>84</td>\n",
       "      <td>68</td>\n",
       "      <td>3.5</td>\n",
       "      <td>1051</td>\n",
       "      <td>0</td>\n",
       "      <td>0</td>\n",
       "      <td>0</td>\n",
       "      <td>0</td>\n",
       "      <td>...</td>\n",
       "      <td>0</td>\n",
       "      <td>0</td>\n",
       "      <td>0</td>\n",
       "      <td>0</td>\n",
       "      <td>1</td>\n",
       "      <td>0</td>\n",
       "      <td>0</td>\n",
       "      <td>0</td>\n",
       "      <td>0</td>\n",
       "      <td>0</td>\n",
       "    </tr>\n",
       "  </tbody>\n",
       "</table>\n",
       "<p>4 rows × 39 columns</p>\n",
       "</div>"
      ],
      "text/plain": [
       "                              Name  Global_Sales  Critic_Score  Critic_Count  \\\n",
       "0    Read Dead Redemption 2 (2018)         13.94            97            99   \n",
       "1       Marvel's Spider-man (2018)          8.76            87           116   \n",
       "2  Assassin's Creed Odyssey (2018)          3.18            83            86   \n",
       "3                   FIFA 18 (2017)         11.80            84            68   \n",
       "\n",
       "   User_Score  User_Count  Adventure  Fighting  Misc  Platform  ...  WiiU  \\\n",
       "0         8.5       15475          0         0     0         0  ...     0   \n",
       "1         8.7        6539          0         0     0         0  ...     0   \n",
       "2         6.4        2947          0         0     0         0  ...     0   \n",
       "3         3.5        1051          0         0     0         0  ...     0   \n",
       "\n",
       "   X360  XB  XOne  E  E10+  K-A  M  RP  T  \n",
       "0     0   0     0  0     0    0  1   0  0  \n",
       "1     0   0     0  0     0    0  0   0  1  \n",
       "2     0   0     0  0     0    0  1   0  0  \n",
       "3     0   0     0  1     0    0  0   0  0  \n",
       "\n",
       "[4 rows x 39 columns]"
      ]
     },
     "execution_count": 41,
     "metadata": {},
     "output_type": "execute_result"
    }
   ],
   "source": [
    "## No need for modification, just run this cell\n",
    "test_dataset_3 = pd.read_csv(\"HW1_test_dataset_3.csv\")\n",
    "test_dataset_3.head(4)"
   ]
  },
  {
   "cell_type": "markdown",
   "metadata": {
    "deletable": false,
    "editable": false
   },
   "source": [
    "**3.d.1)** Let's start with the game **\"Red Dead Redemption 2\"**. What are your models predictions for this game's **global sales**?\n",
    "\n",
    "Create a list ```red_dead_pred``` containing your predictions. \n",
    "\n",
    "(Format: red_dead_pred = [part a prediction, part b prediction, part c prediction])\n",
    "\n",
    "<!--\n",
    "BEGIN QUESTION\n",
    "name: q3d1\n",
    "manual: false\n",
    "points: 4\n",
    "-->"
   ]
  },
  {
   "cell_type": "code",
   "execution_count": 42,
   "metadata": {},
   "outputs": [
    {
     "name": "stdout",
     "output_type": "stream",
     "text": [
      "[1.676501427199576, 10.774008262507797, 13.408116232725124]\n"
     ]
    }
   ],
   "source": [
    "## your code here\n",
    "y_a=(m*test_dataset_3['Critic_Score']+y_0)\n",
    "red_pred_a=y_a.iloc[0]\n",
    "\n",
    "x_b = test_dataset_3[['Critic_Score' , 'Critic_Count', 'User_Score', 'User_Count']].values\n",
    "x_b = np.concatenate((x_b, np.ones((x_b.shape[0],1))), axis=1)\n",
    "y_b=np.matmul(x_b, W_b)\n",
    "red_pred_b=y_b[0]\n",
    "\n",
    "x_c=test_dataset_3.drop('Global_Sales',axis=1).drop('Name',axis=1).values\n",
    "x_c=np.concatenate((x_c, np.ones((x_c.shape[0],1))), axis=1)\n",
    "y_c=np.matmul(x_c, W_c)\n",
    "red_pred_c = y_c[0]\n",
    "\n",
    "red_dead_pred = [red_pred_a, red_pred_b, red_pred_c]\n",
    "print(red_dead_pred)"
   ]
  },
  {
   "cell_type": "code",
   "execution_count": 43,
   "metadata": {
    "deletable": false,
    "editable": false
   },
   "outputs": [
    {
     "data": {
      "text/html": [
       "\n",
       "    <p><strong>q3d1</strong> passed!</p>\n",
       "    "
      ],
      "text/plain": [
       "q3d1 passed!"
      ]
     },
     "execution_count": 43,
     "metadata": {},
     "output_type": "execute_result"
    }
   ],
   "source": [
    "grader.check(\"q3d1\")"
   ]
  },
  {
   "cell_type": "markdown",
   "metadata": {},
   "source": [
    "Note that the actual global sales of this game is **13.94 million units**. Which one of the models gave a more accurate prediction? Is that what you expected? (you don't need to write any answers.)"
   ]
  },
  {
   "cell_type": "markdown",
   "metadata": {
    "deletable": false,
    "editable": false
   },
   "source": [
    "**3.d.2)** Compute the **mean squared error** for **each of these models** using the **new dataset** and store in the list ```test_error_3```.\n",
    "\n",
    "(Format: test_error_3 = [part a error, part b error, part c error])\n",
    "\n",
    "<!--\n",
    "BEGIN QUESTION\n",
    "name: q3d2\n",
    "manual: false\n",
    "points: 4\n",
    "-->"
   ]
  },
  {
   "cell_type": "code",
   "execution_count": 44,
   "metadata": {},
   "outputs": [
    {
     "name": "stdout",
     "output_type": "stream",
     "text": [
      "[80.21845388197016, 26.393877969699503, 21.223977916764362]\n"
     ]
    }
   ],
   "source": [
    "# your code here\n",
    "y_actual= test_dataset_3['Global_Sales'].values\n",
    "\n",
    "test_error_3_a = np.mean(np.square(y_a-y_actual))\n",
    "test_error_3_b = np.mean(np.square(y_b-y_actual))\n",
    "test_error_3_c = np.mean(np.square(y_c-y_actual))\n",
    "\n",
    "test_error_3=[test_error_3_a,test_error_3_b,test_error_3_c]\n",
    "print(test_error_3)"
   ]
  },
  {
   "cell_type": "code",
   "execution_count": 45,
   "metadata": {
    "deletable": false,
    "editable": false
   },
   "outputs": [
    {
     "data": {
      "text/html": [
       "\n",
       "    <p><strong>q3d2</strong> passed!</p>\n",
       "    "
      ],
      "text/plain": [
       "q3d2 passed!"
      ]
     },
     "execution_count": 45,
     "metadata": {},
     "output_type": "execute_result"
    }
   ],
   "source": [
    "grader.check(\"q3d2\")"
   ]
  },
  {
   "cell_type": "markdown",
   "metadata": {},
   "source": [
    "Based on the test errors you just computed, **which one of the models would you choose?** Compare the training and test errors. Do you approve using the linear regression model for predicting the global sales? (You don't need to write any answers.)\n",
    "\n",
    "\n",
    "Judging our model based on a **small test dataset** is not a good approach. Remember, we trained our models using **6825 data points**, but we only had **4 data points** to test the models. Furthermore, in many real-world problems, we may not be able to obtain a brand new dataset. You will see in section 4 that how we could resolve these issues by spliting the initial dataset into training and test sets. "
   ]
  },
  {
   "cell_type": "markdown",
   "metadata": {},
   "source": [
    "## 4. Data Analysis with scikit-learn\n",
    "\n",
    "<br>"
   ]
  },
  {
   "cell_type": "markdown",
   "metadata": {},
   "source": [
    "In this part, you will work with `scikit-learn`, an industry standard package for machine learning applications, to build your linear regression model.\n",
    "\n",
    "Run the following cell to load the required modules."
   ]
  },
  {
   "cell_type": "code",
   "execution_count": 46,
   "metadata": {},
   "outputs": [],
   "source": [
    "## Load the required modules\n",
    "from sklearn.model_selection import train_test_split\n",
    "from sklearn.linear_model import LinearRegression\n",
    "from sklearn.metrics import mean_squared_error"
   ]
  },
  {
   "cell_type": "markdown",
   "metadata": {},
   "source": [
    "We want to regress global sales on the 37 features we used in part 3.c. The input matrix `x` (consisting of **37 columns**) and the output `y` (global sales) are given to you below. \n",
    "\n",
    ">**Note:** In part 3.c, the input matrix `x` had 38 columns one of which represented the intercept. When using `scikit-learn`, however, the default setting for the linear regression is to calculate the intercept, so we don't need to add a column of ones manually.\n"
   ]
  },
  {
   "cell_type": "code",
   "execution_count": 47,
   "metadata": {},
   "outputs": [],
   "source": [
    "## No need for modification, just run this cell\n",
    "x = df_with_dummies[['Critic_Score','Critic_Count', 'User_Score', 'User_Count', \n",
    "                       'Adventure', 'Fighting', 'Misc', 'Platform', 'Puzzle', 'Racing', \n",
    "                       'Role-Playing', 'Shooter', 'Simulation', 'Sports', 'Strategy', \n",
    "                       'DC', 'DS', 'GBA', 'GC', 'PC', 'PS', 'PS2', 'PS3', 'PS4', 'PSP', 'PSV', \n",
    "                       'Wii', 'WiiU', 'X360', 'XB', 'XOne', 'E', 'E10+', 'K-A', 'M', 'RP','T']]\n",
    "\n",
    "y = df_with_dummies['Global_Sales'].values"
   ]
  },
  {
   "cell_type": "markdown",
   "metadata": {
    "deletable": false,
    "editable": false
   },
   "source": [
    "**4.1)** Considering the fact that obtaining a new dataset may not be a feasible option in many real-world problems, in practice, we usually split the original data set into **\"training\" and \"test\" datasets**. We use the \"training\" set to build our model and the \"test\" set to check the model's performance. (In the next homework, you will see that we actually split the original dataset into three sets: \"training\", \"validation\", \"test\".) You can read more about why we need to do train-test spliting [here](https://towardsdatascience.com/train-test-split-and-cross-validation-in-python-80b61beca4b6).\n",
    "\n",
    "Use scikit-learn function [train_test_split](https://scikit-learn.org/stable/modules/generated/sklearn.model_selection.train_test_split.html) to split the dataset into \"training\" and \"test\" sets, and store the result in `x_train`, `x_test`, `y_train`, and `y_test`. \n",
    "\n",
    ">**Setting:** Use 10% of the dataset for the test set and let `random_state=2021`.\n",
    "\n",
    "<!--\n",
    "BEGIN QUESTION\n",
    "name: q41\n",
    "manual: false\n",
    "points: 3\n",
    "-->"
   ]
  },
  {
   "cell_type": "code",
   "execution_count": 48,
   "metadata": {},
   "outputs": [],
   "source": [
    "## Your code here\n",
    "x_train, x_test, y_train, y_test = train_test_split(x, y, test_size=0.10, random_state=2021)"
   ]
  },
  {
   "cell_type": "code",
   "execution_count": 49,
   "metadata": {
    "deletable": false,
    "editable": false
   },
   "outputs": [
    {
     "data": {
      "text/html": [
       "\n",
       "    <p><strong>q41</strong> passed!</p>\n",
       "    "
      ],
      "text/plain": [
       "q41 passed!"
      ]
     },
     "execution_count": 49,
     "metadata": {},
     "output_type": "execute_result"
    }
   ],
   "source": [
    "grader.check(\"q41\")"
   ]
  },
  {
   "cell_type": "markdown",
   "metadata": {
    "deletable": false,
    "editable": false
   },
   "source": [
    "**4.2)** Use scikit-learn function [LinearRegression](https://scikit-learn.org/stable/modules/generated/sklearn.linear_model.LinearRegression.html?highlight=linear%20regression#sklearn.linear_model.LinearRegression) to build your model using your training set. **Store your model in `model`.**\n",
    "\n",
    "<!--\n",
    "BEGIN QUESTION\n",
    "name: q42\n",
    "manual: false\n",
    "points: 3\n",
    "-->"
   ]
  },
  {
   "cell_type": "code",
   "execution_count": 50,
   "metadata": {},
   "outputs": [
    {
     "data": {
      "text/plain": [
       "LinearRegression()"
      ]
     },
     "execution_count": 50,
     "metadata": {},
     "output_type": "execute_result"
    }
   ],
   "source": [
    "## Your code here\n",
    "model = LinearRegression()\n",
    "model.fit(x_train,y_train)"
   ]
  },
  {
   "cell_type": "code",
   "execution_count": 51,
   "metadata": {
    "deletable": false,
    "editable": false
   },
   "outputs": [
    {
     "data": {
      "text/html": [
       "\n",
       "    <p><strong>q42</strong> passed!</p>\n",
       "    "
      ],
      "text/plain": [
       "q42 passed!"
      ]
     },
     "execution_count": 51,
     "metadata": {},
     "output_type": "execute_result"
    }
   ],
   "source": [
    "grader.check(\"q42\")"
   ]
  },
  {
   "cell_type": "markdown",
   "metadata": {},
   "source": [
    "Now that you have built your model, you can take a look at the model's coefficients, which are given in the attributes **intercept** and **coef**."
   ]
  },
  {
   "cell_type": "code",
   "execution_count": 52,
   "metadata": {},
   "outputs": [
    {
     "name": "stdout",
     "output_type": "stream",
     "text": [
      "[ 2.35094133e-02  2.25613185e-02 -7.25341382e-02  7.04181645e-04\n",
      " -2.63490429e-01 -1.62086920e-02  2.89278560e-01  1.13686968e-02\n",
      " -4.37637220e-01  6.64130208e-02 -2.73927652e-01 -2.61758926e-02\n",
      "  1.25653832e-01 -1.90049710e-02 -2.75614610e-01 -4.17787373e-01\n",
      "  2.23361745e-01 -2.16559677e-02 -2.15138973e-01 -9.96913699e-01\n",
      "  9.45787089e-01  2.09650428e-01 -2.07773288e-02 -3.65927212e-01\n",
      " -1.20752888e-01 -3.98840495e-01  8.22861482e-01 -2.82417503e-01\n",
      " -2.28634622e-01 -3.92137134e-01 -2.27421116e-01 -1.46886432e-01\n",
      " -4.96977746e-01 -7.01304925e-01 -5.14207024e-01  6.37013308e-01\n",
      " -5.14347352e-01]\n",
      "-0.6120946254575204\n"
     ]
    }
   ],
   "source": [
    "## Just run this cell\n",
    "print(model.coef_)\n",
    "print(model.intercept_)"
   ]
  },
  {
   "cell_type": "markdown",
   "metadata": {},
   "source": [
    "How do the above numbers compare to the ones you got in part 3.c? **Why are they different?** (You don't need to write any answers.)"
   ]
  },
  {
   "cell_type": "markdown",
   "metadata": {
    "deletable": false,
    "editable": false
   },
   "source": [
    "**4.3)** Let's calculate the **mean-squared-error** for the training data using scikit-learn function [mean_squared_error](https://scikit-learn.org/stable/modules/generated/sklearn.metrics.mean_squared_error.html?highlight=mean_squared_error#sklearn.metrics.mean_squared_error) and store it in `train_error`.\n",
    "\n",
    "\n",
    "\n",
    "<!--\n",
    "BEGIN QUESTION\n",
    "name: q43\n",
    "manual: false\n",
    "points: 3\n",
    "-->"
   ]
  },
  {
   "cell_type": "code",
   "execution_count": 53,
   "metadata": {},
   "outputs": [
    {
     "name": "stdout",
     "output_type": "stream",
     "text": [
      "3.3114455107778307\n"
     ]
    }
   ],
   "source": [
    "## Your code here\n",
    "y_pred_train = model.predict(x_train)\n",
    "train_error = mean_squared_error(y_train, y_pred_train)\n",
    "print(train_error)"
   ]
  },
  {
   "cell_type": "code",
   "execution_count": 54,
   "metadata": {
    "deletable": false,
    "editable": false
   },
   "outputs": [
    {
     "data": {
      "text/html": [
       "\n",
       "    <p><strong>q43</strong> passed!</p>\n",
       "    "
      ],
      "text/plain": [
       "q43 passed!"
      ]
     },
     "execution_count": 54,
     "metadata": {},
     "output_type": "execute_result"
    }
   ],
   "source": [
    "grader.check(\"q43\")"
   ]
  },
  {
   "cell_type": "markdown",
   "metadata": {
    "deletable": false,
    "editable": false
   },
   "source": [
    "**4.4)** Now, compute the **mean-squared-error** for the test set and store it in `test_error`.\n",
    "\n",
    "<!--\n",
    "BEGIN QUESTION\n",
    "name: q44\n",
    "manual: false\n",
    "points: 3\n",
    "-->"
   ]
  },
  {
   "cell_type": "code",
   "execution_count": 55,
   "metadata": {
    "scrolled": true
   },
   "outputs": [
    {
     "name": "stdout",
     "output_type": "stream",
     "text": [
      "1.4185189001169036\n"
     ]
    }
   ],
   "source": [
    "## Your code here\n",
    "y_pred_test = model.predict(x_test)\n",
    "test_error = mean_squared_error(y_test, y_pred_test)\n",
    "print(test_error)"
   ]
  },
  {
   "cell_type": "code",
   "execution_count": 56,
   "metadata": {
    "deletable": false,
    "editable": false
   },
   "outputs": [
    {
     "data": {
      "text/html": [
       "\n",
       "    <p><strong>q44</strong> passed!</p>\n",
       "    "
      ],
      "text/plain": [
       "q44 passed!"
      ]
     },
     "execution_count": 56,
     "metadata": {},
     "output_type": "execute_result"
    }
   ],
   "source": [
    "grader.check(\"q44\")"
   ]
  },
  {
   "cell_type": "markdown",
   "metadata": {},
   "source": [
    "Compare the errors you got in the two previous parts with the ones you got in part c. Can you justify why they are not the same? (You don't need to write any answers.)"
   ]
  },
  {
   "cell_type": "markdown",
   "metadata": {},
   "source": [
    "## End\n",
    "\n",
    "<br>\n",
    "\n",
    "Congratulations on finishing the homework! Remember to select Kernel/Restart & Run All before submitting your notebook."
   ]
  },
  {
   "cell_type": "markdown",
   "metadata": {
    "deletable": false,
    "editable": false
   },
   "source": [
    "# Submit\n",
    "Make sure you have run all cells in your notebook in order before running the cell below, so that all images/graphs appear in the output.\n",
    "**Please save before submitting!**"
   ]
  },
  {
   "cell_type": "code",
   "execution_count": 57,
   "metadata": {
    "deletable": false,
    "editable": false
   },
   "outputs": [],
   "source": [
    "# Save your notebook first, then run this cell to create a pdf for your reference."
   ]
  }
 ],
 "metadata": {
  "kernelspec": {
   "display_name": "Python 3",
   "language": "python",
   "name": "python3"
  },
  "language_info": {
   "codemirror_mode": {
    "name": "ipython",
    "version": 3
   },
   "file_extension": ".py",
   "mimetype": "text/x-python",
   "name": "python",
   "nbconvert_exporter": "python",
   "pygments_lexer": "ipython3",
   "version": "3.8.6"
  }
 },
 "nbformat": 4,
 "nbformat_minor": 4
}
