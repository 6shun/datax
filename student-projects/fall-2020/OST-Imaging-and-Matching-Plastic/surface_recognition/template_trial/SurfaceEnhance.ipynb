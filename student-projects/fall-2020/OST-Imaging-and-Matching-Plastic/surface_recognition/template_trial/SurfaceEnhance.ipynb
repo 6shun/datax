{
 "cells": [
  {
   "cell_type": "code",
   "execution_count": 14,
   "metadata": {},
   "outputs": [],
   "source": [
    "import cv2\n",
    "import numpy as np\n",
    "import matplotlib.pyplot as plt"
   ]
  },
  {
   "cell_type": "code",
   "execution_count": 15,
   "metadata": {},
   "outputs": [],
   "source": [
    "# Resize window to display all image\n",
    "def ResizeWithAspectRatio(image, width=None, height=None, inter=cv2.INTER_AREA):\n",
    "    dim = None\n",
    "    (h, w) = image.shape[:2]\n",
    "\n",
    "    if width is None and height is None:\n",
    "        return image\n",
    "    if width is None:\n",
    "        r = height / float(h)\n",
    "        dim = (int(w * r), height)\n",
    "    else:\n",
    "        r = width / float(w)\n",
    "        dim = (width, int(h * r))\n",
    "\n",
    "    return cv2.resize(image, dim, interpolation=inter)"
   ]
  },
  {
   "cell_type": "code",
   "execution_count": 16,
   "metadata": {},
   "outputs": [],
   "source": [
    "img = cv2.imread('surfacedata/contrastcrop/Nr385.jpg')\n",
    "# below is from original code\n",
    "#img1 = cv2.imread('cylinder.png')\n",
    "#images=np.concatenate(img(img,img1),axis=1)\n",
    "\n",
    "img_rs = ResizeWithAspectRatio(img, width=1000)\n",
    "cv2.imshow(\"Image\",img_rs)\n",
    "cv2.waitKey(0)\n",
    "cv2.destroyAllWindows()"
   ]
  },
  {
   "cell_type": "code",
   "execution_count": 17,
   "metadata": {},
   "outputs": [
    {
     "data": {
      "image/png": "[encoded data removed]",
      "text/plain": [
       "<Figure size 432x288 with 1 Axes>"
      ]
     },
     "metadata": {
      "needs_background": "light"
     },
     "output_type": "display_data"
    }
   ],
   "source": [
    "# Convert to Grayscale image\n",
    "gray_img=cv2.cvtColor(img,cv2.COLOR_BGR2GRAY)\n",
    "\n",
    "# find histogram of grayscale and display\n",
    "hist=cv2.calcHist(gray_img,[0],None,[256],[0,256])\n",
    "\n",
    "plt.subplot(121)\n",
    "plt.title(\"Image1\")\n",
    "plt.xlabel('bins')\n",
    "plt.ylabel(\"No of pixels\")\n",
    "plt.plot(hist)\n",
    "plt.show()"
   ]
  },
  {
   "cell_type": "code",
   "execution_count": 18,
   "metadata": {},
   "outputs": [
    {
     "data": {
      "image/png": "[encoded data removed]",
      "text/plain": [
       "<Figure size 432x288 with 1 Axes>"
      ]
     },
     "metadata": {
      "needs_background": "light"
     },
     "output_type": "display_data"
    }
   ],
   "source": [
    "# Normalise brightness and increase contrast\n",
    "gray_img_eqhist=cv2.equalizeHist(gray_img)\n",
    "\n",
    "hist=cv2.calcHist(gray_img_eqhist,[0],None,[256],[0,256])\n",
    "\n",
    "plt.subplot(121)\n",
    "plt.plot(hist)\n",
    "plt.show()"
   ]
  },
  {
   "cell_type": "code",
   "execution_count": 19,
   "metadata": {},
   "outputs": [],
   "source": [
    "# Display enhanced image\n",
    "gray_img_eqhistrs = ResizeWithAspectRatio(gray_img_eqhist, width=1000)\n",
    "cv2.imshow(\"Enhanced\",gray_img_eqhistrs)\n",
    "cv2.waitKey(0)\n",
    "cv2.destroyAllWindows()"
   ]
  },
  {
   "cell_type": "code",
   "execution_count": 21,
   "metadata": {},
   "outputs": [],
   "source": [
    "# Using Contrast Limited Adaptive Histogram Equalization (CLAHE) \n",
    "\n",
    "clahe=cv2.createCLAHE(clipLimit=40) # 40 is default\n",
    "gray_img_clahe=clahe.apply(gray_img_eqhist)\n",
    "\n",
    "imgrs = ResizeWithAspectRatio(gray_img_clahe, width=1000)\n",
    "cv2.imshow(\"Images\",imgrs)\n",
    "cv2.waitKey(0)\n",
    "cv2.destroyAllWindows()"
   ]
  },
  {
   "cell_type": "code",
   "execution_count": 23,
   "metadata": {},
   "outputs": [
    {
     "data": {
      "text/plain": [
       "True"
      ]
     },
     "execution_count": 23,
     "metadata": {},
     "output_type": "execute_result"
    }
   ],
   "source": [
    "# Attempting to separate foreground and background with threshholding\n",
    "th=80\n",
    "max_val=255\n",
    "ret, o1 = cv2.threshold(gray_img_clahe, th, max_val, cv2.THRESH_BINARY)\n",
    "cv2.putText(o1,\"Thresh_Binary\",(40,100),cv2.FONT_HERSHEY_SIMPLEX,2,(255,255,255),3,cv2.LINE_AA)\n",
    "ret, o2 = cv2.threshold(gray_img_clahe, th, max_val, cv2.THRESH_BINARY_INV)\n",
    "cv2.putText(o2,\"Thresh_Binary_inv\",(40,100),cv2.FONT_HERSHEY_SIMPLEX,2,(255,255,255),3,cv2.LINE_AA)\n",
    "ret, o3 = cv2.threshold(gray_img_clahe, th, max_val, cv2.THRESH_TOZERO)\n",
    "cv2.putText(o3,\"Thresh_Tozero\",(40,100),cv2.FONT_HERSHEY_SIMPLEX,2,(255,255,255),3,cv2.LINE_AA)\n",
    "ret, o4 = cv2.threshold(gray_img_clahe, th, max_val, cv2.THRESH_TOZERO_INV)\n",
    "cv2.putText(o4,\"Thresh_Tozero_inv\",(40,100),cv2.FONT_HERSHEY_SIMPLEX,2,(255,255,255),3,cv2.LINE_AA)\n",
    "ret, o5 = cv2.threshold(gray_img_clahe, th, max_val, cv2.THRESH_TRUNC)\n",
    "cv2.putText(o5,\"Thresh_trunc\",(40,100),cv2.FONT_HERSHEY_SIMPLEX,2,(255,255,255),3,cv2.LINE_AA)\n",
    "ret ,o6=  cv2.threshold(gray_img_clahe, th, max_val,  cv2.THRESH_OTSU)\n",
    "cv2.putText(o6,\"Thresh_OSTU\",(40,100),cv2.FONT_HERSHEY_SIMPLEX,2,(255,255,255),3,cv2.LINE_AA)\n",
    "\n",
    "final=np.concatenate((o1,o2,o3),axis=1)\n",
    "final1=np.concatenate((o4,o5,o6),axis=1)\n",
    "\n",
    "cv2.imwrite(\"surfaceenhance/thimg1.jpg\",final)\n",
    "cv2.imwrite(\"surfaceenhance/thimg2.jpg\",final1)"
   ]
  },
  {
   "cell_type": "code",
   "execution_count": 24,
   "metadata": {},
   "outputs": [
    {
     "data": {
      "text/plain": [
       "True"
      ]
     },
     "execution_count": 24,
     "metadata": {},
     "output_type": "execute_result"
    }
   ],
   "source": [
    "# Attempt adaptive thresholding to deal with different illumination\n",
    "thresh1 = cv2.adaptiveThreshold(gray_img, 255, cv2.ADAPTIVE_THRESH_MEAN_C, cv2.THRESH_BINARY, 11, 2)\n",
    "thresh2 = cv2.adaptiveThreshold(gray_img, 255, cv2.ADAPTIVE_THRESH_MEAN_C, cv2.THRESH_BINARY, 31, 3)\n",
    "thresh3 = cv2.adaptiveThreshold(gray_img, 255, cv2.ADAPTIVE_THRESH_GAUSSIAN_C, cv2.THRESH_BINARY, 13, 5)\n",
    "thresh4 = cv2.adaptiveThreshold(gray_img, 255, cv2.ADAPTIVE_THRESH_GAUSSIAN_C, cv2.THRESH_BINARY, 31, 4)\n",
    "\n",
    "final=np.concatenate((thresh1,thresh2,thresh3,thresh4),axis=1)\n",
    "cv2.imwrite('surfaceenhance/rect.jpg',final)"
   ]
  }
 ],
 "metadata": {
  "kernelspec": {
   "display_name": "Python 3",
   "language": "python",
   "name": "python3"
  },
  "language_info": {
   "codemirror_mode": {
    "name": "ipython",
    "version": 3
   },
   "file_extension": ".py",
   "mimetype": "text/x-python",
   "name": "python",
   "nbconvert_exporter": "python",
   "pygments_lexer": "ipython3",
   "version": "3.7.7"
  }
 },
 "nbformat": 4,
 "nbformat_minor": 4
}
