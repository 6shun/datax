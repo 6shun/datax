{
 "cells": [
  {
   "cell_type": "code",
   "execution_count": 1,
   "metadata": {},
   "outputs": [],
   "source": [
    "# Python program to illustrate  \n",
    "# template matching \n",
    "import cv2 \n",
    "import numpy as np \n",
    "\n",
    "# To plot the image inside of the notebook\n",
    "#%matplotlib inline\n",
    "#from matplotlib import pyplot as plt"
   ]
  },
  {
   "cell_type": "code",
   "execution_count": 2,
   "metadata": {},
   "outputs": [],
   "source": [
    "# Resize window to display all image\n",
    "def ResizeWithAspectRatio(image, width=None, height=None, inter=cv2.INTER_AREA):\n",
    "    dim = None\n",
    "    (h, w) = image.shape[:2]\n",
    "\n",
    "    if width is None and height is None:\n",
    "        return image\n",
    "    if width is None:\n",
    "        r = height / float(h)\n",
    "        dim = (int(w * r), height)\n",
    "    else:\n",
    "        r = width / float(w)\n",
    "        dim = (width, int(h * r))\n",
    "\n",
    "    return cv2.resize(image, dim, interpolation=inter)"
   ]
  },
  {
   "cell_type": "code",
   "execution_count": 5,
   "metadata": {},
   "outputs": [],
   "source": [
    "# Read the main image \n",
    "img_rgb = cv2.imread('structuredata/Testimg2.jpg') \n",
    "  \n",
    "# Convert it to grayscale \n",
    "img_gray = cv2.cvtColor(img_rgb, cv2.COLOR_BGR2GRAY) \n",
    "  \n",
    "# Read the template \n",
    "template = cv2.imread('structuredata/template/testimg1.1.jpg',0) \n",
    "  \n",
    "# Store width and height of template in w and h \n",
    "w, h = template.shape[::-1] \n",
    "  \n",
    "# Perform match operations. \n",
    "res = cv2.matchTemplate(img_gray,template,cv2.TM_CCOEFF_NORMED) \n",
    "  \n",
    "# Specify a threshold \n",
    "threshold = 0.8\n",
    "  \n",
    "# Store the coordinates of matched area in a numpy array \n",
    "loc = np.where( res >= threshold)  \n",
    "  \n",
    "# Draw a rectangle around the matched region. \n",
    "for pt in zip(*loc[::-1]): \n",
    "    cv2.rectangle(img_rgb, pt, (pt[0] + w, pt[1] + h), (0,255,255), 1) \n",
    "\n",
    "# cv2.imshow('Detected',img_rgb)\n",
    "#detectedrs = ResizeWithAspectRatio(img_rgb, width=1000) # Resize by width OR resize by height \n",
    "\n",
    "cv2.imshow('Detected', img_rgb)\n",
    "cv2.waitKey(0)\n",
    "cv2.destroyAllWindows() #close the image window"
   ]
  },
  {
   "cell_type": "code",
   "execution_count": null,
   "metadata": {},
   "outputs": [],
   "source": []
  }
 ],
 "metadata": {
  "kernelspec": {
   "display_name": "Python 3",
   "language": "python",
   "name": "python3"
  },
  "language_info": {
   "codemirror_mode": {
    "name": "ipython",
    "version": 3
   },
   "file_extension": ".py",
   "mimetype": "text/x-python",
   "name": "python",
   "nbconvert_exporter": "python",
   "pygments_lexer": "ipython3",
   "version": "3.7.7"
  }
 },
 "nbformat": 4,
 "nbformat_minor": 4
}
