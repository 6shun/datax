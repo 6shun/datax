{
 "cells": [
  {
   "cell_type": "markdown",
   "metadata": {},
   "source": [
    "The channels I watched LOL are: #Tubbo #yamikazexz #riotgames #nightblue3 #iwilldominate #sneakylol #thebausffs #tfblade #loltyler1 #shiphtur #tarzaned #jankos #ratirl #drututt #katevolved #wingsofdeath #trick2g #karasmai #ipav999 #anniebot #boxbox #corejj #lol_selfmade # nisqyy #ikeepittaco #gamergirl #tobiasfate\n",
    "\n",
    "The channels I watched PUBG are: #Tubbo #danucd #tgltn #ibiza #hambinooo #break #halifax #pubg_andymh5 #grizz #alisa #summit1g #chocotaco #feyd #fuzzfaze49 #ashek #gagod #chad #taryn #jowybear #shrimzy\n",
    "\n",
    "https://www.twitch.tv/tubbo\n",
    "\n",
    "The tutorial: https://www.learndatasci.com/tutorials/how-stream-text-data-twitch-sockets-python/"
   ]
  },
  {
   "cell_type": "markdown",
   "metadata": {},
   "source": [
    "# Setup"
   ]
  },
  {
   "cell_type": "code",
   "execution_count": null,
   "metadata": {},
   "outputs": [],
   "source": [
    "from google.colab import drive\n",
    "drive.mount('/content/drive')"
   ]
  },
  {
   "cell_type": "code",
   "execution_count": null,
   "metadata": {},
   "outputs": [],
   "source": [
    "my_project_folder = 'Data-X: GGWP Toxic Behavior Public Data'"
   ]
  },
  {
   "cell_type": "code",
   "execution_count": null,
   "metadata": {},
   "outputs": [],
   "source": [
    "%cd drive/My Drive/{my_project_folder}/scraping"
   ]
  },
  {
   "cell_type": "code",
   "execution_count": 49,
   "metadata": {},
   "outputs": [],
   "source": [
    "server = 'irc.chat.twitch.tv'\n",
    "port = 6667\n",
    "nickname = 'aki_niki'  # your username\n",
    "token = '' # your token \n",
    "channel = '#tobiasfate'"
   ]
  },
  {
   "cell_type": "code",
   "execution_count": 50,
   "metadata": {},
   "outputs": [],
   "source": [
    "# instantiate a socket\n",
    "import socket\n",
    "sock = socket.socket()"
   ]
  },
  {
   "cell_type": "code",
   "execution_count": 51,
   "metadata": {},
   "outputs": [],
   "source": [
    "sock.connect((server, port))"
   ]
  },
  {
   "cell_type": "code",
   "execution_count": 52,
   "metadata": {},
   "outputs": [
    {
     "data": {
      "text/plain": [
       "17"
      ]
     },
     "execution_count": 52,
     "metadata": {},
     "output_type": "execute_result"
    }
   ],
   "source": [
    "sock.send(f\"PASS {token}\\n\".encode('utf-8'))\n",
    "sock.send(f\"NICK {nickname}\\n\".encode('utf-8'))\n",
    "sock.send(f\"JOIN {channel}\\n\".encode('utf-8'))"
   ]
  },
  {
   "cell_type": "code",
   "execution_count": 53,
   "metadata": {},
   "outputs": [
    {
     "data": {
      "text/plain": [
       "':tmi.twitch.tv 001 aki_niki :Welcome, GLHF!\\r\\n:tmi.twitch.tv 002 aki_niki :Your host is tmi.twitch.tv\\r\\n:tmi.twitch.tv 003 aki_niki :This server is rather new\\r\\n:tmi.twitch.tv 004 aki_niki :-\\r\\n:tmi.twitch.tv 375 aki_niki :-\\r\\n:tmi.twitch.tv 372 aki_niki :You are in a maze of twisty passages, all alike.\\r\\n:tmi.twitch.tv 376 aki_niki :>\\r\\n:aki_niki!aki_niki@aki_niki.tmi.twitch.tv JOIN #tobiasfate\\r\\n:aki_niki.tmi.twitch.tv 353 aki_niki = #tobiasfate :aki_niki\\r\\n:aki_niki.tmi.twitch.tv 366 aki_niki #tobiasfate :End of /NAMES list\\r\\n'"
      ]
     },
     "execution_count": 53,
     "metadata": {},
     "output_type": "execute_result"
    }
   ],
   "source": [
    "resp = sock.recv(2048).decode('utf-8')\n",
    "resp"
   ]
  },
  {
   "cell_type": "markdown",
   "metadata": {},
   "source": [
    "###### Write into files"
   ]
  },
  {
   "cell_type": "code",
   "execution_count": 54,
   "metadata": {},
   "outputs": [],
   "source": [
    "import logging\n",
    "\n",
    "logging.basicConfig(level=logging.DEBUG,\n",
    "                    format='%(asctime)s — %(message)s',\n",
    "                    datefmt='%Y-%m-%d_%H:%M:%S',\n",
    "                    handlers=[logging.FileHandler('chat.log', encoding='utf-8')])"
   ]
  },
  {
   "cell_type": "code",
   "execution_count": 55,
   "metadata": {},
   "outputs": [],
   "source": [
    "logging.info(resp)"
   ]
  },
  {
   "cell_type": "code",
   "execution_count": 56,
   "metadata": {},
   "outputs": [
    {
     "ename": "KeyboardInterrupt",
     "evalue": "",
     "output_type": "error",
     "traceback": [
      "\u001b[1;31m------------------------------------------------------------------\u001b[0m",
      "\u001b[1;31mKeyboardInterrupt\u001b[0m                Traceback (most recent call last)",
      "\u001b[1;32m<ipython-input-56-23b4e2775b08>\u001b[0m in \u001b[0;36m<module>\u001b[1;34m\u001b[0m\n\u001b[0;32m      4\u001b[0m \u001b[1;33m\u001b[0m\u001b[0m\n\u001b[0;32m      5\u001b[0m \u001b[1;32mwhile\u001b[0m \u001b[1;32mTrue\u001b[0m\u001b[1;33m:\u001b[0m\u001b[1;33m\u001b[0m\u001b[1;33m\u001b[0m\u001b[0m\n\u001b[1;32m----> 6\u001b[1;33m     \u001b[0mresp\u001b[0m \u001b[1;33m=\u001b[0m \u001b[0msock\u001b[0m\u001b[1;33m.\u001b[0m\u001b[0mrecv\u001b[0m\u001b[1;33m(\u001b[0m\u001b[1;36m2048\u001b[0m\u001b[1;33m)\u001b[0m\u001b[1;33m.\u001b[0m\u001b[0mdecode\u001b[0m\u001b[1;33m(\u001b[0m\u001b[1;34m'utf-8'\u001b[0m\u001b[1;33m)\u001b[0m\u001b[1;33m\u001b[0m\u001b[1;33m\u001b[0m\u001b[0m\n\u001b[0m\u001b[0;32m      7\u001b[0m \u001b[1;33m\u001b[0m\u001b[0m\n\u001b[0;32m      8\u001b[0m     \u001b[1;32mif\u001b[0m \u001b[0mresp\u001b[0m\u001b[1;33m.\u001b[0m\u001b[0mstartswith\u001b[0m\u001b[1;33m(\u001b[0m\u001b[1;34m'PING'\u001b[0m\u001b[1;33m)\u001b[0m\u001b[1;33m:\u001b[0m\u001b[1;33m\u001b[0m\u001b[1;33m\u001b[0m\u001b[0m\n",
      "\u001b[1;31mKeyboardInterrupt\u001b[0m: "
     ]
    }
   ],
   "source": [
    "# This process is keep collecting data. Interrupt it to go to the next step\n",
    "\n",
    "from emoji import demojize\n",
    "\n",
    "while True:\n",
    "    resp = sock.recv(2048).decode('utf-8')\n",
    "\n",
    "    if resp.startswith('PING'):\n",
    "        sock.send(\"PONG\\n\".encode('utf-8'))\n",
    "    \n",
    "    elif len(resp) > 0:\n",
    "        logging.info(demojize(resp))\n",
    "        \n",
    "# run in terminal: tail -f chat.log"
   ]
  },
  {
   "cell_type": "code",
   "execution_count": 57,
   "metadata": {},
   "outputs": [],
   "source": [
    "# sample message\n",
    "msg = \"2020-11-24_16:54:53 — :flam1ngoat!flam1ngoat@flam1ngoat.tmi.twitch.tv PRIVMSG #tobiasfate :I think\"\n",
    "#'2018-12-10_11:26:40 — :spappygram!spappygram@spappygram.tmi.twitch.tv PRIVMSG #ninja :Chat, let Ninja play solos'"
   ]
  },
  {
   "cell_type": "code",
   "execution_count": 58,
   "metadata": {},
   "outputs": [
    {
     "data": {
      "text/plain": [
       "datetime.datetime(2020, 11, 24, 16, 54, 53)"
      ]
     },
     "execution_count": 58,
     "metadata": {},
     "output_type": "execute_result"
    }
   ],
   "source": [
    "# date: split it off and parse it\n",
    "from datetime import datetime\n",
    "\n",
    "time_logged = msg.split()[0].strip()\n",
    "\n",
    "time_logged = datetime.strptime(time_logged, '%Y-%m-%d_%H:%M:%S')\n",
    "\n",
    "time_logged"
   ]
  },
  {
   "cell_type": "code",
   "execution_count": 59,
   "metadata": {},
   "outputs": [
    {
     "data": {
      "text/plain": [
       "':flam1ngoat!flam1ngoat@flam1ngoat.tmi.twitch.tv PRIVMSG #tobiasfate :I think'"
      ]
     },
     "execution_count": 59,
     "metadata": {},
     "output_type": "execute_result"
    }
   ],
   "source": [
    "username_message = msg.split('—')[1:]\n",
    "username_message = '—'.join(username_message).strip()\n",
    "\n",
    "username_message"
   ]
  },
  {
   "cell_type": "code",
   "execution_count": 60,
   "metadata": {},
   "outputs": [
    {
     "name": "stdout",
     "output_type": "stream",
     "text": [
      "Channel: tobiasfate \n",
      "Username: flam1ngoat \n",
      "Message: I think\n"
     ]
    }
   ],
   "source": [
    "import re\n",
    "\n",
    "username, channel, message = re.search(':(.*)\\!.*@.*\\.tmi\\.twitch\\.tv PRIVMSG #(.*) :(.*)', username_message).groups()\n",
    "#  (.*) — will capture part of the string\n",
    "\n",
    "print(f\"Channel: {channel} \\nUsername: {username} \\nMessage: {message}\")"
   ]
  },
  {
   "cell_type": "code",
   "execution_count": 61,
   "metadata": {},
   "outputs": [],
   "source": [
    "import pandas as pd\n",
    "\n",
    "def get_chat_dataframe(file):\n",
    "    data = []\n",
    "\n",
    "    with open(file, 'r', encoding='utf-8') as f:\n",
    "        lines = f.read().split('\\n\\n\\n')\n",
    "        \n",
    "        for line in lines:\n",
    "            try:\n",
    "                time_logged = line.split('—')[0].strip()\n",
    "                time_logged = datetime.strptime(time_logged, '%Y-%m-%d_%H:%M:%S')\n",
    "\n",
    "                username_message = line.split('—')[1:]\n",
    "                username_message = '—'.join(username_message).strip()\n",
    "\n",
    "                username, channel, message = re.search(\n",
    "                    ':(.*)\\!.*@.*\\.tmi\\.twitch\\.tv PRIVMSG #(.*) :(.*)', username_message\n",
    "                ).groups()\n",
    "\n",
    "                d = {\n",
    "                    'dt': time_logged,\n",
    "                    'channel': channel,\n",
    "                    'username': username,\n",
    "                    'message': message\n",
    "                }\n",
    "\n",
    "                data.append(d)\n",
    "            \n",
    "            except Exception:\n",
    "                pass\n",
    "            \n",
    "    return pd.DataFrame().from_records(data)\n",
    "        \n",
    "    \n",
    "df = get_chat_dataframe('chat.log')"
   ]
  },
  {
   "cell_type": "code",
   "execution_count": 62,
   "metadata": {},
   "outputs": [
    {
     "name": "stdout",
     "output_type": "stream",
     "text": [
      "(106545, 3)\n"
     ]
    },
    {
     "data": {
      "text/html": [
       "<div>\n",
       "<style scoped>\n",
       "    .dataframe tbody tr th:only-of-type {\n",
       "        vertical-align: middle;\n",
       "    }\n",
       "\n",
       "    .dataframe tbody tr th {\n",
       "        vertical-align: top;\n",
       "    }\n",
       "\n",
       "    .dataframe thead th {\n",
       "        text-align: right;\n",
       "    }\n",
       "</style>\n",
       "<table border=\"1\" class=\"dataframe\">\n",
       "  <thead>\n",
       "    <tr style=\"text-align: right;\">\n",
       "      <th></th>\n",
       "      <th>channel</th>\n",
       "      <th>username</th>\n",
       "      <th>message</th>\n",
       "    </tr>\n",
       "    <tr>\n",
       "      <th>dt</th>\n",
       "      <th></th>\n",
       "      <th></th>\n",
       "      <th></th>\n",
       "    </tr>\n",
       "  </thead>\n",
       "  <tbody>\n",
       "    <tr>\n",
       "      <th>2020-11-19 10:28:01</th>\n",
       "      <td>tfblade</td>\n",
       "      <td>hunter43k</td>\n",
       "      <td>yeah yeah insta 100 %</td>\n",
       "    </tr>\n",
       "    <tr>\n",
       "      <th>2020-11-19 10:28:04</th>\n",
       "      <td>tfblade</td>\n",
       "      <td>feudalrat</td>\n",
       "      <td>DOUBTERS PepeLaugh TeaTime DOUBTERS PepeLaugh ...</td>\n",
       "    </tr>\n",
       "    <tr>\n",
       "      <th>2020-11-19 10:28:06</th>\n",
       "      <td>tfblade</td>\n",
       "      <td>mylovesachan</td>\n",
       "      <td>SadChamp -2k on bet</td>\n",
       "    </tr>\n",
       "    <tr>\n",
       "      <th>2020-11-19 10:28:07</th>\n",
       "      <td>tfblade</td>\n",
       "      <td>exoooox3</td>\n",
       "      <td>WeirdChamp abuser</td>\n",
       "    </tr>\n",
       "    <tr>\n",
       "      <th>2020-11-19 10:28:08</th>\n",
       "      <td>tfblade</td>\n",
       "      <td>slimjim3010</td>\n",
       "      <td>I THOUGHT TRYND WAS DEAD</td>\n",
       "    </tr>\n",
       "    <tr>\n",
       "      <th>...</th>\n",
       "      <td>...</td>\n",
       "      <td>...</td>\n",
       "      <td>...</td>\n",
       "    </tr>\n",
       "    <tr>\n",
       "      <th>2020-11-25 21:46:21</th>\n",
       "      <td>tobiasfate</td>\n",
       "      <td>forgottenvoidx</td>\n",
       "      <td>I think he is fine losing lane to GP.. he just...</td>\n",
       "    </tr>\n",
       "    <tr>\n",
       "      <th>2020-11-25 21:46:22</th>\n",
       "      <td>tobiasfate</td>\n",
       "      <td>9kakosgeros6</td>\n",
       "      <td>doesn't*</td>\n",
       "    </tr>\n",
       "    <tr>\n",
       "      <th>2020-11-25 21:46:22</th>\n",
       "      <td>tobiasfate</td>\n",
       "      <td>airfoil</td>\n",
       "      <td>ap sion coming in hot</td>\n",
       "    </tr>\n",
       "    <tr>\n",
       "      <th>2020-11-25 21:46:23</th>\n",
       "      <td>tobiasfate</td>\n",
       "      <td>bastianicean</td>\n",
       "      <td>how are the new items treatin ya tobi</td>\n",
       "    </tr>\n",
       "    <tr>\n",
       "      <th>2020-11-25 21:46:26</th>\n",
       "      <td>tobiasfate</td>\n",
       "      <td>chosen3500</td>\n",
       "      <td>seekers is so broken though, 45 armor for 900 ...</td>\n",
       "    </tr>\n",
       "  </tbody>\n",
       "</table>\n",
       "<p>106545 rows × 3 columns</p>\n",
       "</div>"
      ],
      "text/plain": [
       "                        channel        username  \\\n",
       "dt                                                \n",
       "2020-11-19 10:28:01     tfblade       hunter43k   \n",
       "2020-11-19 10:28:04     tfblade       feudalrat   \n",
       "2020-11-19 10:28:06     tfblade    mylovesachan   \n",
       "2020-11-19 10:28:07     tfblade        exoooox3   \n",
       "2020-11-19 10:28:08     tfblade     slimjim3010   \n",
       "...                         ...             ...   \n",
       "2020-11-25 21:46:21  tobiasfate  forgottenvoidx   \n",
       "2020-11-25 21:46:22  tobiasfate    9kakosgeros6   \n",
       "2020-11-25 21:46:22  tobiasfate         airfoil   \n",
       "2020-11-25 21:46:23  tobiasfate    bastianicean   \n",
       "2020-11-25 21:46:26  tobiasfate      chosen3500   \n",
       "\n",
       "                                                               message  \n",
       "dt                                                                      \n",
       "2020-11-19 10:28:01                              yeah yeah insta 100 %  \n",
       "2020-11-19 10:28:04  DOUBTERS PepeLaugh TeaTime DOUBTERS PepeLaugh ...  \n",
       "2020-11-19 10:28:06                                SadChamp -2k on bet  \n",
       "2020-11-19 10:28:07                                  WeirdChamp abuser  \n",
       "2020-11-19 10:28:08                           I THOUGHT TRYND WAS DEAD  \n",
       "...                                                                ...  \n",
       "2020-11-25 21:46:21  I think he is fine losing lane to GP.. he just...  \n",
       "2020-11-25 21:46:22                                           doesn't*  \n",
       "2020-11-25 21:46:22                              ap sion coming in hot  \n",
       "2020-11-25 21:46:23              how are the new items treatin ya tobi  \n",
       "2020-11-25 21:46:26  seekers is so broken though, 45 armor for 900 ...  \n",
       "\n",
       "[106545 rows x 3 columns]"
      ]
     },
     "execution_count": 62,
     "metadata": {},
     "output_type": "execute_result"
    }
   ],
   "source": [
    "df.set_index('dt', inplace=True)\n",
    "\n",
    "print(df.shape)\n",
    "\n",
    "df"
   ]
  },
  {
   "cell_type": "code",
   "execution_count": 63,
   "metadata": {},
   "outputs": [],
   "source": [
    "sock.close()"
   ]
  },
  {
   "cell_type": "markdown",
   "metadata": {},
   "source": [
    "# Conver to CSV"
   ]
  },
  {
   "cell_type": "code",
   "execution_count": null,
   "metadata": {},
   "outputs": [],
   "source": [
    "# Get only the message column as only that is required for the model prediction\n",
    "df2 = df['message'].to_frame() \n",
    "df2 = df2.drop_duplicates() # drop duplicates"
   ]
  },
  {
   "cell_type": "code",
   "execution_count": 64,
   "metadata": {},
   "outputs": [],
   "source": [
    "game_platform = \"pubg_twitch\"\n",
    "df2.to_csv('../data/scraped/' + game_platform + '.csv', encoding='utf-8')"
   ]
  }
 ],
 "metadata": {
  "kernelspec": {
   "display_name": "Python 3",
   "language": "python",
   "name": "python3"
  },
  "language_info": {
   "codemirror_mode": {
    "name": "ipython",
    "version": 3
   },
   "file_extension": ".py",
   "mimetype": "text/x-python",
   "name": "python",
   "nbconvert_exporter": "python",
   "pygments_lexer": "ipython3",
   "version": "3.8.3"
  }
 },
 "nbformat": 4,
 "nbformat_minor": 4
}
