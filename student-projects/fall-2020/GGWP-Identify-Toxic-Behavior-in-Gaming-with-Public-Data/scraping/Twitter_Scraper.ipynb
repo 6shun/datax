{
 "cells": [
  {
   "cell_type": "markdown",
   "metadata": {},
   "source": [
    "# Setup"
   ]
  },
  {
   "cell_type": "code",
   "execution_count": null,
   "metadata": {
    "id": "hG_fxDTwWJA5"
   },
   "outputs": [],
   "source": [
    "import tweepy\n",
    "import numpy as np\n",
    "import pandas as pd"
   ]
  },
  {
   "cell_type": "code",
   "execution_count": null,
   "metadata": {
    "colab": {
     "base_uri": "https://localhost:8080/"
    },
    "id": "9PP-n6xKlwxl",
    "outputId": "1cba9e84-8995-41b2-95dd-d4ae54b93149"
   },
   "outputs": [],
   "source": [
    "from google.colab import drive\n",
    "drive.mount('/content/drive')"
   ]
  },
  {
   "cell_type": "code",
   "execution_count": null,
   "metadata": {},
   "outputs": [],
   "source": [
    "my_project_folder = 'Data-X: GGWP Toxic Behavior Public Data'"
   ]
  },
  {
   "cell_type": "code",
   "execution_count": null,
   "metadata": {
    "colab": {
     "base_uri": "https://localhost:8080/"
    },
    "id": "N6A_clF7l6F8",
    "outputId": "75b298e9-628b-497f-f83a-efee285c1371"
   },
   "outputs": [],
   "source": [
    "%cd drive/My Drive/{my_project_folder}/scraping"
   ]
  },
  {
   "cell_type": "markdown",
   "metadata": {},
   "source": [
    "## Insert Twitter Keys"
   ]
  },
  {
   "cell_type": "code",
   "execution_count": null,
   "metadata": {
    "id": "gllB4kYwWVMF"
   },
   "outputs": [],
   "source": [
    "# consumer_key = \n",
    "# consumer_secret = \n",
    "# access_token = \n",
    "# access_token_secret = "
   ]
  },
  {
   "cell_type": "markdown",
   "metadata": {},
   "source": [
    "## Interact with API"
   ]
  },
  {
   "cell_type": "code",
   "execution_count": null,
   "metadata": {
    "id": "ygQc39L1WRXN"
   },
   "outputs": [],
   "source": [
    "auth = tweepy.OAuthHandler(consumer_key, consumer_secret)\n",
    "auth.set_access_token(access_token, access_token_secret)\n",
    "\n",
    "api = tweepy.API(auth, wait_on_rate_limit=True) # API will wait if it exceeds the 15-minute limit"
   ]
  },
  {
   "cell_type": "markdown",
   "metadata": {},
   "source": [
    "# Scrape"
   ]
  },
  {
   "cell_type": "markdown",
   "metadata": {},
   "source": [
    "## Indicate Search Word and number of Tweets to Collect"
   ]
  },
  {
   "cell_type": "code",
   "execution_count": null,
   "metadata": {
    "id": "z-GWt-GJWuTf"
   },
   "outputs": [],
   "source": [
    "search_words = \"pubg -filter:links\"\n",
    "tweet_count = 2000"
   ]
  },
  {
   "cell_type": "markdown",
   "metadata": {},
   "source": [
    "## Extract Tweets"
   ]
  },
  {
   "cell_type": "code",
   "execution_count": null,
   "metadata": {
    "colab": {
     "base_uri": "https://localhost:8080/"
    },
    "id": "SUxARWV_Wb6n",
    "outputId": "cbf8f086-c04e-460f-ddea-e7cc272a3a77"
   },
   "outputs": [],
   "source": [
    "tweets = tweepy.Cursor(api.search, q=search_words, lang='en', tweet_mode='extended').items(tweet_count)\n",
    "\n",
    "# Add all tweets to the list\n",
    "tweets_list = []\n",
    "for i, tweet in enumerate(tweets):\n",
    "    if i % 1000 == 0:\n",
    "        print(f\"Adding {i}th tweet to list\") # Counter to make sure \n",
    "    tweets_list.append(tweet.full_text)"
   ]
  },
  {
   "cell_type": "markdown",
   "metadata": {},
   "source": [
    "## Transform into Dataframe and Save CSV"
   ]
  },
  {
   "cell_type": "code",
   "execution_count": null,
   "metadata": {
    "id": "aXn7AoaZWffY"
   },
   "outputs": [],
   "source": [
    "tweets_df = pd.DataFrame(tweets_list, columns=['Tweet'])"
   ]
  },
  {
   "cell_type": "code",
   "execution_count": null,
   "metadata": {
    "id": "Rwmzwl50lZVf"
   },
   "outputs": [],
   "source": [
    "tweets_df = tweets_df.drop_duplicates()"
   ]
  },
  {
   "cell_type": "code",
   "execution_count": null,
   "metadata": {
    "id": "V002bJt_W7Iz"
   },
   "outputs": [],
   "source": [
    "game_platform = 'pubg_twitter'\n",
    "tweets_df.to_csv('../data/scraped/' + game_platform + '.csv')"
   ]
  }
 ],
 "metadata": {
  "colab": {
   "collapsed_sections": [],
   "name": "Twitter Scraper.ipynb",
   "provenance": []
  },
  "kernelspec": {
   "display_name": "Python 3",
   "language": "python",
   "name": "python3"
  },
  "language_info": {
   "codemirror_mode": {
    "name": "ipython",
    "version": 3
   },
   "file_extension": ".py",
   "mimetype": "text/x-python",
   "name": "python",
   "nbconvert_exporter": "python",
   "pygments_lexer": "ipython3",
   "version": "3.8.3"
  }
 },
 "nbformat": 4,
 "nbformat_minor": 1
}
