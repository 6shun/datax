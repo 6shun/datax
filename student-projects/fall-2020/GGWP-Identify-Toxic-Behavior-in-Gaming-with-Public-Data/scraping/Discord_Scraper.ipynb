{
  "nbformat": 4,
  "nbformat_minor": 0,
  "metadata": {
    "kernelspec": {
      "display_name": "Python 3",
      "language": "python",
      "name": "python3"
    },
    "language_info": {
      "codemirror_mode": {
        "name": "ipython",
        "version": 3
      },
      "file_extension": ".py",
      "mimetype": "text/x-python",
      "name": "python",
      "nbconvert_exporter": "python",
      "pygments_lexer": "ipython3",
      "version": "3.8.3"
    },
    "colab": {
      "name": "Discord_Scraper.ipynb",
      "provenance": [],
      "collapsed_sections": []
    }
  },
  "cells": [
    {
      "cell_type": "markdown",
      "metadata": {
        "id": "kl_F-N0zJ4CE"
      },
      "source": [
        "# Setup"
      ]
    },
    {
      "cell_type": "markdown",
      "metadata": {
        "id": "UoSBSz7zJ4CF"
      },
      "source": [
        "## Import Libaries"
      ]
    },
    {
      "cell_type": "code",
      "metadata": {
        "id": "uuuYt87PJ4CG"
      },
      "source": [
        "import pandas as pd\n",
        "import sqlite3\n",
        "from sklearn.feature_extraction.text import CountVectorizer\n",
        "from sklearn.feature_extraction.text import TfidfVectorizer\n",
        "from nltk.corpus import stopwords"
      ],
      "execution_count": null,
      "outputs": []
    },
    {
      "cell_type": "code",
      "metadata": {
        "colab": {
          "base_uri": "https://localhost:8080/"
        },
        "id": "KcS1TkZYJ4CH",
        "outputId": "ceebc547-7879-4282-b62d-8b6815e9a66d"
      },
      "source": [
        "from google.colab import drive\n",
        "drive.mount('/content/drive')"
      ],
      "execution_count": null,
      "outputs": [
        {
          "output_type": "stream",
          "text": [
            "Drive already mounted at /content/drive; to attempt to forcibly remount, call drive.mount(\"/content/drive\", force_remount=True).\n"
          ],
          "name": "stdout"
        }
      ]
    },
    {
      "cell_type": "code",
      "metadata": {
        "id": "P9vgAd4MTNRD"
      },
      "source": [
        "my_project_folder = 'Data-X: GGWP Toxic Behavior Public Data'"
      ],
      "execution_count": null,
      "outputs": []
    },
    {
      "cell_type": "code",
      "metadata": {
        "colab": {
          "base_uri": "https://localhost:8080/"
        },
        "id": "LUchy6vTJ4CH",
        "outputId": "0617caf6-6765-44fc-9cc4-9b715e399581"
      },
      "source": [
        "%cd drive/My Drive/{my_project_folder}/scraping/discord_scraper"
      ],
      "execution_count": null,
      "outputs": [
        {
          "output_type": "stream",
          "text": [
            "/content/drive/My Drive/Data-X: GGWP Toxic Behavior Public Data/scraping/discord_scraper\n"
          ],
          "name": "stdout"
        }
      ]
    },
    {
      "cell_type": "markdown",
      "metadata": {
        "id": "u4c4jFIFXjKj"
      },
      "source": [
        "# Note"
      ]
    },
    {
      "cell_type": "markdown",
      "metadata": {
        "id": "UEjWz1D8XmUK"
      },
      "source": [
        "In order to configure what server/channel to pull data from, folow the steps here: https://github.com/Dracovian/Discord-Scraper"
      ]
    },
    {
      "cell_type": "markdown",
      "metadata": {
        "id": "njcLwouNJ4CH"
      },
      "source": [
        "# Run the discord.py file"
      ]
    },
    {
      "cell_type": "code",
      "metadata": {
        "id": "YyDpCOgHJ4CH"
      },
      "source": [
        "num_comments = 100"
      ],
      "execution_count": null,
      "outputs": []
    },
    {
      "cell_type": "code",
      "metadata": {
        "id": "riaA1BFRJ4CI"
      },
      "source": [
        "!python discord.py {num_comments}"
      ],
      "execution_count": null,
      "outputs": []
    },
    {
      "cell_type": "markdown",
      "metadata": {
        "id": "2d4bOx03J4CI"
      },
      "source": [
        "## Convert db file to Pandas Dataframe"
      ]
    },
    {
      "cell_type": "code",
      "metadata": {
        "id": "VLnzPr67J4CI"
      },
      "source": [
        "con = sqlite3.connect('./Discord Scrapes/text.db')"
      ],
      "execution_count": null,
      "outputs": []
    },
    {
      "cell_type": "code",
      "metadata": {
        "id": "2XYV-2RwJ4CI"
      },
      "source": [
        "cursor = con.cursor()\n",
        "cursor.execute(\"SELECT name FROM sqlite_master WHERE type='table';\")\n",
        "table_name = cursor.fetchall()[0][-1]"
      ],
      "execution_count": null,
      "outputs": []
    },
    {
      "cell_type": "code",
      "metadata": {
        "id": "O9IeI3nBJ4CJ"
      },
      "source": [
        "db = pd.read_sql_query(f\"SELECT name, content, timestamp FROM {table_name}\", con)"
      ],
      "execution_count": null,
      "outputs": []
    },
    {
      "cell_type": "code",
      "metadata": {
        "scrolled": true,
        "colab": {
          "base_uri": "https://localhost:8080/",
          "height": 662
        },
        "id": "h_rRK7ZaJ4CJ",
        "outputId": "3ee78be4-90c1-4f0a-f98a-8a9e7ba593f5"
      },
      "source": [
        "db"
      ],
      "execution_count": null,
      "outputs": [
        {
          "output_type": "execute_result",
          "data": {
            "text/html": [
              "<div>\n",
              "<style scoped>\n",
              "    .dataframe tbody tr th:only-of-type {\n",
              "        vertical-align: middle;\n",
              "    }\n",
              "\n",
              "    .dataframe tbody tr th {\n",
              "        vertical-align: top;\n",
              "    }\n",
              "\n",
              "    .dataframe thead th {\n",
              "        text-align: right;\n",
              "    }\n",
              "</style>\n",
              "<table border=\"1\" class=\"dataframe\">\n",
              "  <thead>\n",
              "    <tr style=\"text-align: right;\">\n",
              "      <th></th>\n",
              "      <th>name</th>\n",
              "      <th>content</th>\n",
              "      <th>timestamp</th>\n",
              "    </tr>\n",
              "  </thead>\n",
              "  <tbody>\n",
              "    <tr>\n",
              "      <th>0</th>\n",
              "      <td>Takarii#0001</td>\n",
              "      <td>&lt;:SatanaThumbsUp:451892432313909288&gt;</td>\n",
              "      <td>2020-12-09T16:18:05.417000+00:00</td>\n",
              "    </tr>\n",
              "    <tr>\n",
              "      <th>1</th>\n",
              "      <td>PT#8733</td>\n",
              "      <td>got to say , its nice to hear ahead of time th...</td>\n",
              "      <td>2020-12-09T17:27:39.723000+00:00</td>\n",
              "    </tr>\n",
              "    <tr>\n",
              "      <th>2</th>\n",
              "      <td>PT#8733</td>\n",
              "      <td>https://www.polygon.com/2020/12/9/22165435/pub...</td>\n",
              "      <td>2020-12-09T17:27:48.253000+00:00</td>\n",
              "    </tr>\n",
              "    <tr>\n",
              "      <th>3</th>\n",
              "      <td>PT#8733</td>\n",
              "      <td>good to clear that up now</td>\n",
              "      <td>2020-12-09T17:27:52.086000+00:00</td>\n",
              "    </tr>\n",
              "    <tr>\n",
              "      <th>4</th>\n",
              "      <td>PT#8733</td>\n",
              "      <td>\"That’s where PUBG separates itself from all t...</td>\n",
              "      <td>2020-12-09T17:32:43.294000+00:00</td>\n",
              "    </tr>\n",
              "    <tr>\n",
              "      <th>5</th>\n",
              "      <td>hybridhavoc#4027</td>\n",
              "      <td>If playing through Stadia, perhaps?  I haven't...</td>\n",
              "      <td>2020-12-09T14:30:45.019000+00:00</td>\n",
              "    </tr>\n",
              "    <tr>\n",
              "      <th>6</th>\n",
              "      <td>Oshowott#0520</td>\n",
              "      <td>Any one wanna play on mobile.</td>\n",
              "      <td>2020-12-09T14:48:00.132000+00:00</td>\n",
              "    </tr>\n",
              "    <tr>\n",
              "      <th>7</th>\n",
              "      <td>PUBG bot#1548</td>\n",
              "      <td>This is the Official PUBG Discord for PC, Xbox...</td>\n",
              "      <td>2020-12-09T14:50:54.006000+00:00</td>\n",
              "    </tr>\n",
              "    <tr>\n",
              "      <th>8</th>\n",
              "      <td>Takarii#0001</td>\n",
              "      <td>I've been away for a couple of weeks, so I onl...</td>\n",
              "      <td>2020-12-09T15:02:51.895000+00:00</td>\n",
              "    </tr>\n",
              "    <tr>\n",
              "      <th>9</th>\n",
              "      <td>Takarii#0001</td>\n",
              "      <td>I've seen others mention that they aren't trac...</td>\n",
              "      <td>2020-12-09T15:04:03.714000+00:00</td>\n",
              "    </tr>\n",
              "    <tr>\n",
              "      <th>10</th>\n",
              "      <td>Takarii#0001</td>\n",
              "      <td>&lt;:SatanaThumbsUp:451892432313909288&gt;</td>\n",
              "      <td>2020-12-09T16:18:05.417000+00:00</td>\n",
              "    </tr>\n",
              "    <tr>\n",
              "      <th>11</th>\n",
              "      <td>PT#8733</td>\n",
              "      <td>got to say , its nice to hear ahead of time th...</td>\n",
              "      <td>2020-12-09T17:27:39.723000+00:00</td>\n",
              "    </tr>\n",
              "    <tr>\n",
              "      <th>12</th>\n",
              "      <td>PT#8733</td>\n",
              "      <td>https://www.polygon.com/2020/12/9/22165435/pub...</td>\n",
              "      <td>2020-12-09T17:27:48.253000+00:00</td>\n",
              "    </tr>\n",
              "    <tr>\n",
              "      <th>13</th>\n",
              "      <td>PT#8733</td>\n",
              "      <td>good to clear that up now</td>\n",
              "      <td>2020-12-09T17:27:52.086000+00:00</td>\n",
              "    </tr>\n",
              "    <tr>\n",
              "      <th>14</th>\n",
              "      <td>PT#8733</td>\n",
              "      <td>\"That’s where PUBG separates itself from all t...</td>\n",
              "      <td>2020-12-09T17:32:43.294000+00:00</td>\n",
              "    </tr>\n",
              "    <tr>\n",
              "      <th>15</th>\n",
              "      <td>hybridhavoc#4027</td>\n",
              "      <td>If playing through Stadia, perhaps?  I haven't...</td>\n",
              "      <td>2020-12-09T14:30:45.019000+00:00</td>\n",
              "    </tr>\n",
              "    <tr>\n",
              "      <th>16</th>\n",
              "      <td>Oshowott#0520</td>\n",
              "      <td>Any one wanna play on mobile.</td>\n",
              "      <td>2020-12-09T14:48:00.132000+00:00</td>\n",
              "    </tr>\n",
              "    <tr>\n",
              "      <th>17</th>\n",
              "      <td>PUBG bot#1548</td>\n",
              "      <td>This is the Official PUBG Discord for PC, Xbox...</td>\n",
              "      <td>2020-12-09T14:50:54.006000+00:00</td>\n",
              "    </tr>\n",
              "    <tr>\n",
              "      <th>18</th>\n",
              "      <td>Takarii#0001</td>\n",
              "      <td>I've been away for a couple of weeks, so I onl...</td>\n",
              "      <td>2020-12-09T15:02:51.895000+00:00</td>\n",
              "    </tr>\n",
              "    <tr>\n",
              "      <th>19</th>\n",
              "      <td>Takarii#0001</td>\n",
              "      <td>I've seen others mention that they aren't trac...</td>\n",
              "      <td>2020-12-09T15:04:03.714000+00:00</td>\n",
              "    </tr>\n",
              "  </tbody>\n",
              "</table>\n",
              "</div>"
            ],
            "text/plain": [
              "                name  ...                         timestamp\n",
              "0       Takarii#0001  ...  2020-12-09T16:18:05.417000+00:00\n",
              "1            PT#8733  ...  2020-12-09T17:27:39.723000+00:00\n",
              "2            PT#8733  ...  2020-12-09T17:27:48.253000+00:00\n",
              "3            PT#8733  ...  2020-12-09T17:27:52.086000+00:00\n",
              "4            PT#8733  ...  2020-12-09T17:32:43.294000+00:00\n",
              "5   hybridhavoc#4027  ...  2020-12-09T14:30:45.019000+00:00\n",
              "6      Oshowott#0520  ...  2020-12-09T14:48:00.132000+00:00\n",
              "7      PUBG bot#1548  ...  2020-12-09T14:50:54.006000+00:00\n",
              "8       Takarii#0001  ...  2020-12-09T15:02:51.895000+00:00\n",
              "9       Takarii#0001  ...  2020-12-09T15:04:03.714000+00:00\n",
              "10      Takarii#0001  ...  2020-12-09T16:18:05.417000+00:00\n",
              "11           PT#8733  ...  2020-12-09T17:27:39.723000+00:00\n",
              "12           PT#8733  ...  2020-12-09T17:27:48.253000+00:00\n",
              "13           PT#8733  ...  2020-12-09T17:27:52.086000+00:00\n",
              "14           PT#8733  ...  2020-12-09T17:32:43.294000+00:00\n",
              "15  hybridhavoc#4027  ...  2020-12-09T14:30:45.019000+00:00\n",
              "16     Oshowott#0520  ...  2020-12-09T14:48:00.132000+00:00\n",
              "17     PUBG bot#1548  ...  2020-12-09T14:50:54.006000+00:00\n",
              "18      Takarii#0001  ...  2020-12-09T15:02:51.895000+00:00\n",
              "19      Takarii#0001  ...  2020-12-09T15:04:03.714000+00:00\n",
              "\n",
              "[20 rows x 3 columns]"
            ]
          },
          "metadata": {
            "tags": []
          },
          "execution_count": 20
        }
      ]
    },
    {
      "cell_type": "markdown",
      "metadata": {
        "id": "GisJe7kyJ4CK"
      },
      "source": [
        "## Save to CSV"
      ]
    },
    {
      "cell_type": "code",
      "metadata": {
        "id": "v7qpYtKAJ4CK"
      },
      "source": [
        "df = db['content'].to_frame() # Only extract the content column, as only that is required for model\n",
        "df = df.drop_duplicates() # drop duplicates"
      ],
      "execution_count": null,
      "outputs": []
    },
    {
      "cell_type": "code",
      "metadata": {
        "id": "kVmtuosIJ4CK"
      },
      "source": [
        "game_platform = \"pubg_discord\"\n",
        "df.to_csv('../../data/scraped/' + game_platform + '.csv')"
      ],
      "execution_count": null,
      "outputs": []
    }
  ]
}