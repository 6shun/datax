{
 "cells": [
  {
   "cell_type": "code",
   "execution_count": 2,
   "metadata": {},
   "outputs": [],
   "source": [
    "import pandas as pd\n",
    "import numpy as np"
   ]
  },
  {
   "cell_type": "code",
   "execution_count": 6,
   "metadata": {},
   "outputs": [],
   "source": [
    "austin = pd.read_csv('../bias_scores/austin_bias_score.csv')\n",
    "bloomington = pd.read_csv('../bias_scores/bloomington_bias_score.csv')\n",
    "chicago = pd.read_csv('../bias_scores/chicago_bias_score.csv')\n",
    "cincinnati = pd.read_csv('../bias_scores/cincinnati_bias_score.csv')\n",
    "lincoln = pd.read_csv('../bias_scores/lincoln_bias_score.csv')\n",
    "nyc = pd.read_csv('../bias_scores/nyc_bias_score.csv')\n",
    "portland = pd.read_csv('../bias_scores/portland_bias_score.csv')"
   ]
  },
  {
   "cell_type": "code",
   "execution_count": 7,
   "metadata": {},
   "outputs": [],
   "source": [
    "all_cities = pd.concat([austin, bloomington, chicago, cincinnati, lincoln, nyc, portland]).loc[:,'year':'diagnostic percentile']"
   ]
  },
  {
   "cell_type": "code",
   "execution_count": 8,
   "metadata": {},
   "outputs": [],
   "source": [
    "all_cities.to_csv('../bias_scores/all_cities_bias_score.csv')"
   ]
  },
  {
   "cell_type": "code",
   "execution_count": null,
   "metadata": {},
   "outputs": [],
   "source": []
  }
 ],
 "metadata": {
  "kernelspec": {
   "display_name": "Python 3",
   "language": "python",
   "name": "python3"
  },
  "language_info": {
   "codemirror_mode": {
    "name": "ipython",
    "version": 3
   },
   "file_extension": ".py",
   "mimetype": "text/x-python",
   "name": "python",
   "nbconvert_exporter": "python",
   "pygments_lexer": "ipython3",
   "version": "3.7.7"
  }
 },
 "nbformat": 4,
 "nbformat_minor": 4
}
