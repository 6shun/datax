{
 "cells": [
  {
   "cell_type": "markdown",
   "metadata": {
    "id": "iOVZQq_3ysEK"
   },
   "source": [
    "# Police Bias Algorithm"
   ]
  },
  {
   "cell_type": "markdown",
   "metadata": {
    "id": "EMMPDTc8ysEL"
   },
   "source": [
    "## Racial Bias Score"
   ]
  },
  {
   "cell_type": "code",
   "execution_count": 1,
   "metadata": {
    "id": "8iuIa-EuysEM"
   },
   "outputs": [],
   "source": [
    "import pandas as pd\n",
    "import numpy as np\n",
    "import math\n",
    "import matplotlib.pyplot as plt\n",
    "from scipy.stats import norm\n",
    "from scipy.special import ndtr"
   ]
  },
  {
   "cell_type": "markdown",
   "metadata": {
    "id": "B-l_yrJ0ysEQ"
   },
   "source": [
    "### Dataframe of the features that will be examined in the police department from 2016 to 2019"
   ]
  },
  {
   "cell_type": "markdown",
   "metadata": {
    "id": "M9LHMFgHysEQ"
   },
   "source": [
    "DataFrame that contains all of our features: \n",
    "**For the purposes of this algorithm, I inputted dummy data for values in order to test out the algorithm and look at the differences in z scores**"
   ]
  },
  {
   "cell_type": "code",
   "execution_count": 4,
   "metadata": {
    "colab": {
     "base_uri": "https://localhost:8080/",
     "height": 193
    },
    "id": "HSmhe7r2ysER",
    "outputId": "147851a7-8962-454e-e03b-5b5234a5bdab"
   },
   "outputs": [
    {
     "data": {
      "text/html": [
       "<div>\n",
       "<style scoped>\n",
       "    .dataframe tbody tr th:only-of-type {\n",
       "        vertical-align: middle;\n",
       "    }\n",
       "\n",
       "    .dataframe tbody tr th {\n",
       "        vertical-align: top;\n",
       "    }\n",
       "\n",
       "    .dataframe thead th {\n",
       "        text-align: right;\n",
       "    }\n",
       "</style>\n",
       "<table border=\"1\" class=\"dataframe\">\n",
       "  <thead>\n",
       "    <tr style=\"text-align: right;\">\n",
       "      <th></th>\n",
       "      <th>Unnamed: 0</th>\n",
       "      <th>city</th>\n",
       "      <th>year</th>\n",
       "      <th>total_pop</th>\n",
       "      <th>black_pct</th>\n",
       "      <th>white_pct</th>\n",
       "      <th>latinx_pct</th>\n",
       "      <th>asian_pct</th>\n",
       "      <th>other_pct</th>\n",
       "      <th>black_drive_stops</th>\n",
       "      <th>white_drive_stops</th>\n",
       "      <th>latinx_drive_stops</th>\n",
       "      <th>asian_drive_stops</th>\n",
       "      <th>other_drive_stops</th>\n",
       "      <th>black_uof</th>\n",
       "      <th>white_uof</th>\n",
       "      <th>latinx_uof</th>\n",
       "      <th>asian_uof</th>\n",
       "      <th>other_uof</th>\n",
       "    </tr>\n",
       "  </thead>\n",
       "  <tbody>\n",
       "    <tr>\n",
       "      <th>0</th>\n",
       "      <td>0</td>\n",
       "      <td>Portland</td>\n",
       "      <td>2016</td>\n",
       "      <td>639635</td>\n",
       "      <td>0.058</td>\n",
       "      <td>0.704</td>\n",
       "      <td>0.102</td>\n",
       "      <td>0.076</td>\n",
       "      <td>0.060</td>\n",
       "      <td>1745</td>\n",
       "      <td>14433</td>\n",
       "      <td>1443</td>\n",
       "      <td>1045</td>\n",
       "      <td>1132</td>\n",
       "      <td>236</td>\n",
       "      <td>498</td>\n",
       "      <td>94</td>\n",
       "      <td>41</td>\n",
       "      <td>9</td>\n",
       "    </tr>\n",
       "    <tr>\n",
       "      <th>1</th>\n",
       "      <td>1</td>\n",
       "      <td>Portland</td>\n",
       "      <td>2017</td>\n",
       "      <td>648121</td>\n",
       "      <td>0.053</td>\n",
       "      <td>0.698</td>\n",
       "      <td>0.104</td>\n",
       "      <td>0.081</td>\n",
       "      <td>0.064</td>\n",
       "      <td>1168</td>\n",
       "      <td>7695</td>\n",
       "      <td>797</td>\n",
       "      <td>531</td>\n",
       "      <td>522</td>\n",
       "      <td>236</td>\n",
       "      <td>498</td>\n",
       "      <td>94</td>\n",
       "      <td>41</td>\n",
       "      <td>9</td>\n",
       "    </tr>\n",
       "    <tr>\n",
       "      <th>2</th>\n",
       "      <td>2</td>\n",
       "      <td>Portland</td>\n",
       "      <td>2018</td>\n",
       "      <td>652573</td>\n",
       "      <td>0.061</td>\n",
       "      <td>0.700</td>\n",
       "      <td>0.093</td>\n",
       "      <td>0.088</td>\n",
       "      <td>0.058</td>\n",
       "      <td>1386</td>\n",
       "      <td>9397</td>\n",
       "      <td>1134</td>\n",
       "      <td>703</td>\n",
       "      <td>553</td>\n",
       "      <td>539</td>\n",
       "      <td>1140</td>\n",
       "      <td>170</td>\n",
       "      <td>54</td>\n",
       "      <td>37</td>\n",
       "    </tr>\n",
       "    <tr>\n",
       "      <th>3</th>\n",
       "      <td>3</td>\n",
       "      <td>Portland</td>\n",
       "      <td>2019</td>\n",
       "      <td>653467</td>\n",
       "      <td>0.055</td>\n",
       "      <td>0.705</td>\n",
       "      <td>0.097</td>\n",
       "      <td>0.081</td>\n",
       "      <td>0.062</td>\n",
       "      <td>2057</td>\n",
       "      <td>10108</td>\n",
       "      <td>1448</td>\n",
       "      <td>751</td>\n",
       "      <td>345</td>\n",
       "      <td>579</td>\n",
       "      <td>957</td>\n",
       "      <td>128</td>\n",
       "      <td>28</td>\n",
       "      <td>39</td>\n",
       "    </tr>\n",
       "  </tbody>\n",
       "</table>\n",
       "</div>"
      ],
      "text/plain": [
       "   Unnamed: 0      city  year  total_pop  black_pct  white_pct  latinx_pct  \\\n",
       "0           0  Portland  2016     639635      0.058      0.704       0.102   \n",
       "1           1  Portland  2017     648121      0.053      0.698       0.104   \n",
       "2           2  Portland  2018     652573      0.061      0.700       0.093   \n",
       "3           3  Portland  2019     653467      0.055      0.705       0.097   \n",
       "\n",
       "   asian_pct  other_pct  black_drive_stops  white_drive_stops  \\\n",
       "0      0.076      0.060               1745              14433   \n",
       "1      0.081      0.064               1168               7695   \n",
       "2      0.088      0.058               1386               9397   \n",
       "3      0.081      0.062               2057              10108   \n",
       "\n",
       "   latinx_drive_stops  asian_drive_stops  other_drive_stops  black_uof  \\\n",
       "0                1443               1045               1132        236   \n",
       "1                 797                531                522        236   \n",
       "2                1134                703                553        539   \n",
       "3                1448                751                345        579   \n",
       "\n",
       "   white_uof  latinx_uof  asian_uof  other_uof  \n",
       "0        498          94         41          9  \n",
       "1        498          94         41          9  \n",
       "2       1140         170         54         37  \n",
       "3        957         128         28         39  "
      ]
     },
     "execution_count": 4,
     "metadata": {},
     "output_type": "execute_result"
    }
   ],
   "source": [
    "portland = pd.read_csv('portland.csv')\n",
    "cities = portland\n",
    "cities['city'] = ['Portland']*4\n",
    "cities"
   ]
  },
  {
   "cell_type": "markdown",
   "metadata": {
    "id": "6t_wZNeRysEY"
   },
   "source": [
    "### 2019 Population Statistics"
   ]
  },
  {
   "cell_type": "markdown",
   "metadata": {
    "id": "-SKyIA3WysEZ"
   },
   "source": [
    "#### Population Statistics Breakdown according to US Census"
   ]
  },
  {
   "cell_type": "markdown",
   "metadata": {
    "id": "ZpShZEZjysEa"
   },
   "source": [
    "Calculations for the populations "
   ]
  },
  {
   "cell_type": "code",
   "execution_count": 5,
   "metadata": {
    "id": "V7VSI4yLysEb"
   },
   "outputs": [],
   "source": [
    "black_pop = cities['black_pct'] * cities['total_pop']\n",
    "white_pop = cities['white_pct'] * cities['total_pop']\n",
    "latinx_pop = cities['latinx_pct']* cities['total_pop']\n",
    "asian_pop = cities['asian_pct']* cities['total_pop']\n",
    "other_pop = cities['other_pct']* cities['total_pop']"
   ]
  },
  {
   "cell_type": "markdown",
   "metadata": {
    "id": "EBrIfUSsysEe"
   },
   "source": [
    "### Arrest Disparities By Stops and Race"
   ]
  },
  {
   "cell_type": "code",
   "execution_count": 6,
   "metadata": {
    "id": "OKX9lOlYysEf"
   },
   "outputs": [],
   "source": [
    "#ratio of stops according to racial makeup of city\n",
    "pct_black_stops_to_pop = cities['black_drive_stops']/black_pop\n",
    "pct_white_stops_to_pop = cities['white_drive_stops']/white_pop\n",
    "pct_latinx_stops_to_pop = cities['latinx_drive_stops']/latinx_pop\n",
    "pct_asian_stops_to_pop = cities['asian_drive_stops']/asian_pop\n",
    "pct_other_stops_to_pop = cities['other_drive_stops']/other_pop"
   ]
  },
  {
   "cell_type": "markdown",
   "metadata": {
    "id": "pUEDOTt2ysEi"
   },
   "source": [
    "## Logit Scores"
   ]
  },
  {
   "cell_type": "markdown",
   "metadata": {
    "id": "7e8ZbkAmysEi"
   },
   "source": [
    "### Black to White Racial Bias Score"
   ]
  },
  {
   "cell_type": "code",
   "execution_count": 7,
   "metadata": {
    "id": "2a39Ru8fysEj"
   },
   "outputs": [],
   "source": [
    "logit_white = np.log(pct_white_stops_to_pop/(1-pct_white_stops_to_pop))\n",
    "logit_black = np.log(pct_black_stops_to_pop/(1-pct_black_stops_to_pop))\n",
    "black_logit_score = round((logit_black - logit_white), 3)\n",
    "#cities['black bias percentages'] = np.exp(black_logit_score)/(1+np.exp(black_logit_score))"
   ]
  },
  {
   "cell_type": "markdown",
   "metadata": {
    "id": "RdFqSvoFysEo"
   },
   "source": [
    "### Latinx to White Racial Bias Score"
   ]
  },
  {
   "cell_type": "code",
   "execution_count": 8,
   "metadata": {
    "id": "XZtjl6ZUysEq"
   },
   "outputs": [],
   "source": [
    "logit_latinx = np.log(pct_latinx_stops_to_pop/(1-pct_latinx_stops_to_pop))\n",
    "latinx_logit_score = round((logit_latinx - logit_white), 3)\n",
    "#cities['latinx bias percentages'] = np.exp(latinx_logit_score)/(1+np.exp(latinx_logit_score))"
   ]
  },
  {
   "cell_type": "markdown",
   "metadata": {
    "id": "1KJO32IwysEv"
   },
   "source": [
    "### Asian to White Racial Bias Score"
   ]
  },
  {
   "cell_type": "code",
   "execution_count": 9,
   "metadata": {
    "id": "4eU5Sw1uysEw"
   },
   "outputs": [],
   "source": [
    "logit_asian = np.log(pct_asian_stops_to_pop/(1-pct_asian_stops_to_pop))\n",
    "asian_logit_score = round((logit_asian - logit_white), 3)\n",
    "#cities['asian bias percentages'] = np.exp(asian_logit_score)/(1+np.exp(asian_logit_score))"
   ]
  },
  {
   "cell_type": "markdown",
   "metadata": {
    "id": "UwtG5QcJysEy"
   },
   "source": [
    "### Other racial groups to White Racial Bias Score"
   ]
  },
  {
   "cell_type": "code",
   "execution_count": 10,
   "metadata": {
    "id": "4bAQ0B7cysEz"
   },
   "outputs": [],
   "source": [
    "logit_other = np.log(pct_other_stops_to_pop/(1-pct_other_stops_to_pop))\n",
    "other_logit_score = round((logit_other - logit_white), 3)\n",
    "#cities['other bias percentages'] = np.exp(other_logit_score)/(1+np.exp(other_logit_score))"
   ]
  },
  {
   "cell_type": "markdown",
   "metadata": {
    "id": "mmK5JpFnysE2"
   },
   "source": [
    "## Racial Bias Z Score"
   ]
  },
  {
   "cell_type": "markdown",
   "metadata": {
    "id": "H50NIFIAtvLl"
   },
   "source": [
    "### Defining helper functions"
   ]
  },
  {
   "cell_type": "markdown",
   "metadata": {
    "id": "eP8tRCczsyS2"
   },
   "source": [
    "Converting z scores to p values (percentages)."
   ]
  },
  {
   "cell_type": "code",
   "execution_count": 11,
   "metadata": {
    "id": "GZV0xlSGktEx"
   },
   "outputs": [],
   "source": [
    "#convert all standardized scores into percentages\n",
    "def percent(z_score_array):\n",
    "    return 1- norm.cdf(abs(z_score_array)) #returns p-value"
   ]
  },
  {
   "cell_type": "markdown",
   "metadata": {
    "id": "1zeI7hiSs6p8"
   },
   "source": [
    "Plotting the normal curve with the z score."
   ]
  },
  {
   "cell_type": "code",
   "execution_count": 12,
   "metadata": {
    "id": "XK9guq5kqOfR"
   },
   "outputs": [],
   "source": [
    "def plot_normal(z_scores, racial_group):\n",
    "    x_all = np.arange(-10, 10, 0.001) \n",
    "    max_z = max(z_scores)\n",
    "    if max_z >=0:\n",
    "        x_shade = np.arange(max_z, max(x_all),0.001)  \n",
    "    else: \n",
    "        x_shade = np.arange(min(x_all), max_z, 0.001)\n",
    "\n",
    "    y = norm.pdf(x_shade,0,1)\n",
    "    fig, ax = plt.subplots(figsize=(6,4))\n",
    "    ax.plot(x_all,norm.pdf(x_all,0,1))\n",
    "    \n",
    "    ax.fill_between(x_shade,y,0, alpha=0.3, color='b')\n",
    "    ax.set_xlim([-4,4])\n",
    "    ax.set_xlabel('# of Standard Deviations Outside the Mean')\n",
    "    ax.set_yticklabels([])\n",
    "    ax.set_title('Normal Gaussian Curve - Showing ' + racial_group + ' Racial Bias Z Score')\n",
    "    plt.show()\n"
   ]
  },
  {
   "cell_type": "markdown",
   "metadata": {
    "id": "aU2pSZdQtXWG"
   },
   "source": [
    "### Calculating Each Z Score"
   ]
  },
  {
   "cell_type": "markdown",
   "metadata": {
    "id": "aJQYE1WjysE3"
   },
   "source": [
    "In a perfect, equal world, the racial bias score would be 0. A larger z score indicates that the difference between arrests by race is large. A smaller z score indicates that the difference between arrests according to race is small. A negative z score indicates that more white people than black people are being arrested for stops."
   ]
  },
  {
   "cell_type": "code",
   "execution_count": 13,
   "metadata": {
    "id": "AontqMQHysE4"
   },
   "outputs": [
    {
     "data": {
      "text/plain": [
       "(0   -1.022635\n",
       " 1    0.188944\n",
       " 2   -0.469438\n",
       " 3    1.303129\n",
       " dtype: float64,\n",
       " array([0.15324023, 0.42506836, 0.31937824, 0.09626533]))"
      ]
     },
     "execution_count": 13,
     "metadata": {},
     "output_type": "execute_result"
    }
   ],
   "source": [
    "black_z_score = (black_logit_score - black_logit_score.mean()) / black_logit_score.std()\n",
    "black_p_val = percent(black_z_score)\n",
    "cities['black bias percentages'] = black_p_val\n",
    "black_z_score, black_p_val"
   ]
  },
  {
   "cell_type": "code",
   "execution_count": 14,
   "metadata": {
    "colab": {
     "base_uri": "https://localhost:8080/",
     "height": 295
    },
    "id": "O1MDO0-Xqjd7",
    "outputId": "dcdbb17f-5df1-4695-f7b3-76e594ae4df3"
   },
   "outputs": [
    {
     "data": {
      "image/png": "[encoded data removed]",
      "text/plain": [
       "<Figure size 432x288 with 1 Axes>"
      ]
     },
     "metadata": {
      "needs_background": "light"
     },
     "output_type": "display_data"
    }
   ],
   "source": [
    "plot_normal(black_z_score, 'African American')"
   ]
  },
  {
   "cell_type": "code",
   "execution_count": 15,
   "metadata": {
    "id": "Pt5UWUApysE7"
   },
   "outputs": [],
   "source": [
    "latinx_z_score = (latinx_logit_score - latinx_logit_score.mean()) / latinx_logit_score.std()\n",
    "latinx_p_val = percent(latinx_z_score)\n",
    "cities['latinx bias percentages'] = latinx_p_val"
   ]
  },
  {
   "cell_type": "code",
   "execution_count": 16,
   "metadata": {
    "colab": {
     "base_uri": "https://localhost:8080/",
     "height": 295
    },
    "id": "NOVs4besOQhw",
    "outputId": "7ceb4cc8-cc59-487c-949f-58ac2c4c4366"
   },
   "outputs": [
    {
     "data": {
      "image/png": "[encoded data removed]",
      "text/plain": [
       "<Figure size 432x288 with 1 Axes>"
      ]
     },
     "metadata": {
      "needs_background": "light"
     },
     "output_type": "display_data"
    }
   ],
   "source": [
    "plot_normal(latinx_z_score, 'Latinx')"
   ]
  },
  {
   "cell_type": "code",
   "execution_count": 17,
   "metadata": {
    "id": "pTJvldVZysFB"
   },
   "outputs": [],
   "source": [
    "asian_z_score = (asian_logit_score - asian_logit_score.mean()) / asian_logit_score.std()\n",
    "asian_p_val = percent(asian_z_score)\n",
    "cities['asian bias percentages'] = asian_p_val\n"
   ]
  },
  {
   "cell_type": "code",
   "execution_count": 18,
   "metadata": {
    "colab": {
     "base_uri": "https://localhost:8080/",
     "height": 295
    },
    "id": "8J55sA0Srom7",
    "outputId": "3bafaf23-a290-4859-eed4-e72bdd2499c7"
   },
   "outputs": [
    {
     "data": {
      "image/png": "[encoded data removed]",
      "text/plain": [
       "<Figure size 432x288 with 1 Axes>"
      ]
     },
     "metadata": {
      "needs_background": "light"
     },
     "output_type": "display_data"
    }
   ],
   "source": [
    "plot_normal(asian_z_score, 'Asian')"
   ]
  },
  {
   "cell_type": "code",
   "execution_count": 19,
   "metadata": {
    "id": "vzVbjn2HysFD"
   },
   "outputs": [],
   "source": [
    "other_z_score = (other_logit_score - other_logit_score.mean()) / other_logit_score.std()\n",
    "other_p_val = percent(other_z_score)\n",
    "cities['other bias percentages'] = other_p_val"
   ]
  },
  {
   "cell_type": "code",
   "execution_count": 20,
   "metadata": {
    "colab": {
     "base_uri": "https://localhost:8080/",
     "height": 295
    },
    "id": "L9jrhvkkruTE",
    "outputId": "1ecb9dd8-f9f9-400d-c1b4-03f95f85edd3"
   },
   "outputs": [
    {
     "data": {
      "image/png": "[encoded data removed]",
      "text/plain": [
       "<Figure size 432x288 with 1 Axes>"
      ]
     },
     "metadata": {
      "needs_background": "light"
     },
     "output_type": "display_data"
    }
   ],
   "source": [
    "plot_normal(other_z_score, 'Other')"
   ]
  },
  {
   "cell_type": "code",
   "execution_count": 21,
   "metadata": {
    "colab": {
     "base_uri": "https://localhost:8080/",
     "height": 312
    },
    "id": "ykivwOBjysFM",
    "outputId": "d2b7e880-bbe4-4cad-e091-e001dd3cfb8b"
   },
   "outputs": [
    {
     "data": {
      "text/html": [
       "<div>\n",
       "<style scoped>\n",
       "    .dataframe tbody tr th:only-of-type {\n",
       "        vertical-align: middle;\n",
       "    }\n",
       "\n",
       "    .dataframe tbody tr th {\n",
       "        vertical-align: top;\n",
       "    }\n",
       "\n",
       "    .dataframe thead th {\n",
       "        text-align: right;\n",
       "    }\n",
       "</style>\n",
       "<table border=\"1\" class=\"dataframe\">\n",
       "  <thead>\n",
       "    <tr style=\"text-align: right;\">\n",
       "      <th></th>\n",
       "      <th>Unnamed: 0</th>\n",
       "      <th>city</th>\n",
       "      <th>year</th>\n",
       "      <th>total_pop</th>\n",
       "      <th>black_pct</th>\n",
       "      <th>white_pct</th>\n",
       "      <th>latinx_pct</th>\n",
       "      <th>asian_pct</th>\n",
       "      <th>other_pct</th>\n",
       "      <th>black_drive_stops</th>\n",
       "      <th>...</th>\n",
       "      <th>asian bias percentages</th>\n",
       "      <th>other bias percentages</th>\n",
       "      <th>black bias score</th>\n",
       "      <th>latinx bias score</th>\n",
       "      <th>asian bias score</th>\n",
       "      <th>other bias score</th>\n",
       "      <th>average racial bias score</th>\n",
       "      <th>max racial bias score</th>\n",
       "      <th>average racial bias percentage</th>\n",
       "      <th>min racial bias percentage</th>\n",
       "    </tr>\n",
       "  </thead>\n",
       "  <tbody>\n",
       "    <tr>\n",
       "      <th>0</th>\n",
       "      <td>0</td>\n",
       "      <td>Portland</td>\n",
       "      <td>2016</td>\n",
       "      <td>639635</td>\n",
       "      <td>0.058</td>\n",
       "      <td>0.704</td>\n",
       "      <td>0.102</td>\n",
       "      <td>0.076</td>\n",
       "      <td>0.060</td>\n",
       "      <td>1745</td>\n",
       "      <td>...</td>\n",
       "      <td>0.129834</td>\n",
       "      <td>0.182816</td>\n",
       "      <td>-1.022635</td>\n",
       "      <td>-0.861770</td>\n",
       "      <td>1.127179</td>\n",
       "      <td>0.904685</td>\n",
       "      <td>0.036865</td>\n",
       "      <td>1.127179</td>\n",
       "      <td>0.165074</td>\n",
       "      <td>0.129834</td>\n",
       "    </tr>\n",
       "    <tr>\n",
       "      <th>1</th>\n",
       "      <td>1</td>\n",
       "      <td>Portland</td>\n",
       "      <td>2017</td>\n",
       "      <td>648121</td>\n",
       "      <td>0.053</td>\n",
       "      <td>0.698</td>\n",
       "      <td>0.104</td>\n",
       "      <td>0.081</td>\n",
       "      <td>0.064</td>\n",
       "      <td>1168</td>\n",
       "      <td>...</td>\n",
       "      <td>0.202180</td>\n",
       "      <td>0.375404</td>\n",
       "      <td>0.188944</td>\n",
       "      <td>-0.804078</td>\n",
       "      <td>-0.833861</td>\n",
       "      <td>0.317574</td>\n",
       "      <td>-0.282855</td>\n",
       "      <td>0.317574</td>\n",
       "      <td>0.303332</td>\n",
       "      <td>0.202180</td>\n",
       "    </tr>\n",
       "    <tr>\n",
       "      <th>2</th>\n",
       "      <td>2</td>\n",
       "      <td>Portland</td>\n",
       "      <td>2018</td>\n",
       "      <td>652573</td>\n",
       "      <td>0.061</td>\n",
       "      <td>0.700</td>\n",
       "      <td>0.093</td>\n",
       "      <td>0.088</td>\n",
       "      <td>0.058</td>\n",
       "      <td>1386</td>\n",
       "      <td>...</td>\n",
       "      <td>0.197490</td>\n",
       "      <td>0.418595</td>\n",
       "      <td>-0.469438</td>\n",
       "      <td>0.498793</td>\n",
       "      <td>-0.850622</td>\n",
       "      <td>0.205489</td>\n",
       "      <td>-0.153945</td>\n",
       "      <td>0.498793</td>\n",
       "      <td>0.311106</td>\n",
       "      <td>0.197490</td>\n",
       "    </tr>\n",
       "    <tr>\n",
       "      <th>3</th>\n",
       "      <td>3</td>\n",
       "      <td>Portland</td>\n",
       "      <td>2019</td>\n",
       "      <td>653467</td>\n",
       "      <td>0.055</td>\n",
       "      <td>0.705</td>\n",
       "      <td>0.097</td>\n",
       "      <td>0.081</td>\n",
       "      <td>0.062</td>\n",
       "      <td>2057</td>\n",
       "      <td>...</td>\n",
       "      <td>0.288660</td>\n",
       "      <td>0.076682</td>\n",
       "      <td>1.303129</td>\n",
       "      <td>1.167055</td>\n",
       "      <td>0.557304</td>\n",
       "      <td>-1.427748</td>\n",
       "      <td>0.399935</td>\n",
       "      <td>1.303129</td>\n",
       "      <td>0.145800</td>\n",
       "      <td>0.076682</td>\n",
       "    </tr>\n",
       "  </tbody>\n",
       "</table>\n",
       "<p>4 rows × 31 columns</p>\n",
       "</div>"
      ],
      "text/plain": [
       "   Unnamed: 0      city  year  total_pop  black_pct  white_pct  latinx_pct  \\\n",
       "0           0  Portland  2016     639635      0.058      0.704       0.102   \n",
       "1           1  Portland  2017     648121      0.053      0.698       0.104   \n",
       "2           2  Portland  2018     652573      0.061      0.700       0.093   \n",
       "3           3  Portland  2019     653467      0.055      0.705       0.097   \n",
       "\n",
       "   asian_pct  other_pct  black_drive_stops  ...  asian bias percentages  \\\n",
       "0      0.076      0.060               1745  ...                0.129834   \n",
       "1      0.081      0.064               1168  ...                0.202180   \n",
       "2      0.088      0.058               1386  ...                0.197490   \n",
       "3      0.081      0.062               2057  ...                0.288660   \n",
       "\n",
       "   other bias percentages  black bias score  latinx bias score  \\\n",
       "0                0.182816         -1.022635          -0.861770   \n",
       "1                0.375404          0.188944          -0.804078   \n",
       "2                0.418595         -0.469438           0.498793   \n",
       "3                0.076682          1.303129           1.167055   \n",
       "\n",
       "   asian bias score  other bias score  average racial bias score  \\\n",
       "0          1.127179          0.904685                   0.036865   \n",
       "1         -0.833861          0.317574                  -0.282855   \n",
       "2         -0.850622          0.205489                  -0.153945   \n",
       "3          0.557304         -1.427748                   0.399935   \n",
       "\n",
       "   max racial bias score  average racial bias percentage  \\\n",
       "0               1.127179                        0.165074   \n",
       "1               0.317574                        0.303332   \n",
       "2               0.498793                        0.311106   \n",
       "3               1.303129                        0.145800   \n",
       "\n",
       "   min racial bias percentage  \n",
       "0                    0.129834  \n",
       "1                    0.202180  \n",
       "2                    0.197490  \n",
       "3                    0.076682  \n",
       "\n",
       "[4 rows x 31 columns]"
      ]
     },
     "execution_count": 21,
     "metadata": {},
     "output_type": "execute_result"
    }
   ],
   "source": [
    "cities['black bias score'] = black_z_score\n",
    "cities['latinx bias score'] = latinx_z_score\n",
    "cities['asian bias score'] = asian_z_score\n",
    "cities['other bias score'] = other_z_score\n",
    "\n",
    "bias_col = cities.loc[: , \"black bias score\":\"other bias score\"]\n",
    "cities['average racial bias score'] = bias_col.mean(axis=1)\n",
    "cities['max racial bias score'] = bias_col.max(axis=1) #largest number of standard deviations from 0\n",
    "\n",
    "bias_percent_col = cities.loc[: , \"black bias percentages\":\"other bias percentages\"]\n",
    "cities['average racial bias percentage'] = bias_percent_col.mean(axis=1)\n",
    "cities['min racial bias percentage'] = bias_percent_col.min(axis=1) #smallest probability that the observed happens under the null\n",
    "cities"
   ]
  },
  {
   "cell_type": "markdown",
   "metadata": {
    "id": "-OdElUU0ysFP"
   },
   "source": [
    "### Confidence Intervals"
   ]
  },
  {
   "cell_type": "markdown",
   "metadata": {
    "id": "Zwv4PQgYysFQ"
   },
   "source": [
    "We use a t test to determine whether the difference in racial bias scores per year are due to chance or statistically significant. To do this, we use an independent sample t test to find the 95% confidence interval. \n",
    "\n",
    "**df = 10, alpha = 0.05, t_table_score = 1.96**\n",
    "\n",
    "We compare all scores to 0, since we would presume the racial bias scores were calculated by taking the difference of the logit white score and the logit of other racial groups, so in an equal society, we would expect the bias score to be 0. If the calculated value is less than the cutoff of 2.228, then p > 0.05, which means that the differences in means is not due to chance. As the p-value is greater than the alpha value, we cannot conclude that there is a difference between means."
   ]
  },
  {
   "cell_type": "code",
   "execution_count": 22,
   "metadata": {
    "id": "6AsOVjUkysFQ"
   },
   "outputs": [],
   "source": [
    "#sum the scores in each column\n",
    "black_bias_sum = sum(cities['black bias score'])\n",
    "#calculate the means of each group\n",
    "black_bias_avg = black_bias_sum/4\n",
    "#use formula\n",
    "black_bias = black_bias_avg"
   ]
  },
  {
   "cell_type": "code",
   "execution_count": 23,
   "metadata": {
    "id": "jJgnrb0mgPy5"
   },
   "outputs": [],
   "source": [
    "def mean_confidence_interval(data):\n",
    "    m = sum(data)/4\n",
    "    z = 1.96\n",
    "    sd = data.std()\n",
    "    rn = 2\n",
    "    return (m, m-((1.96*sd)/rn), m+((1.96*sd)/rn))"
   ]
  },
  {
   "cell_type": "code",
   "execution_count": 24,
   "metadata": {
    "colab": {
     "base_uri": "https://localhost:8080/"
    },
    "id": "KaedlpHedu39",
    "outputId": "31f140cf-23b3-4826-de4f-98404911eaa5"
   },
   "outputs": [
    {
     "name": "stdout",
     "output_type": "stream",
     "text": [
      "Average and 95% Confidence Interval for African Americans: (0.24848803898205665, 0.10045728771601503, 0.3965187902480983)\n"
     ]
    }
   ],
   "source": [
    "black_bias_CI = mean_confidence_interval(cities['black bias percentages'])\n",
    "print('Average and 95% Confidence Interval for African Americans:', black_bias_CI)"
   ]
  },
  {
   "cell_type": "code",
   "execution_count": 25,
   "metadata": {
    "id": "bo-IVVKgX01z"
   },
   "outputs": [],
   "source": [
    "#sum the scores in each column\n",
    "latinx_bias_sum = sum(cities['latinx bias score'])\n",
    "#calculate the means of each group\n",
    "latinx_bias_avg = latinx_bias_sum/4\n",
    "#use formula\n",
    "latinx_bias = latinx_bias_avg"
   ]
  },
  {
   "cell_type": "code",
   "execution_count": 26,
   "metadata": {
    "colab": {
     "base_uri": "https://localhost:8080/"
    },
    "id": "ERLFreyTomoG",
    "outputId": "cb08d23f-e914-42c0-acae-cd6980d5cb20"
   },
   "outputs": [
    {
     "name": "stdout",
     "output_type": "stream",
     "text": [
      "Average and 95% Confidence Interval for Latinx: (0.20890996465007872, 0.13332055594065945, 0.284499373359498)\n"
     ]
    }
   ],
   "source": [
    "latinx_bias_CI = mean_confidence_interval(cities['latinx bias percentages'])\n",
    "print('Average and 95% Confidence Interval for Latinx:', latinx_bias_CI)"
   ]
  },
  {
   "cell_type": "code",
   "execution_count": 27,
   "metadata": {
    "id": "qG9135IqX4j1"
   },
   "outputs": [],
   "source": [
    "#sum the scores in each column\n",
    "asian_bias_sum = sum(cities['asian bias score'])\n",
    "#calculate the means of each group\n",
    "asian_bias_avg = asian_bias_sum/4\n",
    "#use formula\n",
    "asian_bias = asian_bias_avg"
   ]
  },
  {
   "cell_type": "code",
   "execution_count": 28,
   "metadata": {
    "colab": {
     "base_uri": "https://localhost:8080/"
    },
    "id": "OfeK1kwGpCLX",
    "outputId": "d314fe11-3609-4bb6-b74d-2a1ee063e2d3"
   },
   "outputs": [
    {
     "name": "stdout",
     "output_type": "stream",
     "text": [
      "Average and 95% Confidence Interval for Asians: (0.20454073066760164, 0.14074657735677293, 0.26833488397843036)\n"
     ]
    }
   ],
   "source": [
    "asian_bias_CI = mean_confidence_interval(cities['asian bias percentages'])\n",
    "print('Average and 95% Confidence Interval for Asians:', asian_bias_CI)"
   ]
  },
  {
   "cell_type": "code",
   "execution_count": 29,
   "metadata": {
    "id": "RrvNeOFEX5la"
   },
   "outputs": [],
   "source": [
    "#sum the scores in each column\n",
    "other_bias_sum = sum(cities['other bias score'])\n",
    "#calculate the means of each group\n",
    "other_bias_avg = other_bias_sum/4\n",
    "#use formula\n",
    "other_bias = other_bias_avg"
   ]
  },
  {
   "cell_type": "code",
   "execution_count": 30,
   "metadata": {
    "colab": {
     "base_uri": "https://localhost:8080/"
    },
    "id": "hXC34XMapeal",
    "outputId": "15cf7a4e-e43d-4fd9-d827-1b252ac1effb"
   },
   "outputs": [
    {
     "name": "stdout",
     "output_type": "stream",
     "text": [
      "Average and 95% Confidence Interval for Other Racial Groups: (0.26337432545272094, 0.10536649219280497, 0.4213821587126369)\n"
     ]
    }
   ],
   "source": [
    "other_bias_CI = mean_confidence_interval(cities['other bias percentages'])\n",
    "print('Average and 95% Confidence Interval for Other Racial Groups:', other_bias_CI)"
   ]
  },
  {
   "cell_type": "code",
   "execution_count": 31,
   "metadata": {
    "id": "1hYNo5iWeNYG"
   },
   "outputs": [],
   "source": [
    "def pval(val): \n",
    "  if val < 0.05: \n",
    "    return 'Statistically Significant'\n",
    "  else: \n",
    "    return 'Likely Due to Chance'"
   ]
  },
  {
   "cell_type": "code",
   "execution_count": 32,
   "metadata": {
    "id": "4yYE8nO0e439"
   },
   "outputs": [],
   "source": [
    "def zval(zscore):\n",
    "    if abs(zscore) < 1.96:\n",
    "        return 'Likely Due to Chance'\n",
    "    else:\n",
    "        return 'Statistically Significant'"
   ]
  },
  {
   "cell_type": "code",
   "execution_count": 33,
   "metadata": {
    "colab": {
     "base_uri": "https://localhost:8080/",
     "height": 297
    },
    "id": "AC1ivq6toIDp",
    "outputId": "bfd3aa53-5ed4-44bc-f3ea-cd13b459a4d1"
   },
   "outputs": [
    {
     "data": {
      "image/png": "[encoded data removed]",
      "text/plain": [
       "<Figure size 432x288 with 1 Axes>"
      ]
     },
     "metadata": {
      "needs_background": "light"
     },
     "output_type": "display_data"
    }
   ],
   "source": [
    "x_ticks = (\"Black\", \"Latinx\", \"Asian\", \"Other\")\n",
    "\n",
    "x_1 = np.arange(1,5)\n",
    "\n",
    "\n",
    "y_1 = [i[0] for i in [black_bias_CI, latinx_bias_CI, asian_bias_CI, other_bias_CI]]\n",
    "\n",
    "\n",
    "err_1 = [i[2]-i[0] for i in [black_bias_CI, latinx_bias_CI, asian_bias_CI, other_bias_CI]]\n",
    "\n",
    "plt.errorbar(x=x_1, y=y_1, yerr=err_1, color=\"blue\", capsize=3,\n",
    "             linestyle=\"None\",\n",
    "             marker=\"s\", markersize=7, mfc=\"black\", mec=\"black\")\n",
    "\n",
    "\n",
    "plt.xticks(x_1, x_ticks)\n",
    "\n",
    "plt.ylabel('Average Racial Bias Score')\n",
    "plt.xlabel('Racial Group')\n",
    "plt.title('Average Racial Bias Score with Confidence Intervals')\n",
    "plt.tight_layout()\n",
    "plt.show()"
   ]
  },
  {
   "cell_type": "markdown",
   "metadata": {
    "id": "ypRknDzGiBHi"
   },
   "source": [
    "## P-Values of Calculated Racial Bias Z Scores. Are the differences in racial bias score due to chance? "
   ]
  },
  {
   "cell_type": "code",
   "execution_count": null,
   "metadata": {},
   "outputs": [],
   "source": []
  },
  {
   "cell_type": "code",
   "execution_count": 34,
   "metadata": {
    "colab": {
     "base_uri": "https://localhost:8080/"
    },
    "id": "TxNc0Tryetln",
    "outputId": "38d0860a-528a-40c6-9b62-bec634896ee0"
   },
   "outputs": [
    {
     "name": "stdout",
     "output_type": "stream",
     "text": [
      "Black: Likely Due to Chance , Latinx: Likely Due to Chance , Asian: Likely Due to Chance , Other: Likely Due to Chance\n"
     ]
    }
   ],
   "source": [
    "print('Black:' , zval(black_bias),',' \n",
    "      , 'Latinx:' , zval(latinx_bias), ',' \n",
    "      , 'Asian:' , zval(asian_bias), ',' \n",
    "      , 'Other:' , zval(other_bias))"
   ]
  },
  {
   "cell_type": "markdown",
   "metadata": {
    "id": "u_D6FFpaysFT"
   },
   "source": [
    "## Excessive Force Score According to Race"
   ]
  },
  {
   "cell_type": "markdown",
   "metadata": {
    "id": "mT6TW762ysFU"
   },
   "source": [
    "Binomial ~ (n = number of black people arrested, p = probability of being handled with excessive force if they had been white)\n",
    "\n",
    "What would the likelihood of excessive force look like if the victims had been white?"
   ]
  },
  {
   "cell_type": "code",
   "execution_count": 35,
   "metadata": {
    "id": "9Nq5e8nDysFY"
   },
   "outputs": [],
   "source": [
    "#white excessive force by arrest\n",
    "p = np.exp(np.log(cities['white_uof']) - np.log(cities['white_drive_stops']))\n",
    "\n",
    "#black excessive force by arrest\n",
    "p_black = np.exp(np.log(cities['black_uof']) - np.log(cities['black_drive_stops']))\n",
    "p_latinx = np.exp(np.log(cities['latinx_uof']) - np.log(cities['latinx_drive_stops']))\n",
    "p_asian = np.exp(np.log(cities['asian_uof']) - np.log(cities['asian_drive_stops']))\n",
    "p_other = np.exp(np.log(cities['other_uof']) - np.log(cities['other_drive_stops']))"
   ]
  },
  {
   "cell_type": "markdown",
   "metadata": {
    "id": "9QFqW7olbCwV"
   },
   "source": [
    "The excessive force score is caluclated using two binomial distibutions :\n",
    "<br> 1. Binomial(n= number of black drive stops, p= probability of black uof)\n",
    "<br> 2. Binomial(n= number of white drive stops, p_black= probability of white uof)\n",
    "<br> We assume that these two binomial distributions are independent. We then compute the following hypothesis test to see if the difference between these distributions is statistically significant:\n",
    "<br> H_null: p_black = p_white, H_alt: p_black > p_white\n",
    "<br> Using the test statistic: Z = (p_black - p_white) / sqrt(p_hat * (1-p_hat) * (1/n_1 + 1/n_2)), \n",
    "p_hat = (n_1 * p_black + n_2 * p_white)/(n_1 + n_2)\n",
    "<br> This gives us our excessive force score, and allows us to either fail to reject or reject the null hypothesis based on our selected confidence level to see whether the difference in excessive force between white and non-white people is statistically significant."
   ]
  },
  {
   "cell_type": "markdown",
   "metadata": {
    "id": "M5XnGu6Su88B"
   },
   "source": [
    "The larger the z score is, the less likely it is that the probability of excessive force on white and non-white civilians is the same. This indicates a larger disparity between treatment of white vs non-white civilians. A positive z-score means that the probability of excessive force is higher for non-white civilians than white civilians, since it is the number of standard deviations the probability of non-white versus white is from 0."
   ]
  },
  {
   "cell_type": "markdown",
   "metadata": {
    "id": "3_124blJuUeW"
   },
   "source": [
    "### Definining helper functions"
   ]
  },
  {
   "cell_type": "code",
   "execution_count": 36,
   "metadata": {
    "id": "-fzUZA-yuavG"
   },
   "outputs": [],
   "source": [
    "def plot_normal_ex(z_scores, racial_group):\n",
    "    x_all = np.arange(-10, 10, 0.001) \n",
    "    max_z = max(z_scores)\n",
    "    if max_z >=0:\n",
    "        x_shade = np.arange(max_z, max(x_all),0.001)  \n",
    "    else: \n",
    "        x_shade = np.arange(min(x_all), max_z, 0.001)\n",
    "\n",
    "    y = norm.pdf(x_shade,0,1)\n",
    "    fig, ax = plt.subplots(figsize=(6,4))\n",
    "    ax.plot(x_all,norm.pdf(x_all,0,1))\n",
    "    \n",
    "    ax.fill_between(x_shade,y,0, alpha=0.3, color='b')\n",
    "    ax.set_xlim([-4,4])\n",
    "    ax.set_xlabel('# of Standard Deviations Outside the Mean')\n",
    "    ax.set_yticklabels([])\n",
    "    ax.set_title('Normal Gaussian Curve - Showing ' + racial_group + ' Excessive Force Score')\n",
    "    plt.show()"
   ]
  },
  {
   "cell_type": "markdown",
   "metadata": {
    "id": "InRMj6qTysFb"
   },
   "source": [
    "### Black Excessive Force Score"
   ]
  },
  {
   "cell_type": "code",
   "execution_count": 37,
   "metadata": {
    "colab": {
     "base_uri": "https://localhost:8080/"
    },
    "id": "px0CmLMrysFc",
    "outputId": "c7391c37-b164-4fdf-bfe3-873e095e5e28"
   },
   "outputs": [
    {
     "data": {
      "text/plain": [
       "0    19.098946\n",
       "1    15.868595\n",
       "2    25.647662\n",
       "3    23.251009\n",
       "dtype: float64"
      ]
     },
     "execution_count": 37,
     "metadata": {},
     "output_type": "execute_result"
    }
   ],
   "source": [
    "#using a binomial, I find the average and standard deviation\n",
    "#using a binomial, I find the average and standard deviation\n",
    "black_mean_by_arrest = cities['white_drive_stops'] * p\n",
    "black_var_by_arrest = cities['black_drive_stops'] * p * (1 - p)\n",
    "black_std_by_arrest = np.sqrt(black_var_by_arrest)\n",
    "\n",
    "black_force_score1 = round((cities['black_uof'] - black_mean_by_arrest) / black_std_by_arrest, 2)\n",
    "\n",
    "#Binomial(n=number of black drive stops, p=probability of black uof)\n",
    "black_mean_by_arrest2 = cities['black_drive_stops'] * p_black\n",
    "black_var_by_arrest2 = cities['black_drive_stops'] * p_black * (1 - p_black)\n",
    "black_std_by_arrest2 = np.sqrt(black_var_by_arrest2)\n",
    "\n",
    "black_force_score2 = round((cities['black_uof'] - black_mean_by_arrest2) / black_std_by_arrest2, 2)\n",
    "\n",
    "#excessive force score is calculated using a hypothesis test - significant difference btw two independent binomial dist.\n",
    "#z score tells us if the difference between the two binomial distributions is statistically significant\n",
    "p_hat = (black_mean_by_arrest + black_mean_by_arrest2)/(cities['white_drive_stops']+cities['black_drive_stops'])\n",
    "black_force_score = (p_black-p)/np.sqrt( p_hat* (1-p_hat)* ( (1/cities['white_drive_stops']) + (1/cities['black_drive_stops']) ) )\n",
    "\n",
    "black_force_percent = [percent(i) for i in np.array(black_force_score)]\n",
    "\n",
    "black_force_score"
   ]
  },
  {
   "cell_type": "code",
   "execution_count": 38,
   "metadata": {
    "colab": {
     "base_uri": "https://localhost:8080/",
     "height": 295
    },
    "id": "M-h1Z0pWukHE",
    "outputId": "89342235-f42d-45c1-af35-46402f5bbc2a"
   },
   "outputs": [
    {
     "data": {
      "image/png": "[encoded data removed]",
      "text/plain": [
       "<Figure size 432x288 with 1 Axes>"
      ]
     },
     "metadata": {
      "needs_background": "light"
     },
     "output_type": "display_data"
    }
   ],
   "source": [
    "plot_normal_ex(black_force_score, 'African American') # so large it does not show on this acis"
   ]
  },
  {
   "cell_type": "markdown",
   "metadata": {
    "id": "KmFhpYznysFg"
   },
   "source": [
    "### Latinx Excessive Force Score"
   ]
  },
  {
   "cell_type": "code",
   "execution_count": 39,
   "metadata": {
    "colab": {
     "base_uri": "https://localhost:8080/"
    },
    "id": "5Q1qF4PvysFg",
    "outputId": "3b7a105c-da11-4278-ebc4-c93fbdc2e336"
   },
   "outputs": [
    {
     "data": {
      "text/plain": [
       "(0    5.856799\n",
       " 1    5.616674\n",
       " 2    2.756286\n",
       " 3   -0.766214\n",
       " dtype: float64,\n",
       " [2.359375250726714e-09,\n",
       "  9.733420736068865e-09,\n",
       "  0.002923096147118054,\n",
       "  0.2217744616341646])"
      ]
     },
     "execution_count": 39,
     "metadata": {},
     "output_type": "execute_result"
    }
   ],
   "source": [
    "latin_mean_by_arrest = cities['white_drive_stops'] * p\n",
    "latin_var_by_arrest = cities['latinx_drive_stops'] * p * (1 - p)\n",
    "latin_std_by_arrest = np.sqrt(latin_var_by_arrest)\n",
    "\n",
    "latin_force_score1 = round((cities['latinx_uof'] - latin_mean_by_arrest) / latin_std_by_arrest, 2)\n",
    "\n",
    "latin_mean_by_arrest2 = cities['latinx_drive_stops'] * p_latinx\n",
    "latin_var_by_arrest2 = cities['latinx_drive_stops'] * p_latinx * (1 - p_latinx)\n",
    "latin_std_by_arrest2 = np.sqrt(latin_var_by_arrest2)\n",
    "\n",
    "latin_force_score2 = round((cities['latinx_uof'] - latin_mean_by_arrest2) / latin_std_by_arrest2, 2)\n",
    "\n",
    "#excessive force score is calculated using a hypothesis test - significant difference btw two independent binomial dist.\n",
    "#z score tells us if the difference between the two binomial distributions is statistically significant\n",
    "p_hat = (latin_mean_by_arrest + latin_mean_by_arrest2)/(cities['white_drive_stops'] + cities['latinx_drive_stops'])\n",
    "latinx_force_score =(p_latinx-p)/np.sqrt( p_hat* (1-p_hat)* ( (1/cities['white_drive_stops']) + (1/cities['latinx_drive_stops']) ) )\n",
    "\n",
    "latinx_force_percent = [percent(i) for i in np.array(latinx_force_score)]\n",
    "latinx_force_score, latinx_force_percent"
   ]
  },
  {
   "cell_type": "code",
   "execution_count": 40,
   "metadata": {
    "colab": {
     "base_uri": "https://localhost:8080/",
     "height": 295
    },
    "id": "UL1AAQ95vV6T",
    "outputId": "cc99d566-9611-447d-b70f-9aef87d6a8ea"
   },
   "outputs": [
    {
     "data": {
      "image/png": "[encoded data removed]",
      "text/plain": [
       "<Figure size 432x288 with 1 Axes>"
      ]
     },
     "metadata": {
      "needs_background": "light"
     },
     "output_type": "display_data"
    }
   ],
   "source": [
    "plot_normal_ex(latinx_force_score, 'Latinx')"
   ]
  },
  {
   "cell_type": "markdown",
   "metadata": {
    "id": "DkiBdrl9ysFi"
   },
   "source": [
    "### Asian Excessive Force Score"
   ]
  },
  {
   "cell_type": "code",
   "execution_count": 41,
   "metadata": {
    "colab": {
     "base_uri": "https://localhost:8080/"
    },
    "id": "cNaCpGedysFi",
    "outputId": "756363e3-1f3c-468a-a68c-3b9a09069b8f"
   },
   "outputs": [
    {
     "data": {
      "text/plain": [
       "0     2.097939\n",
       "1     2.922926\n",
       "2    -9.759155\n",
       "3   -15.957540\n",
       "dtype: float64"
      ]
     },
     "execution_count": 41,
     "metadata": {},
     "output_type": "execute_result"
    }
   ],
   "source": [
    "asian_mean_by_arrest = cities['asian_drive_stops'] * p\n",
    "asian_var_by_arrest = cities['asian_drive_stops'] * p * (1 - p)\n",
    "asian_std_by_arrest = np.sqrt(asian_var_by_arrest)\n",
    "\n",
    "asian_force_score1 = round((cities['asian_uof'] - asian_mean_by_arrest) / asian_std_by_arrest, 2)\n",
    "\n",
    "asian_mean_by_arrest2 = cities['asian_drive_stops'] * p_asian\n",
    "asian_var_by_arrest2 = cities['asian_drive_stops'] * p_asian * (1 - p_asian)\n",
    "asian_std_by_arrest2 = np.sqrt(asian_var_by_arrest2)\n",
    "\n",
    "asian_force_score2 = round((cities['asian_uof'] - asian_mean_by_arrest2) / asian_std_by_arrest2, 2)\n",
    "\n",
    "#excessive force score is calculated using a hypothesis test - significant difference btw two independent binomial dist.\n",
    "#z score tells us if the difference between the two binomial distributions is statistically significant\n",
    "p_hat = (asian_mean_by_arrest + asian_mean_by_arrest2)/(cities['white_drive_stops']+cities['asian_drive_stops'])\n",
    "asian_force_score = (p_asian-p)/np.sqrt( p_hat* (1-p_hat)* ( (1/cities['white_drive_stops']) + (1/cities['asian_drive_stops']) ) )\n",
    "\n",
    "asian_force_percent = [percent(i) for i in np.array(asian_force_score)]\n",
    "asian_force_score"
   ]
  },
  {
   "cell_type": "code",
   "execution_count": 42,
   "metadata": {
    "colab": {
     "base_uri": "https://localhost:8080/",
     "height": 295
    },
    "id": "bG2BEvM0vkzs",
    "outputId": "ffb8b9b7-4deb-49b9-baca-2b0255344fbe"
   },
   "outputs": [
    {
     "data": {
      "image/png": "[encoded data removed]",
      "text/plain": [
       "<Figure size 432x288 with 1 Axes>"
      ]
     },
     "metadata": {
      "needs_background": "light"
     },
     "output_type": "display_data"
    }
   ],
   "source": [
    "plot_normal_ex(asian_force_score, 'Asian')"
   ]
  },
  {
   "cell_type": "markdown",
   "metadata": {
    "id": "9RkVy-WhysFm"
   },
   "source": [
    "### Other Excessive Force Score"
   ]
  },
  {
   "cell_type": "code",
   "execution_count": 43,
   "metadata": {
    "colab": {
     "base_uri": "https://localhost:8080/"
    },
    "id": "G1odjjgOysFm",
    "outputId": "09d642f6-b9ef-4b8b-c7ef-e0ac6740850f"
   },
   "outputs": [
    {
     "data": {
      "text/plain": [
       "[6.287950700123446e-07,\n",
       " 6.428213105258429e-06,\n",
       " 5.904872777151571e-05,\n",
       " 0.12661518308708763]"
      ]
     },
     "execution_count": 43,
     "metadata": {},
     "output_type": "execute_result"
    }
   ],
   "source": [
    "other_mean_by_arrest = cities['white_drive_stops'] * p\n",
    "other_var_by_arrest = cities['other_drive_stops'] * p * (1 - p)\n",
    "other_std_by_arrest = np.sqrt(other_var_by_arrest)\n",
    "\n",
    "other_force_score1 = round((cities['other_uof'] - other_mean_by_arrest) / other_std_by_arrest, 2)\n",
    "\n",
    "other_mean_by_arrest2 = cities['other_drive_stops'] * p_other\n",
    "other_var_by_arrest2 = cities['other_drive_stops'] * p_other * (1 - p_other)\n",
    "other_std_by_arrest2 = np.sqrt(other_var_by_arrest2)\n",
    "\n",
    "other_force_score2 = round((cities['other_uof'] - other_mean_by_arrest2) / other_std_by_arrest2, 2)\n",
    "\n",
    "#excessive force score is calculated using a hypothesis test - significant difference btw two independent binomial dist.\n",
    "#z score tells us if the difference between the two binomial distributions is statistically significant\n",
    "p_hat = (other_mean_by_arrest + other_mean_by_arrest2)/(cities['white_drive_stops']+ cities['other_drive_stops'])\n",
    "other_force_score = (p_other-p)/np.sqrt( p_hat* (1-p_hat)* ( (1/cities['white_drive_stops']) + (1/cities['other_drive_stops']) ) )\n",
    "other_force_percent = [percent(i) for i in np.array(other_force_score)]\n",
    "other_force_percent"
   ]
  },
  {
   "cell_type": "code",
   "execution_count": 44,
   "metadata": {
    "colab": {
     "base_uri": "https://localhost:8080/",
     "height": 295
    },
    "id": "rVrWNmxJvs4Z",
    "outputId": "b6b04f09-d963-4186-d96a-e763ddaac2fc"
   },
   "outputs": [
    {
     "data": {
      "image/png": "[encoded data removed]",
      "text/plain": [
       "<Figure size 432x288 with 1 Axes>"
      ]
     },
     "metadata": {
      "needs_background": "light"
     },
     "output_type": "display_data"
    }
   ],
   "source": [
    "plot_normal_ex(other_force_score, 'Other')"
   ]
  },
  {
   "cell_type": "markdown",
   "metadata": {
    "id": "ySw4P2WxysFt"
   },
   "source": [
    "## Excessive Force Score"
   ]
  },
  {
   "cell_type": "code",
   "execution_count": 45,
   "metadata": {
    "id": "bK1XaNMUysFu"
   },
   "outputs": [],
   "source": [
    "all = [black_force_score, latinx_force_score, asian_force_score, other_force_score]\n",
    "avg_excessive_force_score = (sum(all)/len(all))/np.sqrt(4*(.5)**2) # taking the weighted average of all z scores and then normalizing by the variance\n",
    "avg_force_percent = (sum(black_force_percent) + sum(latinx_force_percent) + sum(asian_force_percent) + sum(other_force_percent))/len(all)\n",
    "\n",
    "\n",
    "cities['black excessive force score'] = black_force_score\n",
    "cities['latinx excessive force score'] = latinx_force_score\n",
    "cities['asian excessive force score'] = asian_force_score\n",
    "cities['other excessive force score'] = other_force_score\n",
    "cities['average excessive force score'] = avg_excessive_force_score\n",
    "\n",
    "cities['black excessive force percent'] = black_force_percent\n",
    "cities['latinx excessive force percent'] = latinx_force_percent\n",
    "cities['asian excessive force percent'] = asian_force_percent\n",
    "cities['other excessive force percent'] = other_force_percent\n",
    "\n",
    "force_col = cities.loc[: , \"black excessive force score\":\"other excessive force score\"]\n",
    "cities['average excessive force score'] = force_col.mean(axis=1)\n",
    "cities['max excessive force score'] = force_col.max(axis=1)\n",
    "\n",
    "force_col_percent = cities.loc[: , \"black excessive force percent\":\"other excessive force percent\"]\n",
    "cities['average force percent'] = force_col_percent.mean(axis=1)\n",
    "cities['min force percent'] = force_col_percent.min(axis=1)\n"
   ]
  },
  {
   "cell_type": "code",
   "execution_count": 46,
   "metadata": {
    "colab": {
     "base_uri": "https://localhost:8080/",
     "height": 295
    },
    "id": "flCrmv-zie0O",
    "outputId": "44743f87-2371-4108-a573-7a55f715a947"
   },
   "outputs": [
    {
     "data": {
      "image/png": "[encoded data removed]",
      "text/plain": [
       "<Figure size 432x288 with 1 Axes>"
      ]
     },
     "metadata": {
      "needs_background": "light"
     },
     "output_type": "display_data"
    }
   ],
   "source": [
    "plot_normal_ex(avg_excessive_force_score, 'Average')"
   ]
  },
  {
   "cell_type": "code",
   "execution_count": 47,
   "metadata": {
    "colab": {
     "base_uri": "https://localhost:8080/",
     "height": 312
    },
    "id": "jWHQoaSGysFx",
    "outputId": "d84007d4-acf3-4f56-e847-aabb8b75ae2b"
   },
   "outputs": [
    {
     "data": {
      "text/html": [
       "<div>\n",
       "<style scoped>\n",
       "    .dataframe tbody tr th:only-of-type {\n",
       "        vertical-align: middle;\n",
       "    }\n",
       "\n",
       "    .dataframe tbody tr th {\n",
       "        vertical-align: top;\n",
       "    }\n",
       "\n",
       "    .dataframe thead th {\n",
       "        text-align: right;\n",
       "    }\n",
       "</style>\n",
       "<table border=\"1\" class=\"dataframe\">\n",
       "  <thead>\n",
       "    <tr style=\"text-align: right;\">\n",
       "      <th></th>\n",
       "      <th>Unnamed: 0</th>\n",
       "      <th>city</th>\n",
       "      <th>year</th>\n",
       "      <th>total_pop</th>\n",
       "      <th>black_pct</th>\n",
       "      <th>white_pct</th>\n",
       "      <th>latinx_pct</th>\n",
       "      <th>asian_pct</th>\n",
       "      <th>other_pct</th>\n",
       "      <th>black_drive_stops</th>\n",
       "      <th>...</th>\n",
       "      <th>asian excessive force score</th>\n",
       "      <th>other excessive force score</th>\n",
       "      <th>average excessive force score</th>\n",
       "      <th>black excessive force percent</th>\n",
       "      <th>latinx excessive force percent</th>\n",
       "      <th>asian excessive force percent</th>\n",
       "      <th>other excessive force percent</th>\n",
       "      <th>max excessive force score</th>\n",
       "      <th>average force percent</th>\n",
       "      <th>min force percent</th>\n",
       "    </tr>\n",
       "  </thead>\n",
       "  <tbody>\n",
       "    <tr>\n",
       "      <th>0</th>\n",
       "      <td>0</td>\n",
       "      <td>Portland</td>\n",
       "      <td>2016</td>\n",
       "      <td>639635</td>\n",
       "      <td>0.058</td>\n",
       "      <td>0.704</td>\n",
       "      <td>0.102</td>\n",
       "      <td>0.076</td>\n",
       "      <td>0.060</td>\n",
       "      <td>1745</td>\n",
       "      <td>...</td>\n",
       "      <td>2.097939</td>\n",
       "      <td>-4.846341</td>\n",
       "      <td>5.551835</td>\n",
       "      <td>0.0</td>\n",
       "      <td>2.359375e-09</td>\n",
       "      <td>0.017955</td>\n",
       "      <td>6.287951e-07</td>\n",
       "      <td>19.098946</td>\n",
       "      <td>0.004489</td>\n",
       "      <td>0.0</td>\n",
       "    </tr>\n",
       "    <tr>\n",
       "      <th>1</th>\n",
       "      <td>1</td>\n",
       "      <td>Portland</td>\n",
       "      <td>2017</td>\n",
       "      <td>648121</td>\n",
       "      <td>0.053</td>\n",
       "      <td>0.698</td>\n",
       "      <td>0.104</td>\n",
       "      <td>0.081</td>\n",
       "      <td>0.064</td>\n",
       "      <td>1168</td>\n",
       "      <td>...</td>\n",
       "      <td>2.922926</td>\n",
       "      <td>-4.362535</td>\n",
       "      <td>5.011415</td>\n",
       "      <td>0.0</td>\n",
       "      <td>9.733421e-09</td>\n",
       "      <td>0.001734</td>\n",
       "      <td>6.428213e-06</td>\n",
       "      <td>15.868595</td>\n",
       "      <td>0.000435</td>\n",
       "      <td>0.0</td>\n",
       "    </tr>\n",
       "    <tr>\n",
       "      <th>2</th>\n",
       "      <td>2</td>\n",
       "      <td>Portland</td>\n",
       "      <td>2018</td>\n",
       "      <td>652573</td>\n",
       "      <td>0.061</td>\n",
       "      <td>0.700</td>\n",
       "      <td>0.093</td>\n",
       "      <td>0.088</td>\n",
       "      <td>0.058</td>\n",
       "      <td>1386</td>\n",
       "      <td>...</td>\n",
       "      <td>-9.759155</td>\n",
       "      <td>-3.850042</td>\n",
       "      <td>3.698687</td>\n",
       "      <td>0.0</td>\n",
       "      <td>2.923096e-03</td>\n",
       "      <td>0.000000</td>\n",
       "      <td>5.904873e-05</td>\n",
       "      <td>25.647662</td>\n",
       "      <td>0.000746</td>\n",
       "      <td>0.0</td>\n",
       "    </tr>\n",
       "    <tr>\n",
       "      <th>3</th>\n",
       "      <td>3</td>\n",
       "      <td>Portland</td>\n",
       "      <td>2019</td>\n",
       "      <td>653467</td>\n",
       "      <td>0.055</td>\n",
       "      <td>0.705</td>\n",
       "      <td>0.097</td>\n",
       "      <td>0.081</td>\n",
       "      <td>0.062</td>\n",
       "      <td>2057</td>\n",
       "      <td>...</td>\n",
       "      <td>-15.957540</td>\n",
       "      <td>1.142538</td>\n",
       "      <td>1.917448</td>\n",
       "      <td>0.0</td>\n",
       "      <td>2.217745e-01</td>\n",
       "      <td>0.000000</td>\n",
       "      <td>1.266152e-01</td>\n",
       "      <td>23.251009</td>\n",
       "      <td>0.087097</td>\n",
       "      <td>0.0</td>\n",
       "    </tr>\n",
       "  </tbody>\n",
       "</table>\n",
       "<p>4 rows × 43 columns</p>\n",
       "</div>"
      ],
      "text/plain": [
       "   Unnamed: 0      city  year  total_pop  black_pct  white_pct  latinx_pct  \\\n",
       "0           0  Portland  2016     639635      0.058      0.704       0.102   \n",
       "1           1  Portland  2017     648121      0.053      0.698       0.104   \n",
       "2           2  Portland  2018     652573      0.061      0.700       0.093   \n",
       "3           3  Portland  2019     653467      0.055      0.705       0.097   \n",
       "\n",
       "   asian_pct  other_pct  black_drive_stops  ...  asian excessive force score  \\\n",
       "0      0.076      0.060               1745  ...                     2.097939   \n",
       "1      0.081      0.064               1168  ...                     2.922926   \n",
       "2      0.088      0.058               1386  ...                    -9.759155   \n",
       "3      0.081      0.062               2057  ...                   -15.957540   \n",
       "\n",
       "   other excessive force score  average excessive force score  \\\n",
       "0                    -4.846341                       5.551835   \n",
       "1                    -4.362535                       5.011415   \n",
       "2                    -3.850042                       3.698687   \n",
       "3                     1.142538                       1.917448   \n",
       "\n",
       "   black excessive force percent  latinx excessive force percent  \\\n",
       "0                            0.0                    2.359375e-09   \n",
       "1                            0.0                    9.733421e-09   \n",
       "2                            0.0                    2.923096e-03   \n",
       "3                            0.0                    2.217745e-01   \n",
       "\n",
       "   asian excessive force percent  other excessive force percent  \\\n",
       "0                       0.017955                   6.287951e-07   \n",
       "1                       0.001734                   6.428213e-06   \n",
       "2                       0.000000                   5.904873e-05   \n",
       "3                       0.000000                   1.266152e-01   \n",
       "\n",
       "   max excessive force score  average force percent  min force percent  \n",
       "0                  19.098946               0.004489                0.0  \n",
       "1                  15.868595               0.000435                0.0  \n",
       "2                  25.647662               0.000746                0.0  \n",
       "3                  23.251009               0.087097                0.0  \n",
       "\n",
       "[4 rows x 43 columns]"
      ]
     },
     "execution_count": 47,
     "metadata": {},
     "output_type": "execute_result"
    }
   ],
   "source": [
    "cities"
   ]
  },
  {
   "cell_type": "markdown",
   "metadata": {
    "id": "_emrTd6Cx1Na"
   },
   "source": [
    "## Confidence Intervals"
   ]
  },
  {
   "cell_type": "markdown",
   "metadata": {
    "id": "87kQmR23y2By"
   },
   "source": [
    "The exceessive force score is calculated using a z-test. This z-score tells us whether the excessive force is statistically significant or not. Using a one-tailed test at the 95% confidence level, we can compare the z-score to z = 2.086. If  z  > 2.086, we reject the null hypothesis that the difference in binomial distributions is due to chance, else we fail to reject the null hypothesis that the difference is statistically significant."
   ]
  },
  {
   "cell_type": "code",
   "execution_count": 48,
   "metadata": {
    "id": "w2oClHqedUpT"
   },
   "outputs": [],
   "source": [
    "\n",
    "def pval(val): \n",
    "  if val < 0.05: \n",
    "    return 'Statistically Significant'\n",
    "  else: \n",
    "    return 'Likely Due to Chance'"
   ]
  },
  {
   "cell_type": "code",
   "execution_count": 49,
   "metadata": {
    "id": "iQulY2_udCVF"
   },
   "outputs": [],
   "source": [
    "def zval(zscore):\n",
    "    if zscore < 2.086:\n",
    "        return 'Likely Due to Chance'\n",
    "    else:\n",
    "        return 'Statistically Significant'"
   ]
  },
  {
   "cell_type": "code",
   "execution_count": 50,
   "metadata": {
    "id": "QB_1y1LIdqBM"
   },
   "outputs": [],
   "source": [
    "#sum the scores in each column\n",
    "black_ex_sum = sum(cities['black excessive force score'])\n",
    "#calculate the means of each group\n",
    "black_ex_avg = black_ex_sum/4\n",
    "#sum the scores in each column\n",
    "latinx_ex_sum = sum(cities['latinx excessive force score'])\n",
    "#calculate the means of each group\n",
    "latinx_ex_avg = latinx_ex_sum/4\n",
    "#sum the scores in each column\n",
    "asian_ex_sum = sum(cities['asian excessive force score'])\n",
    "#calculate the means of each group\n",
    "asian_ex_avg = asian_ex_sum/4\n",
    "#sum the scores in each column\n",
    "other_ex_sum = sum(cities['other excessive force score'])\n",
    "#calculate the means of each group\n",
    "other_ex_avg = other_ex_sum/4"
   ]
  },
  {
   "cell_type": "code",
   "execution_count": 51,
   "metadata": {
    "colab": {
     "base_uri": "https://localhost:8080/"
    },
    "id": "h8O0QfR5dF6h",
    "outputId": "34d00b1c-9901-4026-e9b7-93e60c6b77cd"
   },
   "outputs": [
    {
     "name": "stdout",
     "output_type": "stream",
     "text": [
      "Black: Statistically Significant , Latinx: Statistically Significant , Asian: Likely Due to Chance , Other: Likely Due to Chance\n"
     ]
    }
   ],
   "source": [
    "#using the average z-score over all years\n",
    "print('Black:' , zval(black_ex_avg),',' \n",
    "      , 'Latinx:' , zval(latinx_ex_avg), ',' \n",
    "      , 'Asian:' , zval(asian_ex_avg), ',' \n",
    "      , 'Other:' , zval(other_ex_avg))"
   ]
  },
  {
   "cell_type": "code",
   "execution_count": 52,
   "metadata": {
    "colab": {
     "base_uri": "https://localhost:8080/"
    },
    "id": "3ADDisK_ylz3",
    "outputId": "f67a8b60-3fa7-49ad-ced1-e860cddee93c"
   },
   "outputs": [
    {
     "name": "stdout",
     "output_type": "stream",
     "text": [
      "Average and 95% Confidence Interval for African Americans: (20.96655306279438, 16.709521770988776, 25.223584354599982)\n"
     ]
    }
   ],
   "source": [
    "black_force_CI = mean_confidence_interval(cities['black excessive force score'])\n",
    "print('Average and 95% Confidence Interval for African Americans:', black_force_CI)"
   ]
  },
  {
   "cell_type": "code",
   "execution_count": 53,
   "metadata": {
    "colab": {
     "base_uri": "https://localhost:8080/"
    },
    "id": "yd_p4x2xzH-R",
    "outputId": "04835928-b73e-4d19-ad31-abdba070da0e"
   },
   "outputs": [
    {
     "name": "stdout",
     "output_type": "stream",
     "text": [
      "Average and 95% Confidence Interval for Latinx: (3.365885960912954, 0.33386907633082474, 6.397902845495084)\n"
     ]
    },
    {
     "data": {
      "text/plain": [
       "6.397902845495084"
      ]
     },
     "execution_count": 53,
     "metadata": {},
     "output_type": "execute_result"
    }
   ],
   "source": [
    "latinx_force_CI = mean_confidence_interval(cities['latinx excessive force score'])\n",
    "print('Average and 95% Confidence Interval for Latinx:', latinx_force_CI)\n",
    "latinx_force_CI[2]"
   ]
  },
  {
   "cell_type": "code",
   "execution_count": 54,
   "metadata": {
    "colab": {
     "base_uri": "https://localhost:8080/"
    },
    "id": "arefkBNUzcCP",
    "outputId": "a2200662-9de3-4a0d-ddb0-b647aad7f494"
   },
   "outputs": [
    {
     "name": "stdout",
     "output_type": "stream",
     "text": [
      "Average and 95% Confidence Interval for Asians: (-5.173957858604217, -14.22238300867695, 3.874467291468516)\n"
     ]
    }
   ],
   "source": [
    "asian_force_CI = mean_confidence_interval(cities['asian excessive force score'])\n",
    "print('Average and 95% Confidence Interval for Asians:', asian_force_CI)"
   ]
  },
  {
   "cell_type": "code",
   "execution_count": 55,
   "metadata": {
    "colab": {
     "base_uri": "https://localhost:8080/"
    },
    "id": "l_RNshy77Kzh",
    "outputId": "27da2cf9-d20c-4c4f-bd3d-f84da2233986"
   },
   "outputs": [
    {
     "name": "stdout",
     "output_type": "stream",
     "text": [
      "Average and 95% Confidence Interval for Other Racial Groups: (-2.9790950047023537, -5.701245236293396, -0.25694477311131125)\n"
     ]
    }
   ],
   "source": [
    "other_force_CI = mean_confidence_interval(cities['other excessive force score'])\n",
    "print('Average and 95% Confidence Interval for Other Racial Groups:', other_force_CI)"
   ]
  },
  {
   "cell_type": "code",
   "execution_count": 56,
   "metadata": {
    "colab": {
     "base_uri": "https://localhost:8080/",
     "height": 297
    },
    "id": "VFR1jmI1iaGm",
    "outputId": "87bf23b2-c375-48b4-a4a0-79aacd6193c0"
   },
   "outputs": [
    {
     "data": {
      "image/png": "[encoded data removed]",
      "text/plain": [
       "<Figure size 432x288 with 1 Axes>"
      ]
     },
     "metadata": {
      "needs_background": "light"
     },
     "output_type": "display_data"
    }
   ],
   "source": [
    "x_ticks = (\"Black\", \"Latinx\", \"Asian\", \"Other\")\n",
    "\n",
    "x_1 = np.arange(1,5)\n",
    "\n",
    "\n",
    "y_1 = [black_ex_avg, latinx_ex_avg, asian_ex_avg, other_ex_avg]\n",
    "\n",
    "\n",
    "err_1 = [i[2]-i[0] for i in [black_force_CI, latinx_force_CI, asian_force_CI, other_force_CI]]\n",
    "\n",
    "plt.errorbar(x=x_1, y=y_1, yerr=err_1, color=\"blue\", capsize=3,\n",
    "             linestyle=\"None\",\n",
    "             marker=\"s\", markersize=7, mfc=\"black\", mec=\"black\")\n",
    "\n",
    "\n",
    "plt.xticks(x_1, x_ticks)\n",
    "\n",
    "plt.ylabel('Average Excessive Force Score')\n",
    "plt.xlabel('Racial Group')\n",
    "plt.title('Average Excessive Force Score with Confidence Intervals')\n",
    "plt.tight_layout()\n",
    "plt.show()"
   ]
  },
  {
   "cell_type": "code",
   "execution_count": null,
   "metadata": {
    "id": "uWgpWRnQnxaH"
   },
   "outputs": [],
   "source": []
  },
  {
   "cell_type": "markdown",
   "metadata": {
    "id": "5Y1k6LcNwZDy"
   },
   "source": [
    "## Diagnostic Score"
   ]
  },
  {
   "cell_type": "markdown",
   "metadata": {
    "id": "CI56biEUwiHY"
   },
   "source": [
    "Finally, we calculate the diagnostic score. The racial bias score was a z score that represented whether the difference between white and non-white traffic stops was statistically significant. We took the max over all non-white racial groups in a given year to get the max z score. The excessive force score was also a z score that represented whether the difference between the probability of excessive force being used on white vs non white civilians was statistically significant. Again, we took the max over all non-white racial groups to get the max excessive force score for a given year. To calculate the diagnostic score, we first take the average of the p-values of the max racial bias scores and max excessive force scores, because the average of two z-scores alone is not a z-score. We then convert this averaged percentiles to z-scores, to see how many deviations away from 0 the overall racial bias is in a police department."
   ]
  },
  {
   "cell_type": "code",
   "execution_count": 57,
   "metadata": {
    "id": "KLcoET9o-hvm"
   },
   "outputs": [],
   "source": [
    "def z_score(p_val):\n",
    "    return norm.ppf(1-p_val)"
   ]
  },
  {
   "cell_type": "code",
   "execution_count": 58,
   "metadata": {
    "id": "puoyyE5P5cHS"
   },
   "outputs": [],
   "source": [
    "diagnostic_percentile = (cities['min racial bias percentage'] + cities['min force percent'])/2 #taking the highest racial bias/excessive force score\n",
    "diagnostic_score = z_score(diagnostic_percentile)\n",
    "cities['diagnostic score'] = diagnostic_score\n",
    "cities['diagnostic percentile'] = diagnostic_percentile"
   ]
  },
  {
   "cell_type": "code",
   "execution_count": 59,
   "metadata": {
    "id": "KfzaD_pYBANM"
   },
   "outputs": [
    {
     "data": {
      "text/html": [
       "<div>\n",
       "<style scoped>\n",
       "    .dataframe tbody tr th:only-of-type {\n",
       "        vertical-align: middle;\n",
       "    }\n",
       "\n",
       "    .dataframe tbody tr th {\n",
       "        vertical-align: top;\n",
       "    }\n",
       "\n",
       "    .dataframe thead th {\n",
       "        text-align: right;\n",
       "    }\n",
       "</style>\n",
       "<table border=\"1\" class=\"dataframe\">\n",
       "  <thead>\n",
       "    <tr style=\"text-align: right;\">\n",
       "      <th></th>\n",
       "      <th>Unnamed: 0</th>\n",
       "      <th>city</th>\n",
       "      <th>year</th>\n",
       "      <th>total_pop</th>\n",
       "      <th>black_pct</th>\n",
       "      <th>white_pct</th>\n",
       "      <th>latinx_pct</th>\n",
       "      <th>asian_pct</th>\n",
       "      <th>other_pct</th>\n",
       "      <th>black_drive_stops</th>\n",
       "      <th>...</th>\n",
       "      <th>average excessive force score</th>\n",
       "      <th>black excessive force percent</th>\n",
       "      <th>latinx excessive force percent</th>\n",
       "      <th>asian excessive force percent</th>\n",
       "      <th>other excessive force percent</th>\n",
       "      <th>max excessive force score</th>\n",
       "      <th>average force percent</th>\n",
       "      <th>min force percent</th>\n",
       "      <th>diagnostic score</th>\n",
       "      <th>diagnostic percentile</th>\n",
       "    </tr>\n",
       "  </thead>\n",
       "  <tbody>\n",
       "    <tr>\n",
       "      <th>0</th>\n",
       "      <td>0</td>\n",
       "      <td>Portland</td>\n",
       "      <td>2016</td>\n",
       "      <td>639635</td>\n",
       "      <td>0.058</td>\n",
       "      <td>0.704</td>\n",
       "      <td>0.102</td>\n",
       "      <td>0.076</td>\n",
       "      <td>0.060</td>\n",
       "      <td>1745</td>\n",
       "      <td>...</td>\n",
       "      <td>5.551835</td>\n",
       "      <td>0.0</td>\n",
       "      <td>2.359375e-09</td>\n",
       "      <td>0.017955</td>\n",
       "      <td>6.287951e-07</td>\n",
       "      <td>19.098946</td>\n",
       "      <td>0.004489</td>\n",
       "      <td>0.0</td>\n",
       "      <td>1.514759</td>\n",
       "      <td>0.064917</td>\n",
       "    </tr>\n",
       "    <tr>\n",
       "      <th>1</th>\n",
       "      <td>1</td>\n",
       "      <td>Portland</td>\n",
       "      <td>2017</td>\n",
       "      <td>648121</td>\n",
       "      <td>0.053</td>\n",
       "      <td>0.698</td>\n",
       "      <td>0.104</td>\n",
       "      <td>0.081</td>\n",
       "      <td>0.064</td>\n",
       "      <td>1168</td>\n",
       "      <td>...</td>\n",
       "      <td>5.011415</td>\n",
       "      <td>0.0</td>\n",
       "      <td>9.733421e-09</td>\n",
       "      <td>0.001734</td>\n",
       "      <td>6.428213e-06</td>\n",
       "      <td>15.868595</td>\n",
       "      <td>0.000435</td>\n",
       "      <td>0.0</td>\n",
       "      <td>1.275366</td>\n",
       "      <td>0.101090</td>\n",
       "    </tr>\n",
       "    <tr>\n",
       "      <th>2</th>\n",
       "      <td>2</td>\n",
       "      <td>Portland</td>\n",
       "      <td>2018</td>\n",
       "      <td>652573</td>\n",
       "      <td>0.061</td>\n",
       "      <td>0.700</td>\n",
       "      <td>0.093</td>\n",
       "      <td>0.088</td>\n",
       "      <td>0.058</td>\n",
       "      <td>1386</td>\n",
       "      <td>...</td>\n",
       "      <td>3.698687</td>\n",
       "      <td>0.0</td>\n",
       "      <td>2.923096e-03</td>\n",
       "      <td>0.000000</td>\n",
       "      <td>5.904873e-05</td>\n",
       "      <td>25.647662</td>\n",
       "      <td>0.000746</td>\n",
       "      <td>0.0</td>\n",
       "      <td>1.288736</td>\n",
       "      <td>0.098745</td>\n",
       "    </tr>\n",
       "    <tr>\n",
       "      <th>3</th>\n",
       "      <td>3</td>\n",
       "      <td>Portland</td>\n",
       "      <td>2019</td>\n",
       "      <td>653467</td>\n",
       "      <td>0.055</td>\n",
       "      <td>0.705</td>\n",
       "      <td>0.097</td>\n",
       "      <td>0.081</td>\n",
       "      <td>0.062</td>\n",
       "      <td>2057</td>\n",
       "      <td>...</td>\n",
       "      <td>1.917448</td>\n",
       "      <td>0.0</td>\n",
       "      <td>2.217745e-01</td>\n",
       "      <td>0.000000</td>\n",
       "      <td>1.266152e-01</td>\n",
       "      <td>23.251009</td>\n",
       "      <td>0.087097</td>\n",
       "      <td>0.0</td>\n",
       "      <td>1.770270</td>\n",
       "      <td>0.038341</td>\n",
       "    </tr>\n",
       "  </tbody>\n",
       "</table>\n",
       "<p>4 rows × 45 columns</p>\n",
       "</div>"
      ],
      "text/plain": [
       "   Unnamed: 0      city  year  total_pop  black_pct  white_pct  latinx_pct  \\\n",
       "0           0  Portland  2016     639635      0.058      0.704       0.102   \n",
       "1           1  Portland  2017     648121      0.053      0.698       0.104   \n",
       "2           2  Portland  2018     652573      0.061      0.700       0.093   \n",
       "3           3  Portland  2019     653467      0.055      0.705       0.097   \n",
       "\n",
       "   asian_pct  other_pct  black_drive_stops  ...  \\\n",
       "0      0.076      0.060               1745  ...   \n",
       "1      0.081      0.064               1168  ...   \n",
       "2      0.088      0.058               1386  ...   \n",
       "3      0.081      0.062               2057  ...   \n",
       "\n",
       "   average excessive force score  black excessive force percent  \\\n",
       "0                       5.551835                            0.0   \n",
       "1                       5.011415                            0.0   \n",
       "2                       3.698687                            0.0   \n",
       "3                       1.917448                            0.0   \n",
       "\n",
       "   latinx excessive force percent  asian excessive force percent  \\\n",
       "0                    2.359375e-09                       0.017955   \n",
       "1                    9.733421e-09                       0.001734   \n",
       "2                    2.923096e-03                       0.000000   \n",
       "3                    2.217745e-01                       0.000000   \n",
       "\n",
       "   other excessive force percent  max excessive force score  \\\n",
       "0                   6.287951e-07                  19.098946   \n",
       "1                   6.428213e-06                  15.868595   \n",
       "2                   5.904873e-05                  25.647662   \n",
       "3                   1.266152e-01                  23.251009   \n",
       "\n",
       "   average force percent  min force percent  diagnostic score  \\\n",
       "0               0.004489                0.0          1.514759   \n",
       "1               0.000435                0.0          1.275366   \n",
       "2               0.000746                0.0          1.288736   \n",
       "3               0.087097                0.0          1.770270   \n",
       "\n",
       "   diagnostic percentile  \n",
       "0               0.064917  \n",
       "1               0.101090  \n",
       "2               0.098745  \n",
       "3               0.038341  \n",
       "\n",
       "[4 rows x 45 columns]"
      ]
     },
     "execution_count": 59,
     "metadata": {},
     "output_type": "execute_result"
    }
   ],
   "source": [
    "cities"
   ]
  },
  {
   "cell_type": "code",
   "execution_count": 60,
   "metadata": {},
   "outputs": [],
   "source": [
    "cities.to_csv('portland_bias_score.csv')"
   ]
  },
  {
   "cell_type": "code",
   "execution_count": null,
   "metadata": {},
   "outputs": [],
   "source": []
  }
 ],
 "metadata": {
  "colab": {
   "collapsed_sections": [],
   "name": "FINAL Police Bias Algorithm.ipynb",
   "provenance": [],
   "toc_visible": true
  },
  "kernelspec": {
   "display_name": "Python 3",
   "language": "python",
   "name": "python3"
  },
  "language_info": {
   "codemirror_mode": {
    "name": "ipython",
    "version": 3
   },
   "file_extension": ".py",
   "mimetype": "text/x-python",
   "name": "python",
   "nbconvert_exporter": "python",
   "pygments_lexer": "ipython3",
   "version": "3.7.7"
  }
 },
 "nbformat": 4,
 "nbformat_minor": 1
}
