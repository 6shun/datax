{
 "cells": [
  {
   "cell_type": "markdown",
   "metadata": {},
   "source": [
    "<a id='top'></a>\n",
    "\n",
    "# Computer Vision\n",
    "## Homework\n",
    "\n",
    "> #### IEOR 135/290, Data-X: Applied Data Ventures\n",
    "> #### Author: Joshua Rafael Sanchez | UC Berkeley, B.S. IEOR, '20\n",
    "> In collaboration with Ikalaq Sidhu.\n",
    "> Email: joshuarafael@berkeley.edu\n",
    "\n",
    "> __About This Notebook:__ <br>\n",
    "> This notebook contains the homework of the Computer Vision content in Data-X.  All questions under this homework are drawn from the concepts mentioned in the course.\n",
    "\n",
    "> __Instructions:__ <br>\n",
    "> Feel free to add scratch cells above the answer cells to show your work towards the answer.\n",
    "\n",
    "> __Extra Resources Used:__ <br>\n",
    "> The Computer Vision Demo contains the content for these questions.\n",
    "\n",
    "> __Copyright:__ <br>\n",
    "> Feel free to use the code as you wish."
   ]
  },
  {
   "cell_type": "markdown",
   "metadata": {},
   "source": [
    "________"
   ]
  },
  {
   "cell_type": "markdown",
   "metadata": {},
   "source": [
    "<a id='table_of_contents'></a>\n",
    "## Table of Contents\n",
    "\n",
    "### [Q0.](#q0) Setup\n",
    "> Setting up the libraries needed for this homework, as well as the images that will be used.\n",
    "\n",
    "### [Q1.](#q1) Identifying faces, finding a face in an image with multiple people\n",
    "> We will be identifying a selected image from another image with multiple people.\n",
    "\n",
    "### [Q2.](#q2) Manipulating facial features by emotion\n",
    "> We will be drawing shapes on the facial features based on emotion."
   ]
  },
  {
   "cell_type": "markdown",
   "metadata": {},
   "source": [
    "__________"
   ]
  },
  {
   "cell_type": "markdown",
   "metadata": {},
   "source": [
    "<a id='q0'></a>\n",
    "## Q0. Setup"
   ]
  },
  {
   "cell_type": "markdown",
   "metadata": {},
   "source": [
    "**Importing Libraries:**\n",
    ">  The following libraries are needed for this homework.\n",
    "- `face_recognition`\n",
    "- `Image`, `ImageDraw` from `PIL`\n",
    "- `EmoPy`"
   ]
  },
  {
   "cell_type": "code",
   "execution_count": null,
   "metadata": {},
   "outputs": [],
   "source": [
    "# Import the libraries here (this is for your reference):\n"
   ]
  },
  {
   "cell_type": "markdown",
   "metadata": {},
   "source": [
    "**Importing Images:**\n",
    "> The following images can be used for this homework.  If it is of interest, you are free to import and to use any images you like, as long as the images are identified in your answer."
   ]
  },
  {
   "cell_type": "code",
   "execution_count": null,
   "metadata": {},
   "outputs": [],
   "source": [
    "# Import the images (images are provided for you): \n"
   ]
  },
  {
   "cell_type": "markdown",
   "metadata": {},
   "source": [
    "________"
   ]
  },
  {
   "cell_type": "markdown",
   "metadata": {},
   "source": [
    "<a id='q1'></a>\n",
    "## Q1. Identifying faces, finding a face in an image with multiple people"
   ]
  },
  {
   "cell_type": "markdown",
   "metadata": {},
   "source": [
    "**Instructions:**  \n",
    "> - Select an image with only singular face that you want to identify.\n",
    "> - Select an image with multiple faces from which the selected face can be identified.\n",
    "> - Give the coordinates of the singular face in the multiple-faced image."
   ]
  },
  {
   "cell_type": "markdown",
   "metadata": {},
   "source": [
    "**Work:**"
   ]
  },
  {
   "cell_type": "code",
   "execution_count": null,
   "metadata": {},
   "outputs": [],
   "source": []
  },
  {
   "cell_type": "markdown",
   "metadata": {},
   "source": [
    "<a id='q2'></a>\n",
    "## Q2. Manipulating facial features by emotion"
   ]
  },
  {
   "cell_type": "markdown",
   "metadata": {},
   "source": [
    "**Instructions:** "
   ]
  },
  {
   "cell_type": "markdown",
   "metadata": {},
   "source": [
    "> - Choose the same group photo.\n",
    "> - Using `EmoPy`, identify whether each of the faces shows *happiness, calm, or anger.* \n",
    "> - Then, edit each face drawing shapes on the image based by the following criteria:\n",
    "    - Image displays *happiness*: yellow lips (top and bottom)\n",
    "    - Image displays *calm*: white eyebrows (left and right)\n",
    "    - Image displays *anger*: red eyes (left and right)"
   ]
  },
  {
   "cell_type": "markdown",
   "metadata": {},
   "source": [
    "**Work:**"
   ]
  },
  {
   "cell_type": "code",
   "execution_count": null,
   "metadata": {},
   "outputs": [],
   "source": []
  }
 ],
 "metadata": {
  "kernelspec": {
   "display_name": "Python 3",
   "language": "python",
   "name": "python3"
  },
  "language_info": {
   "codemirror_mode": {
    "name": "ipython",
    "version": 3
   },
   "file_extension": ".py",
   "mimetype": "text/x-python",
   "name": "python",
   "nbconvert_exporter": "python",
   "pygments_lexer": "ipython3",
   "version": "3.6.8"
  }
 },
 "nbformat": 4,
 "nbformat_minor": 2
}
