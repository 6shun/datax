{
  "nbformat": 4,
  "nbformat_minor": 0,
  "metadata": {
    "colab": {
      "name": "HW_WebScraping.ipynb",
      "provenance": [],
      "collapsed_sections": [
        "B8LXEYXt6r5H",
        "XqMKQBP57k-1"
      ]
    },
    "kernelspec": {
      "name": "python3",
      "display_name": "Python 3"
    }
  },
  "cells": [
    {
      "cell_type": "markdown",
      "metadata": {
        "id": "4DmUEgTau6fa",
        "colab_type": "text"
      },
      "source": [
        "# **Homework - Web Scraping**"
      ]
    },
    {
      "cell_type": "markdown",
      "metadata": {
        "id": "DOGTfRazwkZB",
        "colab_type": "text"
      },
      "source": [
        "AUTHOR: Fellipe Marcellino"
      ]
    },
    {
      "cell_type": "markdown",
      "metadata": {
        "id": "G5cx0G1tvCkw",
        "colab_type": "text"
      },
      "source": [
        "## NAME:"
      ]
    },
    {
      "cell_type": "markdown",
      "metadata": {
        "id": "RF_Q5BdxvMvg",
        "colab_type": "text"
      },
      "source": [
        "## STUDENT ID:"
      ]
    },
    {
      "cell_type": "markdown",
      "metadata": {
        "id": "49w2tUYWXbHV",
        "colab_type": "text"
      },
      "source": [
        "In this homework, you may need to refer to the BeautifulSoup documentation: https://www.crummy.com/software/BeautifulSoup/bs4/doc/"
      ]
    },
    {
      "cell_type": "code",
      "metadata": {
        "id": "5IgwmuMjvReV",
        "colab_type": "code",
        "colab": {}
      },
      "source": [
        "# Do not delete this cell.\n",
        "\n",
        "# Load required modules\n",
        "import requests\n",
        "import bs4 as bs\n",
        "import pandas as pd\n",
        "import re"
      ],
      "execution_count": null,
      "outputs": []
    },
    {
      "cell_type": "markdown",
      "metadata": {
        "id": "W4vVi6XLwKDQ",
        "colab_type": "text"
      },
      "source": [
        "## **I. Web Scraping Intro**"
      ]
    },
    {
      "cell_type": "code",
      "metadata": {
        "id": "IJOb50SDiTT8",
        "colab_type": "code",
        "colab": {}
      },
      "source": [
        "# Do not delete this cell.\n",
        "\n",
        "source = requests.get(\"http://quotes.toscrape.com/\") # a GET request will download the HTML webpage.\n",
        "\n",
        "soup = bs.BeautifulSoup(source.content, features='html.parser') # Convert source.content to a beautifulsoup object"
      ],
      "execution_count": null,
      "outputs": []
    },
    {
      "cell_type": "markdown",
      "metadata": {
        "id": "aioNb5Vxi1yh",
        "colab_type": "text"
      },
      "source": [
        "**1. Using the soup object created above, print the HTML page title.**"
      ]
    },
    {
      "cell_type": "code",
      "metadata": {
        "id": "Z9DUz-70jH6E",
        "colab_type": "code",
        "colab": {}
      },
      "source": [
        "# START CODE HERE #\n",
        "\n",
        "# END CODE HERE #"
      ],
      "execution_count": null,
      "outputs": []
    },
    {
      "cell_type": "markdown",
      "metadata": {
        "id": "QBDIS-WujTbF",
        "colab_type": "text"
      },
      "source": [
        "**2. Using the tag object below, print the tag name and the text content.**"
      ]
    },
    {
      "cell_type": "code",
      "metadata": {
        "id": "7tX6cLq3jtUw",
        "colab_type": "code",
        "colab": {}
      },
      "source": [
        "# Do not delete this cell.\n",
        "\n",
        "tag1 = soup.a"
      ],
      "execution_count": null,
      "outputs": []
    },
    {
      "cell_type": "code",
      "metadata": {
        "id": "sYGeCEzQkIvs",
        "colab_type": "code",
        "colab": {}
      },
      "source": [
        "# START CODE HERE #\n",
        "\n",
        "# END CODE HERE #"
      ],
      "execution_count": null,
      "outputs": []
    },
    {
      "cell_type": "markdown",
      "metadata": {
        "id": "c13jBdOWkzjW",
        "colab_type": "text"
      },
      "source": [
        "**3. Using the same tag object, print the value of the 'style' attribute. Then, print all attributes in a dictionary format.**"
      ]
    },
    {
      "cell_type": "code",
      "metadata": {
        "id": "4GNIE360k_yU",
        "colab_type": "code",
        "colab": {}
      },
      "source": [
        "# START CODE HERE #\n",
        "\n",
        "# END CODE HERE #"
      ],
      "execution_count": null,
      "outputs": []
    },
    {
      "cell_type": "markdown",
      "metadata": {
        "id": "FvH_CdlQm4lO",
        "colab_type": "text"
      },
      "source": [
        "**4. Print the 3rd direct child of the 'head' tag and then print all the direct children's names using a for loop (filter None values with an if condition).**"
      ]
    },
    {
      "cell_type": "code",
      "metadata": {
        "id": "3KdPW7oqnmqL",
        "colab_type": "code",
        "colab": {}
      },
      "source": [
        "# START CODE HERE #\n",
        "\n",
        "# END CODE HERE #"
      ],
      "execution_count": null,
      "outputs": []
    },
    {
      "cell_type": "markdown",
      "metadata": {
        "id": "F2yVxpP6qw1_",
        "colab_type": "text"
      },
      "source": [
        "**5. Print all descendants of the 'footer' tag.**"
      ]
    },
    {
      "cell_type": "code",
      "metadata": {
        "id": "-4ISOYXSqNVe",
        "colab_type": "code",
        "colab": {}
      },
      "source": [
        "# START CODE HERE #\n",
        "\n",
        "# END CODE HERE #"
      ],
      "execution_count": null,
      "outputs": []
    },
    {
      "cell_type": "markdown",
      "metadata": {
        "id": "NWM4pdRMq6fE",
        "colab_type": "text"
      },
      "source": [
        "**6. Using the same tag object from the previous questions, print the content of its direct parent. Then, print the tag name of all parents (filter None values with an if condition).**"
      ]
    },
    {
      "cell_type": "code",
      "metadata": {
        "id": "407ol28ksXg4",
        "colab_type": "code",
        "colab": {}
      },
      "source": [
        "# START CODE HERE #\n",
        "\n",
        "# END CODE HERE #"
      ],
      "execution_count": null,
      "outputs": []
    },
    {
      "cell_type": "markdown",
      "metadata": {
        "id": "gukTiTjDsrZK",
        "colab_type": "text"
      },
      "source": [
        "**7. Using the tag object below, print the current tag text content, as well as the second previous and second next sibling text content.**"
      ]
    },
    {
      "cell_type": "code",
      "metadata": {
        "id": "IG5JIuWttDkO",
        "colab_type": "code",
        "colab": {}
      },
      "source": [
        "# Do not delete this cell.\n",
        "\n",
        "tag2 = soup.find('div', class_=\"col-md-4 tags-box\").find_all('span')[2]"
      ],
      "execution_count": null,
      "outputs": []
    },
    {
      "cell_type": "code",
      "metadata": {
        "id": "WZ-xTUDLtu9l",
        "colab_type": "code",
        "colab": {}
      },
      "source": [
        "# START CODE HERE #\n",
        "\n",
        "# END CODE HERE #"
      ],
      "execution_count": null,
      "outputs": []
    },
    {
      "cell_type": "markdown",
      "metadata": {
        "id": "n_uBT8niven0",
        "colab_type": "text"
      },
      "source": [
        "**8. Using the same tag object from the previous question, print all previous and next siblings' text content (filter None values with an if condition).**"
      ]
    },
    {
      "cell_type": "code",
      "metadata": {
        "id": "-Q05V8XkuW8H",
        "colab_type": "code",
        "colab": {}
      },
      "source": [
        "# START CODE HERE #\n",
        "\n",
        "# END CODE HERE #"
      ],
      "execution_count": null,
      "outputs": []
    },
    {
      "cell_type": "markdown",
      "metadata": {
        "id": "B8LXEYXt6r5H",
        "colab_type": "text"
      },
      "source": [
        "## **II. Filtering elements**"
      ]
    },
    {
      "cell_type": "markdown",
      "metadata": {
        "id": "UbJ7nx5NcgFp",
        "colab_type": "text"
      },
      "source": [
        "**1. Using the same soup object as before, find all the 'span' tags in the html page, limit the results to 5 and print them here.**"
      ]
    },
    {
      "cell_type": "code",
      "metadata": {
        "id": "fCqN66n8cxyc",
        "colab_type": "code",
        "colab": {}
      },
      "source": [
        "# START CODE HERE #\n",
        "\n",
        "# END CODE HERE #"
      ],
      "execution_count": null,
      "outputs": []
    },
    {
      "cell_type": "markdown",
      "metadata": {
        "id": "o7-17LCRcxe-",
        "colab_type": "text"
      },
      "source": [
        "**2. Using only one \"find_all\" command, find all 'h1' and 'p' tags in the html page.**"
      ]
    },
    {
      "cell_type": "code",
      "metadata": {
        "id": "XlDDkGuLdRaS",
        "colab_type": "code",
        "colab": {}
      },
      "source": [
        "# START CODE HERE #\n",
        "\n",
        "# END CODE HERE #"
      ],
      "execution_count": null,
      "outputs": []
    },
    {
      "cell_type": "markdown",
      "metadata": {
        "id": "xcnaMwr8dX0b",
        "colab_type": "text"
      },
      "source": [
        "**3. Find all tags with class = \"author\" and print their text content.**"
      ]
    },
    {
      "cell_type": "code",
      "metadata": {
        "id": "iaiyjpteeCdQ",
        "colab_type": "code",
        "colab": {}
      },
      "source": [
        "# START CODE HERE #\n",
        "\n",
        "# END CODE HERE #"
      ],
      "execution_count": null,
      "outputs": []
    },
    {
      "cell_type": "markdown",
      "metadata": {
        "id": "8fFd2Q-efAPc",
        "colab_type": "text"
      },
      "source": [
        "**4. Find all tags with a quote inside and print the quotes here (you may need to inspect the html code to find an attribute value to filter by).**"
      ]
    },
    {
      "cell_type": "code",
      "metadata": {
        "id": "jK2o157Be1II",
        "colab_type": "code",
        "colab": {}
      },
      "source": [
        "# START CODE HERE #\n",
        "\n",
        "# END CODE HERE #"
      ],
      "execution_count": null,
      "outputs": []
    },
    {
      "cell_type": "markdown",
      "metadata": {
        "id": "5D1XQVU3f78L",
        "colab_type": "text"
      },
      "source": [
        "**5. Find all quotes containing the word \"not\" in it and print them here (hint: use the re.compile() method for regular expression).**"
      ]
    },
    {
      "cell_type": "code",
      "metadata": {
        "id": "INnScVsEf6WM",
        "colab_type": "code",
        "colab": {}
      },
      "source": [
        "# START CODE HERE #\n",
        "\n",
        "# END CODE HERE #"
      ],
      "execution_count": null,
      "outputs": []
    },
    {
      "cell_type": "markdown",
      "metadata": {
        "id": "A2q6pCGJh6Rd",
        "colab_type": "text"
      },
      "source": [
        "**6. Find and print only the quotes by Albert Einstein in the html page.**"
      ]
    },
    {
      "cell_type": "code",
      "metadata": {
        "id": "31_69PpIiJNz",
        "colab_type": "code",
        "colab": {}
      },
      "source": [
        "# START CODE HERE #\n",
        "\n",
        "# END CODE HERE #"
      ],
      "execution_count": null,
      "outputs": []
    },
    {
      "cell_type": "markdown",
      "metadata": {
        "id": "XqMKQBP57k-1",
        "colab_type": "text"
      },
      "source": [
        "## **III. Scraping book information from a website**"
      ]
    },
    {
      "cell_type": "markdown",
      "metadata": {
        "id": "zhrKKjJvjMkT",
        "colab_type": "text"
      },
      "source": [
        "Let's now extract information from a fictitious book website: http://books.toscrape.com/\n",
        "\n",
        "Before starting each question, it is highly recommended that you inspect the html code of the website (ctrl+shift+i on Windows or cmd+option+i on Mac).\n",
        "\n",
        "Use the soup object below in your code."
      ]
    },
    {
      "cell_type": "code",
      "metadata": {
        "id": "7x3H5BrEk46K",
        "colab_type": "code",
        "colab": {}
      },
      "source": [
        "# Do not delete this cell.\n",
        "\n",
        "source = requests.get(\"http://books.toscrape.com/\") # a GET request will download the HTML webpage.\n",
        "\n",
        "soup = bs.BeautifulSoup(source.content, features='html.parser') # Convert source.content to a beautifulsoup object"
      ],
      "execution_count": null,
      "outputs": []
    },
    {
      "cell_type": "markdown",
      "metadata": {
        "id": "rkeFbFgAknjZ",
        "colab_type": "text"
      },
      "source": [
        "**1. Store all the book categories (located on the left menu) in a python list and print that list. Remove any blank spaces or undesired characters.**"
      ]
    },
    {
      "cell_type": "code",
      "metadata": {
        "id": "fjIZ5KZNlt_T",
        "colab_type": "code",
        "colab": {}
      },
      "source": [
        "# START CODE HERE #\n",
        "\n",
        "# END CODE HERE #"
      ],
      "execution_count": null,
      "outputs": []
    },
    {
      "cell_type": "markdown",
      "metadata": {
        "id": "K-hj_HAplFhu",
        "colab_type": "text"
      },
      "source": [
        "**2. Get the book title (full title), number of stars (as an integer), price (as a float) and availability for all the books in the main page and store them in a pandas dataframe. Print the dataframe (an example of dataframe is given below).**"
      ]
    },
    {
      "cell_type": "code",
      "metadata": {
        "id": "5UI7ryGdtgK7",
        "colab_type": "code",
        "colab": {
          "base_uri": "https://localhost:8080/",
          "height": 77
        },
        "outputId": "42a1d1c1-6217-40fa-b986-327b049904d4"
      },
      "source": [
        "# Do not delete this cell.\n",
        "\n",
        "# Example of dataframe\n",
        "pd.DataFrame({\"Title\": ['A Light in the Attic'], \"# of stars\": [3], \"Price (£)\": [51.77], \"Availability\": ['In stock']})"
      ],
      "execution_count": null,
      "outputs": [
        {
          "output_type": "execute_result",
          "data": {
            "text/html": [
              "<div>\n",
              "<style scoped>\n",
              "    .dataframe tbody tr th:only-of-type {\n",
              "        vertical-align: middle;\n",
              "    }\n",
              "\n",
              "    .dataframe tbody tr th {\n",
              "        vertical-align: top;\n",
              "    }\n",
              "\n",
              "    .dataframe thead th {\n",
              "        text-align: right;\n",
              "    }\n",
              "</style>\n",
              "<table border=\"1\" class=\"dataframe\">\n",
              "  <thead>\n",
              "    <tr style=\"text-align: right;\">\n",
              "      <th></th>\n",
              "      <th>Title</th>\n",
              "      <th># of stars</th>\n",
              "      <th>Price (£)</th>\n",
              "      <th>Availability</th>\n",
              "    </tr>\n",
              "  </thead>\n",
              "  <tbody>\n",
              "    <tr>\n",
              "      <th>0</th>\n",
              "      <td>A Light in the Attic</td>\n",
              "      <td>3</td>\n",
              "      <td>51.77</td>\n",
              "      <td>In stock</td>\n",
              "    </tr>\n",
              "  </tbody>\n",
              "</table>\n",
              "</div>"
            ],
            "text/plain": [
              "                  Title  # of stars  Price (£) Availability\n",
              "0  A Light in the Attic           3      51.77     In stock"
            ]
          },
          "metadata": {
            "tags": []
          },
          "execution_count": 21
        }
      ]
    },
    {
      "cell_type": "code",
      "metadata": {
        "id": "W4ZtINYinDAQ",
        "colab_type": "code",
        "colab": {}
      },
      "source": [
        "# START CODE HERE #\n",
        "\n",
        "# END CODE HERE #"
      ],
      "execution_count": null,
      "outputs": []
    },
    {
      "cell_type": "markdown",
      "metadata": {
        "id": "E0PEQhmwvsqh",
        "colab_type": "text"
      },
      "source": [
        "### **Congratulations on completing this homework! Don't forget to click Kernel -> Restart & Run All, save your file, download or print as pdf, and submit the pdf to Gradescope.**"
      ]
    }
  ]
}