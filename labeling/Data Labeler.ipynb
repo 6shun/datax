{
 "cells": [
  {
   "cell_type": "code",
   "execution_count": 1,
   "metadata": {},
   "outputs": [],
   "source": [
    "import pandas as pd\n",
    "import numpy as np\n",
    "import pickle\n",
    "\n",
    "from sklearn.feature_extraction.text import TfidfVectorizer\n",
    "from sklearn.linear_model import LogisticRegression\n",
    "from sklearn.model_selection import cross_val_score\n",
    "from sklearn.metrics import roc_curve\n",
    "from IPython.display import clear_output"
   ]
  },
  {
   "cell_type": "markdown",
   "metadata": {},
   "source": [
    "# Read Data and Clean"
   ]
  },
  {
   "cell_type": "code",
   "execution_count": 2,
   "metadata": {},
   "outputs": [],
   "source": [
    "df = pd.read_csv('../data/scraped data/league_discord.csv', index_col='Unnamed: 0')"
   ]
  },
  {
   "cell_type": "code",
   "execution_count": 3,
   "metadata": {},
   "outputs": [
    {
     "data": {
      "text/html": [
       "<div>\n",
       "<style scoped>\n",
       "    .dataframe tbody tr th:only-of-type {\n",
       "        vertical-align: middle;\n",
       "    }\n",
       "\n",
       "    .dataframe tbody tr th {\n",
       "        vertical-align: top;\n",
       "    }\n",
       "\n",
       "    .dataframe thead th {\n",
       "        text-align: right;\n",
       "    }\n",
       "</style>\n",
       "<table border=\"1\" class=\"dataframe\">\n",
       "  <thead>\n",
       "    <tr style=\"text-align: right;\">\n",
       "      <th></th>\n",
       "      <th>name</th>\n",
       "      <th>content</th>\n",
       "      <th>timestamp</th>\n",
       "    </tr>\n",
       "  </thead>\n",
       "  <tbody>\n",
       "    <tr>\n",
       "      <th>0</th>\n",
       "      <td>Ziul#2536</td>\n",
       "      <td>&lt;:wutmo:513395072025493505&gt;</td>\n",
       "      <td>2020-11-01T20:36:44.881000+00:00</td>\n",
       "    </tr>\n",
       "    <tr>\n",
       "      <th>1</th>\n",
       "      <td>_ItzChris_#7028</td>\n",
       "      <td>&lt;:dogeKek:639726958091173910&gt;</td>\n",
       "      <td>2020-11-01T20:36:59.732000+00:00</td>\n",
       "    </tr>\n",
       "    <tr>\n",
       "      <th>2</th>\n",
       "      <td>HeapsOfHamood#3085</td>\n",
       "      <td>https://cdn.discordapp.com/attachments/3660512...</td>\n",
       "      <td>2020-11-01T20:37:00.621000+00:00</td>\n",
       "    </tr>\n",
       "    <tr>\n",
       "      <th>3</th>\n",
       "      <td>_ItzChris_#7028</td>\n",
       "      <td>Lmfao</td>\n",
       "      <td>2020-11-01T20:37:09.857000+00:00</td>\n",
       "    </tr>\n",
       "    <tr>\n",
       "      <th>4</th>\n",
       "      <td>Ziul#2536</td>\n",
       "      <td>bruh, the best teemo player from my country is...</td>\n",
       "      <td>2020-11-01T20:37:41.427000+00:00</td>\n",
       "    </tr>\n",
       "    <tr>\n",
       "      <th>...</th>\n",
       "      <td>...</td>\n",
       "      <td>...</td>\n",
       "      <td>...</td>\n",
       "    </tr>\n",
       "    <tr>\n",
       "      <th>4035</th>\n",
       "      <td>consolidation/p&amp;L/ratio/tax#7495</td>\n",
       "      <td>&lt;@!411507772094414850&gt; https://media.discordap...</td>\n",
       "      <td>2020-10-01T06:13:04.420000+00:00</td>\n",
       "    </tr>\n",
       "    <tr>\n",
       "      <th>4036</th>\n",
       "      <td>Strike345#5659</td>\n",
       "      <td>should i pick viktor or ryze?</td>\n",
       "      <td>2020-10-01T06:13:10.040000+00:00</td>\n",
       "    </tr>\n",
       "    <tr>\n",
       "      <th>4037</th>\n",
       "      <td>Strike345#5659</td>\n",
       "      <td>i picked viktor &lt;:WEIRD:665202887009501192&gt;</td>\n",
       "      <td>2020-10-01T06:13:25.493000+00:00</td>\n",
       "    </tr>\n",
       "    <tr>\n",
       "      <th>4038</th>\n",
       "      <td>Digitally#2636</td>\n",
       "      <td>I mostly get 10/8 and still lose something lik...</td>\n",
       "      <td>2020-10-01T06:05:48.131000+00:00</td>\n",
       "    </tr>\n",
       "    <tr>\n",
       "      <th>4039</th>\n",
       "      <td>Bed#8993</td>\n",
       "      <td>kda doesnt matter</td>\n",
       "      <td>2020-10-01T06:05:54.004000+00:00</td>\n",
       "    </tr>\n",
       "  </tbody>\n",
       "</table>\n",
       "<p>4040 rows × 3 columns</p>\n",
       "</div>"
      ],
      "text/plain": [
       "                                  name  \\\n",
       "0                            Ziul#2536   \n",
       "1                      _ItzChris_#7028   \n",
       "2                   HeapsOfHamood#3085   \n",
       "3                      _ItzChris_#7028   \n",
       "4                            Ziul#2536   \n",
       "...                                ...   \n",
       "4035  consolidation/p&L/ratio/tax#7495   \n",
       "4036                    Strike345#5659   \n",
       "4037                    Strike345#5659   \n",
       "4038                    Digitally#2636   \n",
       "4039                          Bed#8993   \n",
       "\n",
       "                                                content  \\\n",
       "0                           <:wutmo:513395072025493505>   \n",
       "1                         <:dogeKek:639726958091173910>   \n",
       "2     https://cdn.discordapp.com/attachments/3660512...   \n",
       "3                                                 Lmfao   \n",
       "4     bruh, the best teemo player from my country is...   \n",
       "...                                                 ...   \n",
       "4035  <@!411507772094414850> https://media.discordap...   \n",
       "4036                      should i pick viktor or ryze?   \n",
       "4037        i picked viktor <:WEIRD:665202887009501192>   \n",
       "4038  I mostly get 10/8 and still lose something lik...   \n",
       "4039                                  kda doesnt matter   \n",
       "\n",
       "                             timestamp  \n",
       "0     2020-11-01T20:36:44.881000+00:00  \n",
       "1     2020-11-01T20:36:59.732000+00:00  \n",
       "2     2020-11-01T20:37:00.621000+00:00  \n",
       "3     2020-11-01T20:37:09.857000+00:00  \n",
       "4     2020-11-01T20:37:41.427000+00:00  \n",
       "...                                ...  \n",
       "4035  2020-10-01T06:13:04.420000+00:00  \n",
       "4036  2020-10-01T06:13:10.040000+00:00  \n",
       "4037  2020-10-01T06:13:25.493000+00:00  \n",
       "4038  2020-10-01T06:05:48.131000+00:00  \n",
       "4039  2020-10-01T06:05:54.004000+00:00  \n",
       "\n",
       "[4040 rows x 3 columns]"
      ]
     },
     "execution_count": 3,
     "metadata": {},
     "output_type": "execute_result"
    }
   ],
   "source": [
    "df"
   ]
  },
  {
   "cell_type": "code",
   "execution_count": 4,
   "metadata": {},
   "outputs": [],
   "source": [
    "df = df.loc[:, ['content']]"
   ]
  },
  {
   "cell_type": "code",
   "execution_count": 5,
   "metadata": {},
   "outputs": [],
   "source": [
    "df = df.drop_duplicates()"
   ]
  },
  {
   "cell_type": "code",
   "execution_count": 6,
   "metadata": {},
   "outputs": [],
   "source": [
    "# df = df.reindex(columns=df.columns.to_list() + ['toxic', 'severe_toxic', 'obscene', 'threat', 'insult', 'identity_hate'])"
   ]
  },
  {
   "cell_type": "code",
   "execution_count": 7,
   "metadata": {},
   "outputs": [],
   "source": [
    "# Get rid of Emotes for Discord Messages\n",
    "df.loc[:, 'content'] = df['content'].str.replace(r'<.*>', '')\n",
    "\n",
    "# Get rid of urls\n",
    "df.loc[:, 'content'] = df['content'].str.replace(r'http\\S+', '')\n",
    "\n",
    "# Get Rid of New Line and Strip\n",
    "df.loc[:, 'content'] = df['content'].str.replace(r'\\n', '').str.strip()"
   ]
  },
  {
   "cell_type": "code",
   "execution_count": 8,
   "metadata": {},
   "outputs": [],
   "source": [
    "# Get rid of empty Strings\n",
    "df = df[df['content'] != \"\"]"
   ]
  },
  {
   "cell_type": "code",
   "execution_count": 9,
   "metadata": {},
   "outputs": [],
   "source": [
    "df = df.reset_index(drop=True)"
   ]
  },
  {
   "cell_type": "markdown",
   "metadata": {},
   "source": [
    "# Make Predictions Using Logistic Regression"
   ]
  },
  {
   "cell_type": "markdown",
   "metadata": {},
   "source": [
    "## Setup"
   ]
  },
  {
   "cell_type": "code",
   "execution_count": 10,
   "metadata": {},
   "outputs": [],
   "source": [
    "# Create list of outputs required\n",
    "classes = ['toxic', 'severe_toxic', 'obscene', 'threat', 'insult', 'identity_hate']"
   ]
  },
  {
   "cell_type": "markdown",
   "metadata": {},
   "source": [
    "## Vectorizer"
   ]
  },
  {
   "cell_type": "code",
   "execution_count": 11,
   "metadata": {},
   "outputs": [],
   "source": [
    "# Read Vectorizer\n",
    "filename = 'log_reg_vectorizer.sav'\n",
    "word_vectorizer = pickle.load(open('../output/' + filename, 'rb'))"
   ]
  },
  {
   "cell_type": "markdown",
   "metadata": {},
   "source": [
    "## Make Predictions"
   ]
  },
  {
   "cell_type": "code",
   "execution_count": 12,
   "metadata": {},
   "outputs": [],
   "source": [
    "def get_predictions(model, threshold, x_test, class_name):\n",
    "    # Make Predictions\n",
    "    predictions = model.predict_proba(x_test)[:, 1]\n",
    "    \n",
    "    # Add Column with Predictions\n",
    "    df[class_name] = np.where(predictions > threshold, 1, 0)"
   ]
  },
  {
   "cell_type": "code",
   "execution_count": 13,
   "metadata": {},
   "outputs": [],
   "source": [
    "x_test = word_vectorizer.transform(df['content'])\n",
    "for class_name in classes:\n",
    "    filename = 'log_reg_' + class_name + '.sav'\n",
    "    model, threshold = pickle.load(open('../output/' + filename, 'rb'))\n",
    "    threshold = 0.8 #override optimal threshold as we care more about false positives\n",
    "    \n",
    "    get_predictions(model, threshold, x_test, class_name)\n",
    "    "
   ]
  },
  {
   "cell_type": "code",
   "execution_count": 14,
   "metadata": {
    "scrolled": true
   },
   "outputs": [
    {
     "data": {
      "text/html": [
       "<div>\n",
       "<style scoped>\n",
       "    .dataframe tbody tr th:only-of-type {\n",
       "        vertical-align: middle;\n",
       "    }\n",
       "\n",
       "    .dataframe tbody tr th {\n",
       "        vertical-align: top;\n",
       "    }\n",
       "\n",
       "    .dataframe thead th {\n",
       "        text-align: right;\n",
       "    }\n",
       "</style>\n",
       "<table border=\"1\" class=\"dataframe\">\n",
       "  <thead>\n",
       "    <tr style=\"text-align: right;\">\n",
       "      <th></th>\n",
       "      <th>content</th>\n",
       "      <th>toxic</th>\n",
       "      <th>severe_toxic</th>\n",
       "      <th>obscene</th>\n",
       "      <th>threat</th>\n",
       "      <th>insult</th>\n",
       "      <th>identity_hate</th>\n",
       "    </tr>\n",
       "  </thead>\n",
       "  <tbody>\n",
       "    <tr>\n",
       "      <th>0</th>\n",
       "      <td>real faker tweet</td>\n",
       "      <td>0</td>\n",
       "      <td>0</td>\n",
       "      <td>0</td>\n",
       "      <td>0</td>\n",
       "      <td>0</td>\n",
       "      <td>0</td>\n",
       "    </tr>\n",
       "    <tr>\n",
       "      <th>1</th>\n",
       "      <td>Lmfao</td>\n",
       "      <td>0</td>\n",
       "      <td>0</td>\n",
       "      <td>0</td>\n",
       "      <td>0</td>\n",
       "      <td>0</td>\n",
       "      <td>0</td>\n",
       "    </tr>\n",
       "    <tr>\n",
       "      <th>2</th>\n",
       "      <td>bruh, the best teemo player from my country is...</td>\n",
       "      <td>0</td>\n",
       "      <td>0</td>\n",
       "      <td>0</td>\n",
       "      <td>0</td>\n",
       "      <td>0</td>\n",
       "      <td>0</td>\n",
       "    </tr>\n",
       "    <tr>\n",
       "      <th>3</th>\n",
       "      <td>me and nunu tiered 3 simped for adc</td>\n",
       "      <td>0</td>\n",
       "      <td>0</td>\n",
       "      <td>0</td>\n",
       "      <td>0</td>\n",
       "      <td>0</td>\n",
       "      <td>0</td>\n",
       "    </tr>\n",
       "    <tr>\n",
       "      <th>4</th>\n",
       "      <td>yeah but i think since seraphine was released ...</td>\n",
       "      <td>0</td>\n",
       "      <td>0</td>\n",
       "      <td>0</td>\n",
       "      <td>0</td>\n",
       "      <td>0</td>\n",
       "      <td>0</td>\n",
       "    </tr>\n",
       "  </tbody>\n",
       "</table>\n",
       "</div>"
      ],
      "text/plain": [
       "                                             content  toxic  severe_toxic  \\\n",
       "0                                   real faker tweet      0             0   \n",
       "1                                              Lmfao      0             0   \n",
       "2  bruh, the best teemo player from my country is...      0             0   \n",
       "3                me and nunu tiered 3 simped for adc      0             0   \n",
       "4  yeah but i think since seraphine was released ...      0             0   \n",
       "\n",
       "   obscene  threat  insult  identity_hate  \n",
       "0        0       0       0              0  \n",
       "1        0       0       0              0  \n",
       "2        0       0       0              0  \n",
       "3        0       0       0              0  \n",
       "4        0       0       0              0  "
      ]
     },
     "execution_count": 14,
     "metadata": {},
     "output_type": "execute_result"
    }
   ],
   "source": [
    "df.head()"
   ]
  },
  {
   "cell_type": "markdown",
   "metadata": {},
   "source": [
    "# Convert to CSV"
   ]
  },
  {
   "cell_type": "code",
   "execution_count": 16,
   "metadata": {},
   "outputs": [],
   "source": [
    "df.to_csv('../data/predicted data/predicted_league_discord.csv')"
   ]
  }
 ],
 "metadata": {
  "kernelspec": {
   "display_name": "Python 3",
   "language": "python",
   "name": "python3"
  },
  "language_info": {
   "codemirror_mode": {
    "name": "ipython",
    "version": 3
   },
   "file_extension": ".py",
   "mimetype": "text/x-python",
   "name": "python",
   "nbconvert_exporter": "python",
   "pygments_lexer": "ipython3",
   "version": "3.7.3"
  }
 },
 "nbformat": 4,
 "nbformat_minor": 4
}
