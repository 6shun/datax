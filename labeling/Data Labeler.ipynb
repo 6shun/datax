{
 "cells": [
  {
   "cell_type": "code",
   "execution_count": 2,
   "metadata": {},
   "outputs": [],
   "source": [
    "import pandas as pd\n",
    "import numpy as np\n",
    "import pickle\n",
    "\n",
    "from sklearn.feature_extraction.text import TfidfVectorizer\n",
    "from sklearn.linear_model import LogisticRegression\n",
    "from sklearn.model_selection import cross_val_score\n",
    "from sklearn.metrics import roc_curve\n",
    "from IPython.display import clear_output"
   ]
  },
  {
   "cell_type": "markdown",
   "metadata": {},
   "source": [
    "# Read Data and Clean"
   ]
  },
  {
   "cell_type": "code",
   "execution_count": 3,
   "metadata": {},
   "outputs": [],
   "source": [
    "df = pd.read_csv('../data/scraped data/league_discord_2.csv', index_col='Unnamed: 0')"
   ]
  },
  {
   "cell_type": "code",
   "execution_count": 4,
   "metadata": {},
   "outputs": [
    {
     "data": {
      "text/html": [
       "<div>\n",
       "<style scoped>\n",
       "    .dataframe tbody tr th:only-of-type {\n",
       "        vertical-align: middle;\n",
       "    }\n",
       "\n",
       "    .dataframe tbody tr th {\n",
       "        vertical-align: top;\n",
       "    }\n",
       "\n",
       "    .dataframe thead th {\n",
       "        text-align: right;\n",
       "    }\n",
       "</style>\n",
       "<table border=\"1\" class=\"dataframe\">\n",
       "  <thead>\n",
       "    <tr style=\"text-align: right;\">\n",
       "      <th></th>\n",
       "      <th>name</th>\n",
       "      <th>content</th>\n",
       "      <th>timestamp</th>\n",
       "    </tr>\n",
       "  </thead>\n",
       "  <tbody>\n",
       "    <tr>\n",
       "      <th>0</th>\n",
       "      <td>QuantumEnno#5661</td>\n",
       "      <td>why tf swain looks like the guy from call the ...</td>\n",
       "      <td>2020-11-09T03:23:48.052000+00:00</td>\n",
       "    </tr>\n",
       "    <tr>\n",
       "      <th>1</th>\n",
       "      <td>3R1CF4N#5701</td>\n",
       "      <td>&lt;:WEIRD:665202887009501192&gt;</td>\n",
       "      <td>2020-11-09T03:25:44.219000+00:00</td>\n",
       "    </tr>\n",
       "    <tr>\n",
       "      <th>2</th>\n",
       "      <td>Jay123lol#1296</td>\n",
       "      <td>https://cdn.discordapp.com/attachments/7236198...</td>\n",
       "      <td>2020-11-09T03:27:21.705000+00:00</td>\n",
       "    </tr>\n",
       "    <tr>\n",
       "      <th>3</th>\n",
       "      <td>fears#3642</td>\n",
       "      <td>anyone down for some ranked? gold</td>\n",
       "      <td>2020-11-09T03:29:10.062000+00:00</td>\n",
       "    </tr>\n",
       "    <tr>\n",
       "      <th>4</th>\n",
       "      <td>fears#3642</td>\n",
       "      <td>or norms</td>\n",
       "      <td>2020-11-09T03:29:30.557000+00:00</td>\n",
       "    </tr>\n",
       "    <tr>\n",
       "      <th>...</th>\n",
       "      <td>...</td>\n",
       "      <td>...</td>\n",
       "      <td>...</td>\n",
       "    </tr>\n",
       "    <tr>\n",
       "      <th>17050</th>\n",
       "      <td>lauv#0444</td>\n",
       "      <td>thats what i call a clown fiesta</td>\n",
       "      <td>2020-06-25T02:37:50.161000+00:00</td>\n",
       "    </tr>\n",
       "    <tr>\n",
       "      <th>17051</th>\n",
       "      <td>skux#6149</td>\n",
       "      <td>you still playing morg jg arazorias?</td>\n",
       "      <td>2020-06-25T02:38:10.499000+00:00</td>\n",
       "    </tr>\n",
       "    <tr>\n",
       "      <th>17052</th>\n",
       "      <td>Arazorias#8819</td>\n",
       "      <td>https://cdn.discordapp.com/attachments/5318526...</td>\n",
       "      <td>2020-06-25T02:38:21.398000+00:00</td>\n",
       "    </tr>\n",
       "    <tr>\n",
       "      <th>17053</th>\n",
       "      <td>Arazorias#8819</td>\n",
       "      <td>nah morg jungle doesnt honestly feel too good ...</td>\n",
       "      <td>2020-06-25T02:38:40.738000+00:00</td>\n",
       "    </tr>\n",
       "    <tr>\n",
       "      <th>17054</th>\n",
       "      <td>Arazorias#8819</td>\n",
       "      <td>mostly because people tilt too easily at seein...</td>\n",
       "      <td>2020-06-25T02:38:54.969000+00:00</td>\n",
       "    </tr>\n",
       "  </tbody>\n",
       "</table>\n",
       "<p>17055 rows × 3 columns</p>\n",
       "</div>"
      ],
      "text/plain": [
       "                   name                                            content  \\\n",
       "0      QuantumEnno#5661  why tf swain looks like the guy from call the ...   \n",
       "1          3R1CF4N#5701                        <:WEIRD:665202887009501192>   \n",
       "2        Jay123lol#1296  https://cdn.discordapp.com/attachments/7236198...   \n",
       "3            fears#3642                  anyone down for some ranked? gold   \n",
       "4            fears#3642                                           or norms   \n",
       "...                 ...                                                ...   \n",
       "17050         lauv#0444                   thats what i call a clown fiesta   \n",
       "17051         skux#6149               you still playing morg jg arazorias?   \n",
       "17052    Arazorias#8819  https://cdn.discordapp.com/attachments/5318526...   \n",
       "17053    Arazorias#8819  nah morg jungle doesnt honestly feel too good ...   \n",
       "17054    Arazorias#8819  mostly because people tilt too easily at seein...   \n",
       "\n",
       "                              timestamp  \n",
       "0      2020-11-09T03:23:48.052000+00:00  \n",
       "1      2020-11-09T03:25:44.219000+00:00  \n",
       "2      2020-11-09T03:27:21.705000+00:00  \n",
       "3      2020-11-09T03:29:10.062000+00:00  \n",
       "4      2020-11-09T03:29:30.557000+00:00  \n",
       "...                                 ...  \n",
       "17050  2020-06-25T02:37:50.161000+00:00  \n",
       "17051  2020-06-25T02:38:10.499000+00:00  \n",
       "17052  2020-06-25T02:38:21.398000+00:00  \n",
       "17053  2020-06-25T02:38:40.738000+00:00  \n",
       "17054  2020-06-25T02:38:54.969000+00:00  \n",
       "\n",
       "[17055 rows x 3 columns]"
      ]
     },
     "execution_count": 4,
     "metadata": {},
     "output_type": "execute_result"
    }
   ],
   "source": [
    "df"
   ]
  },
  {
   "cell_type": "code",
   "execution_count": 5,
   "metadata": {},
   "outputs": [],
   "source": [
    "df = df.loc[:, ['content']]"
   ]
  },
  {
   "cell_type": "code",
   "execution_count": 6,
   "metadata": {},
   "outputs": [],
   "source": [
    "df = df.drop_duplicates()"
   ]
  },
  {
   "cell_type": "code",
   "execution_count": 6,
   "metadata": {},
   "outputs": [],
   "source": [
    "# df = df.reindex(columns=df.columns.to_list() + ['toxic', 'severe_toxic', 'obscene', 'threat', 'insult', 'identity_hate'])"
   ]
  },
  {
   "cell_type": "code",
   "execution_count": 7,
   "metadata": {},
   "outputs": [],
   "source": [
    "# Get rid of Emotes for Discord Messages\n",
    "df.loc[:, 'content'] = df['content'].str.replace(r'<.*>', '')\n",
    "\n",
    "# Get rid of urls\n",
    "df.loc[:, 'content'] = df['content'].str.replace(r'http\\S+', '')\n",
    "\n",
    "# Get Rid of New Line and Strip\n",
    "df.loc[:, 'content'] = df['content'].str.replace(r'\\n', '').str.strip()"
   ]
  },
  {
   "cell_type": "code",
   "execution_count": 8,
   "metadata": {},
   "outputs": [],
   "source": [
    "# Get rid of empty Strings\n",
    "df = df[df['content'] != \"\"]"
   ]
  },
  {
   "cell_type": "code",
   "execution_count": 9,
   "metadata": {},
   "outputs": [],
   "source": [
    "df = df.reset_index(drop=True)"
   ]
  },
  {
   "cell_type": "markdown",
   "metadata": {},
   "source": [
    "# Make Predictions Using Logistic Regression"
   ]
  },
  {
   "cell_type": "markdown",
   "metadata": {},
   "source": [
    "## Setup"
   ]
  },
  {
   "cell_type": "code",
   "execution_count": 10,
   "metadata": {},
   "outputs": [],
   "source": [
    "# Create list of outputs required\n",
    "classes = ['toxic', 'severe_toxic', 'obscene', 'threat', 'insult', 'identity_hate']"
   ]
  },
  {
   "cell_type": "markdown",
   "metadata": {},
   "source": [
    "## Vectorizer"
   ]
  },
  {
   "cell_type": "code",
   "execution_count": 11,
   "metadata": {},
   "outputs": [],
   "source": [
    "# Read Vectorizer\n",
    "filename = 'log_reg_vectorizer.sav'\n",
    "word_vectorizer = pickle.load(open('../output/' + filename, 'rb'))"
   ]
  },
  {
   "cell_type": "markdown",
   "metadata": {},
   "source": [
    "## Make Predictions"
   ]
  },
  {
   "cell_type": "code",
   "execution_count": 14,
   "metadata": {},
   "outputs": [],
   "source": [
    "def get_predictions(model, threshold, x_test, class_name):\n",
    "    # Make Predictions\n",
    "    predictions = model.predict_proba(x_test)[:, 1]\n",
    "    \n",
    "    # Add Column with Predictions\n",
    "    df[class_name] = np.where(predictions > threshold, 1, 0)"
   ]
  },
  {
   "cell_type": "code",
   "execution_count": 18,
   "metadata": {},
   "outputs": [],
   "source": [
    "x_test = word_vectorizer.transform(df['content'].values.astype('U'))\n",
    "for class_name in classes:\n",
    "    filename = 'log_reg_' + class_name + '.sav'\n",
    "    model, threshold = pickle.load(open('../output/' + filename, 'rb'))\n",
    "    threshold = 0.8 #override optimal threshold as we care more about false positives\n",
    "    \n",
    "    get_predictions(model, threshold, x_test, class_name)\n",
    "    "
   ]
  },
  {
   "cell_type": "code",
   "execution_count": 19,
   "metadata": {
    "scrolled": true
   },
   "outputs": [
    {
     "data": {
      "text/html": [
       "<div>\n",
       "<style scoped>\n",
       "    .dataframe tbody tr th:only-of-type {\n",
       "        vertical-align: middle;\n",
       "    }\n",
       "\n",
       "    .dataframe tbody tr th {\n",
       "        vertical-align: top;\n",
       "    }\n",
       "\n",
       "    .dataframe thead th {\n",
       "        text-align: right;\n",
       "    }\n",
       "</style>\n",
       "<table border=\"1\" class=\"dataframe\">\n",
       "  <thead>\n",
       "    <tr style=\"text-align: right;\">\n",
       "      <th></th>\n",
       "      <th>content</th>\n",
       "      <th>toxic</th>\n",
       "      <th>severe_toxic</th>\n",
       "      <th>obscene</th>\n",
       "      <th>threat</th>\n",
       "      <th>insult</th>\n",
       "      <th>identity_hate</th>\n",
       "    </tr>\n",
       "  </thead>\n",
       "  <tbody>\n",
       "    <tr>\n",
       "      <th>0</th>\n",
       "      <td>why tf swain looks like the guy from call the ...</td>\n",
       "      <td>0</td>\n",
       "      <td>0</td>\n",
       "      <td>0</td>\n",
       "      <td>0</td>\n",
       "      <td>0</td>\n",
       "      <td>0</td>\n",
       "    </tr>\n",
       "    <tr>\n",
       "      <th>1</th>\n",
       "      <td>anyone down for some ranked? gold</td>\n",
       "      <td>0</td>\n",
       "      <td>0</td>\n",
       "      <td>0</td>\n",
       "      <td>0</td>\n",
       "      <td>0</td>\n",
       "      <td>0</td>\n",
       "    </tr>\n",
       "    <tr>\n",
       "      <th>2</th>\n",
       "      <td>or norms</td>\n",
       "      <td>0</td>\n",
       "      <td>0</td>\n",
       "      <td>0</td>\n",
       "      <td>0</td>\n",
       "      <td>0</td>\n",
       "      <td>0</td>\n",
       "    </tr>\n",
       "    <tr>\n",
       "      <th>3</th>\n",
       "      <td>y does almost everyone go inspiration in pro l...</td>\n",
       "      <td>0</td>\n",
       "      <td>0</td>\n",
       "      <td>0</td>\n",
       "      <td>0</td>\n",
       "      <td>0</td>\n",
       "      <td>0</td>\n",
       "    </tr>\n",
       "    <tr>\n",
       "      <th>4</th>\n",
       "      <td>what</td>\n",
       "      <td>0</td>\n",
       "      <td>0</td>\n",
       "      <td>0</td>\n",
       "      <td>0</td>\n",
       "      <td>0</td>\n",
       "      <td>0</td>\n",
       "    </tr>\n",
       "  </tbody>\n",
       "</table>\n",
       "</div>"
      ],
      "text/plain": [
       "                                             content  toxic  severe_toxic  \\\n",
       "0  why tf swain looks like the guy from call the ...      0             0   \n",
       "1                  anyone down for some ranked? gold      0             0   \n",
       "2                                           or norms      0             0   \n",
       "3  y does almost everyone go inspiration in pro l...      0             0   \n",
       "4                                               what      0             0   \n",
       "\n",
       "   obscene  threat  insult  identity_hate  \n",
       "0        0       0       0              0  \n",
       "1        0       0       0              0  \n",
       "2        0       0       0              0  \n",
       "3        0       0       0              0  \n",
       "4        0       0       0              0  "
      ]
     },
     "execution_count": 19,
     "metadata": {},
     "output_type": "execute_result"
    }
   ],
   "source": [
    "df.head()"
   ]
  },
  {
   "cell_type": "code",
   "execution_count": 21,
   "metadata": {},
   "outputs": [
    {
     "data": {
      "text/plain": [
       "277"
      ]
     },
     "execution_count": 21,
     "metadata": {},
     "output_type": "execute_result"
    }
   ],
   "source": [
    "df.loc[:, 'toxic':'identity_hate'].any(axis=1).sum()"
   ]
  },
  {
   "cell_type": "code",
   "execution_count": 22,
   "metadata": {},
   "outputs": [],
   "source": [
    "positive = df[df.loc[:, 'toxic':'identity_hate'].any(axis=1)]"
   ]
  },
  {
   "cell_type": "markdown",
   "metadata": {},
   "source": [
    "# Convert to CSV"
   ]
  },
  {
   "cell_type": "code",
   "execution_count": 23,
   "metadata": {},
   "outputs": [],
   "source": [
    "positive.to_csv('../data/predicted data/predicted_league_discord_2.csv')"
   ]
  }
 ],
 "metadata": {
  "kernelspec": {
   "display_name": "Python 3",
   "language": "python",
   "name": "python3"
  },
  "language_info": {
   "codemirror_mode": {
    "name": "ipython",
    "version": 3
   },
   "file_extension": ".py",
   "mimetype": "text/x-python",
   "name": "python",
   "nbconvert_exporter": "python",
   "pygments_lexer": "ipython3",
   "version": "3.7.3"
  }
 },
 "nbformat": 4,
 "nbformat_minor": 4
}
