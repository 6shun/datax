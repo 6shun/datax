{
 "cells": [
  {
   "cell_type": "markdown",
   "metadata": {
    "id": "Plp78B1Db6lg"
   },
   "source": [
    "# Setup"
   ]
  },
  {
   "cell_type": "code",
   "execution_count": null,
   "metadata": {
    "id": "cMGj-oeBU-TB"
   },
   "outputs": [],
   "source": [
    "from google.colab import drive\n",
    "import numpy as np\n",
    "import pandas as pd\n",
    "import matplotlib.pyplot as plt\n",
    "import seaborn as sns\n",
    "\n",
    "from sklearn.metrics import roc_auc_score\n",
    "\n",
    "from keras.preprocessing.text import Tokenizer\n",
    "from keras.preprocessing.sequence import pad_sequences\n",
    "from keras.layers import Dense, Input, LSTM, Embedding, Dropout, Activation\n",
    "from keras.layers import Bidirectional, GlobalMaxPool1D\n",
    "from keras.models import Model\n",
    "from keras import initializers, regularizers, constraints, optimizers, layers\n",
    "\n",
    "%matplotlib inline"
   ]
  },
  {
   "cell_type": "code",
   "execution_count": null,
   "metadata": {
    "colab": {
     "base_uri": "https://localhost:8080/"
    },
    "id": "SAMTtrD5XRe5",
    "outputId": "3ffa2e97-6d35-4a4f-eaa1-08360a4b4061"
   },
   "outputs": [
    {
     "name": "stdout",
     "output_type": "stream",
     "text": [
      "Mounted at /content/drive\n"
     ]
    }
   ],
   "source": [
    "from google.colab import drive\n",
    "drive.mount('/content/drive')"
   ]
  },
  {
   "cell_type": "markdown",
   "metadata": {},
   "source": [
    "## Read Data"
   ]
  },
  {
   "cell_type": "code",
   "execution_count": null,
   "metadata": {
    "id": "pn7AQcGEXhlJ"
   },
   "outputs": [],
   "source": [
    "train = pd.read_csv('./drive/My Drive/Data-X: GGWP Toxic Behavior Public Data/data/train[1].csv')"
   ]
  },
  {
   "cell_type": "code",
   "execution_count": null,
   "metadata": {
    "colab": {
     "base_uri": "https://localhost:8080/",
     "height": 204
    },
    "id": "hOec_AeMYgYO",
    "outputId": "f2bdebdc-22d1-48c6-bb37-f2c0c4fe0b70"
   },
   "outputs": [
    {
     "data": {
      "text/html": [
       "<div>\n",
       "<style scoped>\n",
       "    .dataframe tbody tr th:only-of-type {\n",
       "        vertical-align: middle;\n",
       "    }\n",
       "\n",
       "    .dataframe tbody tr th {\n",
       "        vertical-align: top;\n",
       "    }\n",
       "\n",
       "    .dataframe thead th {\n",
       "        text-align: right;\n",
       "    }\n",
       "</style>\n",
       "<table border=\"1\" class=\"dataframe\">\n",
       "  <thead>\n",
       "    <tr style=\"text-align: right;\">\n",
       "      <th></th>\n",
       "      <th>id</th>\n",
       "      <th>comment_text</th>\n",
       "      <th>toxic</th>\n",
       "      <th>severe_toxic</th>\n",
       "      <th>obscene</th>\n",
       "      <th>threat</th>\n",
       "      <th>insult</th>\n",
       "      <th>identity_hate</th>\n",
       "    </tr>\n",
       "  </thead>\n",
       "  <tbody>\n",
       "    <tr>\n",
       "      <th>6</th>\n",
       "      <td>0002bcb3da6cb337</td>\n",
       "      <td>COCKSUCKER BEFORE YOU PISS AROUND ON MY WORK</td>\n",
       "      <td>1</td>\n",
       "      <td>1</td>\n",
       "      <td>1</td>\n",
       "      <td>0</td>\n",
       "      <td>1</td>\n",
       "      <td>0</td>\n",
       "    </tr>\n",
       "    <tr>\n",
       "      <th>42</th>\n",
       "      <td>001810bf8c45bf5f</td>\n",
       "      <td>You are gay or antisemmitian? \\n\\nArchangel WH...</td>\n",
       "      <td>1</td>\n",
       "      <td>0</td>\n",
       "      <td>1</td>\n",
       "      <td>0</td>\n",
       "      <td>1</td>\n",
       "      <td>1</td>\n",
       "    </tr>\n",
       "    <tr>\n",
       "      <th>43</th>\n",
       "      <td>00190820581d90ce</td>\n",
       "      <td>FUCK YOUR FILTHY MOTHER IN THE ASS, DRY!</td>\n",
       "      <td>1</td>\n",
       "      <td>0</td>\n",
       "      <td>1</td>\n",
       "      <td>0</td>\n",
       "      <td>1</td>\n",
       "      <td>0</td>\n",
       "    </tr>\n",
       "    <tr>\n",
       "      <th>51</th>\n",
       "      <td>001dc38a83d420cf</td>\n",
       "      <td>GET FUCKED UP. GET FUCKEEED UP.  GOT A DRINK T...</td>\n",
       "      <td>1</td>\n",
       "      <td>0</td>\n",
       "      <td>1</td>\n",
       "      <td>0</td>\n",
       "      <td>0</td>\n",
       "      <td>0</td>\n",
       "    </tr>\n",
       "    <tr>\n",
       "      <th>55</th>\n",
       "      <td>0020e7119b96eeeb</td>\n",
       "      <td>Stupid peace of shit stop deleting my stuff as...</td>\n",
       "      <td>1</td>\n",
       "      <td>1</td>\n",
       "      <td>1</td>\n",
       "      <td>0</td>\n",
       "      <td>1</td>\n",
       "      <td>0</td>\n",
       "    </tr>\n",
       "  </tbody>\n",
       "</table>\n",
       "</div>"
      ],
      "text/plain": [
       "                  id  ... identity_hate\n",
       "6   0002bcb3da6cb337  ...             0\n",
       "42  001810bf8c45bf5f  ...             1\n",
       "43  00190820581d90ce  ...             0\n",
       "51  001dc38a83d420cf  ...             0\n",
       "55  0020e7119b96eeeb  ...             0\n",
       "\n",
       "[5 rows x 8 columns]"
      ]
     },
     "execution_count": 5,
     "metadata": {
      "tags": []
     },
     "output_type": "execute_result"
    }
   ],
   "source": [
    "train.loc[train['obscene'] == 1, :].head()"
   ]
  },
  {
   "cell_type": "code",
   "execution_count": null,
   "metadata": {
    "colab": {
     "base_uri": "https://localhost:8080/",
     "height": 204
    },
    "id": "vni7C9NeaNMr",
    "outputId": "599871e1-9256-483a-ef88-ce5a9bcb9bd3"
   },
   "outputs": [
    {
     "data": {
      "text/html": [
       "<div>\n",
       "<style scoped>\n",
       "    .dataframe tbody tr th:only-of-type {\n",
       "        vertical-align: middle;\n",
       "    }\n",
       "\n",
       "    .dataframe tbody tr th {\n",
       "        vertical-align: top;\n",
       "    }\n",
       "\n",
       "    .dataframe thead th {\n",
       "        text-align: right;\n",
       "    }\n",
       "</style>\n",
       "<table border=\"1\" class=\"dataframe\">\n",
       "  <thead>\n",
       "    <tr style=\"text-align: right;\">\n",
       "      <th></th>\n",
       "      <th>id</th>\n",
       "      <th>comment_text</th>\n",
       "      <th>toxic</th>\n",
       "      <th>severe_toxic</th>\n",
       "      <th>obscene</th>\n",
       "      <th>threat</th>\n",
       "      <th>insult</th>\n",
       "      <th>identity_hate</th>\n",
       "    </tr>\n",
       "  </thead>\n",
       "  <tbody>\n",
       "    <tr>\n",
       "      <th>0</th>\n",
       "      <td>0000997932d777bf</td>\n",
       "      <td>Explanation\\nWhy the edits made under my usern...</td>\n",
       "      <td>0</td>\n",
       "      <td>0</td>\n",
       "      <td>0</td>\n",
       "      <td>0</td>\n",
       "      <td>0</td>\n",
       "      <td>0</td>\n",
       "    </tr>\n",
       "    <tr>\n",
       "      <th>1</th>\n",
       "      <td>000103f0d9cfb60f</td>\n",
       "      <td>D'aww! He matches this background colour I'm s...</td>\n",
       "      <td>0</td>\n",
       "      <td>0</td>\n",
       "      <td>0</td>\n",
       "      <td>0</td>\n",
       "      <td>0</td>\n",
       "      <td>0</td>\n",
       "    </tr>\n",
       "    <tr>\n",
       "      <th>2</th>\n",
       "      <td>000113f07ec002fd</td>\n",
       "      <td>Hey man, I'm really not trying to edit war. It...</td>\n",
       "      <td>0</td>\n",
       "      <td>0</td>\n",
       "      <td>0</td>\n",
       "      <td>0</td>\n",
       "      <td>0</td>\n",
       "      <td>0</td>\n",
       "    </tr>\n",
       "    <tr>\n",
       "      <th>3</th>\n",
       "      <td>0001b41b1c6bb37e</td>\n",
       "      <td>\"\\nMore\\nI can't make any real suggestions on ...</td>\n",
       "      <td>0</td>\n",
       "      <td>0</td>\n",
       "      <td>0</td>\n",
       "      <td>0</td>\n",
       "      <td>0</td>\n",
       "      <td>0</td>\n",
       "    </tr>\n",
       "    <tr>\n",
       "      <th>4</th>\n",
       "      <td>0001d958c54c6e35</td>\n",
       "      <td>You, sir, are my hero. Any chance you remember...</td>\n",
       "      <td>0</td>\n",
       "      <td>0</td>\n",
       "      <td>0</td>\n",
       "      <td>0</td>\n",
       "      <td>0</td>\n",
       "      <td>0</td>\n",
       "    </tr>\n",
       "  </tbody>\n",
       "</table>\n",
       "</div>"
      ],
      "text/plain": [
       "                 id  ... identity_hate\n",
       "0  0000997932d777bf  ...             0\n",
       "1  000103f0d9cfb60f  ...             0\n",
       "2  000113f07ec002fd  ...             0\n",
       "3  0001b41b1c6bb37e  ...             0\n",
       "4  0001d958c54c6e35  ...             0\n",
       "\n",
       "[5 rows x 8 columns]"
      ]
     },
     "execution_count": 6,
     "metadata": {
      "tags": []
     },
     "output_type": "execute_result"
    }
   ],
   "source": [
    "train.head()"
   ]
  },
  {
   "cell_type": "code",
   "execution_count": null,
   "metadata": {
    "colab": {
     "base_uri": "https://localhost:8080/"
    },
    "id": "CjjIUQppagPR",
    "outputId": "25f7afce-aff5-4dc1-fc86-47de5a80b1c8"
   },
   "outputs": [
    {
     "data": {
      "text/plain": [
       "(159571, 8)"
      ]
     },
     "execution_count": 7,
     "metadata": {
      "tags": []
     },
     "output_type": "execute_result"
    }
   ],
   "source": [
    "train.shape"
   ]
  },
  {
   "cell_type": "markdown",
   "metadata": {
    "id": "EyhMgtTGb_eZ"
   },
   "source": [
    "# EDA"
   ]
  },
  {
   "cell_type": "markdown",
   "metadata": {
    "id": "Tsr4-kXLcb4v"
   },
   "source": [
    "# Class Inbalances"
   ]
  },
  {
   "cell_type": "code",
   "execution_count": null,
   "metadata": {
    "id": "F7gS3pJMbxf3"
   },
   "outputs": [],
   "source": [
    "clean_comments = train.iloc[:, 2:].sum(axis=1) == 0"
   ]
  },
  {
   "cell_type": "code",
   "execution_count": null,
   "metadata": {
    "colab": {
     "base_uri": "https://localhost:8080/"
    },
    "id": "YyRS9cDxcR8n",
    "outputId": "2d734aa5-91c7-4fda-f039-711917638ba3"
   },
   "outputs": [
    {
     "data": {
      "text/plain": [
       "0         True\n",
       "1         True\n",
       "2         True\n",
       "3         True\n",
       "4         True\n",
       "          ... \n",
       "159566    True\n",
       "159567    True\n",
       "159568    True\n",
       "159569    True\n",
       "159570    True\n",
       "Length: 159571, dtype: bool"
      ]
     },
     "execution_count": 9,
     "metadata": {
      "tags": []
     },
     "output_type": "execute_result"
    }
   ],
   "source": [
    "clean_comments"
   ]
  },
  {
   "cell_type": "code",
   "execution_count": null,
   "metadata": {
    "colab": {
     "base_uri": "https://localhost:8080/"
    },
    "id": "wjxb1MkpcZY_",
    "outputId": "71e30354-21a3-49d2-f0f9-3d172ed08c00"
   },
   "outputs": [
    {
     "name": "stdout",
     "output_type": "stream",
     "text": [
      "Clean comments make up 89.83 % of the Training Data\n"
     ]
    }
   ],
   "source": [
    "print(f\"Clean comments make up {round(clean_comments.sum() / len(train)* 100, 2)} % of the Training Data\")"
   ]
  },
  {
   "cell_type": "code",
   "execution_count": null,
   "metadata": {
    "id": "b4qxqvVzfkX4"
   },
   "outputs": [],
   "source": [
    "clean_series = pd.Series(clean_comments.sum(), index=['clean'])"
   ]
  },
  {
   "cell_type": "code",
   "execution_count": null,
   "metadata": {
    "id": "yI9E9IFydvPI"
   },
   "outputs": [],
   "source": [
    "tags = train.iloc[:, 2:].sum()"
   ]
  },
  {
   "cell_type": "code",
   "execution_count": null,
   "metadata": {
    "id": "RhfX16XCd0Pv"
   },
   "outputs": [],
   "source": [
    "tags = tags.append(clean_series)"
   ]
  },
  {
   "cell_type": "code",
   "execution_count": null,
   "metadata": {
    "id": "4uLx0OGXf3zr"
   },
   "outputs": [],
   "source": [
    "tags = tags.sort_values()"
   ]
  },
  {
   "cell_type": "code",
   "execution_count": null,
   "metadata": {
    "colab": {
     "base_uri": "https://localhost:8080/",
     "height": 340
    },
    "id": "WwO6h_xvd42S",
    "outputId": "635aebe4-3096-43d5-8e42-84b1765d0cb8"
   },
   "outputs": [
    {
     "data": {
      "image/png": "[encoded data removed]",
      "text/plain": [
       "<Figure size 432x288 with 1 Axes>"
      ]
     },
     "metadata": {
      "needs_background": "light",
      "tags": []
     },
     "output_type": "display_data"
    }
   ],
   "source": [
    "fig, ax = plt.subplots()\n",
    "\n",
    "ax = sns.barplot(x=tags.index, y=tags)\n",
    "ax.tick_params(axis='x', rotation=45)\n",
    "ax.set(xlabel='Tags', ylabel='Number of Comments', title='Distribution of Tags')\n",
    "plt.show()"
   ]
  },
  {
   "cell_type": "markdown",
   "metadata": {
    "id": "vLDajDf3k-iX"
   },
   "source": [
    "# LSTM Baseline Model"
   ]
  },
  {
   "cell_type": "markdown",
   "metadata": {
    "id": "KuZqlVQdmRw0"
   },
   "source": [
    "## Basic Preprocessing"
   ]
  },
  {
   "cell_type": "code",
   "execution_count": null,
   "metadata": {
    "id": "vKcWjmbelBws"
   },
   "outputs": [],
   "source": [
    "x_train = train.loc[:, 'comment_text']\n",
    "y_train = train.loc[:, 'toxic':'identity_hate'].values"
   ]
  },
  {
   "cell_type": "code",
   "execution_count": null,
   "metadata": {
    "id": "jAwJAEy6mZXs"
   },
   "outputs": [],
   "source": [
    "max_features = 20000\n",
    "# Convert Words into Index using Tokenizer. Basically, every word is an index number\n",
    "tokenizer = Tokenizer(num_words=max_features) \n",
    "tokenizer.fit_on_texts(list(x_train))\n",
    "x_train = tokenizer.texts_to_sequences(x_train)"
   ]
  },
  {
   "cell_type": "markdown",
   "metadata": {
    "id": "nUJpP1Uln9br"
   },
   "source": [
    "## Choose best length of each vector"
   ]
  },
  {
   "cell_type": "code",
   "execution_count": null,
   "metadata": {
    "colab": {
     "base_uri": "https://localhost:8080/",
     "height": 265
    },
    "id": "mRpaVRT0oAmj",
    "outputId": "8922d489-591d-4446-bac6-1faf1a3931e8"
   },
   "outputs": [
    {
     "data": {
      "image/png": "[encoded data removed]",
      "text/plain": [
       "<Figure size 432x288 with 1 Axes>"
      ]
     },
     "metadata": {
      "needs_background": "light",
      "tags": []
     },
     "output_type": "display_data"
    }
   ],
   "source": [
    "plt.hist([len(comment) for comment in x_train], bins=np.linspace(0, 400, 50))\n",
    "plt.show()"
   ]
  },
  {
   "cell_type": "markdown",
   "metadata": {
    "id": "mb3WofNJoylj"
   },
   "source": [
    "Seems like choosing 50 is a reasonable amount\n"
   ]
  },
  {
   "cell_type": "code",
   "execution_count": null,
   "metadata": {
    "id": "MwkxBXhCnJ-r"
   },
   "outputs": [],
   "source": [
    "maxlen = 50\n",
    "# Makes the vector lengths the same regardless of how many words in comments\n",
    "x_train = pad_sequences(x_train, maxlen=maxlen) "
   ]
  },
  {
   "cell_type": "markdown",
   "metadata": {
    "id": "BqxPYniOnXHT"
   },
   "source": [
    "## Setting up the Model Architecture"
   ]
  },
  {
   "cell_type": "markdown",
   "metadata": {
    "id": "pnONjnakuS9B"
   },
   "source": [
    "Hyperparameters for Architecture"
   ]
  },
  {
   "cell_type": "code",
   "execution_count": null,
   "metadata": {
    "id": "p8EY7YQ7txEZ"
   },
   "outputs": [],
   "source": [
    "embed_size = 128"
   ]
  },
  {
   "cell_type": "markdown",
   "metadata": {
    "id": "QN0r9hh9tA-e"
   },
   "source": [
    "1. Input Layer / Tensor"
   ]
  },
  {
   "cell_type": "code",
   "execution_count": null,
   "metadata": {
    "id": "_uLoxF12tGlK"
   },
   "outputs": [],
   "source": [
    "inp = Input(shape=(maxlen,))"
   ]
  },
  {
   "cell_type": "markdown",
   "metadata": {
    "id": "t8E4coDQuNJQ"
   },
   "source": [
    "2. Embedding Layer\n"
   ]
  },
  {
   "cell_type": "code",
   "execution_count": null,
   "metadata": {
    "id": "PgMqNSIJuRZZ"
   },
   "outputs": [],
   "source": [
    "x = Embedding(max_features, embed_size)(inp)"
   ]
  },
  {
   "cell_type": "markdown",
   "metadata": {
    "id": "ZZA3yA41vCIw"
   },
   "source": [
    "3. LSTM Layer"
   ]
  },
  {
   "cell_type": "code",
   "execution_count": null,
   "metadata": {
    "id": "ekoR3vq2vDiB"
   },
   "outputs": [],
   "source": [
    "x = LSTM(60, return_sequences=True, name='lstm_layer')(x)"
   ]
  },
  {
   "cell_type": "markdown",
   "metadata": {
    "id": "Dxe8GNVSvMdg"
   },
   "source": [
    "4. Global Max Pooling"
   ]
  },
  {
   "cell_type": "code",
   "execution_count": null,
   "metadata": {
    "id": "nqFsErtavQQg"
   },
   "outputs": [],
   "source": [
    "x = GlobalMaxPool1D()(x) # Used to convert the 3D tensor into a 2D one"
   ]
  },
  {
   "cell_type": "markdown",
   "metadata": {
    "id": "uIjUL1sGwKqQ"
   },
   "source": [
    "5. Dense"
   ]
  },
  {
   "cell_type": "code",
   "execution_count": null,
   "metadata": {
    "id": "xpdz7wCvwRSA"
   },
   "outputs": [],
   "source": [
    "x = Dense(50, activation='relu')(x)"
   ]
  },
  {
   "cell_type": "markdown",
   "metadata": {
    "id": "OeSTf33vwahI"
   },
   "source": [
    "6. Dropout"
   ]
  },
  {
   "cell_type": "code",
   "execution_count": null,
   "metadata": {
    "id": "UIW-SMXewd2I"
   },
   "outputs": [],
   "source": [
    "x = Dropout(0.1)(x)"
   ]
  },
  {
   "cell_type": "markdown",
   "metadata": {
    "id": "bGJzsNegwh0_"
   },
   "source": [
    "7. Dense"
   ]
  },
  {
   "cell_type": "code",
   "execution_count": null,
   "metadata": {
    "id": "H49TeUmmwjrP"
   },
   "outputs": [],
   "source": [
    "x = Dense(6, activation='sigmoid')(x)"
   ]
  },
  {
   "cell_type": "markdown",
   "metadata": {
    "id": "Gv1Mix8UwqwI"
   },
   "source": [
    "## Train Model"
   ]
  },
  {
   "cell_type": "code",
   "execution_count": null,
   "metadata": {
    "id": "n9G5yfBVwv4Q"
   },
   "outputs": [],
   "source": [
    "model = Model(inputs=inp, outputs=x)\n",
    "model.compile(loss='binary_crossentropy', optimizer='adam', metrics=['accuracy'])"
   ]
  },
  {
   "cell_type": "markdown",
   "metadata": {},
   "source": [
    "### Model Configurations"
   ]
  },
  {
   "cell_type": "code",
   "execution_count": null,
   "metadata": {
    "colab": {
     "base_uri": "https://localhost:8080/"
    },
    "id": "gOeXWaaNxGnI",
    "outputId": "590bd19c-fdd1-4bb0-806e-460d949e175d"
   },
   "outputs": [
    {
     "name": "stdout",
     "output_type": "stream",
     "text": [
      "Epoch 1/2\n",
      "4488/4488 [==============================] - 131s 29ms/step - loss: 0.0692 - accuracy: 0.9578 - val_loss: 0.0538 - val_accuracy: 0.9940\n",
      "Epoch 2/2\n",
      "4488/4488 [==============================] - 126s 28ms/step - loss: 0.0473 - accuracy: 0.9778 - val_loss: 0.0512 - val_accuracy: 0.9939\n"
     ]
    },
    {
     "data": {
      "text/plain": [
       "<tensorflow.python.keras.callbacks.History at 0x7f413423ffd0>"
      ]
     },
     "execution_count": 29,
     "metadata": {
      "tags": []
     },
     "output_type": "execute_result"
    }
   ],
   "source": [
    "batch_size = 32\n",
    "epochs = 2\n",
    "model.fit(x_train, y_train, batch_size=batch_size, epochs=epochs, validation_split=0.1)"
   ]
  },
  {
   "cell_type": "code",
   "execution_count": null,
   "metadata": {
    "colab": {
     "base_uri": "https://localhost:8080/"
    },
    "id": "fXsmFe0_0Jkf",
    "outputId": "deeaea1c-c652-4ced-b14a-932384dd5ee4"
   },
   "outputs": [
    {
     "name": "stdout",
     "output_type": "stream",
     "text": [
      "156/156 [==============================] - 1s 9ms/step\n"
     ]
    }
   ],
   "source": [
    "x_predict = model.predict(x_train, batch_size=1024, verbose=1)"
   ]
  },
  {
   "cell_type": "code",
   "execution_count": null,
   "metadata": {
    "colab": {
     "base_uri": "https://localhost:8080/"
    },
    "id": "lsndvTUG0-o-",
    "outputId": "9a60f8f3-1db9-4eee-f895-581dfc05f3f3"
   },
   "outputs": [
    {
     "data": {
      "text/plain": [
       "array([[3.9726045e-04, 9.4846023e-08, 4.3118493e-05, 9.1692741e-08,\n",
       "        1.9636509e-05, 1.8445335e-06],\n",
       "       [7.4973179e-04, 2.2316325e-07, 6.0215381e-05, 4.9943515e-07,\n",
       "        3.8521663e-05, 4.5325251e-06],\n",
       "       [2.8589459e-03, 5.9533681e-07, 1.9251199e-04, 1.2229859e-06,\n",
       "        1.4412828e-04, 1.2863552e-05],\n",
       "       [1.3188601e-03, 8.5421215e-07, 2.2808702e-04, 4.9270272e-07,\n",
       "        8.2268394e-05, 1.0249222e-05],\n",
       "       [8.8784546e-02, 4.9310416e-05, 4.2933542e-03, 1.4263409e-04,\n",
       "        7.9465006e-03, 5.5996305e-04]], dtype=float32)"
      ]
     },
     "execution_count": 31,
     "metadata": {
      "tags": []
     },
     "output_type": "execute_result"
    }
   ],
   "source": [
    "x_predict[:5, ]"
   ]
  },
  {
   "cell_type": "markdown",
   "metadata": {
    "id": "exoSAuxJSTI0"
   },
   "source": [
    "# Get Validation Score"
   ]
  },
  {
   "cell_type": "code",
   "execution_count": null,
   "metadata": {
    "id": "kBALa9PbSV1U"
   },
   "outputs": [],
   "source": [
    "val_data = pd.read_csv('./drive/My Drive/Data-X: GGWP Toxic Behavior Public Data/data/combined.csv')"
   ]
  },
  {
   "cell_type": "code",
   "execution_count": null,
   "metadata": {
    "id": "xwKR2xV5TFqF"
   },
   "outputs": [],
   "source": [
    "x_val = val_data.loc[:, 'text']\n",
    "y_val = val_data.loc[:, 'toxic':'indentity_hate'].values"
   ]
  },
  {
   "cell_type": "code",
   "execution_count": null,
   "metadata": {
    "id": "CBq7BQ2lVRsW"
   },
   "outputs": [],
   "source": [
    "# Vectorize\n",
    "x_val = tokenizer.texts_to_sequences(x_val)"
   ]
  },
  {
   "cell_type": "code",
   "execution_count": null,
   "metadata": {
    "id": "3jhDb1UgVYzN"
   },
   "outputs": [],
   "source": [
    "# Pad\n",
    "x_val = pad_sequences(x_val, maxlen=maxlen) # Makes the vector lengths the same regardless of how many words in comments"
   ]
  },
  {
   "cell_type": "code",
   "execution_count": null,
   "metadata": {
    "colab": {
     "base_uri": "https://localhost:8080/"
    },
    "id": "hR730pqPTLhM",
    "outputId": "2d8cd1f4-db9d-4ab9-d0d0-d0f21ac6e5f9"
   },
   "outputs": [
    {
     "name": "stdout",
     "output_type": "stream",
     "text": [
      "3/3 [==============================] - 0s 8ms/step\n"
     ]
    }
   ],
   "source": [
    "y_pred_val = model.predict(x_val, batch_size=1024, verbose=1)"
   ]
  },
  {
   "cell_type": "code",
   "execution_count": null,
   "metadata": {
    "id": "22dJ_QtnTP-_"
   },
   "outputs": [],
   "source": [
    "x_val_score = roc_auc_score(y_val, y_pred_val)"
   ]
  },
  {
   "cell_type": "code",
   "execution_count": null,
   "metadata": {
    "colab": {
     "base_uri": "https://localhost:8080/"
    },
    "id": "w1ONZk6wTnSB",
    "outputId": "6cb6bcbf-c79e-4e36-96df-a21a1a30a917"
   },
   "outputs": [
    {
     "data": {
      "text/plain": [
       "0.867334293460814"
      ]
     },
     "execution_count": 53,
     "metadata": {
      "tags": []
     },
     "output_type": "execute_result"
    }
   ],
   "source": [
    "x_val_score"
   ]
  },
  {
   "cell_type": "markdown",
   "metadata": {
    "id": "77p9HEQDWTb9"
   },
   "source": [
    "## Add LSTM Results to Model Results CSV"
   ]
  },
  {
   "cell_type": "code",
   "execution_count": null,
   "metadata": {
    "id": "F9bUiVcNVmIt"
   },
   "outputs": [],
   "source": [
    "#model_results = pd.read_csv('./drive/My Drive/Data-X: GGWP Toxic Behavior Public Data/models/model_results.csv', index_col='Unnamed: 0')"
   ]
  },
  {
   "cell_type": "code",
   "execution_count": null,
   "metadata": {
    "id": "U9pDDv4DVy7-"
   },
   "outputs": [],
   "source": [
    "#model_results = pd.concat([model_results, pd.DataFrame({'Model': ['LSTM'], 'val_auc_score': [x_val_score]})])"
   ]
  },
  {
   "cell_type": "code",
   "execution_count": null,
   "metadata": {
    "id": "4xvpGoJqWC99"
   },
   "outputs": [],
   "source": [
    "#model_results.to_csv('./drive/My Drive/Data-X: GGWP Toxic Behavior Public Data/models/model_results.csv')"
   ]
  }
 ],
 "metadata": {
  "accelerator": "GPU",
  "colab": {
   "collapsed_sections": [],
   "name": "LSTM.ipynb",
   "provenance": []
  },
  "kernelspec": {
   "display_name": "Python 3",
   "language": "python",
   "name": "python3"
  },
  "language_info": {
   "codemirror_mode": {
    "name": "ipython",
    "version": 3
   },
   "file_extension": ".py",
   "mimetype": "text/x-python",
   "name": "python",
   "nbconvert_exporter": "python",
   "pygments_lexer": "ipython3",
   "version": "3.8.3"
  }
 },
 "nbformat": 4,
 "nbformat_minor": 1
}
