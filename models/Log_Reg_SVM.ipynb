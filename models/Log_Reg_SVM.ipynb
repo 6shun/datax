{
 "cells": [
  {
   "cell_type": "markdown",
   "metadata": {},
   "source": [
    "# Set Up"
   ]
  },
  {
   "cell_type": "code",
   "execution_count": 15,
   "metadata": {},
   "outputs": [],
   "source": [
    "import numpy as np\n",
    "import pandas as pd\n",
    "import pickle\n",
    "\n",
    "from sklearn.feature_extraction.text import TfidfVectorizer\n",
    "from sklearn.linear_model import LogisticRegression\n",
    "from sklearn.svm import LinearSVC\n",
    "from sklearn.calibration import CalibratedClassifierCV\n",
    "from sklearn.model_selection import cross_val_score\n",
    "from sklearn.metrics import roc_curve\n",
    "from sklearn.metrics import roc_auc_score"
   ]
  },
  {
   "cell_type": "code",
   "execution_count": 16,
   "metadata": {},
   "outputs": [],
   "source": [
    "# Create list of outputs required\n",
    "classes = ['toxic', 'severe_toxic', 'obscene', 'threat', 'insult', 'identity_hate']"
   ]
  },
  {
   "cell_type": "code",
   "execution_count": 17,
   "metadata": {},
   "outputs": [],
   "source": [
    "# Binary Variables\n",
    "vectorize = False\n",
    "cross_validate = False\n",
    "train = True\n",
    "validate = True\n",
    "predict = False"
   ]
  },
  {
   "cell_type": "markdown",
   "metadata": {},
   "source": [
    "## Read Data"
   ]
  },
  {
   "cell_type": "code",
   "execution_count": 18,
   "metadata": {},
   "outputs": [],
   "source": [
    "# Read Training Data\n",
    "data_train = pd.read_csv('../data/train[1].csv')\n",
    "x_train_text = data_train['comment_text']\n",
    "\n",
    "# Read Validation Data\n",
    "data_val = pd.read_csv('../data/labeled data/combined.csv')\n",
    "x_val_text = data_val['text']\n",
    "    \n",
    "# Read Testing Data\n",
    "# data_test = pd.read_csv('../')\n",
    "# x_test_text = data_test['comment']"
   ]
  },
  {
   "cell_type": "markdown",
   "metadata": {},
   "source": [
    "# Data Preprocessing"
   ]
  },
  {
   "cell_type": "markdown",
   "metadata": {},
   "source": [
    "## Vectorize into n-grams"
   ]
  },
  {
   "cell_type": "code",
   "execution_count": 19,
   "metadata": {},
   "outputs": [
    {
     "name": "stderr",
     "output_type": "stream",
     "text": [
      "D:\\anaconda\\lib\\site-packages\\sklearn\\base.py:329: UserWarning: Trying to unpickle estimator TfidfTransformer from version 0.23.2 when using version 0.23.1. This might lead to breaking code or invalid results. Use at your own risk.\n",
      "  warnings.warn(\n",
      "D:\\anaconda\\lib\\site-packages\\sklearn\\base.py:329: UserWarning: Trying to unpickle estimator TfidfVectorizer from version 0.23.2 when using version 0.23.1. This might lead to breaking code or invalid results. Use at your own risk.\n",
      "  warnings.warn(\n"
     ]
    }
   ],
   "source": [
    "filename = 'log_reg_SVM_vectorizer.sav'\n",
    "if vectorize:\n",
    "    # Create Word Vectorizer which\n",
    "    word_vectorizer = TfidfVectorizer(\n",
    "        sublinear_tf=True,\n",
    "        strip_accents='unicode',\n",
    "        analyzer='word',\n",
    "        token_pattern=r'\\w+',\n",
    "        stop_words='english',\n",
    "        ngram_range=(1, 2),\n",
    "        max_features=10000)\n",
    "\n",
    "    # Fit Vectorizer on Training Data\n",
    "    word_vectorizer.fit(x_train_text)\n",
    "    \n",
    "    # Pickle vectorizer\n",
    "    pickle.dump(word_vectorizer, open('../output/' + filename, 'wb'))\n",
    "\n",
    "# Read Vectorizer\n",
    "word_vectorizer = pickle.load(open('../output/' + filename, 'rb'))"
   ]
  },
  {
   "cell_type": "markdown",
   "metadata": {},
   "source": [
    "# Model"
   ]
  },
  {
   "cell_type": "markdown",
   "metadata": {},
   "source": [
    "## Setup"
   ]
  },
  {
   "cell_type": "markdown",
   "metadata": {},
   "source": [
    "## Cross Validate"
   ]
  },
  {
   "cell_type": "code",
   "execution_count": 20,
   "metadata": {},
   "outputs": [],
   "source": [
    "if cross_validate:\n",
    "    \n",
    "    lin_reg_scores = []\n",
    "    print(\"Calculating CV Scores for Logistic Regression\")\n",
    "    for class_name in classes:\n",
    "        train_label = data_train[class_name]\n",
    "        classifier = LogisticRegression(C=0.1, solver='sag')\n",
    "        \n",
    "        # Get Cross validation Scores for Logistic Regression\n",
    "        cv_score = np.mean(cross_val_score(classifier, x_train, train_label, cv=3, scoring='roc_auc'))\n",
    "        lin_reg_scores.append(cv_score)\n",
    "        print(f\"CV Score for {class_name} is {cv_score}\")\n",
    "\n",
    "    print(f\"Total CV Score is {np.mean(lin_reg_scores)}\")\n",
    "    \n",
    "    svm_scores = []\n",
    "    print(\"Calculating CV Scores for SVM\")\n",
    "    for class_name in classes:\n",
    "        train_label = data_train[class_name]\n",
    "        svm = LinearSVC()\n",
    "        classifier = CalibratedClassifierCV(svm)\n",
    "\n",
    "        # Get Cross validation Scores for SVM\n",
    "        cv_score = np.mean(cross_val_score(classifier, x_train, train_label, cv=3, scoring='roc_auc'))\n",
    "        svm_scores.append(cv_score)\n",
    "        print(f\"CV Score for {class_name} is {cv_score}\")\n",
    "\n",
    "    print(f\"Total CV Score is {np.mean(svm_scores)}\")"
   ]
  },
  {
   "cell_type": "markdown",
   "metadata": {},
   "source": [
    "## Train"
   ]
  },
  {
   "cell_type": "code",
   "execution_count": 21,
   "metadata": {},
   "outputs": [],
   "source": [
    "def get_optimal_threshold(model, x_train, train_label):\n",
    "        # Get False Positive Rate and True Positive Rate\n",
    "        predictions = model.predict_proba(x_train)[:, 1]\n",
    "        fpr, tpr, thresholds = roc_curve(train_label, predictions)\n",
    "        \n",
    "        # Get Optimal Threshold (TPR - FPR)\n",
    "        return thresholds[np.argmax(tpr - fpr)]"
   ]
  },
  {
   "cell_type": "code",
   "execution_count": 22,
   "metadata": {},
   "outputs": [
    {
     "name": "stdout",
     "output_type": "stream",
     "text": [
      "Training SVM!\n",
      "Training on class toxic\n",
      "Training on class severe_toxic\n",
      "Training on class obscene\n",
      "Training on class threat\n",
      "Training on class insult\n",
      "Training on class identity_hate\n"
     ]
    }
   ],
   "source": [
    "if train:\n",
    "    # Transform Training Data\n",
    "    x_train = word_vectorizer.transform(x_train_text)\n",
    "    \n",
    "    # Logistic Regression\n",
    "    print(\"Training Log Reg!\")\n",
    "    for class_name in classes:\n",
    "        print(f\"Training on class {class_name}\")\n",
    "        train_label = data_train[class_name]\n",
    "        classifier = LogisticRegression(C=0.1, solver='sag')\n",
    "\n",
    "        # Train Model\n",
    "        classifier.fit(x_train, train_label)\n",
    "    \n",
    "        # Get Optimal Threshold based on False Positive Rate and True Positive Rate\n",
    "        #threshold = get_optimal_threshold(classifier, x_train, train_label)\n",
    "        \n",
    "        # Pickle\n",
    "        filename = 'log_reg_' + class_name + '.sav'\n",
    "        pickle.dump(classifier, open('../output/' + filename, 'wb'))\n",
    "        \n",
    "    # SVM\n",
    "    print(\"Training SVM!\")\n",
    "    for class_name in classes:\n",
    "        print(f\"Training on class {class_name}\")\n",
    "        train_label = data_train[class_name]\n",
    "        svm = LinearSVC()\n",
    "        classifier = CalibratedClassifierCV(svm)\n",
    "\n",
    "        # Train Model\n",
    "        classifier.fit(x_train, train_label)\n",
    "    \n",
    "        # Get Optimal Threshold based on False Positive Rate and True Positive Rate\n",
    "        #threshold = get_optimal_threshold(classifier, x_train, train_label)\n",
    "\n",
    "        # Pickle\n",
    "        filename = 'SVM_' + class_name + '.sav'\n",
    "        pickle.dump(classifier, open('../output/' + filename, 'wb'))\n",
    "    "
   ]
  },
  {
   "cell_type": "markdown",
   "metadata": {},
   "source": [
    "# Get Validation Score"
   ]
  },
  {
   "cell_type": "code",
   "execution_count": 23,
   "metadata": {},
   "outputs": [],
   "source": [
    "def get_auc(model, x_val, y_val, class_name):\n",
    "    y_pred = model.predict_proba(x_val)\n",
    "    val_auc = roc_auc_score(y_val, y_pred[:, 1])\n",
    "    \n",
    "    print(f\"The validation auc for {class_name} is {val_auc}\")\n",
    "    return val_auc"
   ]
  },
  {
   "cell_type": "code",
   "execution_count": 24,
   "metadata": {},
   "outputs": [
    {
     "name": "stdout",
     "output_type": "stream",
     "text": [
      "Getting validation auc score for Logistic Regression\n",
      "The validation auc for toxic is 0.9352673071265474\n",
      "The validation auc for severe_toxic is 0.47568854131247873\n",
      "The validation auc for obscene is 0.9275733840152728\n",
      "The validation auc for threat is 0.8198482932996207\n",
      "The validation auc for insult is 0.916567887370807\n",
      "The validation auc for identity_hate is 0.8435272975150276\n",
      "Getting validation auc score for SVM\n",
      "The validation auc for toxic is 0.9328667026072881\n",
      "The validation auc for severe_toxic is 0.8054233253995239\n",
      "The validation auc for obscene is 0.9241321523986196\n",
      "The validation auc for threat is 0.7508022950500827\n",
      "The validation auc for insult is 0.917321729365525\n",
      "The validation auc for identity_hate is 0.8360290016731735\n"
     ]
    }
   ],
   "source": [
    "if validate:\n",
    "    x_val = word_vectorizer.transform(x_val_text.values.astype('U'))\n",
    "    \n",
    "    print(\"Getting validation auc score for Logistic Regression\")\n",
    "    lr_aucs = []\n",
    "    for class_name in classes:\n",
    "            filename = 'log_reg_' + class_name + '.sav'\n",
    "            model= pickle.load(open('../output/' + filename, 'rb'))\n",
    "            \n",
    "            val_auc = get_auc(model, x_val, data_val[class_name], class_name)\n",
    "            lr_aucs.append(val_auc)\n",
    "            \n",
    "    print(\"Getting validation auc score for SVM\")\n",
    "    svm_aucs = []\n",
    "    for class_name in classes:\n",
    "\n",
    "        filename = 'svm_' + class_name + '.sav'\n",
    "        model= pickle.load(open('../output/' + filename, 'rb'))\n",
    "\n",
    "        val_auc = get_auc(model, x_val, data_val[class_name], class_name)\n",
    "        svm_aucs.append(val_auc)\n",
    "            "
   ]
  },
  {
   "cell_type": "code",
   "execution_count": 26,
   "metadata": {},
   "outputs": [],
   "source": [
    "model_results = pd.read_csv('./model_results.csv', index_col='Unnamed: 0')\n",
    "model_results = pd.concat([model_results, pd.DataFrame({'Model': ['Logistic Regression'], 'val_auc_score': [np.mean(lr_aucs)]})])\n",
    "model_results = pd.concat([model_results, pd.DataFrame({'Model': ['SVM'], 'val_auc_score': [np.mean(svm_aucs)]})])\n",
    "model_results.to_csv('./model_results.csv')"
   ]
  }
 ],
 "metadata": {
  "kernelspec": {
   "display_name": "Python 3",
   "language": "python",
   "name": "python3"
  },
  "language_info": {
   "codemirror_mode": {
    "name": "ipython",
    "version": 3
   },
   "file_extension": ".py",
   "mimetype": "text/x-python",
   "name": "python",
   "nbconvert_exporter": "python",
   "pygments_lexer": "ipython3",
   "version": "3.8.3"
  }
 },
 "nbformat": 4,
 "nbformat_minor": 4
}
