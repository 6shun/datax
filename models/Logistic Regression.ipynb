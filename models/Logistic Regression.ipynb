{
 "cells": [
  {
   "cell_type": "markdown",
   "metadata": {},
   "source": [
    "# Set Up"
   ]
  },
  {
   "cell_type": "code",
   "execution_count": 3,
   "metadata": {},
   "outputs": [],
   "source": [
    "import numpy as np\n",
    "import pandas as pd\n",
    "import pickle\n",
    "\n",
    "from sklearn.feature_extraction.text import TfidfVectorizer\n",
    "from sklearn.linear_model import LogisticRegression\n",
    "from sklearn.model_selection import cross_val_score\n",
    "from sklearn.metrics import roc_curve"
   ]
  },
  {
   "cell_type": "code",
   "execution_count": 6,
   "metadata": {},
   "outputs": [],
   "source": [
    "# Create list of outputs required\n",
    "classes = ['toxic', 'severe_toxic', 'obscene', 'threat', 'insult', 'identity_hate']"
   ]
  },
  {
   "cell_type": "code",
   "execution_count": 1,
   "metadata": {},
   "outputs": [],
   "source": [
    "# Binary Variables\n",
    "read_train = False\n",
    "read_test = False\n",
    "vectorize = False\n",
    "cross_validate = False\n",
    "train = True\n",
    "predict = False"
   ]
  },
  {
   "cell_type": "markdown",
   "metadata": {},
   "source": [
    "## Read Data"
   ]
  },
  {
   "cell_type": "code",
   "execution_count": 4,
   "metadata": {},
   "outputs": [],
   "source": [
    "# Read Training Data\n",
    "if read_train:\n",
    "    data_train = pd.read_csv('../data/train[1].csv')\n",
    "    x_train_text = data_train['comment_text']\n",
    "\n",
    "# Read Testing Data\n",
    "if read_test:\n",
    "    data_test = pd.read_csv('../')\n",
    "    x_test_text = data_test['comment']"
   ]
  },
  {
   "cell_type": "markdown",
   "metadata": {},
   "source": [
    "# Data Preprocessing"
   ]
  },
  {
   "cell_type": "markdown",
   "metadata": {},
   "source": [
    "## Vectorize into n-grams"
   ]
  },
  {
   "cell_type": "code",
   "execution_count": 28,
   "metadata": {},
   "outputs": [],
   "source": [
    "filename = 'log_reg_vectorizer.sav'\n",
    "if vectorize:\n",
    "    # Create Word Vectorizer which\n",
    "    word_vectorizer = TfidfVectorizer(\n",
    "        sublinear_tf=True,\n",
    "        strip_accents='unicode',\n",
    "        analyzer='word',\n",
    "        token_pattern=r'\\w+',\n",
    "        stop_words='english',\n",
    "        ngram_range=(1, 2),\n",
    "        max_features=10000)\n",
    "\n",
    "    # Fit Vectorizer on Training Data\n",
    "    word_vectorizer.fit(x_train_text)\n",
    "    \n",
    "    # Pickle vectorizer\n",
    "    pickle.dump(word_vectorizer, open('../output/' + filename, 'wb'))\n",
    "\n",
    "# Read Vectorizer\n",
    "word_vectorizer = pickle.load(open('../output/' + filename, 'rb'))"
   ]
  },
  {
   "cell_type": "markdown",
   "metadata": {},
   "source": [
    "# Model"
   ]
  },
  {
   "cell_type": "markdown",
   "metadata": {},
   "source": [
    "## Setup"
   ]
  },
  {
   "cell_type": "code",
   "execution_count": null,
   "metadata": {},
   "outputs": [],
   "source": [
    "# Transform Training Data\n",
    "x_train = word_vectorizer.transform(x_train_text)"
   ]
  },
  {
   "cell_type": "markdown",
   "metadata": {},
   "source": [
    "## Cross Validate"
   ]
  },
  {
   "cell_type": "code",
   "execution_count": 37,
   "metadata": {},
   "outputs": [
    {
     "name": "stdout",
     "output_type": "stream",
     "text": [
      "CV Score for toxic is 0.9573954678103237\n",
      "CV Score for severe_toxic is 0.9839209820637387\n",
      "CV Score for obscene is 0.9801799483619518\n",
      "CV Score for threat is 0.9767850278536501\n",
      "CV Score for insult is 0.9693399811512836\n",
      "CV Score for identity_hate is 0.9672932669757538\n",
      "Total CV Score is 0.9724857790361171\n"
     ]
    }
   ],
   "source": [
    "if cross_validate:\n",
    "    \n",
    "    scores = []\n",
    "    for class_name in classes:\n",
    "        train_label = x_data[class_name]\n",
    "        classifier = LogisticRegression(C=0.1, solver='sag')\n",
    "\n",
    "        # Get Cross validation Score\n",
    "        cv_score = np.mean(cross_val_score(classifier, x_train, train_label, cv=3, scoring='roc_auc'))\n",
    "        scores.append(cv_score)\n",
    "        print(f\"CV Score for {class_name} is {cv_score}\")\n",
    "\n",
    "    print(f\"Total CV Score is {np.mean(scores)}\")"
   ]
  },
  {
   "cell_type": "markdown",
   "metadata": {},
   "source": [
    "## Train"
   ]
  },
  {
   "cell_type": "code",
   "execution_count": 42,
   "metadata": {},
   "outputs": [],
   "source": [
    "def get_optimal_threshold(model, x_train, train_label):\n",
    "        # Get False Positive Rate and True Positive Rate\n",
    "        predictions = model.predict_proba(x_train)[:, 1]\n",
    "        fpr, tpr, thresholds = roc_curve(train_label, predictions)\n",
    "        \n",
    "        # Get Optimal Threshold (TPR - FPR)\n",
    "        return thresholds[np.argmax(tpr - fpr)]"
   ]
  },
  {
   "cell_type": "code",
   "execution_count": 43,
   "metadata": {},
   "outputs": [],
   "source": [
    "if train:\n",
    "    # Transform Training Data\n",
    "    x_train = word_vectorizer.transform(x_train_text)\n",
    "    \n",
    "    for class_name in classes:\n",
    "        train_label = x_data[class_name]\n",
    "        classifier = LogisticRegression(C=0.1, solver='sag')\n",
    "\n",
    "        # Train Model\n",
    "        classifier.fit(x_train, train_label)\n",
    "    \n",
    "        # Get Optimal Threshold based on False Positive Rate and True Positive Rate\n",
    "        threshold = get_optimal_threshold(classifier, x_train, train_label)\n",
    "        \n",
    "        # Pickle\n",
    "        filename = 'log_reg_' + class_name + '.sav'\n",
    "        pickle.dump((classifier, threshold), open('../output/' + filename, 'wb'))\n",
    "    "
   ]
  },
  {
   "cell_type": "markdown",
   "metadata": {},
   "source": [
    "# Generate Output"
   ]
  },
  {
   "cell_type": "markdown",
   "metadata": {},
   "source": [
    "## Transform Test Data with Vectorizer"
   ]
  },
  {
   "cell_type": "code",
   "execution_count": null,
   "metadata": {},
   "outputs": [],
   "source": [
    "def get_predictions(model, x_test, class_name):\n",
    "    predictions = model.predict_proba(x_test)[:, 1]\n",
    "    \n",
    "    # Get False Positive Rate and True Positive Rate\n",
    "    fpr, tpr, thresholds = roc_curve(x_test, predictions)\n",
    "    \n",
    "    # Get Optimal Threshold\n",
    "    threshold = thresholds[np.argmax(tpr - fpr)]\n",
    "    \n",
    "    # Add Column with Predictions\n",
    "    data_test[class_name] = np.where(predictions > threshold, 1, 0)\n",
    "    "
   ]
  },
  {
   "cell_type": "code",
   "execution_count": null,
   "metadata": {},
   "outputs": [],
   "source": [
    "if predict:\n",
    "    x_test = word_vectorizer.transform(x_test_text)"
   ]
  }
 ],
 "metadata": {
  "kernelspec": {
   "display_name": "Python 3",
   "language": "python",
   "name": "python3"
  },
  "language_info": {
   "codemirror_mode": {
    "name": "ipython",
    "version": 3
   },
   "file_extension": ".py",
   "mimetype": "text/x-python",
   "name": "python",
   "nbconvert_exporter": "python",
   "pygments_lexer": "ipython3",
   "version": "3.7.3"
  }
 },
 "nbformat": 4,
 "nbformat_minor": 4
}
