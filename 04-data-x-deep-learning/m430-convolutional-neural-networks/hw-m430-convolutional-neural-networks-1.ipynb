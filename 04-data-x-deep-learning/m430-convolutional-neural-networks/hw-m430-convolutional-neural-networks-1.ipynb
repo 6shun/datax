{
 "cells": [
  {
   "cell_type": "markdown",
   "metadata": {},
   "source": [
    "# Homework: CNN Part 1"
   ]
  },
  {
   "cell_type": "markdown",
   "metadata": {},
   "source": [
    "## Refer the CNN Part 1 tutorial for the following exercises."
   ]
  },
  {
   "cell_type": "code",
   "execution_count": null,
   "metadata": {},
   "outputs": [],
   "source": [
    "import tensorflow.keras as keras\n",
    "from tensorflow.keras import layers\n",
    "from tensorflow.keras.datasets import mnist\n",
    "import matplotlib.pyplot as plt\n",
    "import pandas"
   ]
  },
  {
   "cell_type": "markdown",
   "metadata": {},
   "source": [
    "## a. Load the train and test MNIST data"
   ]
  },
  {
   "cell_type": "code",
   "execution_count": null,
   "metadata": {},
   "outputs": [],
   "source": [
    "# Load dataset as train and test sets\n",
    "\n",
    "(x_train, y_train), (x_test, y_test) ="
   ]
  },
  {
   "cell_type": "markdown",
   "metadata": {},
   "source": [
    "## b. Pre-process the dataset to:\n",
    "1. convert dtype to `float32`\n",
    "2. normalize value between [0,1]\n",
    "3. reshape dataset from 3D array to 4D array by adding channel dimension (grayscale: so add 1 channel)\n",
    "4. perform one-hot encoding for the target variables y_train and y_test"
   ]
  },
  {
   "cell_type": "code",
   "execution_count": null,
   "metadata": {},
   "outputs": [],
   "source": [
    "# convert dtype to float32\n",
    "x_train =\n",
    "x_test =\n",
    "\n",
    "# normalize value to [0,1]\n",
    "x_train =\n",
    "x_test =\n",
    "\n",
    "# reshape training data from 3D to 4D array\n",
    "x_train =\n",
    "x_test = \n",
    "\n",
    "# perform one-hot encoding for target variables\n",
    "y_train = \n",
    "y_test = "
   ]
  },
  {
   "cell_type": "markdown",
   "metadata": {},
   "source": [
    "## c. Build a CNN model with the following instructions:"
   ]
  },
  {
   "cell_type": "code",
   "execution_count": null,
   "metadata": {},
   "outputs": [],
   "source": [
    "model = keras.Sequential()\n",
    "\n",
    "# add first Conv2D layer with with number of filters as 8, kernel size of 5, same padding and relu activation\n",
    "\n",
    "\n",
    "# add AveragePooling2D layer\n",
    "\n",
    "\n",
    "# add second Conv2D layer with with number of filters as 16, kernel size of 3, same padding and relu activation\n",
    "\n",
    "\n",
    "# add AveragePooling2D layer\n",
    "\n",
    "\n",
    "# Flatten layer\n",
    "model.add(layers.Flatten())\n",
    "\n",
    "# add Dense Layer with 576 units and relu activation\n",
    " \n",
    "\n",
    "# Dropout layer\n",
    "model.add(layers.Dropout(0.3))\n",
    "\n",
    "# add Dense Layer with 288 units and relu activation\n",
    "\n",
    "\n",
    "# Dropout layer\n",
    "model.add(layers.Dropout(0.3))\n",
    "\n",
    "# add Dense Layer with 32 units and relu activation\n",
    "\n",
    "\n",
    "# Dropout layer\n",
    "model.add(layers.Dropout(0.3))\n",
    "\n",
    "# add final Output Dense layer with units as number of classes in MNIST (10) and softmax activation\n",
    "\n"
   ]
  },
  {
   "cell_type": "code",
   "execution_count": null,
   "metadata": {},
   "outputs": [],
   "source": [
    "# check the model summary\n",
    "model.summary()"
   ]
  },
  {
   "cell_type": "markdown",
   "metadata": {},
   "source": [
    "## d. Compile the model with loss function, Adams optimizer and metrics"
   ]
  },
  {
   "cell_type": "code",
   "execution_count": null,
   "metadata": {},
   "outputs": [],
   "source": [
    "# Compile the model\n",
    "model.compile(loss = ,\n",
    "              optimizer =, \n",
    "              metrics =)"
   ]
  },
  {
   "cell_type": "markdown",
   "metadata": {},
   "source": [
    "## e. Fit the model to the data with following parameters\n",
    "1. epochs = 5\n",
    "2. batch size= 128"
   ]
  },
  {
   "cell_type": "code",
   "execution_count": null,
   "metadata": {},
   "outputs": [],
   "source": [
    "history = model.fit(x = ,\n",
    "                    y = ,\n",
    "                    epochs = ,\n",
    "                    batch_size = , \n",
    "                    validation_data = ,\n",
    "                    verbose=1)"
   ]
  },
  {
   "cell_type": "markdown",
   "metadata": {},
   "source": [
    "## f. Test the model using model.evaluate and identify the accuaracy score"
   ]
  },
  {
   "cell_type": "code",
   "execution_count": null,
   "metadata": {},
   "outputs": [],
   "source": [
    "model.evaluate()"
   ]
  },
  {
   "cell_type": "code",
   "execution_count": null,
   "metadata": {},
   "outputs": [],
   "source": [
    "# plot model accuracy / epoch\n",
    "def plot_loss_acc(hist):\n",
    "    f, ax = plt.subplots()\n",
    "    ax.plot([None] + hist.history['accuracy'], 'o-')\n",
    "    ax.plot([None] + hist.history['val_accuracy'], 'x-')\n",
    "    # Plot legend and use the best location automatically: loc = 0.\n",
    "    ax.legend(['Train acc', 'Validation acc'], loc = 0)\n",
    "    ax.set_title('Training/Validation acc per Epoch')\n",
    "    ax.set_xlabel('Epoch')\n",
    "    ax.set_ylabel('Acc') \n",
    "    plt.plot()\n",
    "    \n",
    "    f, ax = plt.subplots()\n",
    "    ax.plot([None] + hist.history['loss'], 'o-',c='r')\n",
    "    ax.plot([None] + hist.history['val_loss'], 'x-',c='g')\n",
    "    # Plot legend and use the best location automatically: loc = 0.\n",
    "    ax.legend(['Train loss', 'Validation loss'], loc = 0)\n",
    "    ax.set_title('Training/Validation loss per Epoch')\n",
    "    ax.set_xlabel('Epoch')\n",
    "    ax.set_ylabel('Acc') \n",
    "    plt.plot()\n",
    "plot_loss_acc(history)"
   ]
  }
 ],
 "metadata": {
  "kernelspec": {
   "display_name": "Python 3",
   "language": "python",
   "name": "python3"
  },
  "language_info": {
   "codemirror_mode": {
    "name": "ipython",
    "version": 3
   },
   "file_extension": ".py",
   "mimetype": "text/x-python",
   "name": "python",
   "nbconvert_exporter": "python",
   "pygments_lexer": "ipython3",
   "version": "3.7.3"
  }
 },
 "nbformat": 4,
 "nbformat_minor": 4
}
