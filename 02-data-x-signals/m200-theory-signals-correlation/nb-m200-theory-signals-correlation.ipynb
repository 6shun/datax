{
 "cells": [
  {
   "cell_type": "markdown",
   "metadata": {},
   "source": [
    "# Examples\n",
    "## Correlation\n",
    "> #### IEOR 135/290, Data-X: Applied Data Ventures\n",
    "> #### Author: Joshua Rafael Sanchez | UC Berkeley, B.S. IEOR, '20\n",
    "> In collaboration with Ikalaq Sidhu.\n",
    "> Email: joshuarafael@berkeley.edu\n",
    "\n",
    "> __About This Notebook:__ <br>\n",
    "> This notebook contains examples from the Data-X lecture entitled \"Correlation.\"  \n",
    "\n",
    "> __Copyright:__ <br>\n",
    "> Feel free to use the code as you wish."
   ]
  },
  {
   "cell_type": "markdown",
   "metadata": {},
   "source": [
    "### 0. Setup"
   ]
  },
  {
   "cell_type": "code",
   "execution_count": 21,
   "metadata": {},
   "outputs": [],
   "source": [
    "# Import libraries:\n",
    "import numpy as np\n",
    "import pandas as pd"
   ]
  },
  {
   "cell_type": "markdown",
   "metadata": {},
   "source": [
    "### 1. Correlation of Rows With Numpy"
   ]
  },
  {
   "cell_type": "code",
   "execution_count": 32,
   "metadata": {},
   "outputs": [
    {
     "data": {
      "text/plain": [
       "array([[ 1.        , -0.03783885,  0.34905716,  0.14648975, -0.34945863],\n",
       "       [-0.03783885,  1.        ,  0.67888519, -0.96102583, -0.12757741],\n",
       "       [ 0.34905716,  0.67888519,  1.        , -0.45104803, -0.80429469],\n",
       "       [ 0.14648975, -0.96102583, -0.45104803,  1.        , -0.15132323],\n",
       "       [-0.34945863, -0.12757741, -0.80429469, -0.15132323,  1.        ]])"
      ]
     },
     "execution_count": 32,
     "metadata": {},
     "output_type": "execute_result"
    }
   ],
   "source": [
    "# ignore line formatting:\n",
    "x = np.array([\n",
    "    [0.1, .32, .2, 0.4, 0.8],\n",
    "    [.23, .18, .56, .61, .12],\n",
    "    [.9, .3, .6, .5, .3],\n",
    "    [.34, .75, .91, .19, .21]])\n",
    "\n",
    "# np.corrcoef(x)\n",
    "np.corrcoef(np.transpose(x))"
   ]
  },
  {
   "cell_type": "markdown",
   "metadata": {},
   "source": [
    "### 2. Correlation of Features from Different Sources"
   ]
  },
  {
   "cell_type": "code",
   "execution_count": 23,
   "metadata": {},
   "outputs": [
    {
     "data": {
      "text/html": [
       "<div>\n",
       "<style scoped>\n",
       "    .dataframe tbody tr th:only-of-type {\n",
       "        vertical-align: middle;\n",
       "    }\n",
       "\n",
       "    .dataframe tbody tr th {\n",
       "        vertical-align: top;\n",
       "    }\n",
       "\n",
       "    .dataframe thead th {\n",
       "        text-align: right;\n",
       "    }\n",
       "</style>\n",
       "<table border=\"1\" class=\"dataframe\">\n",
       "  <thead>\n",
       "    <tr style=\"text-align: right;\">\n",
       "      <th></th>\n",
       "      <th>mpg</th>\n",
       "      <th>disp</th>\n",
       "      <th>hp</th>\n",
       "      <th>drat</th>\n",
       "      <th>wt</th>\n",
       "      <th>qsec</th>\n",
       "    </tr>\n",
       "  </thead>\n",
       "  <tbody>\n",
       "    <tr>\n",
       "      <th>Mazda RX4</th>\n",
       "      <td>21.0</td>\n",
       "      <td>160</td>\n",
       "      <td>110</td>\n",
       "      <td>3.90</td>\n",
       "      <td>2.620</td>\n",
       "      <td>16.46</td>\n",
       "    </tr>\n",
       "    <tr>\n",
       "      <th>Mazda RX4 Wag</th>\n",
       "      <td>21.0</td>\n",
       "      <td>160</td>\n",
       "      <td>110</td>\n",
       "      <td>3.90</td>\n",
       "      <td>2.875</td>\n",
       "      <td>17.02</td>\n",
       "    </tr>\n",
       "    <tr>\n",
       "      <th>Datsun 710</th>\n",
       "      <td>22.8</td>\n",
       "      <td>108</td>\n",
       "      <td>93</td>\n",
       "      <td>3.85</td>\n",
       "      <td>2.320</td>\n",
       "      <td>18.61</td>\n",
       "    </tr>\n",
       "    <tr>\n",
       "      <th>Hornet 4 Drive</th>\n",
       "      <td>21.4</td>\n",
       "      <td>258</td>\n",
       "      <td>110</td>\n",
       "      <td>3.08</td>\n",
       "      <td>3.215</td>\n",
       "      <td>19.44</td>\n",
       "    </tr>\n",
       "    <tr>\n",
       "      <th>Hornet Sportabout</th>\n",
       "      <td>18.7</td>\n",
       "      <td>360</td>\n",
       "      <td>175</td>\n",
       "      <td>3.15</td>\n",
       "      <td>3.440</td>\n",
       "      <td>17.02</td>\n",
       "    </tr>\n",
       "    <tr>\n",
       "      <th>Valiant</th>\n",
       "      <td>18.1</td>\n",
       "      <td>225</td>\n",
       "      <td>105</td>\n",
       "      <td>2.76</td>\n",
       "      <td>3.460</td>\n",
       "      <td>20.22</td>\n",
       "    </tr>\n",
       "  </tbody>\n",
       "</table>\n",
       "</div>"
      ],
      "text/plain": [
       "                    mpg  disp   hp  drat     wt   qsec\n",
       "Mazda RX4          21.0   160  110  3.90  2.620  16.46\n",
       "Mazda RX4 Wag      21.0   160  110  3.90  2.875  17.02\n",
       "Datsun 710         22.8   108   93  3.85  2.320  18.61\n",
       "Hornet 4 Drive     21.4   258  110  3.08  3.215  19.44\n",
       "Hornet Sportabout  18.7   360  175  3.15  3.440  17.02\n",
       "Valiant            18.1   225  105  2.76  3.460  20.22"
      ]
     },
     "execution_count": 23,
     "metadata": {},
     "output_type": "execute_result"
    }
   ],
   "source": [
    "# creating dataframe\n",
    "d = {'mpg': [21.0, 21.0, 22.8, 21.4, 18.7, 18.1],\n",
    "     'disp': [160, 160, 108, 258, 360, 225],\n",
    "     'hp': [110, 110, 93, 110, 175, 105],\n",
    "     'drat': [3.90, 3.90, 3.85, 3.08, 3.15, 2.76],\n",
    "     'wt': [2.620, 2.875, 2.320, 3.215, 3.440, 3.460],\n",
    "     'qsec': [16.46, 17.02, 18.61, 19.44, 17.02, 20.22]}\n",
    "index = ['Mazda RX4','Mazda RX4 Wag', 'Datsun 710', 'Hornet 4 Drive',\n",
    "        'Hornet Sportabout', 'Valiant']\n",
    "\n",
    "df = pd.DataFrame(data=d, index=index)\n",
    "df"
   ]
  },
  {
   "cell_type": "code",
   "execution_count": 24,
   "metadata": {},
   "outputs": [
    {
     "data": {
      "text/html": [
       "<div>\n",
       "<style scoped>\n",
       "    .dataframe tbody tr th:only-of-type {\n",
       "        vertical-align: middle;\n",
       "    }\n",
       "\n",
       "    .dataframe tbody tr th {\n",
       "        vertical-align: top;\n",
       "    }\n",
       "\n",
       "    .dataframe thead th {\n",
       "        text-align: right;\n",
       "    }\n",
       "</style>\n",
       "<table border=\"1\" class=\"dataframe\">\n",
       "  <thead>\n",
       "    <tr style=\"text-align: right;\">\n",
       "      <th></th>\n",
       "      <th>mpg</th>\n",
       "      <th>disp</th>\n",
       "      <th>hp</th>\n",
       "      <th>drat</th>\n",
       "      <th>wt</th>\n",
       "      <th>qsec</th>\n",
       "    </tr>\n",
       "  </thead>\n",
       "  <tbody>\n",
       "    <tr>\n",
       "      <th>mpg</th>\n",
       "      <td>1.000000</td>\n",
       "      <td>-0.689418</td>\n",
       "      <td>-0.560904</td>\n",
       "      <td>0.727087</td>\n",
       "      <td>-0.860103</td>\n",
       "      <td>-0.158188</td>\n",
       "    </tr>\n",
       "    <tr>\n",
       "      <th>disp</th>\n",
       "      <td>-0.689418</td>\n",
       "      <td>1.000000</td>\n",
       "      <td>0.866490</td>\n",
       "      <td>-0.701672</td>\n",
       "      <td>0.854579</td>\n",
       "      <td>0.026017</td>\n",
       "    </tr>\n",
       "    <tr>\n",
       "      <th>hp</th>\n",
       "      <td>-0.560904</td>\n",
       "      <td>0.866490</td>\n",
       "      <td>1.000000</td>\n",
       "      <td>-0.306172</td>\n",
       "      <td>0.569348</td>\n",
       "      <td>-0.409935</td>\n",
       "    </tr>\n",
       "    <tr>\n",
       "      <th>drat</th>\n",
       "      <td>0.727087</td>\n",
       "      <td>-0.701672</td>\n",
       "      <td>-0.306172</td>\n",
       "      <td>1.000000</td>\n",
       "      <td>-0.882287</td>\n",
       "      <td>-0.692853</td>\n",
       "    </tr>\n",
       "    <tr>\n",
       "      <th>wt</th>\n",
       "      <td>-0.860103</td>\n",
       "      <td>0.854579</td>\n",
       "      <td>0.569348</td>\n",
       "      <td>-0.882287</td>\n",
       "      <td>1.000000</td>\n",
       "      <td>0.341026</td>\n",
       "    </tr>\n",
       "    <tr>\n",
       "      <th>qsec</th>\n",
       "      <td>-0.158188</td>\n",
       "      <td>0.026017</td>\n",
       "      <td>-0.409935</td>\n",
       "      <td>-0.692853</td>\n",
       "      <td>0.341026</td>\n",
       "      <td>1.000000</td>\n",
       "    </tr>\n",
       "  </tbody>\n",
       "</table>\n",
       "</div>"
      ],
      "text/plain": [
       "           mpg      disp        hp      drat        wt      qsec\n",
       "mpg   1.000000 -0.689418 -0.560904  0.727087 -0.860103 -0.158188\n",
       "disp -0.689418  1.000000  0.866490 -0.701672  0.854579  0.026017\n",
       "hp   -0.560904  0.866490  1.000000 -0.306172  0.569348 -0.409935\n",
       "drat  0.727087 -0.701672 -0.306172  1.000000 -0.882287 -0.692853\n",
       "wt   -0.860103  0.854579  0.569348 -0.882287  1.000000  0.341026\n",
       "qsec -0.158188  0.026017 -0.409935 -0.692853  0.341026  1.000000"
      ]
     },
     "execution_count": 24,
     "metadata": {},
     "output_type": "execute_result"
    }
   ],
   "source": [
    "df.corr()"
   ]
  },
  {
   "cell_type": "markdown",
   "metadata": {},
   "source": [
    "### 3. Correlation Matrix w/ Columns"
   ]
  },
  {
   "cell_type": "code",
   "execution_count": 25,
   "metadata": {},
   "outputs": [
    {
     "data": {
      "text/plain": [
       "0.046502829755131904"
      ]
     },
     "execution_count": 25,
     "metadata": {},
     "output_type": "execute_result"
    }
   ],
   "source": [
    "# Create DataFrame of random numbers\n",
    "frame = pd.DataFrame(np.random.randn(1000,5), columns = ['a','b','c','d','e'])\n",
    "frame.iloc[::2] = np.nan\n",
    "frame['a'].corr(frame['b'])"
   ]
  },
  {
   "cell_type": "code",
   "execution_count": 26,
   "metadata": {},
   "outputs": [
    {
     "data": {
      "text/plain": [
       "0.050304873219492875"
      ]
     },
     "execution_count": 26,
     "metadata": {},
     "output_type": "execute_result"
    }
   ],
   "source": [
    "frame['a'].corr(frame['b'], method = 'spearman')"
   ]
  },
  {
   "cell_type": "code",
   "execution_count": 27,
   "metadata": {},
   "outputs": [
    {
     "data": {
      "text/html": [
       "<div>\n",
       "<style scoped>\n",
       "    .dataframe tbody tr th:only-of-type {\n",
       "        vertical-align: middle;\n",
       "    }\n",
       "\n",
       "    .dataframe tbody tr th {\n",
       "        vertical-align: top;\n",
       "    }\n",
       "\n",
       "    .dataframe thead th {\n",
       "        text-align: right;\n",
       "    }\n",
       "</style>\n",
       "<table border=\"1\" class=\"dataframe\">\n",
       "  <thead>\n",
       "    <tr style=\"text-align: right;\">\n",
       "      <th></th>\n",
       "      <th>a</th>\n",
       "      <th>b</th>\n",
       "      <th>c</th>\n",
       "      <th>d</th>\n",
       "      <th>e</th>\n",
       "    </tr>\n",
       "  </thead>\n",
       "  <tbody>\n",
       "    <tr>\n",
       "      <th>a</th>\n",
       "      <td>1.000000</td>\n",
       "      <td>0.046503</td>\n",
       "      <td>-0.009185</td>\n",
       "      <td>0.038818</td>\n",
       "      <td>-0.054403</td>\n",
       "    </tr>\n",
       "    <tr>\n",
       "      <th>b</th>\n",
       "      <td>0.046503</td>\n",
       "      <td>1.000000</td>\n",
       "      <td>0.025726</td>\n",
       "      <td>0.052386</td>\n",
       "      <td>-0.060421</td>\n",
       "    </tr>\n",
       "    <tr>\n",
       "      <th>c</th>\n",
       "      <td>-0.009185</td>\n",
       "      <td>0.025726</td>\n",
       "      <td>1.000000</td>\n",
       "      <td>0.021969</td>\n",
       "      <td>0.027944</td>\n",
       "    </tr>\n",
       "    <tr>\n",
       "      <th>d</th>\n",
       "      <td>0.038818</td>\n",
       "      <td>0.052386</td>\n",
       "      <td>0.021969</td>\n",
       "      <td>1.000000</td>\n",
       "      <td>-0.015641</td>\n",
       "    </tr>\n",
       "    <tr>\n",
       "      <th>e</th>\n",
       "      <td>-0.054403</td>\n",
       "      <td>-0.060421</td>\n",
       "      <td>0.027944</td>\n",
       "      <td>-0.015641</td>\n",
       "      <td>1.000000</td>\n",
       "    </tr>\n",
       "  </tbody>\n",
       "</table>\n",
       "</div>"
      ],
      "text/plain": [
       "          a         b         c         d         e\n",
       "a  1.000000  0.046503 -0.009185  0.038818 -0.054403\n",
       "b  0.046503  1.000000  0.025726  0.052386 -0.060421\n",
       "c -0.009185  0.025726  1.000000  0.021969  0.027944\n",
       "d  0.038818  0.052386  0.021969  1.000000 -0.015641\n",
       "e -0.054403 -0.060421  0.027944 -0.015641  1.000000"
      ]
     },
     "execution_count": 27,
     "metadata": {},
     "output_type": "execute_result"
    }
   ],
   "source": [
    "# Pairwise correlation of DataFrame columns\n",
    "frame.corr()"
   ]
  },
  {
   "cell_type": "code",
   "execution_count": null,
   "metadata": {},
   "outputs": [],
   "source": []
  }
 ],
 "metadata": {
  "kernelspec": {
   "display_name": "Python 3",
   "language": "python",
   "name": "python3"
  },
  "language_info": {
   "codemirror_mode": {
    "name": "ipython",
    "version": 3
   },
   "file_extension": ".py",
   "mimetype": "text/x-python",
   "name": "python",
   "nbconvert_exporter": "python",
   "pygments_lexer": "ipython3",
   "version": "3.6.8"
  }
 },
 "nbformat": 4,
 "nbformat_minor": 2
}
