{
 "cells": [
  {
   "cell_type": "markdown",
   "metadata": {},
   "source": [
    "![data-x](https://raw.githubusercontent.com/afo/data-x-plaksha/master/imgsource/dx_logo.png)"
   ]
  },
  {
   "cell_type": "markdown",
   "metadata": {},
   "source": [
    "___\n",
    "\n",
    "#### NAME:\n",
    "\n",
    "#### STUDENT ID:\n",
    "___"
   ]
  },
  {
   "cell_type": "markdown",
   "metadata": {},
   "source": [
    "## Homework - Data Visualization "
   ]
  },
  {
   "cell_type": "code",
   "execution_count": 7,
   "metadata": {},
   "outputs": [],
   "source": [
    "# Load libraries\n",
    "import pandas as pd\n",
    "import numpy as np\n",
    "import matplotlib.pyplot as plt\n",
    "\n",
    "# set plot size\n",
    "plt.rcParams['figure.figsize'] = (11,6) "
   ]
  },
  {
   "cell_type": "markdown",
   "metadata": {},
   "source": [
    "#### Data description\n",
    "\n",
    "The following datasets are included with this notebook.\n",
    "\n",
    "> Data, unit:\n",
    "> **google_data.txt**\n",
    "> - Modified [Julian Date](https://pypi.org/project/julian/)\n",
    "> - Stock Value (USD)\n",
    "\n",
    "> **ny_temps.txt**\n",
    "> - Modified Julian Date\n",
    "> - Stock Value (USD) \n",
    "\n",
    "> **yahoo_data.txt**\n",
    "> - Modified Julian Date\n",
    "> - Max Temp ($F^{\\circ}$)\n",
    "\n",
    "___"
   ]
  },
  {
   "cell_type": "code",
   "execution_count": 8,
   "metadata": {},
   "outputs": [],
   "source": [
    "# load data\n",
    "google_data = pd.read_csv('google_data.txt',sep=\"\\t\") # Note data seperator is a tab character (\\t)\n",
    "yahoo_data = pd.read_csv('yahoo_data.txt',sep=\"\\t\")\n",
    "ny_temps = pd.read_csv('ny_temps.txt',sep='\\t')"
   ]
  },
  {
   "cell_type": "markdown",
   "metadata": {},
   "source": [
    "<br>\n",
    "\n",
    "## Matplotlib - Graph Reproduction. \n",
    "\n",
    "\n",
    "Use your knowledge of Maplotlib, and any resources available to you, to try to reproduce the visualization that follows. Your plot doesn't have to be exactly perfect, but it should include the following:\n",
    "> Three line plots each in a different color<br>\n",
    "> The corresponding axis range(s) and labels<br>\n",
    "> A horizontal grid associated with either Google's or Yahoo!'s stock value<br>\n",
    "> A title and legend so that the visualization is understandable. \n",
    "\n",
    "**Note:** Feel free to make as many cells as you wish, and to use pythonic matplitlib if you wish."
   ]
  },
  {
   "cell_type": "markdown",
   "metadata": {},
   "source": [
    "<div align=\"center\" style=\"font-size:12px; font-family:FreeMono; font-weight: 100; font-stretch:ultra-condensed; line-height: 1.0; color:#2A2C2B\">\n",
    "    <img src=\"solution_matplotlib_graph_reproducition.png\" align=\"center\" width=\"50%\" padding=\"0px\"><br>\n",
    "    <br>\n",
    "</div>\n",
    "\n",
    "___"
   ]
  },
  {
   "cell_type": "code",
   "execution_count": 7,
   "metadata": {},
   "outputs": [],
   "source": [
    "# your work here [use as many cells as you wish]"
   ]
  },
  {
   "cell_type": "markdown",
   "metadata": {},
   "source": [
    "<br>\n",
    "\n",
    "## Seaborn - Graph Reproduction. \n",
    "\n",
    "\n",
    "Now, try to reproduce the graph using the `Seaborn` library. Since temperature appars to have no influence on the stock values in the long run, **exclude the daily temperatures** from the Seaborn plot. Again, your plot doesn't have to be exactly perfect.\n",
    "\n",
    "> `Seaborn` should have features which make the graph more appealing, both visually and quantitatively, as well as easier to plot.  Consider merging, grouping, or concatenating your data in order to plot multiple axes on the same figure."
   ]
  },
  {
   "cell_type": "code",
   "execution_count": 5,
   "metadata": {},
   "outputs": [],
   "source": [
    "# load librarires\n",
    "import numpy as np\n",
    "import seaborn as sns\n",
    "import pandas as pd\n",
    "import matplotlib.pyplot as plt\n",
    "\n",
    "# set plot size\n",
    "plt.rcParams['figure.figsize'] = (11,6) "
   ]
  },
  {
   "cell_type": "code",
   "execution_count": 6,
   "metadata": {},
   "outputs": [],
   "source": [
    "# load data\n",
    "google_data = pd.read_csv('google_data.txt',sep=\"\\t\") # Note data seperator is a tab character (\\t)\n",
    "yahoo_data = pd.read_csv('yahoo_data.txt',sep=\"\\t\")\n",
    "ny_temps = pd.read_csv('ny_temps.txt',sep='\\t')"
   ]
  },
  {
   "cell_type": "code",
   "execution_count": 8,
   "metadata": {},
   "outputs": [],
   "source": [
    "# your work here [use as many cells as you wish]"
   ]
  },
  {
   "cell_type": "markdown",
   "metadata": {},
   "source": [
    "___\n",
    "\n",
    "### Deliverables\n",
    "\n",
    "Please submit your the following via the instructed method (lecture or Syllabus): \n",
    "\n",
    ">(1) A copy of your work, either a downloaded notebook or a pdf, by the assignment deadline\n",
    "\n",
    "<br>\n",
    "\n",
    "**Note:** Don't gorget to restart your kernel prior to extracting your data.\n",
    "\n",
    ">```Kernel --> Restart Kernel and Run all Cells```<br>\n",
    ">```File --> Export Notebooks As --> PDF``` (or as instructed)\n",
    "\n",
    "___"
   ]
  }
 ],
 "metadata": {
  "kernelspec": {
   "display_name": "Python 3",
   "language": "python",
   "name": "python3"
  },
  "language_info": {
   "codemirror_mode": {
    "name": "ipython",
    "version": 3
   },
   "file_extension": ".py",
   "mimetype": "text/x-python",
   "name": "python",
   "nbconvert_exporter": "python",
   "pygments_lexer": "ipython3",
   "version": "3.6.10"
  }
 },
 "nbformat": 4,
 "nbformat_minor": 2
}
