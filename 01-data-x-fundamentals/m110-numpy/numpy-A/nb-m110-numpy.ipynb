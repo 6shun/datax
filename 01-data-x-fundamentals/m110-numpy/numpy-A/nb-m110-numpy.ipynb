{
 "cells": [
  {
   "cell_type": "markdown",
   "metadata": {},
   "source": [
    "![data-x](https://raw.githubusercontent.com/afo/data-x-plaksha/master/imgsource/dx_logo.png)\n",
    "\n",
    "---\n",
    "# Data-X: Introduction to Numpy\n",
    "\n",
    "**Author:** Alexander Fred Ojala, Ikhlaq Sidhu, Lillian Dong\n",
    "\n",
    "**License Agreement:** Feel free to do whatever you want with this code\n",
    "\n",
    "___"
   ]
  },
  {
   "cell_type": "markdown",
   "metadata": {},
   "source": [
    "# What is NumPy:  \n",
    "\n",
    "NumPy stands for **Numerical Python** and it is the fundamental package for scientific computing in Python. It is a package that lets you efficiently store and manipulate numerical arrays. It contains among other things:\n",
    "\n",
    "* a powerful N-dimensional array object\n",
    "* sophisticated (broadcasting) functions\n",
    "* tools for integrating C/C++ and Fortran code\n",
    "* useful linear algebra, Fourier transform, and random number capabilities\n"
   ]
  },
  {
   "cell_type": "markdown",
   "metadata": {},
   "source": [
    "# NumPy contains an array object that is \"fast\"\n",
    "\n",
    "\n",
    "<img src=\"https://github.com/ikhlaqsidhu/data-x/raw/master/imgsource/threefundamental.png\">\n",
    "\n",
    "\n",
    "**It stores / consists of**:\n",
    "* location of a memory block (allocated all at one time)\n",
    "* a shape (3 x 3 or 1 x 9, etc)\n",
    "* data type / size of each element\n",
    "\n",
    "The core feauture that NumPy supports is its multi-dimensional arrays. In NumPy, dimensions are called axes and the number of axes is called a rank."
   ]
  },
  {
   "cell_type": "code",
   "execution_count": 1,
   "metadata": {},
   "outputs": [],
   "source": [
    "# written for Python 3.6\n",
    "import numpy as np"
   ]
  },
  {
   "cell_type": "code",
   "execution_count": 2,
   "metadata": {},
   "outputs": [
    {
     "data": {
      "text/plain": [
       "'1.18.1'"
      ]
     },
     "execution_count": 2,
     "metadata": {},
     "output_type": "execute_result"
    }
   ],
   "source": [
    "np.__version__"
   ]
  },
  {
   "cell_type": "markdown",
   "metadata": {},
   "source": [
    "\n",
    "## Creating a NumPy Array: - \n",
    "### 1. Simplest possible: We use a list as an argument input in making a NumPy Array\n"
   ]
  },
  {
   "cell_type": "code",
   "execution_count": 3,
   "metadata": {},
   "outputs": [
    {
     "data": {
      "text/plain": [
       "array([1, 2, 3, 4])"
      ]
     },
     "execution_count": 3,
     "metadata": {},
     "output_type": "execute_result"
    }
   ],
   "source": [
    "# Create array from Python list\n",
    "list1 = [1, 2, 3, 4]\n",
    "data = np.array(list1)\n",
    "data"
   ]
  },
  {
   "cell_type": "code",
   "execution_count": 4,
   "metadata": {},
   "outputs": [
    {
     "data": {
      "text/plain": [
       "numpy.ndarray"
      ]
     },
     "execution_count": 4,
     "metadata": {},
     "output_type": "execute_result"
    }
   ],
   "source": [
    "# Find out object type\n",
    "type(data)"
   ]
  },
  {
   "cell_type": "code",
   "execution_count": 5,
   "metadata": {},
   "outputs": [
    {
     "data": {
      "text/plain": [
       "dtype('int64')"
      ]
     },
     "execution_count": 5,
     "metadata": {},
     "output_type": "execute_result"
    }
   ],
   "source": [
    "# See data type that is stored in the array\n",
    "data.dtype"
   ]
  },
  {
   "cell_type": "code",
   "execution_count": 6,
   "metadata": {},
   "outputs": [
    {
     "data": {
      "text/plain": [
       "array([3, 2, 3, 4])"
      ]
     },
     "execution_count": 6,
     "metadata": {},
     "output_type": "execute_result"
    }
   ],
   "source": [
    "# The data types are specified for the full array, if we store\n",
    "# a float in an int array, the float will be up-casted to an int\n",
    "data[0] = 3.14159\n",
    "data"
   ]
  },
  {
   "cell_type": "code",
   "execution_count": 7,
   "metadata": {},
   "outputs": [
    {
     "name": "stdout",
     "output_type": "stream",
     "text": [
      "[1.2 2.  3.  4. ]\n",
      "float64\n"
     ]
    }
   ],
   "source": [
    "# NumPy converts to most logical data type\n",
    "data2 = np.array([1.2, 2, 3, 4])\n",
    "print(data2)\n",
    "print(data2.dtype) # all values will be converted to floats"
   ]
  },
  {
   "cell_type": "code",
   "execution_count": 8,
   "metadata": {},
   "outputs": [
    {
     "name": "stdout",
     "output_type": "stream",
     "text": [
      "['1' '2' '3']\n",
      "<U1\n"
     ]
    }
   ],
   "source": [
    "# We can manually specify the datatype\n",
    "data3 = np.array([1, 2, 3], dtype=str)\n",
    "print(data3)\n",
    "print(data3.dtype)"
   ]
  },
  {
   "cell_type": "code",
   "execution_count": 9,
   "metadata": {},
   "outputs": [
    {
     "name": "stdout",
     "output_type": "stream",
     "text": [
      "[    0     1     2 ... 99997 99998 99999]\n",
      "\n",
      "100000\n"
     ]
    }
   ],
   "source": [
    "# lists can also be much longer\n",
    "data = np.array(range(100000))\n",
    "print(data)\n",
    "print()\n",
    "print(len(data)) # to see the length of the full array"
   ]
  },
  {
   "cell_type": "code",
   "execution_count": 10,
   "metadata": {},
   "outputs": [
    {
     "name": "stdout",
     "output_type": "stream",
     "text": [
      "[1 2 3 4 5 6 7 8 9]\n"
     ]
    }
   ],
   "source": [
    "#data = np.array(1,2,3,4, 5,6,7,8,9) # wrong\n",
    "data = np.array([1,2,3,4,5,6,7,8,9]) # right\n",
    "print(data)"
   ]
  },
  {
   "cell_type": "code",
   "execution_count": 11,
   "metadata": {},
   "outputs": [
    {
     "name": "stdout",
     "output_type": "stream",
     "text": [
      "['1' '2' 'cat' '4']\n",
      "<U21\n"
     ]
    }
   ],
   "source": [
    "# the elements of an array must be of a type that is valid to perform\n",
    "# a specific mathematical operation on\n",
    "\n",
    "data = np.array([1,2,'cat', 4])\n",
    "print(data)\n",
    "print(data.dtype)"
   ]
  },
  {
   "cell_type": "markdown",
   "metadata": {},
   "source": [
    "# Accessing elements: Slicing and indexing\n",
    "<img src='https://www.learntowish.com/wp-content/uploads/2017/09/string-slicing.png' style='width:600px'>"
   ]
  },
  {
   "cell_type": "code",
   "execution_count": 12,
   "metadata": {},
   "outputs": [
    {
     "name": "stdout",
     "output_type": "stream",
     "text": [
      "[0 1 2 3 4 5 6 7 8 9]\n",
      "[0 1 2]\n",
      "[3 4 5 6 7 8 9]\n"
     ]
    }
   ],
   "source": [
    "# Similar to indexing and slicing Python lists:\n",
    "data = np.array(range(10))\n",
    "print(data[:])\n",
    "print (data[0:3])\n",
    "print (data[3:])"
   ]
  },
  {
   "cell_type": "code",
   "execution_count": 13,
   "metadata": {},
   "outputs": [
    {
     "name": "stdout",
     "output_type": "stream",
     "text": [
      "[9 7 5 3 1]\n"
     ]
    }
   ],
   "source": [
    "print (data[::-2])"
   ]
  },
  {
   "cell_type": "code",
   "execution_count": 14,
   "metadata": {
    "scrolled": true
   },
   "outputs": [
    {
     "name": "stdout",
     "output_type": "stream",
     "text": [
      "x: [ 0  1  2  3  4  5  6  7  8  9 10 11 12 13 14 15 16 17]\n",
      "[ 5  7  9 11 13]\n"
     ]
    }
   ],
   "source": [
    "# more slicing\n",
    "x = np.array(range(18))\n",
    "print ('x:',x)\n",
    "print (x[5:15:2]) # [start : end : step_size]"
   ]
  },
  {
   "cell_type": "markdown",
   "metadata": {},
   "source": [
    "## Arrays are like lists, but different\n",
    "NumPy utilizes efficient pointers to a location in memory and it will store the full array. Lists on the other hand are pointers to many different objects in memory."
   ]
  },
  {
   "cell_type": "code",
   "execution_count": 15,
   "metadata": {},
   "outputs": [
    {
     "name": "stdout",
     "output_type": "stream",
     "text": [
      "[0 1 2]\n"
     ]
    }
   ],
   "source": [
    "# Slicing returns a view in Numpy, \n",
    "# and not a copy as is the case with Python lists\n",
    "data = np.array(range(10))\n",
    "view = data[0:3]\n",
    "print(view)"
   ]
  },
  {
   "cell_type": "code",
   "execution_count": 16,
   "metadata": {},
   "outputs": [
    {
     "name": "stdout",
     "output_type": "stream",
     "text": [
      "[0, 1, 2]\n"
     ]
    }
   ],
   "source": [
    "l = list(range(10))\n",
    "copy = l[0:3]\n",
    "print(copy)"
   ]
  },
  {
   "cell_type": "code",
   "execution_count": 17,
   "metadata": {},
   "outputs": [
    {
     "name": "stdout",
     "output_type": "stream",
     "text": [
      "[99, 1, 2]\n",
      "[99  1  2]\n"
     ]
    }
   ],
   "source": [
    "copy[0] = 99\n",
    "view[0] = 99\n",
    "print(copy)\n",
    "print(view)"
   ]
  },
  {
   "cell_type": "code",
   "execution_count": 19,
   "metadata": {},
   "outputs": [
    {
     "name": "stdout",
     "output_type": "stream",
     "text": [
      "Python list: [0, 1, 2, 3, 4, 5, 6, 7, 8, 9]\n",
      "NumPy array: [99  1  2  3  4  5  6  7  8  9]\n"
     ]
    }
   ],
   "source": [
    "print('Python list:',l) # has not changed\n",
    "print('NumPy array:',data) # has changed"
   ]
  },
  {
   "cell_type": "code",
   "execution_count": 20,
   "metadata": {},
   "outputs": [
    {
     "name": "stdout",
     "output_type": "stream",
     "text": [
      "Array copy [0 1 2]\n"
     ]
    }
   ],
   "source": [
    "# Creating copies of the array instead of views\n",
    "data = np.array(range(10))\n",
    "arr_copy = data[:3].copy()\n",
    "print('Array copy',arr_copy)"
   ]
  },
  {
   "cell_type": "code",
   "execution_count": 21,
   "metadata": {},
   "outputs": [
    {
     "name": "stdout",
     "output_type": "stream",
     "text": [
      "New array copy [555   1   2]\n",
      "Original array [0 1 2 3 4 5 6 7 8 9]\n"
     ]
    }
   ],
   "source": [
    "arr_copy[0] = 555\n",
    "print('New array copy',arr_copy)\n",
    "print('Original array',data) # now it is not a view any more"
   ]
  },
  {
   "cell_type": "code",
   "execution_count": 22,
   "metadata": {},
   "outputs": [
    {
     "name": "stdout",
     "output_type": "stream",
     "text": [
      "[ 0  1  2  3  4  5  6  7  8  9 10 11 12 13 14 15 16 17 18 19]\n"
     ]
    }
   ],
   "source": [
    "# same thing with assignment, its not a copy, its the same data\n",
    "x = np.array(range(20))\n",
    "print (x)\n",
    "y = x"
   ]
  },
  {
   "cell_type": "code",
   "execution_count": 24,
   "metadata": {},
   "outputs": [],
   "source": [
    "y[:] = 0"
   ]
  },
  {
   "cell_type": "code",
   "execution_count": 25,
   "metadata": {},
   "outputs": [
    {
     "name": "stdout",
     "output_type": "stream",
     "text": [
      "[0 0 0 0 0 0 0 0 0 0 0 0 0 0 0 0 0 0 0 0]\n"
     ]
    }
   ],
   "source": [
    "print (x)"
   ]
  },
  {
   "cell_type": "code",
   "execution_count": 26,
   "metadata": {},
   "outputs": [
    {
     "data": {
      "text/plain": [
       "True"
      ]
     },
     "execution_count": 26,
     "metadata": {},
     "output_type": "execute_result"
    }
   ],
   "source": [
    "x is y"
   ]
  },
  {
   "cell_type": "code",
   "execution_count": 27,
   "metadata": {},
   "outputs": [
    {
     "data": {
      "text/plain": [
       "False"
      ]
     },
     "execution_count": 27,
     "metadata": {},
     "output_type": "execute_result"
    }
   ],
   "source": [
    "x = [1,2]\n",
    "y = [1,2]\n",
    "x is y"
   ]
  },
  {
   "cell_type": "markdown",
   "metadata": {},
   "source": [
    "Question - Making train and test sets: Create two arrays from array a, one with 2/3 and the other with 1/3 of the elements. \n",
    "\n",
    "Note that you don't want to mess up your original data set when you (later) make transformations on the train / test set."
   ]
  },
  {
   "cell_type": "code",
   "execution_count": 28,
   "metadata": {},
   "outputs": [],
   "source": [
    "a = np.arange(1000)\n",
    "np.random.shuffle(a) # inplace\n",
    "\n",
    "#input answer"
   ]
  },
  {
   "cell_type": "markdown",
   "metadata": {},
   "source": [
    "# Arrays are also a lot faster than lists"
   ]
  },
  {
   "cell_type": "code",
   "execution_count": 29,
   "metadata": {},
   "outputs": [
    {
     "name": "stdout",
     "output_type": "stream",
     "text": [
      "[0, 1, 4, 9, 16, 25, 36, 49, 64, 81]\n"
     ]
    }
   ],
   "source": [
    "# Arrays are faster and more efficient than lists\n",
    "x = list(range(100000))\n",
    "\n",
    "# Say that we want to square all elements\n",
    "y = [i**2 for i in x]\n",
    "print (y[0:10])"
   ]
  },
  {
   "cell_type": "code",
   "execution_count": 30,
   "metadata": {},
   "outputs": [
    {
     "name": "stdout",
     "output_type": "stream",
     "text": [
      "Time for Python lists:\n",
      "35.6 ms ± 8.92 ms per loop (mean ± std. dev. of 7 runs, 20 loops each)\n"
     ]
    }
   ],
   "source": [
    "# Time the operation with some IPython magic command\n",
    "print('Time for Python lists:')\n",
    "list_time = %timeit -o -n 20 [i**2 for i in x]"
   ]
  },
  {
   "cell_type": "code",
   "execution_count": 31,
   "metadata": {},
   "outputs": [
    {
     "name": "stdout",
     "output_type": "stream",
     "text": [
      "[ 0  1  4  9 16 25 36 49 64 81]\n"
     ]
    }
   ],
   "source": [
    "z = np.array(x)\n",
    "w = z**2\n",
    "print(w[:10])"
   ]
  },
  {
   "cell_type": "code",
   "execution_count": 32,
   "metadata": {},
   "outputs": [
    {
     "name": "stdout",
     "output_type": "stream",
     "text": [
      "Time for NumPy arrays:\n",
      "54 µs ± 19.4 µs per loop (mean ± std. dev. of 7 runs, 20 loops each)\n"
     ]
    }
   ],
   "source": [
    "print('Time for NumPy arrays:')\n",
    "np_time = %timeit -o -n 20 z**2"
   ]
  },
  {
   "cell_type": "code",
   "execution_count": 33,
   "metadata": {},
   "outputs": [
    {
     "name": "stdout",
     "output_type": "stream",
     "text": [
      "NumPy is 648.0 times faster than lists at squaring 100 000 elements.\n"
     ]
    }
   ],
   "source": [
    "print('NumPy is ' + str(list_time.all_runs[0]//np_time.all_runs[0]) + \\\n",
    "      ' times faster than lists at squaring 100 000 elements.')"
   ]
  },
  {
   "cell_type": "markdown",
   "metadata": {},
   "source": [
    "# Universal functions\n",
    "A function that is applied on an `ndarray` in an element-by-element fashion. Several universal functions can be found the NumPy documentation here:\n",
    "https://docs.scipy.org/doc/numpy-1.13.0/reference/ufuncs.html"
   ]
  },
  {
   "cell_type": "code",
   "execution_count": 34,
   "metadata": {},
   "outputs": [
    {
     "name": "stdout",
     "output_type": "stream",
     "text": [
      "list x =  [0, 1, 2, 3, 4]\n",
      "list y =  [5, 6, 7, 8, 9]\n"
     ]
    }
   ],
   "source": [
    "# Arrays are different than lists in another way:\n",
    "# x and y are lists\n",
    "\n",
    "x = list(range(5))\n",
    "y = list(range(5,10))\n",
    "print (\"list x = \", x)\n",
    "print (\"list y = \", y)"
   ]
  },
  {
   "cell_type": "code",
   "execution_count": 35,
   "metadata": {},
   "outputs": [
    {
     "name": "stdout",
     "output_type": "stream",
     "text": [
      "x + y =  [0, 1, 2, 3, 4, 5, 6, 7, 8, 9]\n"
     ]
    }
   ],
   "source": [
    "print (\"x + y = \", x+y)"
   ]
  },
  {
   "cell_type": "code",
   "execution_count": 36,
   "metadata": {},
   "outputs": [
    {
     "name": "stdout",
     "output_type": "stream",
     "text": [
      "np.array xn = [0 1 2 3 4]\n",
      "np.array xn = [5 6 7 8 9]\n"
     ]
    }
   ],
   "source": [
    "# now lets try with NumPy arrays:\n",
    "xn = np.array(x)\n",
    "yn = np.array(y)\n",
    "print ('np.array xn =', xn)\n",
    "print ('np.array xn =', yn)"
   ]
  },
  {
   "cell_type": "code",
   "execution_count": 37,
   "metadata": {},
   "outputs": [
    {
     "name": "stdout",
     "output_type": "stream",
     "text": [
      "xn + yn =  [ 5  7  9 11 13]\n"
     ]
    }
   ],
   "source": [
    "print (\"xn + yn = \", xn + yn)"
   ]
  },
  {
   "cell_type": "code",
   "execution_count": 38,
   "metadata": {},
   "outputs": [
    {
     "data": {
      "text/plain": [
       "array([ 5,  7,  9, 11, 13])"
      ]
     },
     "execution_count": 38,
     "metadata": {},
     "output_type": "execute_result"
    }
   ],
   "source": [
    "# + for np.arrays is a wrapper around the u. function np.add\n",
    "np.add(xn,yn)"
   ]
  },
  {
   "cell_type": "code",
   "execution_count": 39,
   "metadata": {},
   "outputs": [
    {
     "name": "stdout",
     "output_type": "stream",
     "text": [
      "[0, 1, 2, 3, 4, 0, 1, 2, 3, 4, 0, 1, 2, 3, 4]\n"
     ]
    }
   ],
   "source": [
    "# An array is a sequence that can be manipulated easily\n",
    "# An arithmetic operation is applied to each element individually\n",
    "# When two arrays are added, they must have the same size \n",
    "# (otherwise they might be broadcasted)\n",
    "\n",
    "# python lists\n",
    "print (3* x)"
   ]
  },
  {
   "cell_type": "code",
   "execution_count": 40,
   "metadata": {},
   "outputs": [
    {
     "name": "stdout",
     "output_type": "stream",
     "text": [
      "[ 0  3  6  9 12]\n"
     ]
    }
   ],
   "source": [
    "# Numpy Arrays\n",
    "print (3 * xn)"
   ]
  },
  {
   "cell_type": "markdown",
   "metadata": {},
   "source": [
    "# Join, add, concatenate"
   ]
  },
  {
   "cell_type": "code",
   "execution_count": 41,
   "metadata": {},
   "outputs": [
    {
     "name": "stdout",
     "output_type": "stream",
     "text": [
      "[0 1 2 3 4]\n",
      "[5 6 7 8 9]\n"
     ]
    }
   ],
   "source": [
    "print(xn)\n",
    "print(yn)"
   ]
  },
  {
   "cell_type": "code",
   "execution_count": 43,
   "metadata": {},
   "outputs": [
    {
     "data": {
      "text/plain": [
       "array([0, 1, 2, 3, 4, 5, 6, 7, 8, 9])"
      ]
     },
     "execution_count": 43,
     "metadata": {},
     "output_type": "execute_result"
    }
   ],
   "source": [
    "# if you need to join numpy arrays, \n",
    "# try hstack, vstack, column_stack, or concatenate\n",
    "np.hstack([xn, yn])"
   ]
  },
  {
   "cell_type": "code",
   "execution_count": 44,
   "metadata": {},
   "outputs": [
    {
     "data": {
      "text/plain": [
       "array([[0, 1, 2, 3, 4],\n",
       "       [5, 6, 7, 8, 9]])"
      ]
     },
     "execution_count": 44,
     "metadata": {},
     "output_type": "execute_result"
    }
   ],
   "source": [
    "np.vstack([xn, yn])"
   ]
  },
  {
   "cell_type": "code",
   "execution_count": 45,
   "metadata": {},
   "outputs": [
    {
     "data": {
      "text/plain": [
       "array([[0, 5],\n",
       "       [1, 6],\n",
       "       [2, 7],\n",
       "       [3, 8],\n",
       "       [4, 9]])"
      ]
     },
     "execution_count": 45,
     "metadata": {},
     "output_type": "execute_result"
    }
   ],
   "source": [
    "np.column_stack([xn, yn])"
   ]
  },
  {
   "cell_type": "code",
   "execution_count": 46,
   "metadata": {},
   "outputs": [
    {
     "data": {
      "text/plain": [
       "array([0, 1, 2, 3, 4, 5, 6, 7, 8, 9])"
      ]
     },
     "execution_count": 46,
     "metadata": {},
     "output_type": "execute_result"
    }
   ],
   "source": [
    "np.concatenate([xn, yn], axis = 0)"
   ]
  },
  {
   "cell_type": "markdown",
   "metadata": {},
   "source": [
    "### Creating arrays with 2 axis:\n"
   ]
  },
  {
   "cell_type": "code",
   "execution_count": 47,
   "metadata": {},
   "outputs": [
    {
     "data": {
      "text/plain": [
       "[[1, 2, 3], [4, 5, 6]]"
      ]
     },
     "execution_count": 47,
     "metadata": {},
     "output_type": "execute_result"
    }
   ],
   "source": [
    "# This list has two dimensions\n",
    "list3 = [[1, 2, 3],\n",
    "         [4, 5, 6]]\n",
    "list3 # nested list"
   ]
  },
  {
   "cell_type": "code",
   "execution_count": 48,
   "metadata": {},
   "outputs": [
    {
     "data": {
      "text/plain": [
       "array([[1, 2, 3],\n",
       "       [4, 5, 6]])"
      ]
     },
     "execution_count": 48,
     "metadata": {},
     "output_type": "execute_result"
    }
   ],
   "source": [
    "# data = np.array([[1, 2, 3], [4, 5, 6]])\n",
    "data = np.array(list3)\n",
    "data"
   ]
  },
  {
   "cell_type": "markdown",
   "metadata": {},
   "source": [
    "### Attributes of a multidim array"
   ]
  },
  {
   "cell_type": "code",
   "execution_count": 49,
   "metadata": {},
   "outputs": [
    {
     "name": "stdout",
     "output_type": "stream",
     "text": [
      "Dimensions: 2\n",
      "Shape: (2, 3)\n",
      "Size: 6\n"
     ]
    }
   ],
   "source": [
    "print('Dimensions:',data.ndim)\n",
    "print ('Shape:',data.shape)\n",
    "print('Size:', data.size)"
   ]
  },
  {
   "cell_type": "code",
   "execution_count": 50,
   "metadata": {},
   "outputs": [
    {
     "data": {
      "text/plain": [
       "array([[1, 4],\n",
       "       [2, 5],\n",
       "       [3, 6]])"
      ]
     },
     "execution_count": 50,
     "metadata": {},
     "output_type": "execute_result"
    }
   ],
   "source": [
    "# You can also transpose an array Matrix with either np.transpose(arr)\n",
    "# or arr.T\n",
    "data.T"
   ]
  },
  {
   "cell_type": "code",
   "execution_count": 51,
   "metadata": {},
   "outputs": [
    {
     "data": {
      "text/plain": [
       "array([[1, 4],\n",
       "       [2, 5],\n",
       "       [3, 6]])"
      ]
     },
     "execution_count": 51,
     "metadata": {},
     "output_type": "execute_result"
    }
   ],
   "source": [
    "np.transpose(data)"
   ]
  },
  {
   "cell_type": "markdown",
   "metadata": {},
   "source": [
    "# Other ways to create NumPy arrays"
   ]
  },
  {
   "cell_type": "code",
   "execution_count": 52,
   "metadata": {},
   "outputs": [
    {
     "name": "stdout",
     "output_type": "stream",
     "text": [
      "[ 0  1  2  3  4  5  6  7  8  9 10 11]\n"
     ]
    }
   ],
   "source": [
    "# np.arange() is similar to built in range()\n",
    "# Creates array with a range of consecutive numbers\n",
    "# starts at 0 and step=1 if not specified. Exclusive of stop.\n",
    "\n",
    "print(np.arange(12))"
   ]
  },
  {
   "cell_type": "code",
   "execution_count": 53,
   "metadata": {},
   "outputs": [
    {
     "name": "stdout",
     "output_type": "stream",
     "text": [
      "[10 11 12 13 14 15 16 17 18 19]\n"
     ]
    }
   ],
   "source": [
    "#Array increasing from start to end: np.arange(start, end)\n",
    "print(np.arange(10, 20))"
   ]
  },
  {
   "cell_type": "code",
   "execution_count": 54,
   "metadata": {},
   "outputs": [
    {
     "name": "stdout",
     "output_type": "stream",
     "text": [
      "[1 3 5 7 9]\n"
     ]
    }
   ],
   "source": [
    "# Array increasing from start to end by step: np.arange(start, end, step)\n",
    "# The range always includes start but excludes end\n",
    "print(np.arange(1, 10, 2))"
   ]
  },
  {
   "cell_type": "code",
   "execution_count": 55,
   "metadata": {},
   "outputs": [
    {
     "name": "stdout",
     "output_type": "stream",
     "text": [
      "[[0 0 0 0 0]\n",
      " [0 0 0 0 0]]\n"
     ]
    }
   ],
   "source": [
    "# Returns a new array of specified size, filled with zeros.\n",
    "print(np.zeros((2,5), dtype=np.int8))"
   ]
  },
  {
   "cell_type": "code",
   "execution_count": 56,
   "metadata": {},
   "outputs": [
    {
     "name": "stdout",
     "output_type": "stream",
     "text": [
      "[[1. 1.]\n",
      " [1. 1.]\n",
      " [1. 1.]\n",
      " [1. 1.]]\n"
     ]
    }
   ],
   "source": [
    "#Returns a new array of specified size, filled with ones.\n",
    "print(np.ones((4,2), dtype=np.float128))"
   ]
  },
  {
   "cell_type": "code",
   "execution_count": 57,
   "metadata": {},
   "outputs": [
    {
     "name": "stdout",
     "output_type": "stream",
     "text": [
      "[[1. 0. 0. 0. 0.]\n",
      " [0. 1. 0. 0. 0.]\n",
      " [0. 0. 1. 0. 0.]\n",
      " [0. 0. 0. 1. 0.]\n",
      " [0. 0. 0. 0. 1.]]\n"
     ]
    }
   ],
   "source": [
    "# Returns the identity matrix of specific squared size\n",
    "print(np.eye(5))"
   ]
  },
  {
   "cell_type": "markdown",
   "metadata": {},
   "source": [
    "## Some useful indexing strategies"
   ]
  },
  {
   "cell_type": "markdown",
   "metadata": {},
   "source": [
    "### There are two main types of indexing: Integer and Boolean"
   ]
  },
  {
   "cell_type": "code",
   "execution_count": 58,
   "metadata": {},
   "outputs": [
    {
     "name": "stdout",
     "output_type": "stream",
     "text": [
      "[[1 2]\n",
      " [3 4]\n",
      " [5 6]]\n"
     ]
    }
   ],
   "source": [
    "x = np.array([[1, 2], [3, 4], [5, 6]]) \n",
    "print(x)"
   ]
  },
  {
   "cell_type": "code",
   "execution_count": 59,
   "metadata": {},
   "outputs": [
    {
     "name": "stdout",
     "output_type": "stream",
     "text": [
      "3\n"
     ]
    }
   ],
   "source": [
    "## Integer indexing\n",
    "# first element is  the row, 2nd element is the column\n",
    "print(x[1,0])"
   ]
  },
  {
   "cell_type": "code",
   "execution_count": 60,
   "metadata": {},
   "outputs": [
    {
     "name": "stdout",
     "output_type": "stream",
     "text": [
      "[[3 4]\n",
      " [5 6]]\n"
     ]
    }
   ],
   "source": [
    "print(x[1:,:]) # all rows after first, all columns"
   ]
  },
  {
   "cell_type": "code",
   "execution_count": 61,
   "metadata": {},
   "outputs": [
    {
     "name": "stdout",
     "output_type": "stream",
     "text": [
      "[1 4 6]\n"
     ]
    }
   ],
   "source": [
    "# first list contains  row indices, 2nd element contains column indices\n",
    "res = x[[0,1,2], [0,1,1]]  # create index object\n",
    "print (res)"
   ]
  },
  {
   "cell_type": "code",
   "execution_count": 62,
   "metadata": {},
   "outputs": [
    {
     "name": "stdout",
     "output_type": "stream",
     "text": [
      "Comparison operator, find all values greater than 3:\n",
      "\n",
      "[[False False]\n",
      " [False  True]\n",
      " [ True  True]]\n"
     ]
    }
   ],
   "source": [
    "## Boolean indexing\n",
    "print('Comparison operator, find all values greater than 3:\\n')\n",
    "print(x>3)"
   ]
  },
  {
   "cell_type": "code",
   "execution_count": 63,
   "metadata": {},
   "outputs": [
    {
     "name": "stdout",
     "output_type": "stream",
     "text": [
      "Boolean indexing, only extract elements greater than 3:\n",
      "\n",
      "[4 5 6]\n"
     ]
    }
   ],
   "source": [
    "print('Boolean indexing, only extract elements greater than 3:\\n')\n",
    "print(x[x>3])"
   ]
  },
  {
   "cell_type": "markdown",
   "metadata": {},
   "source": [
    "### Masks"
   ]
  },
  {
   "cell_type": "code",
   "execution_count": 64,
   "metadata": {},
   "outputs": [
    {
     "name": "stdout",
     "output_type": "stream",
     "text": [
      "[False False False False False False  True  True  True  True]\n"
     ]
    }
   ],
   "source": [
    "arr = np.arange(10)\n",
    "mask = arr>5\n",
    "print(mask)"
   ]
  },
  {
   "cell_type": "code",
   "execution_count": 65,
   "metadata": {},
   "outputs": [
    {
     "name": "stdout",
     "output_type": "stream",
     "text": [
      "[6 7 8 9]\n"
     ]
    }
   ],
   "source": [
    "print(arr[mask])"
   ]
  },
  {
   "cell_type": "code",
   "execution_count": null,
   "metadata": {},
   "outputs": [],
   "source": [
    "# Functions any / all\n",
    "np.any( arr==9 )"
   ]
  },
  {
   "cell_type": "code",
   "execution_count": null,
   "metadata": {},
   "outputs": [],
   "source": [
    "np.all( arr>-1 )"
   ]
  },
  {
   "cell_type": "markdown",
   "metadata": {},
   "source": [
    "## Extra NumPy array methods"
   ]
  },
  {
   "cell_type": "code",
   "execution_count": null,
   "metadata": {},
   "outputs": [],
   "source": [
    "# Reshape is used to change the shape\n",
    "a = np.arange(0, 15)"
   ]
  },
  {
   "cell_type": "code",
   "execution_count": null,
   "metadata": {},
   "outputs": [],
   "source": [
    "print('Original:',a)\n",
    "a = a.reshape(3, 5)\n",
    "# a = np.arange(0, 15).reshape(3, 5)  # same thing\n",
    "print ('Reshaped:')\n",
    "print(a)"
   ]
  },
  {
   "cell_type": "code",
   "execution_count": null,
   "metadata": {},
   "outputs": [],
   "source": [
    "# We can also flatten matrices using ravel()\n",
    "x = np.array(range(24))\n",
    "x = x.reshape(4,6)\n",
    "print('Original:\\n',x)\n",
    "print()\n",
    "x = x.ravel() # make it flat\n",
    "print ('Flattened:\\n',x)"
   ]
  },
  {
   "cell_type": "code",
   "execution_count": null,
   "metadata": {},
   "outputs": [],
   "source": [
    "# We can also easily find the sum, min, max, .. are easy\n",
    "print (a)\n",
    "print()\n",
    "print ('Sum:',a.sum())\n",
    "print('Min:', a.min())\n",
    "print('Max:', a.max())"
   ]
  },
  {
   "cell_type": "code",
   "execution_count": null,
   "metadata": {},
   "outputs": [],
   "source": [
    "print ('Column sum:',a.sum(axis=0))\n",
    "print ('Row sum:',a.sum(axis=1))\n",
    "\n",
    "# Note here axis specifies what dimension to \"collapse\""
   ]
  },
  {
   "cell_type": "code",
   "execution_count": null,
   "metadata": {},
   "outputs": [],
   "source": [
    "# To get the cumulative product:\n",
    "print (np.arange(1, 10))\n",
    "print (np.cumprod(np.arange(1, 10)))"
   ]
  },
  {
   "cell_type": "code",
   "execution_count": null,
   "metadata": {},
   "outputs": [],
   "source": [
    "# To get the cumulative sum:\n",
    "print (np.arange(1, 10))\n",
    "print(np.cumsum((np.arange(1, 10))))"
   ]
  },
  {
   "cell_type": "code",
   "execution_count": null,
   "metadata": {},
   "outputs": [],
   "source": [
    "# Creating a 3D array:\n",
    "a = np.arange(0, 96).reshape(2, 6, 8)\n",
    "print(a)"
   ]
  },
  {
   "cell_type": "code",
   "execution_count": null,
   "metadata": {},
   "outputs": [],
   "source": [
    "# The same methods typically apply in multiple dimensions\n",
    "print (a.sum(axis = 0))\n",
    "print ('---')\n",
    "print (a.sum(axis = 1))"
   ]
  },
  {
   "cell_type": "markdown",
   "metadata": {},
   "source": [
    "## Arrray Axis\n",
    "<img src= \"https://github.com/ikhlaqsidhu/data-x/raw/master/imgsource/anatomyarray.png\">\n",
    "\n"
   ]
  },
  {
   "cell_type": "markdown",
   "metadata": {},
   "source": [
    "---\n",
    "# More ufuncs and Basic Operations"
   ]
  },
  {
   "cell_type": "markdown",
   "metadata": {},
   "source": [
    "One of the coolest parts of NumPy is the ability for you to run mathematical operations on top of arrays. Here are some basic operations:"
   ]
  },
  {
   "cell_type": "code",
   "execution_count": null,
   "metadata": {},
   "outputs": [],
   "source": [
    "a = np.arange(11, 21)\n",
    "b = np.arange(0, 10)\n",
    "print (\"a = \",a)\n",
    "print (\"b = \",b)"
   ]
  },
  {
   "cell_type": "code",
   "execution_count": null,
   "metadata": {},
   "outputs": [],
   "source": [
    "print (a + b)\n",
    "print (a * b) # Hadamard product\n",
    "print (a ** 2)"
   ]
  },
  {
   "cell_type": "code",
   "execution_count": null,
   "metadata": {},
   "outputs": [],
   "source": [
    "print ('You can even do things like matrix operations')\n",
    "print (a.dot(b))"
   ]
  },
  {
   "cell_type": "code",
   "execution_count": null,
   "metadata": {},
   "outputs": [],
   "source": [
    "print ('Matrix multiplication')\n",
    "c = np.arange(1,5).reshape(2,2)\n",
    "print (\"c = \\n\", c)\n",
    "print()\n",
    "d = np.arange(5,9).reshape(2,2)\n",
    "print (\"d = \\n\", d)\n",
    "print()\n",
    "print (np.matmul(d,c))"
   ]
  },
  {
   "cell_type": "markdown",
   "metadata": {},
   "source": [
    "Question: Ax = b. Solve for x. Note, you should use numpy's pseudoinverse function while aligning A and b's dimensions. "
   ]
  },
  {
   "cell_type": "code",
   "execution_count": null,
   "metadata": {},
   "outputs": [],
   "source": [
    "A = np.array([[1, 2, 3, 4, 5, 6]]).reshape(3,2)\n",
    "b = np.array([7,8,9]).reshape(3,-1)\n",
    "print(A)\n",
    "print()\n",
    "print(b)\n",
    "\n",
    "# input answer\n",
    "# print(x)"
   ]
  },
  {
   "cell_type": "markdown",
   "metadata": {},
   "source": [
    "# Random numbers"
   ]
  },
  {
   "cell_type": "code",
   "execution_count": null,
   "metadata": {},
   "outputs": [],
   "source": [
    "# Radom numbers\n",
    "np.random.seed(0)  # set the seed to zero for reproducibility\n",
    "print(np.random.uniform(1,5,10))   # 10 random uniform numbers 1 to 5"
   ]
  },
  {
   "cell_type": "code",
   "execution_count": null,
   "metadata": {},
   "outputs": [],
   "source": [
    "print (np.random.exponential(1,5)) # 5 random exp numbers with rate 1\n",
    "print (np.random.random(8).reshape(2,4)) #8 random 0-1, 2 x 4 array"
   ]
  },
  {
   "cell_type": "markdown",
   "metadata": {},
   "source": [
    "Question: Create a 10x10 matrix from a 100-dimensional vector with values drawn from the normal distribution of mean = 0, stdev = 1."
   ]
  },
  {
   "cell_type": "code",
   "execution_count": null,
   "metadata": {},
   "outputs": [],
   "source": [
    "#input answer"
   ]
  },
  {
   "cell_type": "markdown",
   "metadata": {},
   "source": [
    "# Trignometric functions"
   ]
  },
  {
   "cell_type": "code",
   "execution_count": null,
   "metadata": {},
   "outputs": [],
   "source": [
    "# linspace: Create an array of numbers from a to b \n",
    "# with n equally spaced numbers (inclusive)\n",
    "\n",
    "data = np.linspace(0,10,5)\n",
    "print (data)"
   ]
  },
  {
   "cell_type": "code",
   "execution_count": null,
   "metadata": {},
   "outputs": [],
   "source": [
    "x = np.linspace(0,np.pi, 3)\n",
    "print('x = ', x)\n",
    "print()\n",
    "print (\"sin(x) = \", np.sin(x))"
   ]
  },
  {
   "cell_type": "code",
   "execution_count": null,
   "metadata": {},
   "outputs": [],
   "source": [
    "x = np.linspace(0,4*np.pi,1000)\n",
    "y = np.sin(x)-np.cos(x)**2"
   ]
  },
  {
   "cell_type": "code",
   "execution_count": null,
   "metadata": {},
   "outputs": [],
   "source": [
    "import matplotlib.pyplot as plt\n",
    "%matplotlib inline\n",
    "\n",
    "plt.plot(x,y)"
   ]
  },
  {
   "cell_type": "markdown",
   "metadata": {},
   "source": [
    "# Prediction Example (Ordinary Least Square)"
   ]
  },
  {
   "cell_type": "code",
   "execution_count": null,
   "metadata": {},
   "outputs": [],
   "source": [
    "# Generate data w linear trend\n",
    "x = np.linspace(0,10,50)\n",
    "Y = 5 + x*2 + np.random.normal(0,2.5,len(x))"
   ]
  },
  {
   "cell_type": "code",
   "execution_count": null,
   "metadata": {},
   "outputs": [],
   "source": [
    "plt.scatter(x,Y);"
   ]
  },
  {
   "cell_type": "code",
   "execution_count": null,
   "metadata": {},
   "outputs": [],
   "source": [
    "X = np.column_stack([np.ones(len(x)),x])"
   ]
  },
  {
   "cell_type": "code",
   "execution_count": null,
   "metadata": {},
   "outputs": [],
   "source": [
    "X[:4,:]"
   ]
  },
  {
   "cell_type": "markdown",
   "metadata": {},
   "source": [
    "Remeber:\n",
    "$Y \\in R^{50x1}, X \\in R^{50x2}, W \\in R^{2x1}$\n",
    "$$\\hat{Y} = XW$$\n",
    "$$ SE = (Y-XW)^2$$\n",
    "$$ \\nabla_W SE = 2X^T(Y-XW) = 0$$\n",
    "$$W_{ols} = (X^TX)^{-1}X^TY$$"
   ]
  },
  {
   "cell_type": "code",
   "execution_count": null,
   "metadata": {},
   "outputs": [],
   "source": [
    "W = np.linalg.inv(X.T.dot(X)).dot(X.T).dot(Y)"
   ]
  },
  {
   "cell_type": "code",
   "execution_count": null,
   "metadata": {},
   "outputs": [],
   "source": [
    "W"
   ]
  },
  {
   "cell_type": "code",
   "execution_count": null,
   "metadata": {},
   "outputs": [],
   "source": [
    "plt.scatter(x,Y);\n",
    "plt.plot(x,W[0]+W[1]*x,c='red');"
   ]
  },
  {
   "cell_type": "code",
   "execution_count": null,
   "metadata": {},
   "outputs": [],
   "source": []
  },
  {
   "cell_type": "code",
   "execution_count": null,
   "metadata": {},
   "outputs": [],
   "source": []
  },
  {
   "cell_type": "markdown",
   "metadata": {},
   "source": [
    "# Attendance Exercises"
   ]
  },
  {
   "cell_type": "markdown",
   "metadata": {},
   "source": [
    "## Question 1: \n",
    "### Given 2 matrices C & D:"
   ]
  },
  {
   "cell_type": "code",
   "execution_count": null,
   "metadata": {},
   "outputs": [],
   "source": [
    "C = np.array([1, 5, 7, 8, 9, 11])\n",
    "D = np.array([30, 60, 80, 19, 6, 4]).reshape(3, 2)"
   ]
  },
  {
   "cell_type": "markdown",
   "metadata": {},
   "source": [
    "### Square each entry of C, then reshape C to be a 2x3 matrix. Multiply the new C & D: what is the sum of the elements in the last column of the product? Submit on bCourses"
   ]
  },
  {
   "cell_type": "markdown",
   "metadata": {},
   "source": [
    "See bCourses for questions 2 & 3\n",
    "\n",
    "## Question 4:\n",
    "### Given 2 numpy arrays, E & F:"
   ]
  },
  {
   "cell_type": "code",
   "execution_count": null,
   "metadata": {},
   "outputs": [],
   "source": [
    "# DO NOT change this code\n",
    "import pandas as pd\n",
    "storage = pd.read_csv('storage.csv')\n",
    "E = storage['a'].values\n",
    "F = storage['b'].values\n",
    "\n",
    "print('E: \\n', E)\n",
    "print('\\n')\n",
    "print('F: \\n', F)"
   ]
  },
  {
   "cell_type": "markdown",
   "metadata": {},
   "source": [
    "### What is the covariance of E & F? See lecture for how to calculate: https://github.com/ikhlaqsidhu/data-x/blob/master/02-theory-linear-regression/prediction-linear-regression.pdf\n",
    "#### Round to the nearest decimal point (ex: 5.41 -> 5.4)\n",
    "*Submit your answer on bCourses*"
   ]
  },
  {
   "cell_type": "code",
   "execution_count": null,
   "metadata": {},
   "outputs": [],
   "source": []
  }
 ],
 "metadata": {
  "anaconda-cloud": {},
  "kernelspec": {
   "display_name": "Python 3",
   "language": "python",
   "name": "python3"
  },
  "language_info": {
   "codemirror_mode": {
    "name": "ipython",
    "version": 3
   },
   "file_extension": ".py",
   "mimetype": "text/x-python",
   "name": "python",
   "nbconvert_exporter": "python",
   "pygments_lexer": "ipython3",
   "version": "3.7.6"
  }
 },
 "nbformat": 4,
 "nbformat_minor": 1
}
