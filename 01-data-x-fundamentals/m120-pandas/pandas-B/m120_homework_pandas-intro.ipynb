{
 "cells": [
  {
   "cell_type": "markdown",
   "metadata": {},
   "source": [
    "![data-x](https://raw.githubusercontent.com/afo/data-x-plaksha/master/imgsource/dx_logo.png)"
   ]
  },
  {
   "cell_type": "markdown",
   "metadata": {},
   "source": [
    "___\n",
    "\n",
    "#### NAME:\n",
    "\n",
    "#### STUDENT ID:\n",
    "___\n",
    "\n",
    "## Pandas Introduction"
   ]
  },
  {
   "cell_type": "code",
   "execution_count": 1,
   "metadata": {},
   "outputs": [],
   "source": [
    "# Load required modules\n",
    "import numpy as np\n",
    "import pandas as pd"
   ]
  },
  {
   "cell_type": "markdown",
   "metadata": {},
   "source": [
    "#### Data description\n",
    ">Data source: http://www.fao.org/nr/water/aquastat/data/query/index.html<br>\n",
    ">Data, units:<br>\n",
    ">* GDP, current USD (CPI adjusted)<br>\n",
    ">* NRI, $mm/yr$<br>\n",
    ">* Population density, $inhab/km^2$<br>\n",
    ">* Total area of the country, $1000 ha = 10km^2$<br>\n",
    ">* Total Population, unit $1000$ inhabitants<br>\n",
    "\n",
    "___"
   ]
  },
  {
   "cell_type": "markdown",
   "metadata": {},
   "source": [
    "<br>\n",
    "\n",
    "**1.1) Read the CSV file called** ```data3.csv``` **into a DataFrame and name it** ```df``` "
   ]
  },
  {
   "cell_type": "code",
   "execution_count": 2,
   "metadata": {},
   "outputs": [],
   "source": [
    "# your code here\n"
   ]
  },
  {
   "cell_type": "markdown",
   "metadata": {},
   "source": [
    "<br>\n",
    "\n",
    "**1.2) Display the first 10 rows of the dataframe**"
   ]
  },
  {
   "cell_type": "code",
   "execution_count": 3,
   "metadata": {},
   "outputs": [],
   "source": [
    "# your code here\n"
   ]
  },
  {
   "cell_type": "markdown",
   "metadata": {},
   "source": [
    "<br>\n",
    "\n",
    "**1.3 Display the column names**"
   ]
  },
  {
   "cell_type": "code",
   "execution_count": 4,
   "metadata": {},
   "outputs": [],
   "source": [
    "# your code here\n"
   ]
  },
  {
   "cell_type": "markdown",
   "metadata": {},
   "source": [
    "<br>\n",
    "\n",
    "**1.4) Use** ```.iloc``` **to display the first 3 rows and first 4 columns**"
   ]
  },
  {
   "cell_type": "code",
   "execution_count": 5,
   "metadata": {},
   "outputs": [],
   "source": [
    "# your code here"
   ]
  },
  {
   "cell_type": "markdown",
   "metadata": {},
   "source": [
    "## Data Pre-Processing"
   ]
  },
  {
   "cell_type": "markdown",
   "metadata": {},
   "source": [
    "<br>\n",
    "\n",
    "**2.1) Find all the rows that  have** ```NaN``` **in the ```Symbol``` column. Display first 3 rows**\n",
    "\n",
    ">**Optional:** You could achieve the requested using a [mask](https://pandas.pydata.org/pandas-docs/stable/reference/api/pandas.DataFrame.mask.html)"
   ]
  },
  {
   "cell_type": "code",
   "execution_count": 6,
   "metadata": {},
   "outputs": [],
   "source": [
    "# your code here\n"
   ]
  },
  {
   "cell_type": "markdown",
   "metadata": {},
   "source": [
    "<br>\n",
    "\n",
    "**2.2) Remove all columns and rows that contain** ```NaN``` **values**\n",
    "\n",
    ">**Note:** Sometimes it is best to just discard any data that contains missing values. There are some workarounds, but for now we will try to get rid of the NaN valued rows and columns.  \n",
    "\n",
    ">To do this: (1) Check which columns contain only 'NaN' values and drop them. Then, (2) drop rows that have any entry with a value 'NaN'. Finally, (3) store the result in place as ```df1``` and (4) display the shape and last 5 rows of the  cleaned dataframe."
   ]
  },
  {
   "cell_type": "code",
   "execution_count": 7,
   "metadata": {},
   "outputs": [],
   "source": [
    "# your code here\n"
   ]
  },
  {
   "cell_type": "markdown",
   "metadata": {},
   "source": [
    "<br>\n",
    "\n",
    "**2.3) Remove redundant/duplicate features/columns**\n",
    "\n",
    "If you took the time to explore the above builtin functions, you have noticed that you can specify how you want the check to occur -- accross columns, or accross rows. Use what you learned in **2.3** and apply it to removing duplicate columns. Print shape and column names."
   ]
  },
  {
   "cell_type": "code",
   "execution_count": 8,
   "metadata": {},
   "outputs": [],
   "source": [
    "# your code here"
   ]
  },
  {
   "cell_type": "markdown",
   "metadata": {},
   "source": [
    "<br>\n",
    "\n",
    "**2.4) Remove redundant/duplicate Entries**\n",
    "\n",
    "**Note:** In the data set we are working with, you can manually explore the data to see which rows contain duplicate data. However, imagine this task when you have millions of entries. Pandas has builtin functionality that allows you to do this -- at the DataFrame and Series object level. Take a look at the following functions \n",
    ">[.drop_duplicates( )](https://pandas.pydata.org/pandas-docs/stable/user_guide/indexing.html#duplicate-data)<br>\n",
    ">[.duplicated( )](https://pandas.pydata.org/pandas-docs/stable/reference/api/pandas.DataFrame.duplicated.html?highlight=duplicate%20columns)<br>\n",
    ">[.equals( )](https://www.w3resource.com/pandas/series/series-equals.php)<br>\n",
    ">[.where( )](https://pandas.pydata.org/pandas-docs/stable/reference/api/pandas.DataFrame.where.html)\n",
    "\n",
    "See if you can figure out how to solve this problem using one of the above methods, to drop any row in ```df1``` that is an identical entry.  Save the new DataFrame as ```df2```, then display the shape and last 5 rows of the new dataframe."
   ]
  },
  {
   "cell_type": "code",
   "execution_count": 9,
   "metadata": {},
   "outputs": [],
   "source": [
    "# your code here\n"
   ]
  },
  {
   "cell_type": "markdown",
   "metadata": {},
   "source": [
    "<br>\n",
    "\n",
    "**2.5) Display all the unique values in your new dataframe for each of the columns:** ```Area```, ```Variable Name```, ```Year```"
   ]
  },
  {
   "cell_type": "code",
   "execution_count": 10,
   "metadata": {},
   "outputs": [],
   "source": [
    "# your code here\n"
   ]
  },
  {
   "cell_type": "markdown",
   "metadata": {},
   "source": [
    "<br>\n",
    "\n",
    "**2.6) Convert data to datetime objects, sort by datetime ascending, reset index, and deep copy**\n",
    "\n",
    ">**To-Do:**<br>\n",
    ">1. Convert the ```Year``` column ```float64``` values to pandas [datetime](https://pandas.pydata.org/pandas-docs/stable/user_guide/timeseries.html) objects, where each year is represented as the first day of that calendar year -- e.g. ```1962.0``` will be represented as ```1962-01-01 00:00:00```.<br>\n",
    ">2. [Sort](https://pandas.pydata.org/pandas-docs/stable/reference/api/pandas.DataFrame.sort_values.html) by datetime ascending -- i.e. ```1962-01-01 00:00:00,  1963-01-01 00:00:00,...```.<br>\n",
    ">3. [Deepcopy](https://pandas.pydata.org/pandas-docs/stable/reference/api/pandas.DataFrame.copy.html) ```df2``` into a new DataFrame ```df```. [Why deep copy?](https://realpython.com/copying-python-objects/)<br>\n",
    ">4. Display the DataFrame shape and head. "
   ]
  },
  {
   "cell_type": "code",
   "execution_count": 11,
   "metadata": {},
   "outputs": [],
   "source": [
    "# your code here\n"
   ]
  },
  {
   "cell_type": "markdown",
   "metadata": {},
   "source": [
    "## Exploratory Data Analysis (EDA) - Data Visualization"
   ]
  },
  {
   "cell_type": "markdown",
   "metadata": {},
   "source": [
    "<br>\n",
    "\n",
    "**3.1) [Plot](https://pandas.pydata.org/pandas-docs/version/0.23.4/generated/pandas.DataFrame.plot.html) a bar graph showing the [count](https://pandas.pydata.org/pandas-docs/stable/reference/api/pandas.Series.value_counts.html) for [each unique value in the column 'Area'](https://pandas.pydata.org/pandas-docs/stable/user_guide/groupby.html). Give it a title**"
   ]
  },
  {
   "cell_type": "code",
   "execution_count": 12,
   "metadata": {},
   "outputs": [],
   "source": [
    "# your code here\n"
   ]
  },
  {
   "cell_type": "markdown",
   "metadata": {},
   "source": [
    "## Exploratory Data Analysis (EDA) - Statistical Analysis"
   ]
  },
  {
   "cell_type": "markdown",
   "metadata": {},
   "source": [
    "<br>\n",
    "\n",
    "**4.1)  Create a DataFrame** ```dftemp``` **to store rows where** ```Area``` **is** ```Iceland```, **then display a slice of the new DataFrame**"
   ]
  },
  {
   "cell_type": "code",
   "execution_count": 13,
   "metadata": {},
   "outputs": [],
   "source": [
    "# your code here\n"
   ]
  },
  {
   "cell_type": "markdown",
   "metadata": {},
   "source": [
    "<br>\n",
    "\n",
    "**4.2) Filter data within a range**\n",
    "\n",
    ">**To Do:** Using the previously created DataFrame, ```dftemp```, print the years when the National Rainfall Index (NRI) was greater than 900 and less than 950 in Iceland. "
   ]
  },
  {
   "cell_type": "code",
   "execution_count": 14,
   "metadata": {},
   "outputs": [],
   "source": [
    "# your code here\n"
   ]
  },
  {
   "cell_type": "markdown",
   "metadata": {},
   "source": [
    "<br>\n",
    "\n",
    "**4.3) Create subset of data**\n",
    "\n",
    "\n",
    ">**To Do:** Create a new DataFrame called ```df_usa``` that only contains values where ```Area``` is equal to ```United States of America```. Set the indices to be the ```Year``` column   (Use ```.set_index( )```, with the inplace paratmeter set to ```inplace=True```). Display the dataframe head."
   ]
  },
  {
   "cell_type": "code",
   "execution_count": 15,
   "metadata": {},
   "outputs": [],
   "source": [
    "# your code here"
   ]
  },
  {
   "cell_type": "markdown",
   "metadata": {},
   "source": [
    " <br>\n",
    "\n",
    "**4.4) [Stack](https://pandas.pydata.org/pandas-docs/stable/reference/api/pandas.DataFrame.stack.html?highlight=stack%20unstack) and [Unstack](https://pandas.pydata.org/pandas-docs/stable/reference/api/pandas.DataFrame.unstack.html?highlight=stack%20unstack) DataFrame**\n",
    "\n",
    ">**To Do:** Pivot ```df_usa``` so that the unique values in the column ```Variable Name``` becomes the columns. The DataFrame values should be the ones in the the ```Value``` column. Save it in ```df_usa```. Display the dataframe shape and head. <br><br>\n",
    ">**Note:** [Pivot](https://pandas.pydata.org/pandas-docs/stable/reference/api/pandas.DataFrame.pivot.html#pandas.DataFrame.pivot) does not work if you have dupiclate entries --> ```ValueError: Index contains duplicate entries, cannot reshape```. You may need to drop index duplicates, or you could use [reset_index](https://pandas.pydata.org/pandas-docs/stable/reference/api/pandas.DataFrame.reset_index.html) and [pivot_table](https://pandas.pydata.org/pandas-docs/stable/reference/api/pandas.pivot_table.html) together, or [perform additional preprocessing](https://stackoverflow.com/questions/28651079/pandas-unstack-problems-valueerror-index-contains-duplicate-entries-cannot-re) to get rid of the error."
   ]
  },
  {
   "cell_type": "code",
   "execution_count": 16,
   "metadata": {},
   "outputs": [],
   "source": [
    "# your code here\n"
   ]
  },
  {
   "cell_type": "markdown",
   "metadata": {},
   "source": [
    " <br>\n",
    "\n",
    "**4.5)  Rename Features**\n",
    "\n",
    ">**To Do:** Rename the ```Gross Domestic Product (GDP)```, ```National Rainfall Index (NRI)```, ```Population density```, ```Total area of the country```, ```Total population``` columns as ```GDP```,```NRI```,```PD```,```Area```, ```Population```, respectively. Display the head."
   ]
  },
  {
   "cell_type": "code",
   "execution_count": 17,
   "metadata": {},
   "outputs": [],
   "source": [
    "# your code here\n"
   ]
  },
  {
   "cell_type": "markdown",
   "metadata": {},
   "source": [
    "<br>\n",
    "\n",
    "**4.6) Replace Missing Data**\n",
    "\n",
    ">**To Do:** Replace all *'Nan'* values in ```df_usa``` with ```0```. Display the head of the dataframe."
   ]
  },
  {
   "cell_type": "code",
   "execution_count": 18,
   "metadata": {},
   "outputs": [],
   "source": [
    "# your code here\n"
   ]
  },
  {
   "cell_type": "markdown",
   "metadata": {},
   "source": [
    "<br>\n",
    "\n",
    "**4.7) Scale Data**\n",
    "\n",
    ">**To Do:** Multiply the ```Area``` column for all rows by ```10``` (so instead of $1000 ha$, the unit becomes $100 ha = 1km^2$). Display the dataframe head."
   ]
  },
  {
   "cell_type": "code",
   "execution_count": 19,
   "metadata": {},
   "outputs": [],
   "source": [
    "# your code here\n"
   ]
  },
  {
   "cell_type": "markdown",
   "metadata": {},
   "source": [
    "<br>\n",
    "\n",
    "**4.8)  Feature Engineering**\n",
    "\n",
    ">**To Do:** Create a new column in ```df_usa``` called ```GDP/capita``` and populate it with the calculated GDP per capita. Round the results to two decimal points. Display the dataframe head.\n",
    "\n",
    "<br>\n",
    "\n",
    "$$GDP~per~capita = \\frac{GDP}{Population} * 1000$$\n",
    "\n",
    "<br>"
   ]
  },
  {
   "cell_type": "code",
   "execution_count": 20,
   "metadata": {},
   "outputs": [],
   "source": [
    "# your code here\n"
   ]
  },
  {
   "cell_type": "markdown",
   "metadata": {},
   "source": [
    "<br>\n",
    "\n",
    "**4.9) Data Extraction**\n",
    "\n",
    ">**To Do:** Find the maximum value of the ```NRI``` column in the US (using pandas methods). What year does the max value occur? Display the values."
   ]
  },
  {
   "cell_type": "code",
   "execution_count": 21,
   "metadata": {},
   "outputs": [],
   "source": [
    "# your code here\n"
   ]
  },
  {
   "cell_type": "markdown",
   "metadata": {},
   "source": [
    "___\n",
    "\n",
    "### Deliverables\n",
    "\n",
    "Please submit your the following via the instructed method (lecture or Syllabus): \n",
    "\n",
    ">(1) A copy of your work, either a downloaded notebook or a pdf, by the assignment deadline\n",
    "\n",
    "<br>\n",
    "\n",
    "**Note:** Don't gorget to restart your kernel prior to extracting your data.\n",
    "\n",
    ">```Kernel --> Restart Kernel and Run all Cells```<br>\n",
    ">```File --> Export Notebooks As --> PDF``` (or as instructed)\n",
    "\n",
    "___"
   ]
  },
  {
   "cell_type": "code",
   "execution_count": null,
   "metadata": {},
   "outputs": [],
   "source": []
  }
 ],
 "metadata": {
  "anaconda-cloud": {},
  "kernelspec": {
   "display_name": "Python 3",
   "language": "python",
   "name": "python3"
  },
  "language_info": {
   "codemirror_mode": {
    "name": "ipython",
    "version": 3
   },
   "file_extension": ".py",
   "mimetype": "text/x-python",
   "name": "python",
   "nbconvert_exporter": "python",
   "pygments_lexer": "ipython3",
   "version": "3.6.10"
  }
 },
 "nbformat": 4,
 "nbformat_minor": 2
}
