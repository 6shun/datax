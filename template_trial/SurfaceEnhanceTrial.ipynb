{
 "cells": [
  {
   "cell_type": "code",
   "execution_count": 27,
   "metadata": {},
   "outputs": [],
   "source": [
    "import cv2\n",
    "import numpy as np\n",
    "import matplotlib.pyplot as plt\n",
    "import argparse\n",
    "import imutils\n",
    "import glob"
   ]
  },
  {
   "cell_type": "code",
   "execution_count": 8,
   "metadata": {},
   "outputs": [],
   "source": [
    "# Resize window to display all image\n",
    "def ResizeWithAspectRatio(image, width=None, height=None, inter=cv2.INTER_AREA):\n",
    "    dim = None\n",
    "    (h, w) = image.shape[:2]\n",
    "\n",
    "    if width is None and height is None:\n",
    "        return image\n",
    "    if width is None:\n",
    "        r = height / float(h)\n",
    "        dim = (int(w * r), height)\n",
    "    else:\n",
    "        r = width / float(w)\n",
    "        dim = (width, int(h * r))\n",
    "\n",
    "    return cv2.resize(image, dim, interpolation=inter)"
   ]
  },
  {
   "cell_type": "code",
   "execution_count": 9,
   "metadata": {},
   "outputs": [],
   "source": [
    "# Read image and turn to grayscale\n",
    "def readgray(image):\n",
    "    img = cv2.imread(image)\n",
    "    return cv2.cvtColor(img, cv2.COLOR_BGR2GRAY)"
   ]
  },
  {
   "cell_type": "code",
   "execution_count": 10,
   "metadata": {},
   "outputs": [],
   "source": [
    "# Read image and turn to grayscale\n",
    "def resizeshow(window, img, resize=False, width=1000):\n",
    "    if resize:\n",
    "        img = ResizeWithAspectRatio(img, width)\n",
    "    cv2.imshow(window, img)\n",
    "    cv2.waitKey(0)\n",
    "    cv2.destroyAllWindows()"
   ]
  },
  {
   "cell_type": "code",
   "execution_count": 11,
   "metadata": {},
   "outputs": [],
   "source": [
    "# Read surface image\n",
    "img = readgray('surfacedata/contrastcrop/Nr385.jpg')\n",
    "\n",
    "resizeshow(\"Image\", img, resize=True)"
   ]
  },
  {
   "cell_type": "code",
   "execution_count": 12,
   "metadata": {},
   "outputs": [],
   "source": [
    "# Find and Plot histogram\n",
    "def imghist(img, title=\"\", xlabel='bins', ylabel='# of pixels'):\n",
    "    hist = cv2.calcHist(img,[0],None,[256],[0,256])\n",
    "    plt.subplot(121)\n",
    "    plt.title(title)\n",
    "    plt.xlabel(xlabel)\n",
    "    plt.ylabel(ylabel)\n",
    "    plt.plot(hist)\n",
    "    plt.show()"
   ]
  },
  {
   "cell_type": "code",
   "execution_count": 15,
   "metadata": {},
   "outputs": [
    {
     "data": {
      "image/png": "[encoded data removed]",
      "text/plain": [
       "<Figure size 432x288 with 1 Axes>"
      ]
     },
     "metadata": {
      "needs_background": "light"
     },
     "output_type": "display_data"
    }
   ],
   "source": [
    "# find histogram of grayscale and display\n",
    "imghist(img, title='original gray image')"
   ]
  },
  {
   "cell_type": "code",
   "execution_count": 16,
   "metadata": {},
   "outputs": [
    {
     "data": {
      "image/png": "[encoded data removed]",
      "text/plain": [
       "<Figure size 432x288 with 1 Axes>"
      ]
     },
     "metadata": {
      "needs_background": "light"
     },
     "output_type": "display_data"
    }
   ],
   "source": [
    "# Normalise brightness and increase contrast\n",
    "img_eqhist=cv2.equalizeHist(img)\n",
    "\n",
    "imghist(img_eqhist, title='equalized gray image')"
   ]
  },
  {
   "cell_type": "code",
   "execution_count": 17,
   "metadata": {},
   "outputs": [],
   "source": [
    "# Display enhanced image\n",
    "resizeshow(\"Enhanced Image\", img_eqhist, resize=True)"
   ]
  },
  {
   "cell_type": "code",
   "execution_count": 22,
   "metadata": {},
   "outputs": [],
   "source": [
    "# read and gray and normalize in one step\n",
    "def onestepequalize(image):\n",
    "    img = readgray(image)\n",
    "    return cv2.equalizeHist(img)"
   ]
  },
  {
   "cell_type": "code",
   "execution_count": 25,
   "metadata": {},
   "outputs": [],
   "source": [
    "# read and equalize template\n",
    "tempimg = onestepequalize('surfacedata/template/Nr385.jpg')\n",
    "resizeshow(\"Enhanced Template\", tempimg, resize=True)"
   ]
  },
  {
   "cell_type": "code",
   "execution_count": null,
   "metadata": {},
   "outputs": [],
   "source": [
    "# Attempt to do multiscale template match using enhanced images\n",
    "\n",
    "# Below is from website in case I want to do this in command line (which i probably do :( )\n",
    "# construct the argument parser and parse the arguments \n",
    "# ap = argparse.ArgumentParser()\n",
    "# ap.add_argument(\"-t\", \"--template\", required=True, help=\"Path to template image\")\n",
    "# ap.add_argument(\"-i\", \"--images\", required=True,\n",
    "# \thelp=\"Path to images where template will be matched\")\n",
    "# ap.add_argument(\"-v\", \"--visualize\",\n",
    "# \thelp=\"Flag indicating whether or not to visualize each iteration\")\n",
    "# args = vars(ap.parse_args())\n",
    "\n",
    "(tH, tW) = tempimg.shape[:2]\n",
    "# Below is modified from website\n",
    "\n",
    "# loop over the images to find the template in\n",
    "#for imagePath in glob.glob(args[\"images\"] + \"/*.jpg\"):\n",
    "\n",
    "\t# load the image, convert it to grayscale, and initialize the\n",
    "\t# bookkeeping variable to keep track of the matched region\n",
    "    \n",
    "visualize = False\n",
    "found = None\n",
    "# loop over the scales of the image\n",
    "for scale in np.linspace(0.2, 1.0, 20)[::-1]:\n",
    "    # resize the image according to the scale, and keep track\n",
    "    # of the ratio of the resizing\n",
    "    resized = imutils.resize(img_eqhist, width = int(img_eqhist.shape[1] * scale))\n",
    "    r = img_eqhist.shape[1] / float(resized.shape[1])\n",
    "    # if the resized image is smaller than the template, then break\n",
    "    # from the loop\n",
    "    if resized.shape[0] < tH or resized.shape[1] < tW:\n",
    "        break\n",
    "    # detect edges in the resized, grayscale image and apply template\n",
    "    # matching to find the template in the image\n",
    "    # edged = cv2.Canny(resized, 50, 200) NO NEED TO DETECT EDGES\n",
    "    result = cv2.matchTemplate(resized, tempimg, cv2.TM_CCOEFF)\n",
    "    (_, maxVal, _, maxLoc) = cv2.minMaxLoc(result)\n",
    "    # check to see if the iteration should be visualized\n",
    "    if not \"visualize\":\n",
    "        # draw a bounding box around the detected region\n",
    "        clone = np.dstack([resized, resized, resized])\n",
    "        cv2.rectangle(clone, (maxLoc[0], maxLoc[1]),\n",
    "            (maxLoc[0] + tW, maxLoc[1] + tH), (0, 0, 255), 2)\n",
    "        cv2.imshow(\"Visualize\", clone)\n",
    "        cv2.waitKey(0)\n",
    "    # if we have found a new maximum correlation value, then update\n",
    "    # the bookkeeping variable\n",
    "    if found is None or maxVal > found[0]:\n",
    "        found = (maxVal, maxLoc, r)\n",
    "# unpack the bookkeeping variable and compute the (x, y) coordinates\n",
    "# of the bounding box based on the resized ratio\n",
    "(_, maxLoc, r) = found\n",
    "(startX, startY) = (int(maxLoc[0] * r), int(maxLoc[1] * r))\n",
    "(endX, endY) = (int((maxLoc[0] + tW) * r), int((maxLoc[1] + tH) * r))\n",
    "# draw a bounding box around the detected result and display the image\n",
    "cv2.rectangle(img_eqhist, (startX, startY), (endX, endY), (0, 0, 255), 2)\n",
    "cv2.imshow(\"Image\", img_eqhist)\n",
    "cv2.waitKey(0)"
   ]
  },
  {
   "cell_type": "code",
   "execution_count": null,
   "metadata": {},
   "outputs": [],
   "source": []
  },
  {
   "cell_type": "code",
   "execution_count": 21,
   "metadata": {},
   "outputs": [],
   "source": [
    "# Using Contrast Limited Adaptive Histogram Equalization (CLAHE) \n",
    "\n",
    "clahe=cv2.createCLAHE(clipLimit=40) # 40 is default\n",
    "gray_img_clahe=clahe.apply(gray_img_eqhist)\n",
    "\n",
    "imgrs = ResizeWithAspectRatio(gray_img_clahe, width=1000)\n",
    "cv2.imshow(\"Images\",imgrs)\n",
    "cv2.waitKey(0)\n",
    "cv2.destroyAllWindows()"
   ]
  },
  {
   "cell_type": "code",
   "execution_count": 23,
   "metadata": {},
   "outputs": [
    {
     "data": {
      "text/plain": [
       "True"
      ]
     },
     "execution_count": 23,
     "metadata": {},
     "output_type": "execute_result"
    }
   ],
   "source": [
    "# Attempting to separate foreground and background with threshholding\n",
    "th=80\n",
    "max_val=255\n",
    "ret, o1 = cv2.threshold(gray_img_clahe, th, max_val, cv2.THRESH_BINARY)\n",
    "cv2.putText(o1,\"Thresh_Binary\",(40,100),cv2.FONT_HERSHEY_SIMPLEX,2,(255,255,255),3,cv2.LINE_AA)\n",
    "ret, o2 = cv2.threshold(gray_img_clahe, th, max_val, cv2.THRESH_BINARY_INV)\n",
    "cv2.putText(o2,\"Thresh_Binary_inv\",(40,100),cv2.FONT_HERSHEY_SIMPLEX,2,(255,255,255),3,cv2.LINE_AA)\n",
    "ret, o3 = cv2.threshold(gray_img_clahe, th, max_val, cv2.THRESH_TOZERO)\n",
    "cv2.putText(o3,\"Thresh_Tozero\",(40,100),cv2.FONT_HERSHEY_SIMPLEX,2,(255,255,255),3,cv2.LINE_AA)\n",
    "ret, o4 = cv2.threshold(gray_img_clahe, th, max_val, cv2.THRESH_TOZERO_INV)\n",
    "cv2.putText(o4,\"Thresh_Tozero_inv\",(40,100),cv2.FONT_HERSHEY_SIMPLEX,2,(255,255,255),3,cv2.LINE_AA)\n",
    "ret, o5 = cv2.threshold(gray_img_clahe, th, max_val, cv2.THRESH_TRUNC)\n",
    "cv2.putText(o5,\"Thresh_trunc\",(40,100),cv2.FONT_HERSHEY_SIMPLEX,2,(255,255,255),3,cv2.LINE_AA)\n",
    "ret ,o6=  cv2.threshold(gray_img_clahe, th, max_val,  cv2.THRESH_OTSU)\n",
    "cv2.putText(o6,\"Thresh_OSTU\",(40,100),cv2.FONT_HERSHEY_SIMPLEX,2,(255,255,255),3,cv2.LINE_AA)\n",
    "\n",
    "final=np.concatenate((o1,o2,o3),axis=1)\n",
    "final1=np.concatenate((o4,o5,o6),axis=1)\n",
    "\n",
    "cv2.imwrite(\"surfaceenhance/thimg1.jpg\",final)\n",
    "cv2.imwrite(\"surfaceenhance/thimg2.jpg\",final1)"
   ]
  },
  {
   "cell_type": "code",
   "execution_count": 24,
   "metadata": {},
   "outputs": [
    {
     "data": {
      "text/plain": [
       "True"
      ]
     },
     "execution_count": 24,
     "metadata": {},
     "output_type": "execute_result"
    }
   ],
   "source": [
    "# Attempt adaptive thresholding to deal with different illumination\n",
    "thresh1 = cv2.adaptiveThreshold(gray_img, 255, cv2.ADAPTIVE_THRESH_MEAN_C, cv2.THRESH_BINARY, 11, 2)\n",
    "thresh2 = cv2.adaptiveThreshold(gray_img, 255, cv2.ADAPTIVE_THRESH_MEAN_C, cv2.THRESH_BINARY, 31, 3)\n",
    "thresh3 = cv2.adaptiveThreshold(gray_img, 255, cv2.ADAPTIVE_THRESH_GAUSSIAN_C, cv2.THRESH_BINARY, 13, 5)\n",
    "thresh4 = cv2.adaptiveThreshold(gray_img, 255, cv2.ADAPTIVE_THRESH_GAUSSIAN_C, cv2.THRESH_BINARY, 31, 4)\n",
    "\n",
    "final=np.concatenate((thresh1,thresh2,thresh3,thresh4),axis=1)\n",
    "cv2.imwrite('surfaceenhance/rect.jpg',final)"
   ]
  },
  {
   "cell_type": "code",
   "execution_count": null,
   "metadata": {},
   "outputs": [],
   "source": []
  },
  {
   "cell_type": "code",
   "execution_count": null,
   "metadata": {},
   "outputs": [],
   "source": []
  }
 ],
 "metadata": {
  "kernelspec": {
   "display_name": "Python 3",
   "language": "python",
   "name": "python3"
  },
  "language_info": {
   "codemirror_mode": {
    "name": "ipython",
    "version": 3
   },
   "file_extension": ".py",
   "mimetype": "text/x-python",
   "name": "python",
   "nbconvert_exporter": "python",
   "pygments_lexer": "ipython3",
   "version": "3.7.7"
  }
 },
 "nbformat": 4,
 "nbformat_minor": 4
}
