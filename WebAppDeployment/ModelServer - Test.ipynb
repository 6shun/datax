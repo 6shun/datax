{
 "cells": [
  {
   "cell_type": "code",
   "execution_count": 1,
   "metadata": {},
   "outputs": [],
   "source": [
    "import numpy as np\n",
    "import pandas as pd\n",
    "import matplotlib.pyplot as plt\n",
    "import seaborn as sns\n",
    "\n",
    "from sklearn.model_selection import train_test_split\n",
    "from sklearn.feature_extraction.text import TfidfVectorizer\n",
    "from sklearn.linear_model import LogisticRegression\n",
    "from sklearn.pipeline import make_union\n",
    "from scipy.sparse import hstack\n",
    "from sklearn import metrics\n",
    "from gensim.models.keyedvectors import KeyedVectors\n",
    "import warnings\n",
    "import joblib # for deserialization saved models \n"
   ]
  },
  {
   "cell_type": "code",
   "execution_count": 11,
   "metadata": {},
   "outputs": [],
   "source": [
    "from mlserving import ServingApp\n",
    "from mlserving.predictors import RESTPredictor\n",
    "\n",
    "import joblib # for deserialization saved models \n",
    "\n",
    "\n",
    "class MyPredictor(RESTPredictor):\n",
    "    def __init__(self):\n",
    "        # Loading a saved model\n",
    "        self.gloveModel = joblib.load('gloveModel.pkl')\n",
    "        self.vectorizer1 = joblib.load('vectorizer.pkl')\n",
    "        self.vectorizer2 = joblib.load('vectorizer2.pkl')\n",
    "        self.feature_names = self.vectorizer1.get_feature_names()\n",
    "        self.lr_insult = joblib.load('lr_insult.pkl')\n",
    "        self.lr_obscene = joblib.load('lr_obscene.pkl')\n",
    "        self.lr_threat = joblib.load('lr_threat.pkl')\n",
    "        self.lr_toxic = joblib.load('lr_toxic.pkl')\n",
    "        self.lr_identity_hate = joblib.load('lr_identity_hate.pkl')\n",
    "\n",
    "    def get_word_weight(self, text):\n",
    "        \"\"\"Returns a dictionary where keys are the words of the text and values are their weights.\"\"\"\n",
    "        tfidf_matrix = self.vectorizer1.transform([text]).todense()\n",
    "        feature_index = tfidf_matrix[0,:].nonzero()[1]\n",
    "        tfidf_scores = zip([self.feature_names[i] for i in feature_index], [tfidf_matrix[0, x] for x in feature_index])\n",
    "        return dict(tfidf_scores)\n",
    "        \n",
    "    def num_upper(self, text):\n",
    "        \"\"\"Returns the number of capital letters in a string.\"\"\"\n",
    "        num = 0\n",
    "        for i in text:\n",
    "            if i.isupper():\n",
    "                num += 1\n",
    "        return num\n",
    "    \n",
    "    def weighted_vector_mean(self, text):\n",
    "        \"\"\"Gets the weighted vector mean of a sentence by averaging the word vectors according to Tfidf weights.\"\"\"\n",
    "        sentence_vects = []\n",
    "        sentence_weights = []\n",
    "        words = text.split(\" \")\n",
    "        words = [word for word in words if word in self.gloveModel.wv.vocab]\n",
    "\n",
    "        text_dict = self.get_word_weight(text)\n",
    "        total = sum(text_dict.values())\n",
    "        text_dict = {key:(val/total) for key,val in text_dict.items()}\n",
    "\n",
    "        for word in words:\n",
    "            sentence_vects.append(self.gloveModel[word])               # get word vectors\n",
    "            if word.lower() in text_dict.keys():\n",
    "                sentence_weights.append(text_dict[word.lower()])   # get weights of words\n",
    "            else:\n",
    "                sentence_weights.append(0)\n",
    "\n",
    "        if len(sentence_vects) > 0:\n",
    "            return np.transpose(sentence_vects) @ sentence_weights / len(sentence_vects)\n",
    "        else:\n",
    "            return np.zeros(300)\n",
    "\n",
    "    def create_df(self, text):\n",
    "        txt = text\n",
    "        d = {'text': [txt]}\n",
    "        df = pd.DataFrame(data=d)\n",
    "        return df\n",
    "    \n",
    "    def generate_features(self, df):\n",
    "        dfc = df.copy()\n",
    "        # Cleaning text\n",
    "        dfc['text'] = dfc['text'].str.replace(r\"[(\\.),(\\|)!:='&(\\*)(\\\")]\", \"\")\n",
    "        dfc['text'] = dfc['text'].str.replace(\"\\n\", \"\")\n",
    "\n",
    "        # Getting length\n",
    "        dfc['len'] = dfc['text'].apply(len) - dfc['text'].str.count(\" \")\n",
    "        len_min = 0\n",
    "        len_max = 127\n",
    "        dfc['len'] = (dfc['len'].values - len_min) / (len_max - len_min)\n",
    "\n",
    "        # Getting proportion of caps\n",
    "        dfc['caps'] = dfc['text'].apply(self.num_upper)\n",
    "        dfc['proportion of caps'] = dfc['caps'] / dfc['len']\n",
    "\n",
    "        # Accounting for division by 0\n",
    "        dfc['proportion of caps'] = dfc['proportion of caps'].fillna(0)\n",
    "\n",
    "        # Adding the 300D vector means, weighted by Tfidf weights\n",
    "        dfc['vector mean'] = dfc['text'].apply(self.weighted_vector_mean)\n",
    "        tmp = pd.DataFrame(dfc['vector mean'].tolist())\n",
    "        dfc = dfc.join(tmp)\n",
    "        dfc = dfc.drop(['vector mean', 'text', 'caps'], axis=1)\n",
    "        return dfc\n",
    "    \n",
    "    def pre_process(self, input_data, req):\n",
    "        text = input_data['features']\n",
    "        print(text)\n",
    "        df_text = self.create_df(text)\n",
    "        dfc_text = self.generate_features(df_text)\n",
    "        t_text = df_text['text']\n",
    "        t_vector = self.vectorizer2.transform(t_text)\n",
    "        final_testing = hstack([t_vector, dfc_text[['len', 'proportion of caps']]])\n",
    "        return final_testing\n",
    "#         return input_data['features']\n",
    "\n",
    "    def predict(self, processed_data, req):\n",
    "        count = 0\n",
    "        results = {\n",
    "          \"Obscenity\": False,\n",
    "          \"Toxicity\": False,\n",
    "          \"Identity Hate\": False,\n",
    "          \"Threat\": False,\n",
    "          \"Insult\": False,\n",
    "          \"Count\": 0\n",
    "        }\n",
    "        if self.lr_obscene.predict(processed_data)[0] == 1:\n",
    "            count += 1\n",
    "            results[\"Obscenity\"] = True\n",
    "        if self.lr_toxic.predict(processed_data)[0] == 1:\n",
    "            count += 1;\n",
    "            results[\"Toxicity\"] = True\n",
    "        if self.lr_identity_hate.predict(processed_data)[0] == 1:\n",
    "            count += 1;\n",
    "            results[\"Identity Hate\"] = True\n",
    "        if self.lr_threat.predict(processed_data)[0] == 1:\n",
    "            count += 1;\n",
    "            results[\"Threat\"] = True\n",
    "        if self.lr_insult.predict(processed_data)[0] == 1:\n",
    "            results[\"Insult\"] = True\n",
    "            count += 1;\n",
    "        results[\"Count\"] = count\n",
    "\n",
    "        return results\n",
    "\n",
    "    def post_process(self, prediction, req):\n",
    "        return prediction\n",
    "\n"
   ]
  },
  {
   "cell_type": "code",
   "execution_count": 12,
   "metadata": {
    "scrolled": true
   },
   "outputs": [
    {
     "name": "stderr",
     "output_type": "stream",
     "text": [
      "c:\\users\\dheeraj\\appdata\\local\\programs\\python\\python37\\lib\\site-packages\\sklearn\\base.py:334: UserWarning: Trying to unpickle estimator TfidfTransformer from version 0.22.1 when using version 0.23.2. This might lead to breaking code or invalid results. Use at your own risk.\n",
      "  UserWarning)\n",
      "c:\\users\\dheeraj\\appdata\\local\\programs\\python\\python37\\lib\\site-packages\\sklearn\\base.py:334: UserWarning: Trying to unpickle estimator TfidfVectorizer from version 0.22.1 when using version 0.23.2. This might lead to breaking code or invalid results. Use at your own risk.\n",
      "  UserWarning)\n",
      "c:\\users\\dheeraj\\appdata\\local\\programs\\python\\python37\\lib\\site-packages\\sklearn\\base.py:334: UserWarning: Trying to unpickle estimator FeatureUnion from version 0.22.1 when using version 0.23.2. This might lead to breaking code or invalid results. Use at your own risk.\n",
      "  UserWarning)\n"
     ]
    },
    {
     "name": "stdout",
     "output_type": "stream",
     "text": [
      "[2020-12-02 22:03:15,681] - INFO - Running development server on: http://0.0.0.0:5000/\n",
      "[2020-12-02 22:03:15,681] - INFO - Running development server on: http://0.0.0.0:5000/\n",
      "[2020-12-02 22:03:15,681] - INFO - Running development server on: http://0.0.0.0:5000/\n",
      "[2020-12-02 22:03:15,681] - INFO - Running development server on: http://0.0.0.0:5000/\n",
      "[2020-12-02 22:03:15,681] - INFO - Running development server on: http://0.0.0.0:5000/\n",
      "[2020-12-02 22:03:15,681] - INFO - Running development server on: http://0.0.0.0:5000/\n",
      "[2020-12-02 22:03:15,692] - WARNING - NOTICE! Running development server on production environment is not recommended.\n",
      "[2020-12-02 22:03:15,692] - WARNING - NOTICE! Running development server on production environment is not recommended.\n",
      "[2020-12-02 22:03:15,692] - WARNING - NOTICE! Running development server on production environment is not recommended.\n",
      "[2020-12-02 22:03:15,692] - WARNING - NOTICE! Running development server on production environment is not recommended.\n",
      "[2020-12-02 22:03:15,692] - WARNING - NOTICE! Running development server on production environment is not recommended.\n",
      "[2020-12-02 22:03:15,692] - WARNING - NOTICE! Running development server on production environment is not recommended.\n"
     ]
    },
    {
     "name": "stderr",
     "output_type": "stream",
     "text": [
      "c:\\users\\dheeraj\\appdata\\local\\programs\\python\\python37\\lib\\site-packages\\sklearn\\base.py:334: UserWarning: Trying to unpickle estimator LogisticRegression from version 0.22.1 when using version 0.23.2. This might lead to breaking code or invalid results. Use at your own risk.\n",
      "  UserWarning)\n",
      "127.0.0.1 - - [02/Dec/2020 22:03:30] \"OPTIONS /api/v1/predict HTTP/1.1\" 200 0\n",
      "c:\\users\\dheeraj\\appdata\\local\\programs\\python\\python37\\lib\\site-packages\\ipykernel_launcher.py:40: DeprecationWarning: Call to deprecated `wv` (Attribute will be removed in 4.0.0, use self instead).\n"
     ]
    },
    {
     "name": "stdout",
     "output_type": "stream",
     "text": [
      "Heyy How are you?\n"
     ]
    },
    {
     "name": "stderr",
     "output_type": "stream",
     "text": [
      "127.0.0.1 - - [02/Dec/2020 22:03:37] \"POST /api/v1/predict HTTP/1.1\" 200 109\n",
      "127.0.0.1 - - [02/Dec/2020 22:03:58] \"OPTIONS /api/v1/predict HTTP/1.1\" 200 0\n",
      "c:\\users\\dheeraj\\appdata\\local\\programs\\python\\python37\\lib\\site-packages\\ipykernel_launcher.py:40: DeprecationWarning: Call to deprecated `wv` (Attribute will be removed in 4.0.0, use self instead).\n"
     ]
    },
    {
     "name": "stdout",
     "output_type": "stream",
     "text": [
      "You're a gay retard, go kill yourself\n"
     ]
    },
    {
     "name": "stderr",
     "output_type": "stream",
     "text": [
      "127.0.0.1 - - [02/Dec/2020 22:04:04] \"POST /api/v1/predict HTTP/1.1\" 200 107\n",
      "127.0.0.1 - - [02/Dec/2020 22:04:41] \"OPTIONS /api/v1/predict HTTP/1.1\" 200 0\n",
      "c:\\users\\dheeraj\\appdata\\local\\programs\\python\\python37\\lib\\site-packages\\ipykernel_launcher.py:40: DeprecationWarning: Call to deprecated `wv` (Attribute will be removed in 4.0.0, use self instead).\n"
     ]
    },
    {
     "name": "stdout",
     "output_type": "stream",
     "text": [
      "You're a gay retard, go kill yourself. Fuck you you ugly piece of shit.\n"
     ]
    },
    {
     "name": "stderr",
     "output_type": "stream",
     "text": [
      "127.0.0.1 - - [02/Dec/2020 22:04:46] \"POST /api/v1/predict HTTP/1.1\" 200 106\n",
      "127.0.0.1 - - [02/Dec/2020 22:05:10] \"OPTIONS /api/v1/predict HTTP/1.1\" 200 0\n",
      "c:\\users\\dheeraj\\appdata\\local\\programs\\python\\python37\\lib\\site-packages\\ipykernel_launcher.py:40: DeprecationWarning: Call to deprecated `wv` (Attribute will be removed in 4.0.0, use self instead).\n"
     ]
    },
    {
     "name": "stdout",
     "output_type": "stream",
     "text": [
      "You're a gay retard, go kill yourself. Fuck you you ugly piece of shit.\n"
     ]
    },
    {
     "name": "stderr",
     "output_type": "stream",
     "text": [
      "127.0.0.1 - - [02/Dec/2020 22:05:16] \"POST /api/v1/predict HTTP/1.1\" 200 106\n",
      "127.0.0.1 - - [02/Dec/2020 22:07:29] \"OPTIONS /api/v1/predict HTTP/1.1\" 200 0\n",
      "c:\\users\\dheeraj\\appdata\\local\\programs\\python\\python37\\lib\\site-packages\\ipykernel_launcher.py:40: DeprecationWarning: Call to deprecated `wv` (Attribute will be removed in 4.0.0, use self instead).\n"
     ]
    },
    {
     "name": "stdout",
     "output_type": "stream",
     "text": [
      "Gay ugly piece of shit kill yourself\n"
     ]
    },
    {
     "name": "stderr",
     "output_type": "stream",
     "text": [
      "127.0.0.1 - - [02/Dec/2020 22:07:35] \"POST /api/v1/predict HTTP/1.1\" 200 106\n",
      "127.0.0.1 - - [02/Dec/2020 22:08:09] \"OPTIONS /api/v1/predict HTTP/1.1\" 200 0\n",
      "c:\\users\\dheeraj\\appdata\\local\\programs\\python\\python37\\lib\\site-packages\\ipykernel_launcher.py:40: DeprecationWarning: Call to deprecated `wv` (Attribute will be removed in 4.0.0, use self instead).\n"
     ]
    },
    {
     "name": "stdout",
     "output_type": "stream",
     "text": [
      "Gay ugly\n"
     ]
    },
    {
     "name": "stderr",
     "output_type": "stream",
     "text": [
      "127.0.0.1 - - [02/Dec/2020 22:08:15] \"POST /api/v1/predict HTTP/1.1\" 200 107\n",
      "127.0.0.1 - - [02/Dec/2020 22:08:59] \"OPTIONS /api/v1/predict HTTP/1.1\" 200 0\n",
      "c:\\users\\dheeraj\\appdata\\local\\programs\\python\\python37\\lib\\site-packages\\ipykernel_launcher.py:40: DeprecationWarning: Call to deprecated `wv` (Attribute will be removed in 4.0.0, use self instead).\n"
     ]
    },
    {
     "name": "stdout",
     "output_type": "stream",
     "text": [
      "gay ugly\n"
     ]
    },
    {
     "name": "stderr",
     "output_type": "stream",
     "text": [
      "127.0.0.1 - - [02/Dec/2020 22:09:05] \"POST /api/v1/predict HTTP/1.1\" 200 107\n",
      "127.0.0.1 - - [02/Dec/2020 22:10:32] \"OPTIONS /api/v1/predict HTTP/1.1\" 200 0\n",
      "c:\\users\\dheeraj\\appdata\\local\\programs\\python\\python37\\lib\\site-packages\\ipykernel_launcher.py:40: DeprecationWarning: Call to deprecated `wv` (Attribute will be removed in 4.0.0, use self instead).\n"
     ]
    },
    {
     "name": "stdout",
     "output_type": "stream",
     "text": [
      "ugly gay\n"
     ]
    },
    {
     "name": "stderr",
     "output_type": "stream",
     "text": [
      "127.0.0.1 - - [02/Dec/2020 22:10:38] \"POST /api/v1/predict HTTP/1.1\" 200 107\n",
      "127.0.0.1 - - [02/Dec/2020 22:11:22] \"OPTIONS /api/v1/predict HTTP/1.1\" 200 0\n",
      "c:\\users\\dheeraj\\appdata\\local\\programs\\python\\python37\\lib\\site-packages\\ipykernel_launcher.py:40: DeprecationWarning: Call to deprecated `wv` (Attribute will be removed in 4.0.0, use self instead).\n"
     ]
    },
    {
     "name": "stdout",
     "output_type": "stream",
     "text": [
      "I will murder you you piece of shit bastard\n"
     ]
    },
    {
     "name": "stderr",
     "output_type": "stream",
     "text": [
      "127.0.0.1 - - [02/Dec/2020 22:11:28] \"POST /api/v1/predict HTTP/1.1\" 200 106\n",
      "127.0.0.1 - - [02/Dec/2020 22:11:37] \"OPTIONS /api/v1/predict HTTP/1.1\" 200 0\n",
      "c:\\users\\dheeraj\\appdata\\local\\programs\\python\\python37\\lib\\site-packages\\ipykernel_launcher.py:40: DeprecationWarning: Call to deprecated `wv` (Attribute will be removed in 4.0.0, use self instead).\n"
     ]
    },
    {
     "name": "stdout",
     "output_type": "stream",
     "text": [
      "ugly gay\n"
     ]
    },
    {
     "name": "stderr",
     "output_type": "stream",
     "text": [
      "127.0.0.1 - - [02/Dec/2020 22:11:43] \"POST /api/v1/predict HTTP/1.1\" 200 107\n",
      "127.0.0.1 - - [02/Dec/2020 22:13:52] \"OPTIONS /api/v1/predict HTTP/1.1\" 200 0\n",
      "c:\\users\\dheeraj\\appdata\\local\\programs\\python\\python37\\lib\\site-packages\\ipykernel_launcher.py:40: DeprecationWarning: Call to deprecated `wv` (Attribute will be removed in 4.0.0, use self instead).\n"
     ]
    },
    {
     "name": "stdout",
     "output_type": "stream",
     "text": [
      "ugly gay\n"
     ]
    },
    {
     "name": "stderr",
     "output_type": "stream",
     "text": [
      "127.0.0.1 - - [02/Dec/2020 22:13:58] \"POST /api/v1/predict HTTP/1.1\" 200 107\n",
      "127.0.0.1 - - [02/Dec/2020 22:15:56] \"OPTIONS /api/v1/predict HTTP/1.1\" 200 0\n",
      "c:\\users\\dheeraj\\appdata\\local\\programs\\python\\python37\\lib\\site-packages\\ipykernel_launcher.py:40: DeprecationWarning: Call to deprecated `wv` (Attribute will be removed in 4.0.0, use self instead).\n"
     ]
    },
    {
     "name": "stdout",
     "output_type": "stream",
     "text": [
      "ugly gay\n"
     ]
    },
    {
     "name": "stderr",
     "output_type": "stream",
     "text": [
      "127.0.0.1 - - [02/Dec/2020 22:16:02] \"POST /api/v1/predict HTTP/1.1\" 200 107\n",
      "127.0.0.1 - - [02/Dec/2020 22:19:41] \"OPTIONS /api/v1/predict HTTP/1.1\" 200 0\n",
      "c:\\users\\dheeraj\\appdata\\local\\programs\\python\\python37\\lib\\site-packages\\ipykernel_launcher.py:40: DeprecationWarning: Call to deprecated `wv` (Attribute will be removed in 4.0.0, use self instead).\n"
     ]
    },
    {
     "name": "stdout",
     "output_type": "stream",
     "text": [
      "ugly gay piece of shit go kill yourself\n"
     ]
    },
    {
     "name": "stderr",
     "output_type": "stream",
     "text": [
      "127.0.0.1 - - [02/Dec/2020 22:19:47] \"POST /api/v1/predict HTTP/1.1\" 200 106\n"
     ]
    },
    {
     "ename": "KeyboardInterrupt",
     "evalue": "",
     "output_type": "error",
     "traceback": [
      "\u001b[1;31m---------------------------------------------------------------------------\u001b[0m",
      "\u001b[1;31mKeyboardInterrupt\u001b[0m                         Traceback (most recent call last)",
      "\u001b[1;32m<ipython-input-12-09a86f7c6cf7>\u001b[0m in \u001b[0;36m<module>\u001b[1;34m\u001b[0m\n\u001b[0;32m      1\u001b[0m \u001b[0mapp\u001b[0m \u001b[1;33m=\u001b[0m \u001b[0mServingApp\u001b[0m\u001b[1;33m(\u001b[0m\u001b[1;33m)\u001b[0m\u001b[1;33m\u001b[0m\u001b[1;33m\u001b[0m\u001b[0m\n\u001b[0;32m      2\u001b[0m \u001b[0mapp\u001b[0m\u001b[1;33m.\u001b[0m\u001b[0madd_inference_handler\u001b[0m\u001b[1;33m(\u001b[0m\u001b[1;34m'/api/v1/predict'\u001b[0m\u001b[1;33m,\u001b[0m \u001b[0mMyPredictor\u001b[0m\u001b[1;33m(\u001b[0m\u001b[1;33m)\u001b[0m\u001b[1;33m)\u001b[0m\u001b[1;33m\u001b[0m\u001b[1;33m\u001b[0m\u001b[0m\n\u001b[1;32m----> 3\u001b[1;33m \u001b[0mapp\u001b[0m\u001b[1;33m.\u001b[0m\u001b[0mrun\u001b[0m\u001b[1;33m(\u001b[0m\u001b[1;33m)\u001b[0m\u001b[1;33m\u001b[0m\u001b[1;33m\u001b[0m\u001b[0m\n\u001b[0m",
      "\u001b[1;32mc:\\users\\dheeraj\\appdata\\local\\programs\\python\\python37\\lib\\site-packages\\mlserving\\_serving_app.py\u001b[0m in \u001b[0;36mrun\u001b[1;34m(self, host, port)\u001b[0m\n\u001b[0;32m     45\u001b[0m             \u001b[0mself\u001b[0m\u001b[1;33m.\u001b[0m\u001b[0mlogger\u001b[0m\u001b[1;33m.\u001b[0m\u001b[0minfo\u001b[0m\u001b[1;33m(\u001b[0m\u001b[1;34mf'Running development server on: http://{host}:{port}/'\u001b[0m\u001b[1;33m)\u001b[0m\u001b[1;33m\u001b[0m\u001b[1;33m\u001b[0m\u001b[0m\n\u001b[0;32m     46\u001b[0m             \u001b[0mself\u001b[0m\u001b[1;33m.\u001b[0m\u001b[0mlogger\u001b[0m\u001b[1;33m.\u001b[0m\u001b[0mwarning\u001b[0m\u001b[1;33m(\u001b[0m\u001b[1;34m'NOTICE! Running development server on production environment is not recommended.'\u001b[0m\u001b[1;33m)\u001b[0m\u001b[1;33m\u001b[0m\u001b[1;33m\u001b[0m\u001b[0m\n\u001b[1;32m---> 47\u001b[1;33m             \u001b[0mhttpd\u001b[0m\u001b[1;33m.\u001b[0m\u001b[0mserve_forever\u001b[0m\u001b[1;33m(\u001b[0m\u001b[1;33m)\u001b[0m\u001b[1;33m\u001b[0m\u001b[1;33m\u001b[0m\u001b[0m\n\u001b[0m\u001b[0;32m     48\u001b[0m \u001b[1;33m\u001b[0m\u001b[0m\n\u001b[0;32m     49\u001b[0m     \u001b[1;33m@\u001b[0m\u001b[0mproperty\u001b[0m\u001b[1;33m\u001b[0m\u001b[1;33m\u001b[0m\u001b[0m\n",
      "\u001b[1;32mc:\\users\\dheeraj\\appdata\\local\\programs\\python\\python37\\lib\\socketserver.py\u001b[0m in \u001b[0;36mserve_forever\u001b[1;34m(self, poll_interval)\u001b[0m\n\u001b[0;32m    230\u001b[0m \u001b[1;33m\u001b[0m\u001b[0m\n\u001b[0;32m    231\u001b[0m                 \u001b[1;32mwhile\u001b[0m \u001b[1;32mnot\u001b[0m \u001b[0mself\u001b[0m\u001b[1;33m.\u001b[0m\u001b[0m__shutdown_request\u001b[0m\u001b[1;33m:\u001b[0m\u001b[1;33m\u001b[0m\u001b[1;33m\u001b[0m\u001b[0m\n\u001b[1;32m--> 232\u001b[1;33m                     \u001b[0mready\u001b[0m \u001b[1;33m=\u001b[0m \u001b[0mselector\u001b[0m\u001b[1;33m.\u001b[0m\u001b[0mselect\u001b[0m\u001b[1;33m(\u001b[0m\u001b[0mpoll_interval\u001b[0m\u001b[1;33m)\u001b[0m\u001b[1;33m\u001b[0m\u001b[1;33m\u001b[0m\u001b[0m\n\u001b[0m\u001b[0;32m    233\u001b[0m                     \u001b[1;31m# bpo-35017: shutdown() called during select(), exit immediately.\u001b[0m\u001b[1;33m\u001b[0m\u001b[1;33m\u001b[0m\u001b[1;33m\u001b[0m\u001b[0m\n\u001b[0;32m    234\u001b[0m                     \u001b[1;32mif\u001b[0m \u001b[0mself\u001b[0m\u001b[1;33m.\u001b[0m\u001b[0m__shutdown_request\u001b[0m\u001b[1;33m:\u001b[0m\u001b[1;33m\u001b[0m\u001b[1;33m\u001b[0m\u001b[0m\n",
      "\u001b[1;32mc:\\users\\dheeraj\\appdata\\local\\programs\\python\\python37\\lib\\selectors.py\u001b[0m in \u001b[0;36mselect\u001b[1;34m(self, timeout)\u001b[0m\n\u001b[0;32m    321\u001b[0m         \u001b[0mready\u001b[0m \u001b[1;33m=\u001b[0m \u001b[1;33m[\u001b[0m\u001b[1;33m]\u001b[0m\u001b[1;33m\u001b[0m\u001b[1;33m\u001b[0m\u001b[0m\n\u001b[0;32m    322\u001b[0m         \u001b[1;32mtry\u001b[0m\u001b[1;33m:\u001b[0m\u001b[1;33m\u001b[0m\u001b[1;33m\u001b[0m\u001b[0m\n\u001b[1;32m--> 323\u001b[1;33m             \u001b[0mr\u001b[0m\u001b[1;33m,\u001b[0m \u001b[0mw\u001b[0m\u001b[1;33m,\u001b[0m \u001b[0m_\u001b[0m \u001b[1;33m=\u001b[0m \u001b[0mself\u001b[0m\u001b[1;33m.\u001b[0m\u001b[0m_select\u001b[0m\u001b[1;33m(\u001b[0m\u001b[0mself\u001b[0m\u001b[1;33m.\u001b[0m\u001b[0m_readers\u001b[0m\u001b[1;33m,\u001b[0m \u001b[0mself\u001b[0m\u001b[1;33m.\u001b[0m\u001b[0m_writers\u001b[0m\u001b[1;33m,\u001b[0m \u001b[1;33m[\u001b[0m\u001b[1;33m]\u001b[0m\u001b[1;33m,\u001b[0m \u001b[0mtimeout\u001b[0m\u001b[1;33m)\u001b[0m\u001b[1;33m\u001b[0m\u001b[1;33m\u001b[0m\u001b[0m\n\u001b[0m\u001b[0;32m    324\u001b[0m         \u001b[1;32mexcept\u001b[0m \u001b[0mInterruptedError\u001b[0m\u001b[1;33m:\u001b[0m\u001b[1;33m\u001b[0m\u001b[1;33m\u001b[0m\u001b[0m\n\u001b[0;32m    325\u001b[0m             \u001b[1;32mreturn\u001b[0m \u001b[0mready\u001b[0m\u001b[1;33m\u001b[0m\u001b[1;33m\u001b[0m\u001b[0m\n",
      "\u001b[1;32mc:\\users\\dheeraj\\appdata\\local\\programs\\python\\python37\\lib\\selectors.py\u001b[0m in \u001b[0;36m_select\u001b[1;34m(self, r, w, _, timeout)\u001b[0m\n\u001b[0;32m    312\u001b[0m     \u001b[1;32mif\u001b[0m \u001b[0msys\u001b[0m\u001b[1;33m.\u001b[0m\u001b[0mplatform\u001b[0m \u001b[1;33m==\u001b[0m \u001b[1;34m'win32'\u001b[0m\u001b[1;33m:\u001b[0m\u001b[1;33m\u001b[0m\u001b[1;33m\u001b[0m\u001b[0m\n\u001b[0;32m    313\u001b[0m         \u001b[1;32mdef\u001b[0m \u001b[0m_select\u001b[0m\u001b[1;33m(\u001b[0m\u001b[0mself\u001b[0m\u001b[1;33m,\u001b[0m \u001b[0mr\u001b[0m\u001b[1;33m,\u001b[0m \u001b[0mw\u001b[0m\u001b[1;33m,\u001b[0m \u001b[0m_\u001b[0m\u001b[1;33m,\u001b[0m \u001b[0mtimeout\u001b[0m\u001b[1;33m=\u001b[0m\u001b[1;32mNone\u001b[0m\u001b[1;33m)\u001b[0m\u001b[1;33m:\u001b[0m\u001b[1;33m\u001b[0m\u001b[1;33m\u001b[0m\u001b[0m\n\u001b[1;32m--> 314\u001b[1;33m             \u001b[0mr\u001b[0m\u001b[1;33m,\u001b[0m \u001b[0mw\u001b[0m\u001b[1;33m,\u001b[0m \u001b[0mx\u001b[0m \u001b[1;33m=\u001b[0m \u001b[0mselect\u001b[0m\u001b[1;33m.\u001b[0m\u001b[0mselect\u001b[0m\u001b[1;33m(\u001b[0m\u001b[0mr\u001b[0m\u001b[1;33m,\u001b[0m \u001b[0mw\u001b[0m\u001b[1;33m,\u001b[0m \u001b[0mw\u001b[0m\u001b[1;33m,\u001b[0m \u001b[0mtimeout\u001b[0m\u001b[1;33m)\u001b[0m\u001b[1;33m\u001b[0m\u001b[1;33m\u001b[0m\u001b[0m\n\u001b[0m\u001b[0;32m    315\u001b[0m             \u001b[1;32mreturn\u001b[0m \u001b[0mr\u001b[0m\u001b[1;33m,\u001b[0m \u001b[0mw\u001b[0m \u001b[1;33m+\u001b[0m \u001b[0mx\u001b[0m\u001b[1;33m,\u001b[0m \u001b[1;33m[\u001b[0m\u001b[1;33m]\u001b[0m\u001b[1;33m\u001b[0m\u001b[1;33m\u001b[0m\u001b[0m\n\u001b[0;32m    316\u001b[0m     \u001b[1;32melse\u001b[0m\u001b[1;33m:\u001b[0m\u001b[1;33m\u001b[0m\u001b[1;33m\u001b[0m\u001b[0m\n",
      "\u001b[1;31mKeyboardInterrupt\u001b[0m: "
     ]
    }
   ],
   "source": [
    "app = ServingApp()\n",
    "app.add_inference_handler('/api/v1/predict', MyPredictor())\n",
    "app.run()"
   ]
  },
  {
   "cell_type": "code",
   "execution_count": null,
   "metadata": {},
   "outputs": [],
   "source": [
    "\n"
   ]
  },
  {
   "cell_type": "code",
   "execution_count": null,
   "metadata": {},
   "outputs": [],
   "source": []
  }
 ],
 "metadata": {
  "kernelspec": {
   "display_name": "Python 3",
   "language": "python",
   "name": "python3"
  },
  "language_info": {
   "codemirror_mode": {
    "name": "ipython",
    "version": 3
   },
   "file_extension": ".py",
   "mimetype": "text/x-python",
   "name": "python",
   "nbconvert_exporter": "python",
   "pygments_lexer": "ipython3",
   "version": "3.7.5"
  }
 },
 "nbformat": 4,
 "nbformat_minor": 2
}
