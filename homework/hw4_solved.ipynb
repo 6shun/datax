{
 "cells": [
  {
   "cell_type": "code",
   "execution_count": null,
   "metadata": {
    "deletable": false,
    "editable": false
   },
   "outputs": [],
   "source": [
    "# Initialize Otter Grader\n",
    "import otter\n",
    "grader = otter.Notebook()"
   ]
  },
  {
   "cell_type": "markdown",
   "metadata": {},
   "source": [
    "![data-x](https://raw.githubusercontent.com/afo/data-x-plaksha/master/imgsource/dx_logo.png)"
   ]
  },
  {
   "cell_type": "markdown",
   "metadata": {},
   "source": [
    "___\n",
    "\n",
    "#### NAME:\n",
    "\n",
    "#### STUDENT ID:\n",
    "___"
   ]
  },
  {
   "cell_type": "markdown",
   "metadata": {},
   "source": [
    "# Data-X Fall 2020: Homework 04\n",
    "\n",
    "### Linear regression and matplotlib.\n",
    "\n",
    "Author: Ming-Yen Kao.\n",
    "\n",
    "In this homework, you will do some exercises with regression and plotting. \n",
    "\n",
    "## Only submit your jupyter notebook to Gradescope"
   ]
  },
  {
   "cell_type": "markdown",
   "metadata": {},
   "source": [
    "## Question 1 - Data Pre-processing"
   ]
  },
  {
   "cell_type": "markdown",
   "metadata": {},
   "source": [
    "Data Source of SP500.csv is Yahoo Finance; Data Source of Gold.csv is Gold.org; Data Source of 30YTBond.csv is Macrotrends.net.\n",
    "SP500 is a stock market index that measures the stock performance of 500 large companies listed on stock exchanges in the United States. The unit of Gold price is USD per oz. 30YTBond stands for US Treasury Bond future price with maturity of 30 years."
   ]
  },
  {
   "cell_type": "markdown",
   "metadata": {
    "deletable": false,
    "editable": false
   },
   "source": [
    "\n",
    "1a) Use pandas to load data from .csv to DataFrame. Please load 'SP500.csv' to df_SP500, load 'Gold.csv' to df_Gold, and load '30YTBond.csv' to df_30YTB.\n",
    "\n",
    "<!--\n",
    "BEGIN QUESTION\n",
    "name: q1a\n",
    "manual: false\n",
    "points: 1\n",
    "-->"
   ]
  },
  {
   "cell_type": "code",
   "execution_count": 1,
   "metadata": {},
   "outputs": [
    {
     "name": "stdout",
     "output_type": "stream",
     "text": [
      "         Date       Open       High        Low      Close  Adj Close  Volume\n",
      "0  1927-12-01  17.660000  17.660000  17.660000  17.660000  17.660000       0\n",
      "1  1928-01-01  17.760000  17.760000  17.260000  17.570000  17.570000       0\n",
      "2  1928-02-01  17.530001  17.629999  16.950001  17.260000  17.260000       0\n",
      "3  1928-03-01  17.299999  19.280001  17.299999  19.280001  19.280001       0\n",
      "4  1928-04-01  18.910000  19.750000  18.910000  19.750000  19.750000       0\n",
      "         Date  US dollar   Euro  Pound sterling  Japanese yen\n",
      "0  1969/12/31      35.20  22.24           14.66      12592.44\n",
      "1   1970/1/30      34.99  23.20           14.54      12496.35\n",
      "2   1970/2/27      35.02  23.26           14.55      12529.95\n",
      "3   1970/3/31      35.30  23.42           14.67      12627.65\n",
      "4   1970/4/30      35.85  23.79           14.93      12858.36\n",
      "        Date    value\n",
      "0  1977/8/22  102.375\n",
      "1  1977/8/23  102.781\n",
      "2  1977/8/24  102.656\n",
      "3  1977/8/25  103.094\n",
      "4  1977/8/26  103.062\n"
     ]
    }
   ],
   "source": [
    "# Load required modules\n",
    "import numpy as np\n",
    "import pandas as pd\n",
    "import datetime as dt\n",
    "\n",
    "df_SP500=pd.read_csv(\"SP500.csv\")\n",
    "df_Gold=pd.read_csv(\"Gold.csv\")\n",
    "df_30YTB=pd.read_csv(\"30YTBond.csv\")\n",
    "\n",
    "print(df_SP500.head(5))\n",
    "print(df_Gold.head(5))\n",
    "print(df_30YTB.head(5))"
   ]
  },
  {
   "cell_type": "code",
   "execution_count": null,
   "metadata": {
    "deletable": false,
    "editable": false
   },
   "outputs": [],
   "source": [
    "grader.check(\"q1a\")"
   ]
  },
  {
   "cell_type": "markdown",
   "metadata": {
    "deletable": false,
    "editable": false
   },
   "source": [
    "1b) Only leave 'Date' and 'US dolloar price' in df_Gold and only leave 'Date' and 'closing price' in df_SP500. In other word 'Open', 'High', 'Low', 'Adj Close', and 'Volume' have to be dropped from df_SP500. 'Euro', 'Pound sterling', and 'Japanese yen' have to be dropped from df_Gold.\n",
    "\n",
    "<!--\n",
    "BEGIN QUESTION\n",
    "name: q1b\n",
    "manual: false\n",
    "points: 2\n",
    "-->"
   ]
  },
  {
   "cell_type": "code",
   "execution_count": 2,
   "metadata": {},
   "outputs": [
    {
     "name": "stdout",
     "output_type": "stream",
     "text": [
      "         Date  US dollar\n",
      "0  1969/12/31      35.20\n",
      "1   1970/1/30      34.99\n",
      "2   1970/2/27      35.02\n",
      "3   1970/3/31      35.30\n",
      "4   1970/4/30      35.85\n",
      "         Date      Close\n",
      "0  1927-12-01  17.660000\n",
      "1  1928-01-01  17.570000\n",
      "2  1928-02-01  17.260000\n",
      "3  1928-03-01  19.280001\n",
      "4  1928-04-01  19.750000\n"
     ]
    }
   ],
   "source": [
    "df_Gold=df_Gold[[\"Date\",\"US dollar\"]]\n",
    "print(df_Gold.head(5))\n",
    "df_SP500=df_SP500[[\"Date\",\"Close\"]]\n",
    "print(df_SP500.head(5))"
   ]
  },
  {
   "cell_type": "code",
   "execution_count": null,
   "metadata": {
    "deletable": false,
    "editable": false
   },
   "outputs": [],
   "source": [
    "grader.check(\"q1b\")"
   ]
  },
  {
   "cell_type": "markdown",
   "metadata": {
    "deletable": false,
    "editable": false
   },
   "source": [
    "1c) Sample the very first price of the asset in each month to represnet that month. \n",
    "\n",
    "For example, 1999/1/2 price of bananan is 90; 1999/1/5 price of bananan is 85; 1999/1/6 price of bananan is 91. You should use 90 to represent the price of 1999/1. Please convert the date to Pandas datetime formate with day always = 1 ex: 1970-02-01 or 2000-11-01. Replace the original data frames of df_SP500, df_Gold, and df_30YTB with the sampled data frames. For example, we have [1999/1/2: 90, 1999/1/5: 85, 1999/1/6: 91, 1999/2/4: 70, 1999/2/7: 89]. After sampling, we should have [1999/1/1: 90, 1999/2/1: 70].\n",
    "\n",
    "* Remember to keep the Date in the format of Pandas timestamp!\n",
    "\n",
    "df_30YTB after sampling should be\n",
    "<img src=\"./Img6.png\">\n",
    "<!--\n",
    "BEGIN QUESTION\n",
    "name: q1c\n",
    "manual: false\n",
    "points: 3\n",
    "-->"
   ]
  },
  {
   "cell_type": "code",
   "execution_count": 3,
   "metadata": {},
   "outputs": [
    {
     "name": "stderr",
     "output_type": "stream",
     "text": [
      "C:\\Users\\tobias.grab\\Anaconda3\\envs\\dataNew\\lib\\site-packages\\ipykernel_launcher.py:6: SettingWithCopyWarning: \n",
      "A value is trying to be set on a copy of a slice from a DataFrame\n",
      "\n",
      "See the caveats in the documentation: https://pandas.pydata.org/pandas-docs/stable/user_guide/indexing.html#returning-a-view-versus-a-copy\n",
      "  \n",
      "C:\\Users\\tobias.grab\\Anaconda3\\envs\\dataNew\\lib\\site-packages\\ipykernel_launcher.py:10: SettingWithCopyWarning: \n",
      "A value is trying to be set on a copy of a slice from a DataFrame\n",
      "\n",
      "See the caveats in the documentation: https://pandas.pydata.org/pandas-docs/stable/user_guide/indexing.html#returning-a-view-versus-a-copy\n",
      "  # Remove the CWD from sys.path while we load stuff.\n",
      "C:\\Users\\tobias.grab\\Anaconda3\\envs\\dataNew\\lib\\site-packages\\ipykernel_launcher.py:14: SettingWithCopyWarning: \n",
      "A value is trying to be set on a copy of a slice from a DataFrame\n",
      "\n",
      "See the caveats in the documentation: https://pandas.pydata.org/pandas-docs/stable/user_guide/indexing.html#returning-a-view-versus-a-copy\n",
      "  \n"
     ]
    },
    {
     "name": "stdout",
     "output_type": "stream",
     "text": [
      "        Date      Close\n",
      "0 1927-12-01  17.660000\n",
      "1 1928-01-01  17.570000\n",
      "2 1928-02-01  17.260000\n",
      "3 1928-03-01  19.280001\n",
      "4 1928-04-01  19.750000\n",
      "        Date  US dollar\n",
      "0 1969-12-01      35.20\n",
      "1 1970-01-01      34.99\n",
      "2 1970-02-01      35.02\n",
      "3 1970-03-01      35.30\n",
      "4 1970-04-01      35.85\n",
      "         Date    value\n",
      "0  1977-08-01  102.375\n",
      "8  1977-09-01  103.062\n",
      "29 1977-10-01  102.688\n",
      "50 1977-11-01  100.812\n",
      "71 1977-12-01  101.312\n"
     ]
    }
   ],
   "source": [
    "df_SP500[\"Date\"]=pd.to_datetime(df_SP500[\"Date\"])\n",
    "df_Gold[\"Date\"]=pd.to_datetime(df_Gold[\"Date\"])\n",
    "df_30YTB[\"Date\"]=pd.to_datetime(df_30YTB[\"Date\"])\n",
    "\n",
    "for i in range(len(df_SP500)):\n",
    "    df_SP500[\"Date\"][i]=df_SP500[\"Date\"][i].replace(day=1)\n",
    "df_SP500=df_SP500.loc[df_SP500[\"Date\"].drop_duplicates(keep=\"first\").index,:]\n",
    "\n",
    "for i in range(len(df_Gold)):\n",
    "    df_Gold[\"Date\"][i]=df_Gold[\"Date\"][i].replace(day=1)\n",
    "df_Gold=df_Gold.loc[df_Gold[\"Date\"].drop_duplicates(keep=\"first\").index,:]\n",
    "\n",
    "for i in range(len(df_30YTB)):\n",
    "    df_30YTB[\"Date\"][i]=df_30YTB[\"Date\"][i].replace(day=1)\n",
    "df_30YTB=df_30YTB.loc[df_30YTB[\"Date\"].drop_duplicates(keep=\"first\").index,:]\n",
    "\n",
    "\n",
    "print(df_SP500.head(5))\n",
    "print(df_Gold.head(5))\n",
    "print(df_30YTB.head(5))\n",
    "\n"
   ]
  },
  {
   "cell_type": "code",
   "execution_count": null,
   "metadata": {
    "deletable": false,
    "editable": false
   },
   "outputs": [],
   "source": [
    "grader.check(\"q1c\")"
   ]
  },
  {
   "cell_type": "markdown",
   "metadata": {},
   "source": [
    "## Question 2 - Data Visualization & Linear Regression"
   ]
  },
  {
   "cell_type": "code",
   "execution_count": 4,
   "metadata": {},
   "outputs": [],
   "source": [
    "import matplotlib.pyplot as plt"
   ]
  },
  {
   "cell_type": "markdown",
   "metadata": {
    "deletable": false,
    "editable": false
   },
   "source": [
    "2a) Oberve the example plot below and try to reproduce it. y-left is df_SP500['Date'] in linear scale and y-right is df_SP500['Date'] in log scale. \n",
    "\n",
    "Specs:\n",
    "1. x-label and x-scale in black\n",
    "2. y-left label, y-left scale, and the corresponding line-plot in blue\n",
    "3. y-right label, y-right scale, and the corresponding line-plot in red\n",
    "4. plot title is 'Price of the S&P 500 Index'\n",
    "5. y-left label is 'Price (linear in $ US Dollars)'\n",
    "\n",
    "6. y-right label is 'Price (log in $ US Dollars)'\n",
    "7. x label is 'Date'\n",
    "\n",
    "\n",
    "Some helpful functions: axis.set_xlabel(), axis.set_ylabel(), axis.tick_params(), and axis.twinx()\n",
    "\n",
    "<img src=\"./Img1.png\">\n",
    "\n",
    "<!--\n",
    "BEGIN QUESTION\n",
    "name: q2a\n",
    "manual: false\n",
    "points: 3\n",
    "-->"
   ]
  },
  {
   "cell_type": "code",
   "execution_count": 5,
   "metadata": {},
   "outputs": [
    {
     "data": {
      "image/png": "[encoded data removed]",
      "text/plain": [
       "<Figure size 432x288 with 2 Axes>"
      ]
     },
     "metadata": {
      "needs_background": "light"
     },
     "output_type": "display_data"
    }
   ],
   "source": [
    "fig,axis=plt.subplots()\n",
    "axis.plot(df_SP500[\"Date\"], df_SP500[\"Close\"],color=\"blue\")\n",
    "axis.set_ylabel(\"Price (linear in US Dollars)\",color=\"blue\")\n",
    "axis.set_xlabel(\"Date\")\n",
    "axis.tick_params(axis=\"y\",colors='blue')\n",
    "axis.tick_params(axis=\"x\",colors=\"black\", length=5, width=20)\n",
    "\n",
    "\n",
    "axis.set_title('Price of the S&P 500 Index')\n",
    "\n",
    "\n",
    "axis2=axis.twinx()\n",
    "axis2.set_ylabel(\"Price (log in US Dollars)\", color=\"red\")\n",
    "axis2.set_yscale(\"log\")\n",
    "axis2.tick_params(labelcolor=\"red\")\n",
    "axis2.plot(df_SP500[\"Date\"], df_SP500[\"Close\"],color=\"red\")\n",
    "\n",
    "plt.show()"
   ]
  },
  {
   "cell_type": "code",
   "execution_count": null,
   "metadata": {
    "deletable": false,
    "editable": false
   },
   "outputs": [],
   "source": [
    "grader.check(\"q2a\")"
   ]
  },
  {
   "cell_type": "markdown",
   "metadata": {
    "deletable": false,
    "editable": false
   },
   "source": [
    "2b) Linear regression of S&P 500 Index. \n",
    "\n",
    "1. Convert the 'Date' in df_SP500 to numpy.array and convert the unit to day as 'x' and convert the 'Close' in df_SP500 to numpy.array as 'y'. \n",
    "2. Shift the date so that the first element in array 'x' is 0.\n",
    "3. Follow the linear regression procedure in the slides https://datax.berkeley.edu/wp-content/uploads/2020/09/slides-m100-linear-regression.pdf. Page 9.\n",
    "4. Calculate the root mean square error and store it in 'error'. \n",
    "5. Finally plot the data and the fitting line together as the example plot below. \n",
    "\n",
    "Specs of plot:\n",
    "1. Color in default (please plot the data first so that the color of data will be blue)\n",
    "2. plot title is 'Price of the S&P 500 Index'\n",
    "3. x-label is 'Date'\n",
    "4. y-label is 'Price (in $ US Dollars)'\n",
    "\n",
    "<img src=\"./Img2.png\">\n",
    "\n",
    "<!--\n",
    "BEGIN QUESTION\n",
    "name: q2b\n",
    "manual: false\n",
    "points: 3\n",
    "-->"
   ]
  },
  {
   "cell_type": "code",
   "execution_count": 6,
   "metadata": {},
   "outputs": [
    {
     "data": {
      "image/png": "[encoded data removed]",
      "text/plain": [
       "<Figure size 432x288 with 1 Axes>"
      ]
     },
     "metadata": {
      "needs_background": "light"
     },
     "output_type": "display_data"
    }
   ],
   "source": [
    "y=np.array([df_SP500[\"Close\"]])\n",
    "x=np.arange(df_SP500[\"Date\"].shape[0])\n",
    "x=np.arange(len(x))\n",
    "\n",
    "E_x= np.mean(x)\n",
    "E_y=np.mean(y)\n",
    "cov_xy = np.mean(x*y)-E_x*E_y\n",
    "y_0=E_y - cov_xy/np.var(x)*E_x\n",
    "m=cov_xy/np.var(x)\n",
    "\n",
    "y_pred=m*x+y_0\n",
    "\n",
    "fig,axis=plt.subplots()\n",
    "axis.plot(df_SP500[\"Date\"], df_SP500[\"Close\"])\n",
    "axis.plot(df_SP500[\"Date\"], y_pred)\n",
    "axis.set_title(\"Price of the S&P 500 Index\")\n",
    "axis.set_xlabel(\"Date\")\n",
    "axis.set_ylabel(\"Price (in $ US Dollars)\")\n",
    "plt.show()\n",
    "\n",
    "error= np.mean(np.square(y_pred-y))\n",
    "\n",
    "#print ('Root Mean Square Error: ', error )"
   ]
  },
  {
   "cell_type": "code",
   "execution_count": null,
   "metadata": {
    "deletable": false,
    "editable": false
   },
   "outputs": [],
   "source": [
    "grader.check(\"q2b\")"
   ]
  },
  {
   "cell_type": "markdown",
   "metadata": {
    "deletable": false,
    "editable": false
   },
   "source": [
    "2c) Exponential regression of S&P 500 Index. \n",
    "1. Do the same thing as in 2b, but try to use exponential to fit the data this time. \n",
    "2. Convert the 'Date' in df_SP500 to numpy.array and convert the unit to day as 'x' and convert the 'Close' in df_SP500 to numpy.array as 'y'. \n",
    "3. Shift the date so that the first element in array 'x' is 0.\n",
    "4. Use exponential function to fit the data. Calculate the root mean square error and store it in 'error'. \n",
    "5. Finally plot the data and the fitting line  together as the example below.\n",
    "\n",
    "Hint: apply log to y value so that you can process the data as linear regression in 2(b). Remember to convert it back for the calculation for the 'error' and for the plot.\n",
    "\n",
    "\n",
    "Specs of plot:\n",
    "1. Color in default (please plot the data first so that the color of data will be blue)\n",
    "2. plot title is 'Price of the S&P 500 Index'\n",
    "3. x-label is 'Date'\n",
    "4. y-label is 'Price (in $ US Dollars)'\n",
    "\n",
    "<img src=\"./Img3.png\">\n",
    "\n",
    "<!--\n",
    "BEGIN QUESTION\n",
    "name: q2c\n",
    "manual: false\n",
    "points: 3\n",
    "-->"
   ]
  },
  {
   "cell_type": "code",
   "execution_count": 7,
   "metadata": {},
   "outputs": [
    {
     "data": {
      "image/png": "[encoded data removed]",
      "text/plain": [
       "<Figure size 432x288 with 1 Axes>"
      ]
     },
     "metadata": {
      "needs_background": "light"
     },
     "output_type": "display_data"
    },
    {
     "name": "stdout",
     "output_type": "stream",
     "text": [
      "Root Mean Square Error:  34070.755931679814\n"
     ]
    }
   ],
   "source": [
    "y=np.log(np.array([df_SP500[\"Close\"]]))\n",
    "x=np.arange(df_SP500[\"Date\"].shape[0])\n",
    "x=np.arange(len(x))\n",
    "\n",
    "E_x= np.mean(x)\n",
    "E_y=np.mean(y)\n",
    "cov_xy = np.mean(x*y)-E_x*E_y\n",
    "y_0=E_y - cov_xy/np.var(x)*E_x\n",
    "m=cov_xy/np.var(x)\n",
    "\n",
    "y_pred=np.exp(m*x+y_0)\n",
    "\n",
    "fig,axis=plt.subplots()\n",
    "axis.plot(df_SP500[\"Date\"], df_SP500[\"Close\"])\n",
    "axis.plot(df_SP500[\"Date\"], y_pred)\n",
    "axis.set_title(\"Price of the S&P 500 Index\")\n",
    "axis.set_xlabel(\"Date\")\n",
    "axis.set_ylabel(\"Price (in $ US Dollars)\")\n",
    "plt.show()\n",
    "\n",
    "error= np.mean(np.square(y_pred-np.exp(y)))\n",
    "print ('Root Mean Square Error: ',  error)"
   ]
  },
  {
   "cell_type": "code",
   "execution_count": null,
   "metadata": {
    "deletable": false,
    "editable": false
   },
   "outputs": [],
   "source": [
    "grader.check(\"q2c\")"
   ]
  },
  {
   "cell_type": "markdown",
   "metadata": {
    "deletable": false,
    "editable": false
   },
   "source": [
    "2d) Scatter plot of month-to-month return of S&P 500 Index and 30 Year Treasury Bond.\n",
    "1. Compute the month-to-month returns on S&P 500 and 30 Year Treasury Bond between 1977-08-01 (inclusive) and 2019-12-31 (inclusive). The month-to-month returns should be in the net-increment. For example, price on 2014-1-1 is 100 and price on 2014-2-1 is 105. The month-to-month return from 2014-1-1 to 2014-2-1 should be 0.05. Another example, if the array of the price of S&P 500 is [100, 105, 100, 105], the month-to-month return array should be [0.05, -0.04761904762, 0.05].\n",
    "2. Save the month-to-month returns in the format of numpy arrary in ‘x3’ and ‘y3’, respectively. Note that if the dimension of the array of price is n, the dimension of month-to-month return array should be n-1.\n",
    "3. Finally plot ‘x3’ and ‘y3’ as scatter plot. Try to reproduce the plot below.\n",
    "\n",
    "\n",
    "Specs of plot:\n",
    "1. Color in default\n",
    "2. plot title is 'Scatter Plot of the Returns'\n",
    "3. x-label is 'Month-to-month return of the S&P 500 Index'\n",
    "4. y-label is 'Month-to-month return of the 30-Year T-bond'\n",
    "\n",
    "<img src=\"./Img4.png\">\n",
    "\n",
    "<!--\n",
    "BEGIN QUESTION\n",
    "name: q2d\n",
    "manual: false\n",
    "points: 2\n",
    "-->"
   ]
  },
  {
   "cell_type": "code",
   "execution_count": 8,
   "metadata": {},
   "outputs": [
    {
     "data": {
      "image/png": "[encoded data removed]",
      "text/plain": [
       "<Figure size 432x288 with 1 Axes>"
      ]
     },
     "metadata": {
      "needs_background": "light"
     },
     "output_type": "display_data"
    }
   ],
   "source": [
    "ts_low=pd.to_datetime(\"1977-08-01\")\n",
    "ts_high=pd.to_datetime(\"2019-12-31\")\n",
    "df_SP500=df_SP500[df_SP500.Date >=ts_low]\n",
    "df_SP500=df_SP500[df_SP500.Date <=ts_high]\n",
    "df_30YTB=df_30YTB[df_30YTB.Date >=ts_low]\n",
    "df_30YTB=df_30YTB[df_30YTB.Date <=ts_high]\n",
    "\n",
    "\n",
    "x3=(np.array(df_SP500.Close[1:])-np.array(df_SP500.Close[:-1]))/np.array(df_SP500.Close[:-1])\n",
    "y3=(np.array(df_30YTB.value[1:])-np.array(df_30YTB.value[:-1]))/np.array(df_30YTB.value[:-1])\n",
    "\n",
    "\n",
    "fig,axis=plt.subplots()\n",
    "axis.scatter(x3,y3)\n",
    "axis.set_title(\"Scatter Plot of the Returns\")\n",
    "axis.set_xlabel(\"Month-to-month return of the S&P 500 Index\")\n",
    "axis.set_ylabel(\"Month-to-month return of the 30-Year T-bond\")\n",
    "plt.show()\n"
   ]
  },
  {
   "cell_type": "code",
   "execution_count": null,
   "metadata": {
    "deletable": false,
    "editable": false
   },
   "outputs": [],
   "source": [
    "grader.check(\"q2d\")"
   ]
  },
  {
   "cell_type": "markdown",
   "metadata": {
    "deletable": false,
    "editable": false
   },
   "source": [
    "2e) Plot the histogram of S&P 500 month-to-month returns. The y-axis is count, and the x-axis is month-to-month return. The number of the bars should be 100. Try to reproduce the plot below.\n",
    "\n",
    "\n",
    "Specs of plot:\n",
    "1. Color in default\n",
    "2. plot title is 'Histogram of S&P 500'\n",
    "3. x-label is 'Month-to-Month Return'\n",
    "4. y-label is 'Count'\n",
    "5. number of the bars should be 100.\n",
    "\n",
    "<img src=\"./Img5.png\">\n",
    "\n",
    "<!--\n",
    "BEGIN QUESTION\n",
    "name: q2e\n",
    "manual: false\n",
    "points: 1\n",
    "-->"
   ]
  },
  {
   "cell_type": "code",
   "execution_count": 9,
   "metadata": {},
   "outputs": [
    {
     "data": {
      "image/png": "[encoded data removed]",
      "text/plain": [
       "<Figure size 432x288 with 1 Axes>"
      ]
     },
     "metadata": {
      "needs_background": "light"
     },
     "output_type": "display_data"
    }
   ],
   "source": [
    "fig,axis=plt.subplots()\n",
    "axis.hist(x3,100)\n",
    "axis.set_title(\"Histogram of S&P 500\")\n",
    "axis.set_xlabel(\"Month-to-Month Return\")\n",
    "axis.set_ylabel(\"Count\")\n",
    "plt.show()"
   ]
  },
  {
   "cell_type": "code",
   "execution_count": null,
   "metadata": {
    "deletable": false,
    "editable": false
   },
   "outputs": [],
   "source": [
    "grader.check(\"q2e\")"
   ]
  },
  {
   "cell_type": "markdown",
   "metadata": {
    "deletable": false,
    "editable": false
   },
   "source": [
    "# Submit\n",
    "Make sure you have run all cells in your notebook in order before running the cell below, so that all images/graphs appear in the output.\n",
    "**Please save before submitting!**"
   ]
  },
  {
   "cell_type": "code",
   "execution_count": null,
   "metadata": {
    "deletable": false,
    "editable": false
   },
   "outputs": [],
   "source": [
    "# Save your notebook first, then run this cell to create a pdf for your reference."
   ]
  }
 ],
 "metadata": {
  "kernelspec": {
   "display_name": "Python 3",
   "language": "python",
   "name": "python3"
  },
  "language_info": {
   "codemirror_mode": {
    "name": "ipython",
    "version": 3
   },
   "file_extension": ".py",
   "mimetype": "text/x-python",
   "name": "python",
   "nbconvert_exporter": "python",
   "pygments_lexer": "ipython3",
   "version": "3.7.9"
  }
 },
 "nbformat": 4,
 "nbformat_minor": 4
}
