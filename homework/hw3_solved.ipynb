{
 "cells": [
  {
   "cell_type": "code",
   "execution_count": null,
   "metadata": {
    "deletable": false,
    "editable": false
   },
   "outputs": [],
   "source": [
    "# Initialize Otter Grader\n",
    "import otter\n",
    "grader = otter.Notebook()"
   ]
  },
  {
   "cell_type": "markdown",
   "metadata": {},
   "source": [
    "![data-x](https://raw.githubusercontent.com/afo/data-x-plaksha/master/imgsource/dx_logo.png)"
   ]
  },
  {
   "cell_type": "markdown",
   "metadata": {},
   "source": [
    "___\n",
    "\n",
    "#### NAME:\n",
    "\n",
    "#### STUDENT ID:\n",
    "___"
   ]
  },
  {
   "cell_type": "markdown",
   "metadata": {},
   "source": [
    "# Part I - NumPy Introduction"
   ]
  },
  {
   "cell_type": "code",
   "execution_count": 1,
   "metadata": {},
   "outputs": [],
   "source": [
    "# Load required modules\n",
    "import numpy as np"
   ]
  },
  {
   "cell_type": "markdown",
   "metadata": {},
   "source": [
    "## Question 1 - NumPy Array Operations"
   ]
  },
  {
   "cell_type": "markdown",
   "metadata": {
    "deletable": false,
    "editable": false
   },
   "source": [
    "<br>\n",
    "\n",
    "**1a) Create two numpy arrays called** ```a``` **and** ```b``` **where** ```a``` **should be all integers between 42-51 (inclusive), and** ```b``` **should be ten evenly spaced numbers between 1-6 (inclusive). Print** ```a``` **and** ```b```\n",
    "\n",
    "<!--\n",
    "BEGIN QUESTION\n",
    "name: q1a\n",
    "manual: false\n",
    "points: 1\n",
    "-->"
   ]
  },
  {
   "cell_type": "code",
   "execution_count": 2,
   "metadata": {
    "colab": {},
    "colab_type": "code",
    "id": "RYaAV-KWwVcF",
    "outputId": "b148182c-a5fd-41a3-9848-6de5f3678f17"
   },
   "outputs": [
    {
     "name": "stdout",
     "output_type": "stream",
     "text": [
      "[42 43 44 45 46 47 48 49 50 51]\n",
      "[1.         1.55555556 2.11111111 2.66666667 3.22222222 3.77777778\n",
      " 4.33333333 4.88888889 5.44444444 6.        ]\n"
     ]
    }
   ],
   "source": [
    "# your code here\n",
    "a=np.arange(42,52,1)\n",
    "b=np.linspace(1,6,10)\n",
    "print(a)\n",
    "print(b)"
   ]
  },
  {
   "cell_type": "code",
   "execution_count": null,
   "metadata": {
    "deletable": false,
    "editable": false
   },
   "outputs": [],
   "source": [
    "grader.check(\"q1a\")"
   ]
  },
  {
   "cell_type": "markdown",
   "metadata": {
    "deletable": false,
    "editable": false
   },
   "source": [
    "<br>\n",
    "\n",
    "**1b) [Cube](https://numpy.org/doc/stable/reference/routines.math.html) (i.e. raise to the power of 3) all the elements in both** ```a``` **and** ```b``` **(element-wise). Store the results in two new arrays called** ```cubed_a``` **and** ```cubed_b```**. Print** ```cubed_a``` **and** ```cubed_b```\n",
    "\n",
    "<!--\n",
    "BEGIN QUESTION\n",
    "name: q1b\n",
    "manual: false\n",
    "points: 1\n",
    "-->"
   ]
  },
  {
   "cell_type": "code",
   "execution_count": 3,
   "metadata": {
    "tags": []
   },
   "outputs": [
    {
     "name": "stdout",
     "output_type": "stream",
     "text": [
      "[ 74088  79507  85184  91125  97336 103823 110592 117649 125000 132651]\n",
      "[  1.           3.76406036   9.40877915  18.96296296  33.45541838\n",
      "  53.91495199  81.37037037 116.85048011 161.38408779 216.        ]\n"
     ]
    }
   ],
   "source": [
    "# your code here\n",
    "cubed_a=np.power(a,3)\n",
    "cubed_b=np.power(b,3)\n",
    "print(cubed_a)\n",
    "print(cubed_b)"
   ]
  },
  {
   "cell_type": "code",
   "execution_count": null,
   "metadata": {
    "deletable": false,
    "editable": false
   },
   "outputs": [],
   "source": [
    "grader.check(\"q1b\")"
   ]
  },
  {
   "cell_type": "markdown",
   "metadata": {
    "deletable": false,
    "editable": false
   },
   "source": [
    "<br>\n",
    "\n",
    "**1c) [Add](https://numpy.org/doc/stable/reference/routines.math.html) the two cubed arrays (e.g.** ```[1,2] + [3,4] = [4,6]```**) and store the result in an array called** ```c```**. Print** ```c```\n",
    "\n",
    "<!--\n",
    "BEGIN QUESTION\n",
    "name: q1c\n",
    "manual: false\n",
    "points: 1\n",
    "-->"
   ]
  },
  {
   "cell_type": "code",
   "execution_count": 4,
   "metadata": {
    "tags": []
   },
   "outputs": [
    {
     "name": "stdout",
     "output_type": "stream",
     "text": [
      "[ 74089.          79510.76406036  85193.40877915  91143.96296296\n",
      "  97369.45541838 103876.91495199 110673.37037037 117765.85048011\n",
      " 125161.38408779 132867.        ]\n"
     ]
    }
   ],
   "source": [
    "# your code here\n",
    "c=cubed_a+cubed_b\n",
    "print(c)"
   ]
  },
  {
   "cell_type": "code",
   "execution_count": null,
   "metadata": {
    "deletable": false,
    "editable": false
   },
   "outputs": [],
   "source": [
    "grader.check(\"q1c\")"
   ]
  },
  {
   "cell_type": "markdown",
   "metadata": {
    "deletable": false,
    "editable": false
   },
   "source": [
    "<br>\n",
    "\n",
    "**1d) [Sum](https://numpy.org/doc/stable/reference/routines.math.html) the elements with even indices of** ```c``` **and store the result in a variable called** ```d```**. Print** ```d```\n",
    "\n",
    "<!--\n",
    "BEGIN QUESTION\n",
    "name: q1d\n",
    "manual: false\n",
    "points: 1\n",
    "-->"
   ]
  },
  {
   "cell_type": "code",
   "execution_count": 35,
   "metadata": {
    "colab": {},
    "colab_type": "code",
    "id": "vxnHmer6wVcS",
    "outputId": "07422bde-d80c-4401-9fe0-d08f415abe56",
    "tags": []
   },
   "outputs": [
    {
     "name": "stdout",
     "output_type": "stream",
     "text": [
      "492486.6186556927\n"
     ]
    }
   ],
   "source": [
    "# your code here\n",
    "d=sum(c[::2])\n",
    "print(d)"
   ]
  },
  {
   "cell_type": "code",
   "execution_count": null,
   "metadata": {
    "deletable": false,
    "editable": false
   },
   "outputs": [],
   "source": [
    "grader.check(\"q1d\")"
   ]
  },
  {
   "cell_type": "markdown",
   "metadata": {
    "deletable": false,
    "editable": false
   },
   "source": [
    "<br>\n",
    "\n",
    "**1e) Take the element-wise [square root](https://numpy.org/doc/stable/reference/routines.math.html) of the** ```c``` **and store the result in an array called** ```e```**. Print** ```e```\n",
    "\n",
    "<!--\n",
    "BEGIN QUESTION\n",
    "name: q1e\n",
    "manual: false\n",
    "points: 1\n",
    "-->"
   ]
  },
  {
   "cell_type": "code",
   "execution_count": 6,
   "metadata": {
    "tags": []
   },
   "outputs": [
    {
     "name": "stdout",
     "output_type": "stream",
     "text": [
      "[272.19294627 281.97653105 291.87909959 301.90058457 312.04079127\n",
      " 322.29941817 332.67607424 343.1702937  353.78154854 364.50925914]\n"
     ]
    }
   ],
   "source": [
    "# your code here\n",
    "e=np.sqrt(c)\n",
    "print(e)"
   ]
  },
  {
   "cell_type": "code",
   "execution_count": null,
   "metadata": {
    "deletable": false,
    "editable": false
   },
   "outputs": [],
   "source": [
    "grader.check(\"q1e\")"
   ]
  },
  {
   "cell_type": "markdown",
   "metadata": {
    "colab_type": "text",
    "deletable": false,
    "editable": false,
    "id": "tClN_KLOwVca"
   },
   "source": [
    "<br>\n",
    "\n",
    "**1f) [Append](https://numpy.org/doc/stable/reference/routines.array-manipulation.html)** ```b``` **to** ```a```, **[reshape](https://numpy.org/doc/stable/reference/routines.array-manipulation.html) the appended array so that it is a 4x5, 2D array and store the results in a variable called** ```m```**. Print** ```m```\n",
    "\n",
    "<!--\n",
    "BEGIN QUESTION\n",
    "name: q1f\n",
    "manual: false\n",
    "points: 1\n",
    "-->"
   ]
  },
  {
   "cell_type": "code",
   "execution_count": 7,
   "metadata": {
    "colab": {},
    "colab_type": "code",
    "id": "gViYRHLYwVcb",
    "outputId": "1297dacd-36a1-4637-b648-e370ec624ea3",
    "tags": []
   },
   "outputs": [
    {
     "name": "stdout",
     "output_type": "stream",
     "text": [
      "[[42.         43.         44.         45.         46.        ]\n",
      " [47.         48.         49.         50.         51.        ]\n",
      " [ 1.          1.55555556  2.11111111  2.66666667  3.22222222]\n",
      " [ 3.77777778  4.33333333  4.88888889  5.44444444  6.        ]]\n"
     ]
    }
   ],
   "source": [
    "# your code here\n",
    "m=np.reshape(np.hstack([a,b]),[4,5])\n",
    "print(m)"
   ]
  },
  {
   "cell_type": "code",
   "execution_count": null,
   "metadata": {
    "deletable": false,
    "editable": false
   },
   "outputs": [],
   "source": [
    "grader.check(\"q1f\")"
   ]
  },
  {
   "cell_type": "markdown",
   "metadata": {
    "colab_type": "text",
    "deletable": false,
    "editable": false,
    "id": "xlN4zLY-wVce"
   },
   "source": [
    "<br>\n",
    "\n",
    "**1g) Extract the third and the fourth column of the** ```m``` **matrix. Store the resulting 4x2 matrix in a new variable called** ```m2```**. Print** ```m2```\n",
    "\n",
    "<!--\n",
    "BEGIN QUESTION\n",
    "name: q1g\n",
    "manual: false\n",
    "points: 1\n",
    "-->"
   ]
  },
  {
   "cell_type": "code",
   "execution_count": 8,
   "metadata": {
    "colab": {},
    "colab_type": "code",
    "id": "DR8rJzSnwVce",
    "outputId": "eaa1f0b4-bbdc-4134-acd9-144f26aff820",
    "scrolled": true,
    "tags": []
   },
   "outputs": [
    {
     "name": "stdout",
     "output_type": "stream",
     "text": [
      "[[45.         46.        ]\n",
      " [50.         51.        ]\n",
      " [ 2.66666667  3.22222222]\n",
      " [ 5.44444444  6.        ]]\n"
     ]
    }
   ],
   "source": [
    "# your code here\n",
    "m2=m[:,[3,4]]\n",
    "print(m2)"
   ]
  },
  {
   "cell_type": "code",
   "execution_count": null,
   "metadata": {
    "deletable": false,
    "editable": false
   },
   "outputs": [],
   "source": [
    "grader.check(\"q1g\")"
   ]
  },
  {
   "cell_type": "markdown",
   "metadata": {
    "colab_type": "text",
    "deletable": false,
    "editable": false,
    "id": "DqVr3xKmwVci"
   },
   "source": [
    "<br>\n",
    "\n",
    "**1h) Take the [dot product](https://numpy.org/doc/stable/reference/routines.array-manipulation.html) of** ```m``` **and** ```m2```**. Store the results in a matrix called** ```m3```**. Print** ```m3```\n",
    "\n",
    ">**Note:** the Dot product of two matrices is given by\n",
    "\n",
    "$$\\large{A\\cdot B = A^{T}B}$$\n",
    "\n",
    "<br>\n",
    "\n",
    "<!--\n",
    "BEGIN QUESTION\n",
    "name: q1h\n",
    "manual: false\n",
    "points: 1\n",
    "-->"
   ]
  },
  {
   "cell_type": "code",
   "execution_count": 9,
   "metadata": {
    "colab": {},
    "colab_type": "code",
    "id": "x15Fdc1GwVcj",
    "outputId": "8f4249ed-a113-48ec-e234-fa301ba77c9a",
    "tags": []
   },
   "outputs": [
    {
     "name": "stdout",
     "output_type": "stream",
     "text": [
      "[[4263.2345679  4354.88888889]\n",
      " [4362.74074074 4457.01234568]\n",
      " [4462.24691358 4559.13580247]\n",
      " [4561.75308642 4661.25925926]\n",
      " [4661.25925926 4763.38271605]]\n"
     ]
    }
   ],
   "source": [
    "# your code here\n",
    "m3=np.dot(np.transpose(m),m2)\n",
    "print(m3)"
   ]
  },
  {
   "cell_type": "code",
   "execution_count": null,
   "metadata": {
    "deletable": false,
    "editable": false
   },
   "outputs": [],
   "source": [
    "grader.check(\"q1h\")"
   ]
  },
  {
   "cell_type": "markdown",
   "metadata": {
    "colab_type": "text",
    "deletable": false,
    "editable": false,
    "id": "VoHxFMETwVcm"
   },
   "source": [
    "<br>\n",
    "\n",
    "**1i) [Round](https://numpy.org/doc/stable/reference/routines.math.html) the** ```m3``` **matrix to three decimal points. Store the result in place and print the new** ```m3```\n",
    "\n",
    "<!--\n",
    "BEGIN QUESTION\n",
    "name: q1i\n",
    "manual: false\n",
    "points: 1\n",
    "-->"
   ]
  },
  {
   "cell_type": "code",
   "execution_count": 10,
   "metadata": {
    "colab": {},
    "colab_type": "code",
    "id": "HvL4WKVzwVcu",
    "outputId": "e7b0a45c-23e8-4644-f3f8-85bcdf57dc4a",
    "scrolled": false,
    "tags": []
   },
   "outputs": [
    {
     "name": "stdout",
     "output_type": "stream",
     "text": [
      "[[4263.235 4354.889]\n",
      " [4362.741 4457.012]\n",
      " [4462.247 4559.136]\n",
      " [4561.753 4661.259]\n",
      " [4661.259 4763.383]]\n"
     ]
    }
   ],
   "source": [
    "# your code here\n",
    "m3=np.round(m3,decimals=3)\n",
    "print(m3)"
   ]
  },
  {
   "cell_type": "code",
   "execution_count": null,
   "metadata": {
    "deletable": false,
    "editable": false
   },
   "outputs": [],
   "source": [
    "grader.check(\"q1i\")"
   ]
  },
  {
   "cell_type": "markdown",
   "metadata": {},
   "source": [
    "<br>\n",
    "\n",
    "___\n",
    "\n",
    "## Question 2 - NumPy and Masks"
   ]
  },
  {
   "cell_type": "markdown",
   "metadata": {
    "deletable": false,
    "editable": false
   },
   "source": [
    "<br>\n",
    "\n",
    "**2a) Create an array called** ```f``` **where the values are** ```cos(x)``` **for** ```x``` **from $0$ to $\\pi$ with 50 [equally spaced values](https://numpy.org/doc/stable/reference/routines.array-creation.html) (inclusive). Print** ```f```\n",
    "\n",
    "<!--\n",
    "BEGIN QUESTION\n",
    "name: q2a\n",
    "manual: false\n",
    "points: 1\n",
    "-->"
   ]
  },
  {
   "cell_type": "code",
   "execution_count": 11,
   "metadata": {
    "tags": []
   },
   "outputs": [
    {
     "name": "stdout",
     "output_type": "stream",
     "text": [
      "[ 1.          0.99794539  0.99179001  0.98155916  0.96729486  0.94905575\n",
      "  0.92691676  0.90096887  0.8713187   0.8380881   0.80141362  0.76144596\n",
      "  0.71834935  0.67230089  0.6234898   0.57211666  0.51839257  0.46253829\n",
      "  0.40478334  0.34536505  0.28452759  0.22252093  0.1595999   0.09602303\n",
      "  0.03205158 -0.03205158 -0.09602303 -0.1595999  -0.22252093 -0.28452759\n",
      " -0.34536505 -0.40478334 -0.46253829 -0.51839257 -0.57211666 -0.6234898\n",
      " -0.67230089 -0.71834935 -0.76144596 -0.80141362 -0.8380881  -0.8713187\n",
      " -0.90096887 -0.92691676 -0.94905575 -0.96729486 -0.98155916 -0.99179001\n",
      " -0.99794539 -1.        ]\n"
     ]
    }
   ],
   "source": [
    "# your code here\n",
    "f=np.cos(np.linspace(0,1,50)*np.pi)\n",
    "print(f)"
   ]
  },
  {
   "cell_type": "code",
   "execution_count": null,
   "metadata": {
    "deletable": false,
    "editable": false
   },
   "outputs": [],
   "source": [
    "grader.check(\"q2a\")"
   ]
  },
  {
   "cell_type": "markdown",
   "metadata": {
    "deletable": false,
    "editable": false
   },
   "source": [
    "<br>\n",
    "\n",
    "**2b) Use a [mask](https://numpy.org/doc/stable/reference/maskedarray.html) to get an array that is** ```True``` **when** ```f >= 1/2``` **and** ```False``` **when** ```f < 1/2```**. Store the result in an array called** ```g```**. Print** ```g```\n",
    "\n",
    "<!--\n",
    "BEGIN QUESTION\n",
    "name: q2b\n",
    "manual: false\n",
    "points: 1\n",
    "-->"
   ]
  },
  {
   "cell_type": "code",
   "execution_count": 12,
   "metadata": {
    "tags": []
   },
   "outputs": [
    {
     "name": "stdout",
     "output_type": "stream",
     "text": [
      "[ True  True  True  True  True  True  True  True  True  True  True  True\n",
      "  True  True  True  True  True False False False False False False False\n",
      " False False False False False False False False False False False False\n",
      " False False False False False False False False False False False False\n",
      " False False]\n"
     ]
    }
   ],
   "source": [
    "# your code here\n",
    "g=f>0.5\n",
    "print(g)"
   ]
  },
  {
   "cell_type": "code",
   "execution_count": null,
   "metadata": {
    "deletable": false,
    "editable": false
   },
   "outputs": [],
   "source": [
    "grader.check(\"q2b\")"
   ]
  },
  {
   "cell_type": "markdown",
   "metadata": {
    "deletable": false,
    "editable": false
   },
   "source": [
    "<br>\n",
    "\n",
    "**2c) Create an array called** ```h``` **that has only those values where** ```f>= 1/2```**. Print** ```h```\n",
    "\n",
    "<!--\n",
    "BEGIN QUESTION\n",
    "name: q2c\n",
    "manual: false\n",
    "points: 1\n",
    "-->"
   ]
  },
  {
   "cell_type": "code",
   "execution_count": 13,
   "metadata": {
    "tags": []
   },
   "outputs": [
    {
     "name": "stdout",
     "output_type": "stream",
     "text": [
      "[1.         0.99794539 0.99179001 0.98155916 0.96729486 0.94905575\n",
      " 0.92691676 0.90096887 0.8713187  0.8380881  0.80141362 0.76144596\n",
      " 0.71834935 0.67230089 0.6234898  0.57211666 0.51839257]\n"
     ]
    }
   ],
   "source": [
    "# your code here\n",
    "h=f[g]\n",
    "print(h)"
   ]
  },
  {
   "cell_type": "code",
   "execution_count": null,
   "metadata": {
    "deletable": false,
    "editable": false
   },
   "outputs": [],
   "source": [
    "grader.check(\"q2c\")"
   ]
  },
  {
   "cell_type": "markdown",
   "metadata": {},
   "source": [
    "# Part II - Pandas Introduction"
   ]
  },
  {
   "cell_type": "code",
   "execution_count": 14,
   "metadata": {},
   "outputs": [],
   "source": [
    "# Load required modules\n",
    "import numpy as np\n",
    "import pandas as pd"
   ]
  },
  {
   "cell_type": "markdown",
   "metadata": {},
   "source": [
    "#### This assignment includes data from an external source. For your reference, here is the information about the original source.\n",
    ">Data source: http://www.fao.org/nr/water/aquastat/data/query/index.html<br>\n",
    ">Data, units:<br>\n",
    ">* GDP, current USD (CPI adjusted)<br>\n",
    ">* NRI, $mm/yr$<br>\n",
    ">* Population density, $inhab/km^2$<br>\n",
    ">* Total area of the country, $1000 ha = 10km^2$<br>\n",
    ">* Total Population, unit $1000$ inhabitants<br>\n",
    "\n",
    "___"
   ]
  },
  {
   "cell_type": "markdown",
   "metadata": {
    "deletable": false,
    "editable": false
   },
   "source": [
    "<br>\n",
    "\n",
    "**3a) Read the CSV file called** ```data3.csv``` **into a DataFrame and name it** ```df``` \n",
    "\n",
    "<!--\n",
    "BEGIN QUESTION\n",
    "name: q3a\n",
    "manual: false\n",
    "points: 1\n",
    "-->"
   ]
  },
  {
   "cell_type": "code",
   "execution_count": 15,
   "metadata": {},
   "outputs": [],
   "source": [
    "# your code here\n",
    "df = pd.read_csv(\"data3.csv\")"
   ]
  },
  {
   "cell_type": "code",
   "execution_count": null,
   "metadata": {
    "deletable": false,
    "editable": false
   },
   "outputs": [],
   "source": [
    "grader.check(\"q3a\")"
   ]
  },
  {
   "cell_type": "markdown",
   "metadata": {
    "deletable": false,
    "editable": false
   },
   "source": [
    "<br>\n",
    "\n",
    "**3b) Assign the first 10 rows of ```df``` to ```result_q3b```. Display them.**\n",
    "\n",
    "<!--\n",
    "BEGIN QUESTION\n",
    "name: q3b\n",
    "manual: false\n",
    "points: 1\n",
    "-->"
   ]
  },
  {
   "cell_type": "code",
   "execution_count": 16,
   "metadata": {},
   "outputs": [
    {
     "name": "stdout",
     "output_type": "stream",
     "text": [
      "        Area  Area Id              Variable Name  Variable Id  variable  \\\n",
      "0  Argentina        9  Total area of the country         4100      4100   \n",
      "1  Argentina        9  Total area of the country         4100      4100   \n",
      "2  Argentina        9  Total area of the country         4100      4100   \n",
      "3  Argentina        9  Total area of the country         4100      4100   \n",
      "4  Argentina        9  Total area of the country         4100      4100   \n",
      "5  Argentina        9  Total area of the country         4100      4100   \n",
      "6  Argentina        9  Total area of the country         4100      4100   \n",
      "7  Argentina        9  Total area of the country         4100      4100   \n",
      "8  Argentina        9  Total area of the country         4100      4100   \n",
      "9  Argentina        9  Total area of the country         4100      4100   \n",
      "\n",
      "     Year  Month  Day     Value Symbol  Md  \n",
      "0  1962.0    NaN  NaN  278040.0      E NaN  \n",
      "1  1967.0    NaN  NaN  278040.0      E NaN  \n",
      "2  1972.0    NaN  NaN  278040.0      E NaN  \n",
      "3  1977.0    NaN  NaN  278040.0      E NaN  \n",
      "4  1982.0    NaN  NaN  278040.0      E NaN  \n",
      "5  1987.0    NaN  NaN  278040.0      E NaN  \n",
      "6  1992.0    NaN  NaN  278040.0      E NaN  \n",
      "7  1997.0    NaN  NaN  278040.0      E NaN  \n",
      "8  2002.0    NaN  NaN  278040.0      E NaN  \n",
      "9  2007.0    NaN  NaN  278040.0      E NaN  \n"
     ]
    }
   ],
   "source": [
    "# your code here\n",
    "result_q3b=df.head(n=10)\n",
    "print(result_q3b)"
   ]
  },
  {
   "cell_type": "code",
   "execution_count": null,
   "metadata": {
    "deletable": false,
    "editable": false
   },
   "outputs": [],
   "source": [
    "grader.check(\"q3b\")"
   ]
  },
  {
   "cell_type": "markdown",
   "metadata": {
    "deletable": false,
    "editable": false
   },
   "source": [
    "<br>\n",
    "\n",
    "**3c) Assign the column names of ```df``` to ```result_q3c```. Display them.**\n",
    "\n",
    "<!--\n",
    "BEGIN QUESTION\n",
    "name: q3c\n",
    "manual: false\n",
    "points: 1\n",
    "-->"
   ]
  },
  {
   "cell_type": "code",
   "execution_count": 17,
   "metadata": {},
   "outputs": [
    {
     "name": "stdout",
     "output_type": "stream",
     "text": [
      "Index(['Area', 'Area Id', 'Variable Name', 'Variable Id', 'variable', 'Year',\n",
      "       'Month', 'Day', 'Value', 'Symbol', 'Md'],\n",
      "      dtype='object')\n"
     ]
    }
   ],
   "source": [
    "# your code here\n",
    "result_q3c=df.columns\n",
    "print(result_q3c)"
   ]
  },
  {
   "cell_type": "code",
   "execution_count": null,
   "metadata": {
    "deletable": false,
    "editable": false
   },
   "outputs": [],
   "source": [
    "grader.check(\"q3c\")"
   ]
  },
  {
   "cell_type": "markdown",
   "metadata": {
    "deletable": false,
    "editable": false
   },
   "source": [
    "<br>\n",
    "\n",
    "**3d) Use ```.iloc``` assign the first 4 rows and first 3 columns to ```result_q3d```. Display them**\n",
    "\n",
    "<!--\n",
    "BEGIN QUESTION\n",
    "name: q3d\n",
    "manual: false\n",
    "points: 1\n",
    "-->"
   ]
  },
  {
   "cell_type": "code",
   "execution_count": 18,
   "metadata": {},
   "outputs": [
    {
     "name": "stdout",
     "output_type": "stream",
     "text": [
      "        Area  Area Id              Variable Name\n",
      "0  Argentina        9  Total area of the country\n",
      "1  Argentina        9  Total area of the country\n",
      "2  Argentina        9  Total area of the country\n",
      "3  Argentina        9  Total area of the country\n"
     ]
    }
   ],
   "source": [
    "# your code here\n",
    "result_q3d=df.iloc[:4,:3]\n",
    "print(result_q3d)"
   ]
  },
  {
   "cell_type": "code",
   "execution_count": null,
   "metadata": {
    "deletable": false,
    "editable": false
   },
   "outputs": [],
   "source": [
    "grader.check(\"q3d\")"
   ]
  },
  {
   "cell_type": "markdown",
   "metadata": {},
   "source": [
    "## Data Pre-Processing"
   ]
  },
  {
   "cell_type": "markdown",
   "metadata": {
    "deletable": false,
    "editable": false
   },
   "source": [
    "<br>\n",
    "\n",
    "**4a) Find all the rows that  have** ```NaN``` **in the ```Symbol``` column. Assign the first 5 of them to ```result_q4a```. Display ```result_q4a```.**\n",
    "\n",
    "<!--\n",
    "BEGIN QUESTION\n",
    "name: q4a\n",
    "manual: false\n",
    "points: 1\n",
    "-->"
   ]
  },
  {
   "cell_type": "code",
   "execution_count": 19,
   "metadata": {},
   "outputs": [
    {
     "name": "stdout",
     "output_type": "stream",
     "text": [
      "         Area  Area Id              Variable Name  Variable Id  variable  \\\n",
      "10  Argentina        9  Total area of the country         4100      4100   \n",
      "32  Argentina        9         Population density         4107      4107   \n",
      "33  Argentina        9         Population density         4107      4107   \n",
      "34  Argentina        9         Population density         4107      4107   \n",
      "35  Argentina        9         Population density         4107      4107   \n",
      "\n",
      "      Year  Month  Day      Value Symbol  Md  \n",
      "10  2012.0    NaN  NaN  278040.00    NaN NaN  \n",
      "32  2002.0    NaN  NaN      13.63    NaN NaN  \n",
      "33  2007.0    NaN  NaN      14.38    NaN NaN  \n",
      "34  2012.0    NaN  NaN      15.14    NaN NaN  \n",
      "35  2015.0    NaN  NaN      15.62    NaN NaN  \n"
     ]
    }
   ],
   "source": [
    "# your code here\n",
    "result_q4a=df[df[\"Symbol\"].isnull()][:5]\n",
    "print(result_q4a)"
   ]
  },
  {
   "cell_type": "code",
   "execution_count": null,
   "metadata": {
    "deletable": false,
    "editable": false
   },
   "outputs": [],
   "source": [
    "grader.check(\"q4a\")"
   ]
  },
  {
   "cell_type": "markdown",
   "metadata": {
    "deletable": false,
    "editable": false
   },
   "source": [
    "<br>\n",
    "\n",
    "**4b) Remove all columns and rows that contain ```NaN``` values and store in ```df1```. Store the last 5 rows in ```result_q4b```. Displaly them.**\n",
    "\n",
    ">**Note:** Sometimes it is best to just discard any data that contains missing values. There are some workarounds, but for now we will try to get rid of the NaN valued rows and columns.  \n",
    "\n",
    ">To do this: (1) Check which columns contain only 'NaN' values and drop them. Then, (2) drop rows that have any entry with a value 'NaN'. Finally, (3) store the result in place as ```df1``` and (4) display the last 5 rows of the  cleaned dataframe ```df1```.\n",
    "\n",
    "<!--\n",
    "BEGIN QUESTION\n",
    "name: q4b\n",
    "manual: false\n",
    "points: 1\n",
    "-->"
   ]
  },
  {
   "cell_type": "code",
   "execution_count": 20,
   "metadata": {},
   "outputs": [
    {
     "name": "stdout",
     "output_type": "stream",
     "text": [
      "          Area  Area Id              Variable Name  Variable Id  variable  \\\n",
      "0    Argentina        9  Total area of the country         4100      4100   \n",
      "1    Argentina        9  Total area of the country         4100      4100   \n",
      "2    Argentina        9  Total area of the country         4100      4100   \n",
      "3    Argentina        9  Total area of the country         4100      4100   \n",
      "4    Argentina        9  Total area of the country         4100      4100   \n",
      "..         ...      ...                        ...          ...       ...   \n",
      "450     Sweden      210  Total area of the country         4100      4100   \n",
      "451     Sweden      210  Total area of the country         4100      4100   \n",
      "452     Sweden      210  Total area of the country         4100      4100   \n",
      "453     Sweden      210  Total area of the country         4100      4100   \n",
      "454     Sweden      210           Total population         4104      4104   \n",
      "\n",
      "       Year     Value Symbol  \n",
      "0    1962.0  278040.0      E  \n",
      "1    1967.0  278040.0      E  \n",
      "2    1972.0  278040.0      E  \n",
      "3    1977.0  278040.0      E  \n",
      "4    1982.0  278040.0      E  \n",
      "..      ...       ...    ...  \n",
      "450  2002.0   45030.0      E  \n",
      "451  2007.0   45030.0      E  \n",
      "452  2012.0   44742.0      E  \n",
      "453  2014.0   44742.0      E  \n",
      "454  1962.0    7576.0      E  \n",
      "\n",
      "[420 rows x 8 columns]\n"
     ]
    }
   ],
   "source": [
    "# your code here\n",
    "df1=df.dropna(axis=1, how='all')\n",
    "df1=df1.dropna()\n",
    "result_q4b=df1[-5:]\n",
    "print(df1)"
   ]
  },
  {
   "cell_type": "code",
   "execution_count": null,
   "metadata": {
    "deletable": false,
    "editable": false
   },
   "outputs": [],
   "source": [
    "grader.check(\"q4b\")"
   ]
  },
  {
   "cell_type": "markdown",
   "metadata": {},
   "source": [
    "**4c) Skipped - there is no 4c**"
   ]
  },
  {
   "cell_type": "markdown",
   "metadata": {
    "deletable": false,
    "editable": false
   },
   "source": [
    "<br>\n",
    "\n",
    "**4d) Remove redundant/duplicate Entries**\n",
    "\n",
    "**Note:** In the data set we are working with, you can manually explore the data to see which rows contain duplicate data. However, imagine this task when you have millions of entries. Pandas has builtin functionality that allows you to do this -- at the DataFrame and Series object level. Take a look at the following functions \n",
    ">[.drop_duplicates( )](https://pandas.pydata.org/pandas-docs/stable/user_guide/indexing.html#duplicate-data)<br>\n",
    ">[.duplicated( )](https://pandas.pydata.org/pandas-docs/stable/reference/api/pandas.DataFrame.duplicated.html?highlight=duplicate%20columns)<br>\n",
    ">[.equals( )](https://www.w3resource.com/pandas/series/series-equals.php)<br>\n",
    ">[.where( )](https://pandas.pydata.org/pandas-docs/stable/reference/api/pandas.DataFrame.where.html)\n",
    "\n",
    "See if you can figure out how to solve this problem using one of the above methods, to drop any row in ```df1``` that is an identical entry.  Save the new DataFrame as ```df2```. Then assign the last 5 rows of ```df2``` to ```result_q4d```. Display ```result_q4d```.\n",
    "\n",
    "\n",
    "<!--\n",
    "BEGIN QUESTION\n",
    "name: q4d\n",
    "manual: false\n",
    "points: 1\n",
    "-->"
   ]
  },
  {
   "cell_type": "code",
   "execution_count": 21,
   "metadata": {},
   "outputs": [
    {
     "name": "stdout",
     "output_type": "stream",
     "text": [
      "       Area  Area Id              Variable Name  Variable Id  variable  \\\n",
      "442  Sweden      210  Total area of the country         4100      4100   \n",
      "443  Sweden      210  Total area of the country         4100      4100   \n",
      "444  Sweden      210  Total area of the country         4100      4100   \n",
      "445  Sweden      210  Total area of the country         4100      4100   \n",
      "446  Sweden      210  Total area of the country         4100      4100   \n",
      "\n",
      "       Year    Value Symbol  \n",
      "442  1962.0  45030.0      E  \n",
      "443  1967.0  45030.0      E  \n",
      "444  1972.0  45030.0      E  \n",
      "445  1977.0  45030.0      E  \n",
      "446  1982.0  45030.0      E  \n"
     ]
    }
   ],
   "source": [
    "# your code here\n",
    "df2=df1.drop_duplicates()\n",
    "result_q4d=df2[-5:]\n",
    "print(result_q4d)"
   ]
  },
  {
   "cell_type": "code",
   "execution_count": null,
   "metadata": {
    "deletable": false,
    "editable": false
   },
   "outputs": [],
   "source": [
    "grader.check(\"q4d\")"
   ]
  },
  {
   "cell_type": "markdown",
   "metadata": {
    "deletable": false,
    "editable": false
   },
   "source": [
    "<br>\n",
    "\n",
    "**4e) Find all the unique values for the column** ```Area``` **in** ```df2```. Assign them to ```result_q4e```. Display them.\n",
    "\n",
    "<!--\n",
    "BEGIN QUESTION\n",
    "name: q4e\n",
    "manual: false\n",
    "points: 1\n",
    "-->"
   ]
  },
  {
   "cell_type": "code",
   "execution_count": 22,
   "metadata": {},
   "outputs": [
    {
     "name": "stdout",
     "output_type": "stream",
     "text": [
      "0                     Argentina\n",
      "56                    Australia\n",
      "112                     Germany\n",
      "166                     Iceland\n",
      "222                     Ireland\n",
      "283                      Sweden\n",
      "334    United States of America\n",
      "Name: Area, dtype: object\n"
     ]
    }
   ],
   "source": [
    "# your code here\n",
    "result_q4e=df2.drop_duplicates(\"Area\")[\"Area\"]\n",
    "print(result_q4e)"
   ]
  },
  {
   "cell_type": "code",
   "execution_count": null,
   "metadata": {
    "deletable": false,
    "editable": false
   },
   "outputs": [],
   "source": [
    "grader.check(\"q4e\")"
   ]
  },
  {
   "cell_type": "markdown",
   "metadata": {
    "deletable": false,
    "editable": false
   },
   "source": [
    "<br>\n",
    "\n",
    "**4f) Convert data to datetime objects, sort by datetime ascending, reset index, and deep copy**\n",
    "\n",
    ">**To-Do:**<br>\n",
    ">1. In ```df2```, convert the ```Year``` column ```float64``` values to pandas [datetime](https://pandas.pydata.org/pandas-docs/stable/user_guide/timeseries.html) objects, where each year is represented as the first day of that calendar year -- e.g. ```1962.0``` will be represented as ```1962-01-01 00:00:00```.<br>\n",
    ">2. [Sort](https://pandas.pydata.org/pandas-docs/stable/reference/api/pandas.DataFrame.sort_values.html) by datetime ascending -- i.e. ```1962-01-01 00:00:00,  1963-01-01 00:00:00,...```.<br>\n",
    ">3. [Deepcopy](https://pandas.pydata.org/pandas-docs/stable/reference/api/pandas.DataFrame.copy.html) ```df2``` into a new DataFrame ```df3```. [Why deep copy?](https://realpython.com/copying-python-objects/)<br>\n",
    ">4. Store the first 4 rows of ```df3``` in ```result_q4f```. Display them.\n",
    "\n",
    "<!--\n",
    "BEGIN QUESTION\n",
    "name: q4f\n",
    "manual: false\n",
    "points: 1\n",
    "-->"
   ]
  },
  {
   "cell_type": "code",
   "execution_count": 23,
   "metadata": {},
   "outputs": [
    {
     "name": "stdout",
     "output_type": "stream",
     "text": [
      "                         Area  Area Id              Variable Name  \\\n",
      "0                   Argentina        9  Total area of the country   \n",
      "334  United States of America      231  Total area of the country   \n",
      "346  United States of America      231           Total population   \n",
      "124                   Germany       79           Total population   \n",
      "\n",
      "     Variable Id  variable       Year     Value Symbol  \n",
      "0           4100      4100 1962-01-01  278040.0      E  \n",
      "334         4100      4100 1962-01-01  962909.0      E  \n",
      "346         4104      4104 1962-01-01  191861.0      E  \n",
      "124         4104      4104 1962-01-01   74238.0      E  \n"
     ]
    }
   ],
   "source": [
    "# your code here\n",
    "\n",
    "df2 = df2.assign(Year=pd.to_datetime(df2[\"Year\"],format=\"%Y\"))\n",
    "df2=df2.sort_values(\"Year\")\n",
    "df3=df2.copy(deep=True)\n",
    "result_q4f=df3[:4]\n",
    "print(result_q4f)\n"
   ]
  },
  {
   "cell_type": "code",
   "execution_count": null,
   "metadata": {
    "deletable": false,
    "editable": false
   },
   "outputs": [],
   "source": [
    "grader.check(\"q4f\")"
   ]
  },
  {
   "cell_type": "markdown",
   "metadata": {},
   "source": [
    "## Exploratory Data Analysis (EDA) - Data Visualization"
   ]
  },
  {
   "cell_type": "markdown",
   "metadata": {
    "deletable": false,
    "editable": false
   },
   "source": [
    "<br>\n",
    "\n",
    "**5a) [Plot](https://pandas.pydata.org/pandas-docs/version/0.23.4/generated/pandas.DataFrame.plot.html) a bar graph showing the [count](https://pandas.pydata.org/pandas-docs/stable/reference/api/pandas.Series.value_counts.html) for [each unique value in the column 'Area'](https://pandas.pydata.org/pandas-docs/stable/user_guide/groupby.html) in ```df3```. Give it a title and be sure that all of the labels are legible.**\n",
    "\n",
    "\n",
    "<!--\n",
    "BEGIN QUESTION\n",
    "name: q5a\n",
    "manual: true\n",
    "points: 2\n",
    "-->\n",
    "<!-- EXPORT TO PDF -->"
   ]
  },
  {
   "cell_type": "code",
   "execution_count": 24,
   "metadata": {},
   "outputs": [
    {
     "name": "stdout",
     "output_type": "stream",
     "text": [
      "Iceland      56\n",
      "USA          56\n",
      "Ireland      56\n",
      "Sweden       56\n",
      "Germany      54\n",
      "Argentina    45\n",
      "Australia    42\n",
      "Name: Area, dtype: int64\n"
     ]
    },
    {
     "data": {
      "image/png": "[encoded data removed]",
      "text/plain": [
       "<Figure size 432x288 with 1 Axes>"
      ]
     },
     "metadata": {
      "needs_background": "light"
     },
     "output_type": "display_data"
    }
   ],
   "source": [
    "# your code here\n",
    "import matplotlib.pyplot as plt\n",
    "\n",
    "counts=df3[\"Area\"].value_counts()\n",
    "counts=counts.rename(index={\"United States of America\":\"USA\"})\n",
    "print(counts)\n",
    "\n",
    "fig = plt.figure()\n",
    "ax = fig.add_axes([0,0,1,1])\n",
    "ax.bar(x=counts.index,height=counts.values)\n",
    "ax.set_ylabel('Counts')\n",
    "ax.set_xlabel('Name of the country')\n",
    "ax.set_title('Bar plot of count of Country in df3')\n",
    "ax.set_yticks(np.arange(0, 81, 10))\n",
    "plt.show()"
   ]
  },
  {
   "cell_type": "markdown",
   "metadata": {},
   "source": [
    "## Exploratory Data Analysis (EDA) - Statistical Analysis"
   ]
  },
  {
   "cell_type": "markdown",
   "metadata": {
    "deletable": false,
    "editable": false
   },
   "source": [
    "<br>\n",
    "\n",
    "**5b)  Starting from ```df3```, create a DataFrame** ```dftmp``` **to store rows where** ```Area``` **is** ```Iceland```, **then display a slice of the new DataFrame**\n",
    "\n",
    "\n",
    "<!--\n",
    "BEGIN QUESTION\n",
    "name: q5b\n",
    "manual: false\n",
    "points: 1\n",
    "-->"
   ]
  },
  {
   "cell_type": "code",
   "execution_count": 25,
   "metadata": {},
   "outputs": [
    {
     "name": "stdout",
     "output_type": "stream",
     "text": [
      "        Area  Area Id                 Variable Name  Variable Id  variable  \\\n",
      "202  Iceland       99  Gross Domestic Product (GDP)         4112      4112   \n",
      "166  Iceland       99     Total area of the country         4100      4100   \n",
      "178  Iceland       99              Total population         4104      4104   \n",
      "190  Iceland       99            Population density         4107      4107   \n",
      "203  Iceland       99  Gross Domestic Product (GDP)         4112      4112   \n",
      "\n",
      "          Year         Value Symbol  \n",
      "202 1962-01-01  2.849165e+08      E  \n",
      "166 1962-01-01  1.030000e+04      E  \n",
      "178 1962-01-01  1.826000e+02      E  \n",
      "190 1962-01-01  1.773000e+00      E  \n",
      "203 1967-01-01  6.212260e+08      E  \n"
     ]
    }
   ],
   "source": [
    "# your code here\n",
    "dftmp=df3[df3[\"Area\"]==\"Iceland\"]\n",
    "print(dftmp[:5])"
   ]
  },
  {
   "cell_type": "code",
   "execution_count": null,
   "metadata": {
    "deletable": false,
    "editable": false
   },
   "outputs": [],
   "source": [
    "grader.check(\"q5b\")"
   ]
  },
  {
   "cell_type": "markdown",
   "metadata": {
    "deletable": false,
    "editable": false
   },
   "source": [
    "<br>\n",
    "\n",
    "**5c) Filter data within a range**\n",
    "\n",
    ">**To Do:** Using the previously created DataFrame, ```dftmp```, find the years when the National Rainfall Index (NRI) was greater than 900 and less than 950 in Iceland. Store these years as a NumPy array in ```iceland_900_950_years```.\n",
    "\n",
    "<!--\n",
    "BEGIN QUESTION\n",
    "name: q5c\n",
    "manual: false\n",
    "points: 1\n",
    "-->"
   ]
  },
  {
   "cell_type": "code",
   "execution_count": 26,
   "metadata": {},
   "outputs": [
    {
     "name": "stdout",
     "output_type": "stream",
     "text": [
      "[['1981-01-01T00:00:00.000000000' '1998-01-01T00:00:00.000000000']]\n"
     ]
    }
   ],
   "source": [
    "# your code here\n",
    "\n",
    "\n",
    "dftmp=dftmp[dftmp[\"Variable Name\"]==\"National Rainfall Index (NRI)\"]\n",
    "\n",
    "dftmp = dftmp[dftmp['Value'].between(900, 950)]\n",
    "\n",
    "iceland_900_950_years=np.array([dftmp[\"Year\"]])\n",
    "\n",
    "\n",
    "print(iceland_900_950_years)\n"
   ]
  },
  {
   "cell_type": "code",
   "execution_count": null,
   "metadata": {
    "deletable": false,
    "editable": false
   },
   "outputs": [],
   "source": [
    "grader.check(\"q5c\")"
   ]
  },
  {
   "cell_type": "markdown",
   "metadata": {
    "deletable": false,
    "editable": false
   },
   "source": [
    "<br>\n",
    "\n",
    "**5d) Create subset of data**\n",
    "\n",
    "\n",
    ">**To Do:** Starting from ```df3```, create a new DataFrame called ```df_usa``` that only contains values where ```Area``` is equal to ```United States of America```. Set the indices to be the ```Year``` column   (Use ```.set_index( )```, with the inplace paratmeter set to ```inplace=True```). Store the first 5 rows in ```result_q5d```. Display ```result_q5d```.\n",
    "\n",
    "<!--\n",
    "BEGIN QUESTION\n",
    "name: q5d\n",
    "manual: false\n",
    "points: 1\n",
    "-->"
   ]
  },
  {
   "cell_type": "code",
   "execution_count": 27,
   "metadata": {
    "scrolled": true
   },
   "outputs": [
    {
     "name": "stdout",
     "output_type": "stream",
     "text": [
      "                                Area  Area Id                  Variable Name  \\\n",
      "Year                                                                           \n",
      "1962-01-01  United States of America      231      Total area of the country   \n",
      "1962-01-01  United States of America      231               Total population   \n",
      "1962-01-01  United States of America      231             Population density   \n",
      "1962-01-01  United States of America      231   Gross Domestic Product (GDP)   \n",
      "1965-01-01  United States of America      231  National Rainfall Index (NRI)   \n",
      "\n",
      "            Variable Id  variable         Value Symbol  \n",
      "Year                                                    \n",
      "1962-01-01         4100      4100  9.629090e+05      E  \n",
      "1962-01-01         4104      4104  1.918610e+05      E  \n",
      "1962-01-01         4107      4107  1.993000e+01      E  \n",
      "1962-01-01         4112      4112  6.050000e+11      E  \n",
      "1965-01-01         4472      4472  9.285000e+02      E  \n"
     ]
    }
   ],
   "source": [
    "df_usa=df3[df3[\"Area\"]==\"United States of America\"]\n",
    "df_usa.set_index(\"Year\",inplace=True)\n",
    "result_q5d=df_usa[:5]\n",
    "print(result_q5d)"
   ]
  },
  {
   "cell_type": "code",
   "execution_count": null,
   "metadata": {
    "deletable": false,
    "editable": false
   },
   "outputs": [],
   "source": [
    "grader.check(\"q5d\")"
   ]
  },
  {
   "cell_type": "markdown",
   "metadata": {
    "deletable": false,
    "editable": false
   },
   "source": [
    " <br>\n",
    "\n",
    "**5e) [Stack](https://pandas.pydata.org/pandas-docs/stable/reference/api/pandas.DataFrame.stack.html?highlight=stack%20unstack) and [Unstack](https://pandas.pydata.org/pandas-docs/stable/reference/api/pandas.DataFrame.unstack.html?highlight=stack%20unstack) DataFrame**\n",
    "\n",
    ">**To Do:** Pivot ```df_usa``` so that the unique values in the column ```Variable Name``` becomes the columns. The DataFrame values should be the ones in the the ```Value``` column. Save it in ```df_usa```. Display the dataframe shape and head. <br><br>\n",
    ">**Note:** [Pivot](https://pandas.pydata.org/pandas-docs/stable/reference/api/pandas.DataFrame.pivot.html#pandas.DataFrame.pivot) does not work if you have dupiclate entries --> ```ValueError: Index contains duplicate entries, cannot reshape```. You may need to drop index duplicates, or you could use [reset_index](https://pandas.pydata.org/pandas-docs/stable/reference/api/pandas.DataFrame.reset_index.html) and [pivot_table](https://pandas.pydata.org/pandas-docs/stable/reference/api/pandas.pivot_table.html) together, or [perform additional preprocessing](https://stackoverflow.com/questions/28651079/pandas-unstack-problems-valueerror-index-contains-duplicate-entries-cannot-re) to get rid of the error.\n",
    "\n",
    "<!--\n",
    "BEGIN QUESTION\n",
    "name: q5e\n",
    "manual: false\n",
    "points: 2\n",
    "-->"
   ]
  },
  {
   "cell_type": "code",
   "execution_count": 28,
   "metadata": {},
   "outputs": [
    {
     "name": "stdout",
     "output_type": "stream",
     "text": [
      "(19, 5)\n",
      "Variable Name  Gross Domestic Product (GDP)  National Rainfall Index (NRI)  \\\n",
      "Year                                                                         \n",
      "1962-01-01                     6.050000e+11                            NaN   \n",
      "1965-01-01                              NaN                          928.5   \n",
      "1967-01-01                     8.620000e+11                            NaN   \n",
      "1969-01-01                              NaN                          952.2   \n",
      "1972-01-01                     1.280000e+12                            NaN   \n",
      "\n",
      "Variable Name  Population density  Total area of the country  Total population  \n",
      "Year                                                                            \n",
      "1962-01-01                  19.93                   962909.0          191861.0  \n",
      "1965-01-01                    NaN                        NaN               NaN  \n",
      "1967-01-01                  21.16                   962909.0          203713.0  \n",
      "1969-01-01                    NaN                        NaN               NaN  \n",
      "1972-01-01                  22.14                   962909.0          213220.0  \n"
     ]
    }
   ],
   "source": [
    "# your code here\n",
    "\n",
    "df_usa=df_usa.pivot(columns='Variable Name', values='Value')\n",
    "print(df_usa.shape)\n",
    "print(df_usa.head(5))"
   ]
  },
  {
   "cell_type": "markdown",
   "metadata": {
    "deletable": false,
    "editable": false
   },
   "source": [
    " <br>\n",
    "\n",
    "**5f)  Rename Features**\n",
    "\n",
    "   >**To Do: Rename the ```Gross Domestic Product (GDP)```, ```National Rainfall Index (NRI)```, ```Population density```, ```Total area of the country```, ```Total population``` columns as ```GDP```,```NRI```,```PD```,```Area```, ```Population```, respectively.  Assign the first 5 rows to ```result_q5f```.** \n",
    "\n",
    "<!--\n",
    "BEGIN QUESTION\n",
    "name: q5f\n",
    "manual: false\n",
    "points: 1\n",
    "-->"
   ]
  },
  {
   "cell_type": "code",
   "execution_count": 29,
   "metadata": {},
   "outputs": [
    {
     "name": "stdout",
     "output_type": "stream",
     "text": [
      "Variable Name           GDP    NRI     PD      Area  Population\n",
      "Year                                                           \n",
      "1962-01-01     6.050000e+11    NaN  19.93  962909.0    191861.0\n",
      "1965-01-01              NaN  928.5    NaN       NaN         NaN\n",
      "1967-01-01     8.620000e+11    NaN  21.16  962909.0    203713.0\n",
      "1969-01-01              NaN  952.2    NaN       NaN         NaN\n",
      "1972-01-01     1.280000e+12    NaN  22.14  962909.0    213220.0\n"
     ]
    }
   ],
   "source": [
    "# your code here\n",
    "df_usa.rename(columns={'Gross Domestic Product (GDP)': 'GDP', 'National Rainfall Index (NRI)': 'NRI', 'Population density': 'PD', 'Total area of the country': 'Area', 'Total population': 'Population'}, inplace=True)\n",
    "result_q5f = df_usa.head(5)\n",
    "print(result_q5f)"
   ]
  },
  {
   "cell_type": "code",
   "execution_count": null,
   "metadata": {
    "deletable": false,
    "editable": false
   },
   "outputs": [],
   "source": [
    "grader.check(\"q5f\")"
   ]
  },
  {
   "cell_type": "markdown",
   "metadata": {
    "deletable": false,
    "editable": false
   },
   "source": [
    "<br>\n",
    "\n",
    "**5g) Replace Missing Data**\n",
    "\n",
    ">**To Do:** Replace all *'Nan'* values in ```df_usa``` with ```0```. Assign the first 5 rows to ```result_q5g```.\n",
    "\n",
    "<!--\n",
    "BEGIN QUESTION\n",
    "name: q5g\n",
    "manual: false\n",
    "points: 1\n",
    "-->"
   ]
  },
  {
   "cell_type": "code",
   "execution_count": 36,
   "metadata": {},
   "outputs": [
    {
     "name": "stdout",
     "output_type": "stream",
     "text": [
      "Variable Name           GDP    NRI     PD       Area  Population    GDP/capita\n",
      "Year                                                                          \n",
      "1962-01-01     6.050000e+11    0.0  19.93  9629090.0    191861.0  3.153325e+09\n",
      "1965-01-01     0.000000e+00  928.5   0.00        0.0         0.0  0.000000e+00\n",
      "1967-01-01     8.620000e+11    0.0  21.16  9629090.0    203713.0  4.231443e+09\n",
      "1969-01-01     0.000000e+00  952.2   0.00        0.0         0.0  0.000000e+00\n",
      "1972-01-01     1.280000e+12    0.0  22.14  9629090.0    213220.0  6.003189e+09\n"
     ]
    }
   ],
   "source": [
    "# your code here\n",
    "df_usa=df_usa.fillna(0)\n",
    "result_q5g=df_usa[:5]\n",
    "print(result_q5g)"
   ]
  },
  {
   "cell_type": "code",
   "execution_count": null,
   "metadata": {
    "deletable": false,
    "editable": false
   },
   "outputs": [],
   "source": [
    "grader.check(\"q5g\")"
   ]
  },
  {
   "cell_type": "markdown",
   "metadata": {
    "deletable": false,
    "editable": false
   },
   "source": [
    "<br>\n",
    "\n",
    "**5h) Scale Data**\n",
    "\n",
    ">**To Do:** Multiply the ```Area``` column for all rows by ```10``` (so instead of $1000 ha$, the unit becomes $100 ha = 1km^2$). Assign the first 5 rows to ```result_q5h```.\n",
    "\n",
    "<!--\n",
    "BEGIN QUESTION\n",
    "name: q5h\n",
    "manual: false\n",
    "points: 1\n",
    "-->"
   ]
  },
  {
   "cell_type": "code",
   "execution_count": 31,
   "metadata": {},
   "outputs": [
    {
     "name": "stdout",
     "output_type": "stream",
     "text": [
      "Variable Name           GDP     NRI     PD       Area  Population\n",
      "Year                                                             \n",
      "1962-01-01     6.050000e+11     NaN  19.93  9629090.0    191861.0\n",
      "1965-01-01              NaN   928.5    NaN        NaN         NaN\n",
      "1967-01-01     8.620000e+11     NaN  21.16  9629090.0    203713.0\n",
      "1969-01-01              NaN   952.2    NaN        NaN         NaN\n",
      "1972-01-01     1.280000e+12     NaN  22.14  9629090.0    213220.0\n",
      "1974-01-01              NaN  1008.0    NaN        NaN         NaN\n",
      "1977-01-01     2.090000e+12     NaN  23.17  9629090.0    223091.0\n",
      "1981-01-01              NaN   949.2    NaN        NaN         NaN\n",
      "1982-01-01     3.340000e+12     NaN  24.30  9629090.0    233954.0\n",
      "1984-01-01              NaN   974.6    NaN        NaN         NaN\n",
      "1987-01-01     4.870000e+12     NaN  25.49  9629090.0    245425.0\n",
      "1992-01-01     6.540000e+12  1020.0  26.78  9629090.0    257908.0\n",
      "1996-01-01              NaN  1005.0    NaN        NaN         NaN\n",
      "1997-01-01     8.610000e+12     NaN  28.34  9629090.0    272883.0\n",
      "2002-01-01     1.100000e+13   938.7  29.95  9632030.0    288471.0\n",
      "2007-01-01     1.450000e+13     NaN  31.32  9632030.0    301656.0\n",
      "2012-01-01     1.620000e+13     NaN  32.02  9831510.0    314799.0\n",
      "2014-01-01              NaN     NaN    NaN  9831510.0         NaN\n",
      "2015-01-01     1.790000e+13     NaN  32.73        NaN    321774.0\n"
     ]
    }
   ],
   "source": [
    "# your code here\n",
    "df_usa[\"Area\"]=df_usa[\"Area\"]*10\n",
    "result_q5h=df_usa[:5]\n",
    "print(df_usa)"
   ]
  },
  {
   "cell_type": "code",
   "execution_count": null,
   "metadata": {
    "deletable": false,
    "editable": false
   },
   "outputs": [],
   "source": [
    "grader.check(\"q5h\")"
   ]
  },
  {
   "cell_type": "markdown",
   "metadata": {
    "deletable": false,
    "editable": false
   },
   "source": [
    "<br>\n",
    "\n",
    "**5i)  Feature Engineering**\n",
    "\n",
    ">**To Do:** Create a new column in ```df_usa``` called ```GDP/capita``` and populate it with the calculated GDP per capita. Round the results to two decimal points. Assign the first 5 rows to ```result_q5i```.\n",
    "\n",
    "<br>\n",
    "\n",
    "$$GDP~per~capita = \\frac{GDP}{Population} * 1000$$\n",
    "\n",
    "<br>\n",
    "\n",
    "<!--\n",
    "BEGIN QUESTION\n",
    "name: q5i\n",
    "manual: false\n",
    "points: 1\n",
    "-->"
   ]
  },
  {
   "cell_type": "code",
   "execution_count": 32,
   "metadata": {},
   "outputs": [
    {
     "name": "stdout",
     "output_type": "stream",
     "text": [
      "Variable Name           GDP    NRI     PD       Area  Population    GDP/capita\n",
      "Year                                                                          \n",
      "1962-01-01     6.050000e+11    NaN  19.93  9629090.0    191861.0  3.153325e+09\n",
      "1965-01-01              NaN  928.5    NaN        NaN         NaN           NaN\n",
      "1967-01-01     8.620000e+11    NaN  21.16  9629090.0    203713.0  4.231443e+09\n",
      "1969-01-01              NaN  952.2    NaN        NaN         NaN           NaN\n",
      "1972-01-01     1.280000e+12    NaN  22.14  9629090.0    213220.0  6.003189e+09\n"
     ]
    }
   ],
   "source": [
    "# your code here\n",
    "df_usa[\"GDP/capita\"]=df_usa[\"GDP\"]*1000/df_usa[\"Population\"]\n",
    "result_q5i=df_usa[:5]\n",
    "print(result_q5i)"
   ]
  },
  {
   "cell_type": "code",
   "execution_count": null,
   "metadata": {
    "deletable": false,
    "editable": false
   },
   "outputs": [],
   "source": [
    "grader.check(\"q5i\")"
   ]
  },
  {
   "cell_type": "markdown",
   "metadata": {
    "deletable": false,
    "editable": false
   },
   "source": [
    "<br>\n",
    "\n",
    "**5j) Data Extraction**\n",
    "\n",
    ">**To Do:** Find the maximum value of the ```NRI``` column in the US (using pandas methods) and store it in ```nri_max```. Find what year the max value occurs and store it in ```nri_max_year```\n",
    "\n",
    "<!--\n",
    "BEGIN QUESTION\n",
    "name: q5j\n",
    "manual: false\n",
    "points: 1\n",
    "-->"
   ]
  },
  {
   "cell_type": "code",
   "execution_count": 33,
   "metadata": {},
   "outputs": [
    {
     "name": "stdout",
     "output_type": "stream",
     "text": [
      "1020.0\n",
      "Variable Name           GDP     NRI     PD       Area  Population  \\\n",
      "Year                                                                \n",
      "1992-01-01     6.540000e+12  1020.0  26.78  9629090.0    257908.0   \n",
      "\n",
      "Variable Name    GDP/capita  \n",
      "Year                         \n",
      "1992-01-01     2.535788e+10  \n"
     ]
    }
   ],
   "source": [
    "# your code here\n",
    "nri_max=df_usa[\"NRI\"].max()\n",
    "nri_max_year=df_usa[df_usa[\"NRI\"]==nri_max]\n",
    "print(nri_max)\n",
    "print(nri_max_year)"
   ]
  },
  {
   "cell_type": "code",
   "execution_count": null,
   "metadata": {
    "deletable": false,
    "editable": false
   },
   "outputs": [],
   "source": [
    "grader.check(\"q5j\")"
   ]
  },
  {
   "cell_type": "code",
   "execution_count": null,
   "metadata": {},
   "outputs": [],
   "source": []
  },
  {
   "cell_type": "markdown",
   "metadata": {
    "deletable": false,
    "editable": false
   },
   "source": [
    "# Submit\n",
    "Make sure you have run all cells in your notebook in order before running the cell below, so that all images/graphs appear in the output.\n",
    "**Please save before submitting!**\n",
    "\n",
    "<!-- EXPECT 1 EXPORTED QUESTIONS -->"
   ]
  },
  {
   "cell_type": "code",
   "execution_count": null,
   "metadata": {
    "deletable": false,
    "editable": false
   },
   "outputs": [],
   "source": [
    "# Save your notebook first, then run this cell to create a pdf for your reference.\n",
    "import dsassign.to_pdf\n",
    "dsassign.to_pdf.generate_pdf('hw3_numpy_pandas.ipynb', 'hw3_numpy_pandas.pdf')"
   ]
  }
 ],
 "metadata": {
  "anaconda-cloud": {},
  "colab": {
   "name": "HW-03-Numpy-SOLUTIONS[draft].ipynb",
   "provenance": []
  },
  "kernelspec": {
   "display_name": "Python 3",
   "language": "python",
   "name": "python3"
  },
  "language_info": {
   "codemirror_mode": {
    "name": "ipython",
    "version": 3
   },
   "file_extension": ".py",
   "mimetype": "text/x-python",
   "name": "python",
   "nbconvert_exporter": "python",
   "pygments_lexer": "ipython3",
   "version": "3.7.9"
  }
 },
 "nbformat": 4,
 "nbformat_minor": 2
}
